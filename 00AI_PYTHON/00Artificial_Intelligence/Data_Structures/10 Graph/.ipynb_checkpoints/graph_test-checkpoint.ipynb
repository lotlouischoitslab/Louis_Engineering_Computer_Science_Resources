{
 "cells": [
  {
   "cell_type": "markdown",
   "id": "f90a9034",
   "metadata": {},
   "source": [
    "### Graph Data Structure"
   ]
  },
  {
   "attachments": {
    "graph.png": {
     "image/png": "[encoded data removed]"
    }
   },
   "cell_type": "markdown",
   "id": "b1cb8e49",
   "metadata": {},
   "source": [
    "![graph.png](attachment:graph.png)"
   ]
  },
  {
   "cell_type": "code",
   "execution_count": 23,
   "id": "f6f6fe5e",
   "metadata": {},
   "outputs": [],
   "source": [
    "adj_list = {\n",
    "    'A':['B','C'],\n",
    "    'B':['A','D'],\n",
    "    'C':['A','D','E'],\n",
    "    'D':['B','C','E'],\n",
    "    'E':['C','D']\n",
    "}"
   ]
  },
  {
   "cell_type": "code",
   "execution_count": 24,
   "id": "b020a649",
   "metadata": {},
   "outputs": [
    {
     "data": {
      "text/plain": [
       "['A', 'D']"
      ]
     },
     "execution_count": 24,
     "metadata": {},
     "output_type": "execute_result"
    }
   ],
   "source": [
    "adj_list['B']"
   ]
  },
  {
   "cell_type": "code",
   "execution_count": 25,
   "id": "75fde679",
   "metadata": {},
   "outputs": [],
   "source": [
    "#Add a new edge A-D\n",
    "adj_list['A'].append('D')\n",
    "adj_list['D'].append('A')"
   ]
  },
  {
   "cell_type": "code",
   "execution_count": 26,
   "id": "e93ff17c",
   "metadata": {},
   "outputs": [
    {
     "data": {
      "text/plain": [
       "{'A': ['B', 'C', 'D'],\n",
       " 'B': ['A', 'D'],\n",
       " 'C': ['A', 'D', 'E'],\n",
       " 'D': ['B', 'C', 'E', 'A'],\n",
       " 'E': ['C', 'D']}"
      ]
     },
     "execution_count": 26,
     "metadata": {},
     "output_type": "execute_result"
    }
   ],
   "source": [
    "adj_list"
   ]
  },
  {
   "cell_type": "code",
   "execution_count": 27,
   "id": "ed063e47",
   "metadata": {},
   "outputs": [],
   "source": [
    "adj_list = {\n",
    "    'A':[],\n",
    "    'B':[],\n",
    "    'C':[],\n",
    "    'D':[],\n",
    "    'E':[]\n",
    "}"
   ]
  },
  {
   "cell_type": "code",
   "execution_count": 32,
   "id": "70531489",
   "metadata": {},
   "outputs": [],
   "source": [
    "class Graph:\n",
    "    def __init__(self,Nodes,is_directed=False):\n",
    "        self.nodes = Nodes\n",
    "        self.adj_list = {}\n",
    "        \n",
    "        for node in self.nodes:\n",
    "            self.adj_list[node] = []\n",
    "    \n",
    "    def add_edge(self,u,v):\n",
    "        self.adj_list[u].append(v)\n",
    "        self.adj_list[v].append(u)\n",
    "        \n",
    "    def degree(self,node):\n",
    "        return len(self.adj_list[node])\n",
    "        \n",
    "    def print_adj_list(self):\n",
    "        for node in self.nodes:\n",
    "            print(node,'->',self.adj_list[node])"
   ]
  },
  {
   "cell_type": "code",
   "execution_count": 33,
   "id": "9506d2a6",
   "metadata": {},
   "outputs": [
    {
     "name": "stdout",
     "output_type": "stream",
     "text": [
      "A -> []\n",
      "B -> []\n",
      "C -> []\n",
      "D -> []\n",
      "E -> []\n"
     ]
    }
   ],
   "source": [
    "all_edges = {\n",
    "    ('A','B'),('A','C'),('B','D'),('C','D'),('C','E'),('D','E')\n",
    "}\n",
    "nodes = ['A','B','C','D','E']\n",
    "graph = Graph(nodes)\n",
    "graph.print_adj_list()"
   ]
  },
  {
   "cell_type": "code",
   "execution_count": 34,
   "id": "9465c6e9",
   "metadata": {},
   "outputs": [
    {
     "name": "stdout",
     "output_type": "stream",
     "text": [
      "A -> ['C', 'B']\n",
      "B -> ['A', 'D']\n",
      "C -> ['D', 'A', 'E']\n",
      "D -> ['C', 'B', 'E']\n",
      "E -> ['C', 'D']\n"
     ]
    }
   ],
   "source": [
    "for u,v in all_edges:\n",
    "    graph.add_edge(u,v)\n",
    "graph.print_adj_list()"
   ]
  },
  {
   "cell_type": "code",
   "execution_count": 36,
   "id": "23588fdd",
   "metadata": {},
   "outputs": [
    {
     "name": "stdout",
     "output_type": "stream",
     "text": [
      "Degree of C: 3\n"
     ]
    }
   ],
   "source": [
    "print('Degree of C:',graph.degree('C'))"
   ]
  },
  {
   "cell_type": "code",
   "execution_count": null,
   "id": "587df11f",
   "metadata": {},
   "outputs": [],
   "source": []
  }
 ],
 "metadata": {
  "kernelspec": {
   "display_name": "Python 3 (ipykernel)",
   "language": "python",
   "name": "python3"
  },
  "language_info": {
   "codemirror_mode": {
    "name": "ipython",
    "version": 3
   },
   "file_extension": ".py",
   "mimetype": "text/x-python",
   "name": "python",
   "nbconvert_exporter": "python",
   "pygments_lexer": "ipython3",
   "version": "3.9.12"
  }
 },
 "nbformat": 4,
 "nbformat_minor": 5
}
