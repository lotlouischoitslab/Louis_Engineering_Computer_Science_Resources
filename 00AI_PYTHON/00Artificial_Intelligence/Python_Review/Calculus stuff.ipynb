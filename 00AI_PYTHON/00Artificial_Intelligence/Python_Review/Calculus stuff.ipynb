{
 "cells": [
  {
   "cell_type": "code",
   "execution_count": 1,
   "id": "dba5c760",
   "metadata": {},
   "outputs": [],
   "source": [
    "import numpy as np\n",
    "from sympy import *\n",
    "import sympy as sp"
   ]
  },
  {
   "cell_type": "markdown",
   "id": "ba60ad31",
   "metadata": {},
   "source": [
    "# Derivative"
   ]
  },
  {
   "cell_type": "code",
   "execution_count": 6,
   "id": "5f720477",
   "metadata": {},
   "outputs": [],
   "source": [
    "x = symbols('x')\n",
    "y = 39.4784 + 12.5663*(x-2*np.pi)-18.73922*(x-2*np.pi)**2\n",
    "y_p = y.diff()"
   ]
  },
  {
   "cell_type": "code",
   "execution_count": 8,
   "id": "8f6e9dba",
   "metadata": {},
   "outputs": [
    {
     "name": "stdout",
     "output_type": "stream",
     "text": [
      "19.431799544011994\n"
     ]
    }
   ],
   "source": [
    "f = lambdify(x,y_p)\n",
    "print(f(6.1))"
   ]
  },
  {
   "cell_type": "markdown",
   "id": "e47b8258",
   "metadata": {},
   "source": [
    "# Integration"
   ]
  },
  {
   "cell_type": "code",
   "execution_count": 1,
   "id": "7d018411",
   "metadata": {},
   "outputs": [],
   "source": [
    "import numpy as np\n",
    "import scipy as s\n",
    "import sympy as sy\n",
    "from sympy import *\n",
    "from math import sin, cos, tan, exp, pi\n",
    "from scipy.integrate import quad"
   ]
  },
  {
   "cell_type": "code",
   "execution_count": 2,
   "id": "9607ac72",
   "metadata": {},
   "outputs": [],
   "source": [
    "x = symbols('x')\n",
    "def f(x):\n",
    "    return sin(x)+2"
   ]
  },
  {
   "cell_type": "code",
   "execution_count": 6,
   "id": "a64dc020",
   "metadata": {},
   "outputs": [
    {
     "name": "stdout",
     "output_type": "stream",
     "text": [
      "9.384996778999792\n"
     ]
    }
   ],
   "source": [
    "res = quad(f,-2,2.5)[0]\n",
    "print(res)"
   ]
  },
  {
   "cell_type": "code",
   "execution_count": null,
   "id": "01178095",
   "metadata": {},
   "outputs": [],
   "source": []
  }
 ],
 "metadata": {
  "kernelspec": {
   "display_name": "Python 3",
   "language": "python",
   "name": "python3"
  },
  "language_info": {
   "codemirror_mode": {
    "name": "ipython",
    "version": 3
   },
   "file_extension": ".py",
   "mimetype": "text/x-python",
   "name": "python",
   "nbconvert_exporter": "python",
   "pygments_lexer": "ipython3",
   "version": "3.8.8"
  }
 },
 "nbformat": 4,
 "nbformat_minor": 5
}
