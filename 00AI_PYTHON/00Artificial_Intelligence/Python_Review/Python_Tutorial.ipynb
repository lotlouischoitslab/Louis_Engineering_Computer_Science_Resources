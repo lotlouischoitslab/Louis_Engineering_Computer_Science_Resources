{
 "cells": [
  {
   "cell_type": "code",
   "execution_count": 6,
   "id": "517d7a3f",
   "metadata": {},
   "outputs": [
    {
     "data": {
      "text/plain": [
       "3.14"
      ]
     },
     "execution_count": 6,
     "metadata": {},
     "output_type": "execute_result"
    }
   ],
   "source": [
    "int(10.8)\n",
    "int(1.3)\n",
    "float(1)\n",
    "float(3.14)\n",
    "float(\"3.14\")"
   ]
  },
  {
   "cell_type": "code",
   "execution_count": 11,
   "id": "d05190a9",
   "metadata": {},
   "outputs": [
    {
     "name": "stdout",
     "output_type": "stream",
     "text": [
      "inf\n",
      "-inf\n"
     ]
    }
   ],
   "source": [
    "print(float('inf'))\n",
    "print(float('-inf'))"
   ]
  },
  {
   "cell_type": "code",
   "execution_count": 13,
   "id": "822eff6b",
   "metadata": {},
   "outputs": [
    {
     "name": "stdout",
     "output_type": "stream",
     "text": [
      "(1+0j)\n",
      "(3+5j)\n"
     ]
    }
   ],
   "source": [
    "print(complex(1))\n",
    "print(complex(3+5j))"
   ]
  },
  {
   "cell_type": "code",
   "execution_count": 14,
   "id": "24e6c37c",
   "metadata": {},
   "outputs": [
    {
     "data": {
      "text/plain": [
       "'1'"
      ]
     },
     "execution_count": 14,
     "metadata": {},
     "output_type": "execute_result"
    }
   ],
   "source": [
    "str(1)"
   ]
  },
  {
   "cell_type": "code",
   "execution_count": null,
   "id": "cfe70b6c",
   "metadata": {},
   "outputs": [],
   "source": [
    "#lists [] can change data\n",
    "#tuple () cannot change data \n",
    "#sets {} find which data element overlaps\n",
    "#frozenset cannot change\n",
    "#dictionary contains element names and data"
   ]
  },
  {
   "cell_type": "code",
   "execution_count": 16,
   "id": "25207850",
   "metadata": {},
   "outputs": [
    {
     "data": {
      "text/plain": [
       "[10, 10.1, 'python', True]"
      ]
     },
     "execution_count": 16,
     "metadata": {},
     "output_type": "execute_result"
    }
   ],
   "source": [
    "#list implemenation sequence type\n",
    "my_list1 = [10,10.1,'python',True]\n",
    "type(my_list1)\n",
    "my_list1"
   ]
  },
  {
   "cell_type": "code",
   "execution_count": 18,
   "id": "88d82459",
   "metadata": {},
   "outputs": [
    {
     "data": {
      "text/plain": [
       "(10, 10.1, 'python', True)"
      ]
     },
     "execution_count": 18,
     "metadata": {},
     "output_type": "execute_result"
    }
   ],
   "source": [
    "#tuple implementation sequence type\n",
    "my_tuple1 = (10,10.1,'python',True)\n",
    "my_tuple1"
   ]
  },
  {
   "cell_type": "code",
   "execution_count": 20,
   "id": "725078ac",
   "metadata": {},
   "outputs": [
    {
     "data": {
      "text/plain": [
       "(1, 2, 3)"
      ]
     },
     "execution_count": 20,
     "metadata": {},
     "output_type": "execute_result"
    }
   ],
   "source": [
    "my_tuple1 = tuple([1,2,3])\n",
    "my_tuple1"
   ]
  },
  {
   "cell_type": "code",
   "execution_count": 23,
   "id": "92c5cf7a",
   "metadata": {},
   "outputs": [
    {
     "name": "stdout",
     "output_type": "stream",
     "text": [
      "10 1\n"
     ]
    }
   ],
   "source": [
    "print(my_list1[0], my_tuple1[0] )"
   ]
  },
  {
   "cell_type": "code",
   "execution_count": 25,
   "id": "0a38e2ba",
   "metadata": {},
   "outputs": [
    {
     "name": "stdout",
     "output_type": "stream",
     "text": [
      "['Kepler', 'Euler', 'Gauss']\n"
     ]
    }
   ],
   "source": [
    "vip_names = ['Newton','Euler','Gauss']\n",
    "vip_names[0] = 'Kepler'\n",
    "print(vip_names)"
   ]
  },
  {
   "cell_type": "code",
   "execution_count": 26,
   "id": "d38d1c38",
   "metadata": {},
   "outputs": [],
   "source": [
    "my_list1 = [10,20,30,40,50]"
   ]
  },
  {
   "cell_type": "code",
   "execution_count": 27,
   "id": "917267c3",
   "metadata": {},
   "outputs": [
    {
     "data": {
      "text/plain": [
       "[10, 20, 30, 40]"
      ]
     },
     "execution_count": 27,
     "metadata": {},
     "output_type": "execute_result"
    }
   ],
   "source": [
    "my_list1[0:4:1] #first is fist index, second is final index - 1, third is increment"
   ]
  },
  {
   "cell_type": "code",
   "execution_count": 28,
   "id": "08453fb1",
   "metadata": {},
   "outputs": [
    {
     "data": {
      "text/plain": [
       "[10, 30, 50]"
      ]
     },
     "execution_count": 28,
     "metadata": {},
     "output_type": "execute_result"
    }
   ],
   "source": [
    "my_list1[0:5:2]"
   ]
  },
  {
   "cell_type": "code",
   "execution_count": 36,
   "id": "3db4c281",
   "metadata": {},
   "outputs": [
    {
     "name": "stdout",
     "output_type": "stream",
     "text": [
      "[50, 40, 30, 20, 10]\n",
      "[50, 40]\n",
      "[50, 40, 30]\n"
     ]
    }
   ],
   "source": [
    "my_list1[0:3]\n",
    "\n",
    "print(my_list1[::-1]) #reverse list\n",
    "print(my_list1[-1:2:-1]) #reverse list\n",
    "print(my_list1[-1:1:-1]) #reverse list"
   ]
  },
  {
   "cell_type": "code",
   "execution_count": 42,
   "id": "f7d1f619",
   "metadata": {},
   "outputs": [
    {
     "name": "stdout",
     "output_type": "stream",
     "text": [
      "[[10, 20, 30, 40, 50], [20]]\n",
      "[[10, 20, 30], [40, 50, 20]]\n",
      "[100, 200, 300]\n"
     ]
    }
   ],
   "source": [
    "my_list2 = [[10,20,30,40,50],[20]]\n",
    "print(my_list2)\n",
    "my_list3 = [[10,20,30],[40,50,20]]\n",
    "print(my_list3)\n",
    "my_list5 = [[10,20,[100,200,300]],[40,50,60]]\n",
    "print(my_list5[0][2])"
   ]
  },
  {
   "cell_type": "code",
   "execution_count": 43,
   "id": "0a36a38e",
   "metadata": {},
   "outputs": [
    {
     "data": {
      "text/plain": [
       "[10, 20, 30, 100, 200, 300]"
      ]
     },
     "execution_count": 43,
     "metadata": {},
     "output_type": "execute_result"
    }
   ],
   "source": [
    "my_list1 = [10,20,30]\n",
    "my_list2 = [100,200,300]\n",
    "my_list1 + my_list2"
   ]
  },
  {
   "cell_type": "code",
   "execution_count": 51,
   "id": "1ea72907",
   "metadata": {},
   "outputs": [
    {
     "name": "stdout",
     "output_type": "stream",
     "text": [
      "330\n"
     ]
    }
   ],
   "source": [
    "for i in range(0,len(my_list1)):\n",
    "    sum = my_list1[i] + my_list2[i]\n",
    "    \n",
    "print(sum)"
   ]
  },
  {
   "cell_type": "code",
   "execution_count": 92,
   "id": "4cb78b91",
   "metadata": {},
   "outputs": [
    {
     "name": "stdout",
     "output_type": "stream",
     "text": [
      "['Newton', 'Euler', 'Gauss', 'Louis']\n",
      "['Newton', 'Euler', 'Gauss']\n",
      "['Newton', 'Gauss']\n",
      "['Louis', 'Juyoung', 'Peter', 'Sang']\n",
      "1\n",
      "1\n",
      "Sorted function:  ['Juyoung', 'Louis', 'Peter', 'Sang']\n",
      "['Sang', 'Peter', 'Louis', 'Juyoung']\n",
      "Reverse function:  ['Sang', 'Peter', 'Louis', 'Juyoung']\n"
     ]
    }
   ],
   "source": [
    "vip_names = ['Newton','Euler','Gauss']\n",
    "type(vip_names)\n",
    "vip_names.append('Louis')\n",
    "print(vip_names)\n",
    "vip_names.remove('Louis')\n",
    "print(vip_names)\n",
    "vip_names.pop(1)\n",
    "print(vip_names)\n",
    "vip_names.clear()\n",
    "\n",
    "vip_names.insert(0,'Louis')\n",
    "vip_names.insert(1,'Juyoung')\n",
    "vip_names.insert(2,'Peter')\n",
    "vip_names.insert(3,'Sang')\n",
    "print(vip_names)\n",
    "\n",
    "print(vip_names.index('Juyoung'))\n",
    "print(vip_names.count('Sang'))\n",
    "vip_names.sort()\n",
    "print(\"Sorted function: \", vip_names)\n",
    "print(vip_names[-1::-1])\n",
    "vip_names.reverse()\n",
    "print(\"Reverse function: \" , vip_names)"
   ]
  },
  {
   "cell_type": "code",
   "execution_count": 77,
   "id": "ce3f7896",
   "metadata": {},
   "outputs": [],
   "source": [
    "data = [['Asia',24],\n",
    "        ['America',25],\n",
    "        ['Europe',20],\n",
    "        ['Africa',28],\n",
    "        ['Australia',23]]"
   ]
  },
  {
   "cell_type": "code",
   "execution_count": 78,
   "id": "28b63394",
   "metadata": {},
   "outputs": [
    {
     "data": {
      "text/plain": [
       "[['Asia', 24],\n",
       " ['America', 25],\n",
       " ['Europe', 20],\n",
       " ['Africa', 28],\n",
       " ['Australia', 23]]"
      ]
     },
     "execution_count": 78,
     "metadata": {},
     "output_type": "execute_result"
    }
   ],
   "source": [
    "data"
   ]
  },
  {
   "cell_type": "code",
   "execution_count": 84,
   "id": "47dcfab8",
   "metadata": {},
   "outputs": [
    {
     "name": "stdout",
     "output_type": "stream",
     "text": [
      "{10, 20, 30}\n"
     ]
    }
   ],
   "source": [
    "my_set1 = {10,20,30}\n",
    "my_set2 = {10,'Louis',True}\n",
    "my_set3 = {10,20,30,20}\n",
    "print(my_set3)"
   ]
  },
  {
   "cell_type": "code",
   "execution_count": 86,
   "id": "f3dea5bc",
   "metadata": {},
   "outputs": [
    {
     "name": "stdout",
     "output_type": "stream",
     "text": [
      "{40, 10, 50, 20, 30}\n"
     ]
    }
   ],
   "source": [
    "my_list4 = [10,20,30,40,50]\n",
    "my_set4 = set(my_list4)\n",
    "print(my_set4)"
   ]
  },
  {
   "cell_type": "code",
   "execution_count": 90,
   "id": "690c1429",
   "metadata": {},
   "outputs": [
    {
     "name": "stdout",
     "output_type": "stream",
     "text": [
      "{40, 10, 50, 20, 60, 30}\n"
     ]
    }
   ],
   "source": [
    "my_set4.add(60)\n",
    "print(my_set4)"
   ]
  },
  {
   "cell_type": "code",
   "execution_count": 93,
   "id": "c84600e8",
   "metadata": {},
   "outputs": [
    {
     "name": "stdout",
     "output_type": "stream",
     "text": [
      "{10, 50, 20, 60, 30}\n"
     ]
    }
   ],
   "source": [
    "my_set4.discard(40)\n",
    "print(my_set4)"
   ]
  },
  {
   "cell_type": "code",
   "execution_count": 98,
   "id": "9f21dc48",
   "metadata": {},
   "outputs": [
    {
     "name": "stdout",
     "output_type": "stream",
     "text": [
      "Set A: {40, 10, 50, 20, 30} \n",
      "Set B: {70, 40, 80, 50, 60}\n"
     ]
    }
   ],
   "source": [
    "A = {10,20,30,40,50}\n",
    "B = {40,50,60,70,80}\n",
    "print(\"Set A:\",A,\"\\nSet B:\", B)"
   ]
  },
  {
   "cell_type": "code",
   "execution_count": 109,
   "id": "13337804",
   "metadata": {},
   "outputs": [
    {
     "name": "stdout",
     "output_type": "stream",
     "text": [
      "{70, 40, 10, 80, 50, 20, 60, 30}\n",
      "{40, 50}\n",
      "Prints only in A: {10, 20, 30}\n",
      "Prints only in B: {80, 60, 70}\n",
      "{80, 20, 70, 10, 60, 30}\n"
     ]
    }
   ],
   "source": [
    "print(A.union(B))\n",
    "print(A.intersection(B))\n",
    "print(\"Prints only in A:\",A.difference(B))\n",
    "print(\"Prints only in B:\",B.difference(A))\n",
    "print(A.symmetric_difference(B)) #excludes the overlapping values"
   ]
  },
  {
   "cell_type": "code",
   "execution_count": 2,
   "id": "22d2ded4",
   "metadata": {},
   "outputs": [
    {
     "name": "stdout",
     "output_type": "stream",
     "text": [
      "True\n",
      "True\n",
      "False\n"
     ]
    }
   ],
   "source": [
    "#subset\n",
    "A = {10,20,30,40,50}\n",
    "B = {40}\n",
    "print(B.issubset(A))\n",
    "\n",
    "#superset\n",
    "A = {10,20,30,40,50}\n",
    "B = {40}\n",
    "print(A.issuperset(B))\n",
    "print(B.issuperset(A))"
   ]
  },
  {
   "cell_type": "code",
   "execution_count": 114,
   "id": "d49b3122",
   "metadata": {},
   "outputs": [
    {
     "name": "stdout",
     "output_type": "stream",
     "text": [
      "frozenset({40, 50})\n"
     ]
    }
   ],
   "source": [
    "#cannot modify frozen sets\n",
    "A = frozenset([10,20,30,40,50])\n",
    "B = frozenset([70,40,80,50,60])\n",
    "C = set([40,50])\n",
    "\n",
    "print(A & C) #prints out frozen set"
   ]
  },
  {
   "cell_type": "code",
   "execution_count": 5,
   "id": "e6f4723c",
   "metadata": {},
   "outputs": [
    {
     "data": {
      "text/plain": [
       "True"
      ]
     },
     "execution_count": 5,
     "metadata": {},
     "output_type": "execute_result"
    }
   ],
   "source": []
  }
 ],
 "metadata": {
  "kernelspec": {
   "display_name": "Python 3",
   "language": "python",
   "name": "python3"
  },
  "language_info": {
   "codemirror_mode": {
    "name": "ipython",
    "version": 3
   },
   "file_extension": ".py",
   "mimetype": "text/x-python",
   "name": "python",
   "nbconvert_exporter": "python",
   "pygments_lexer": "ipython3",
   "version": "3.8.8"
  }
 },
 "nbformat": 4,
 "nbformat_minor": 5
}
