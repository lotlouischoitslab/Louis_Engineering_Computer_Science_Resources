{
 "cells": [
  {
   "cell_type": "code",
   "execution_count": 9,
   "id": "60a9bd5f",
   "metadata": {},
   "outputs": [],
   "source": [
    "import numpy as np\n",
    "import pandas as pd"
   ]
  },
  {
   "cell_type": "code",
   "execution_count": 10,
   "id": "23742d73",
   "metadata": {},
   "outputs": [
    {
     "data": {
      "text/html": [
       "<div>\n",
       "<style scoped>\n",
       "    .dataframe tbody tr th:only-of-type {\n",
       "        vertical-align: middle;\n",
       "    }\n",
       "\n",
       "    .dataframe tbody tr th {\n",
       "        vertical-align: top;\n",
       "    }\n",
       "\n",
       "    .dataframe thead th {\n",
       "        text-align: right;\n",
       "    }\n",
       "</style>\n",
       "<table border=\"1\" class=\"dataframe\">\n",
       "  <thead>\n",
       "    <tr style=\"text-align: right;\">\n",
       "      <th></th>\n",
       "      <th>PassengerId</th>\n",
       "      <th>Name</th>\n",
       "      <th>Pclass</th>\n",
       "      <th>Sex</th>\n",
       "      <th>Age</th>\n",
       "      <th>SibSp</th>\n",
       "      <th>Parch</th>\n",
       "      <th>Ticket</th>\n",
       "      <th>Fare</th>\n",
       "      <th>Cabin</th>\n",
       "      <th>Embarked</th>\n",
       "      <th>Survived</th>\n",
       "    </tr>\n",
       "  </thead>\n",
       "  <tbody>\n",
       "    <tr>\n",
       "      <th>0</th>\n",
       "      <td>1</td>\n",
       "      <td>Braund, Mr. Owen Harris</td>\n",
       "      <td>3</td>\n",
       "      <td>male</td>\n",
       "      <td>22.0</td>\n",
       "      <td>1</td>\n",
       "      <td>0</td>\n",
       "      <td>A/5 21171</td>\n",
       "      <td>7.2500</td>\n",
       "      <td>NaN</td>\n",
       "      <td>S</td>\n",
       "      <td>0</td>\n",
       "    </tr>\n",
       "    <tr>\n",
       "      <th>1</th>\n",
       "      <td>2</td>\n",
       "      <td>Cumings, Mrs. John Bradley (Florence Briggs Th...</td>\n",
       "      <td>1</td>\n",
       "      <td>female</td>\n",
       "      <td>38.0</td>\n",
       "      <td>1</td>\n",
       "      <td>0</td>\n",
       "      <td>PC 17599</td>\n",
       "      <td>71.2833</td>\n",
       "      <td>C85</td>\n",
       "      <td>C</td>\n",
       "      <td>1</td>\n",
       "    </tr>\n",
       "    <tr>\n",
       "      <th>2</th>\n",
       "      <td>3</td>\n",
       "      <td>Heikkinen, Miss. Laina</td>\n",
       "      <td>3</td>\n",
       "      <td>female</td>\n",
       "      <td>26.0</td>\n",
       "      <td>0</td>\n",
       "      <td>0</td>\n",
       "      <td>STON/O2. 3101282</td>\n",
       "      <td>7.9250</td>\n",
       "      <td>NaN</td>\n",
       "      <td>S</td>\n",
       "      <td>1</td>\n",
       "    </tr>\n",
       "    <tr>\n",
       "      <th>3</th>\n",
       "      <td>4</td>\n",
       "      <td>Futrelle, Mrs. Jacques Heath (Lily May Peel)</td>\n",
       "      <td>1</td>\n",
       "      <td>female</td>\n",
       "      <td>35.0</td>\n",
       "      <td>1</td>\n",
       "      <td>0</td>\n",
       "      <td>113803</td>\n",
       "      <td>53.1000</td>\n",
       "      <td>C123</td>\n",
       "      <td>S</td>\n",
       "      <td>1</td>\n",
       "    </tr>\n",
       "    <tr>\n",
       "      <th>4</th>\n",
       "      <td>5</td>\n",
       "      <td>Allen, Mr. William Henry</td>\n",
       "      <td>3</td>\n",
       "      <td>male</td>\n",
       "      <td>35.0</td>\n",
       "      <td>0</td>\n",
       "      <td>0</td>\n",
       "      <td>373450</td>\n",
       "      <td>8.0500</td>\n",
       "      <td>NaN</td>\n",
       "      <td>S</td>\n",
       "      <td>0</td>\n",
       "    </tr>\n",
       "  </tbody>\n",
       "</table>\n",
       "</div>"
      ],
      "text/plain": [
       "   PassengerId                                               Name  Pclass  \\\n",
       "0            1                            Braund, Mr. Owen Harris       3   \n",
       "1            2  Cumings, Mrs. John Bradley (Florence Briggs Th...       1   \n",
       "2            3                             Heikkinen, Miss. Laina       3   \n",
       "3            4       Futrelle, Mrs. Jacques Heath (Lily May Peel)       1   \n",
       "4            5                           Allen, Mr. William Henry       3   \n",
       "\n",
       "      Sex   Age  SibSp  Parch            Ticket     Fare Cabin Embarked  \\\n",
       "0    male  22.0      1      0         A/5 21171   7.2500   NaN        S   \n",
       "1  female  38.0      1      0          PC 17599  71.2833   C85        C   \n",
       "2  female  26.0      0      0  STON/O2. 3101282   7.9250   NaN        S   \n",
       "3  female  35.0      1      0            113803  53.1000  C123        S   \n",
       "4    male  35.0      0      0            373450   8.0500   NaN        S   \n",
       "\n",
       "   Survived  \n",
       "0         0  \n",
       "1         1  \n",
       "2         1  \n",
       "3         1  \n",
       "4         0  "
      ]
     },
     "execution_count": 10,
     "metadata": {},
     "output_type": "execute_result"
    }
   ],
   "source": [
    "df = pd.read_csv('titanic.csv')\n",
    "df.head()"
   ]
  },
  {
   "cell_type": "code",
   "execution_count": 11,
   "id": "5381836b",
   "metadata": {},
   "outputs": [
    {
     "data": {
      "text/html": [
       "<div>\n",
       "<style scoped>\n",
       "    .dataframe tbody tr th:only-of-type {\n",
       "        vertical-align: middle;\n",
       "    }\n",
       "\n",
       "    .dataframe tbody tr th {\n",
       "        vertical-align: top;\n",
       "    }\n",
       "\n",
       "    .dataframe thead th {\n",
       "        text-align: right;\n",
       "    }\n",
       "</style>\n",
       "<table border=\"1\" class=\"dataframe\">\n",
       "  <thead>\n",
       "    <tr style=\"text-align: right;\">\n",
       "      <th></th>\n",
       "      <th>Pclass</th>\n",
       "      <th>Sex</th>\n",
       "      <th>Age</th>\n",
       "      <th>Fare</th>\n",
       "      <th>Survived</th>\n",
       "    </tr>\n",
       "  </thead>\n",
       "  <tbody>\n",
       "    <tr>\n",
       "      <th>0</th>\n",
       "      <td>3</td>\n",
       "      <td>male</td>\n",
       "      <td>22.0</td>\n",
       "      <td>7.2500</td>\n",
       "      <td>0</td>\n",
       "    </tr>\n",
       "    <tr>\n",
       "      <th>1</th>\n",
       "      <td>1</td>\n",
       "      <td>female</td>\n",
       "      <td>38.0</td>\n",
       "      <td>71.2833</td>\n",
       "      <td>1</td>\n",
       "    </tr>\n",
       "    <tr>\n",
       "      <th>2</th>\n",
       "      <td>3</td>\n",
       "      <td>female</td>\n",
       "      <td>26.0</td>\n",
       "      <td>7.9250</td>\n",
       "      <td>1</td>\n",
       "    </tr>\n",
       "    <tr>\n",
       "      <th>3</th>\n",
       "      <td>1</td>\n",
       "      <td>female</td>\n",
       "      <td>35.0</td>\n",
       "      <td>53.1000</td>\n",
       "      <td>1</td>\n",
       "    </tr>\n",
       "    <tr>\n",
       "      <th>4</th>\n",
       "      <td>3</td>\n",
       "      <td>male</td>\n",
       "      <td>35.0</td>\n",
       "      <td>8.0500</td>\n",
       "      <td>0</td>\n",
       "    </tr>\n",
       "  </tbody>\n",
       "</table>\n",
       "</div>"
      ],
      "text/plain": [
       "   Pclass     Sex   Age     Fare  Survived\n",
       "0       3    male  22.0   7.2500         0\n",
       "1       1  female  38.0  71.2833         1\n",
       "2       3  female  26.0   7.9250         1\n",
       "3       1  female  35.0  53.1000         1\n",
       "4       3    male  35.0   8.0500         0"
      ]
     },
     "execution_count": 11,
     "metadata": {},
     "output_type": "execute_result"
    }
   ],
   "source": [
    "df.drop(['PassengerId','Name','SibSp','Parch','Ticket','Cabin','Embarked'],axis='columns',inplace=True)\n",
    "df.head()"
   ]
  },
  {
   "cell_type": "code",
   "execution_count": 12,
   "id": "4d90a327",
   "metadata": {},
   "outputs": [],
   "source": [
    "target=df['Survived']\n",
    "inputs = df.drop('Survived',axis='columns')"
   ]
  },
  {
   "cell_type": "code",
   "execution_count": 13,
   "id": "2c0b9aba",
   "metadata": {},
   "outputs": [
    {
     "data": {
      "text/html": [
       "<div>\n",
       "<style scoped>\n",
       "    .dataframe tbody tr th:only-of-type {\n",
       "        vertical-align: middle;\n",
       "    }\n",
       "\n",
       "    .dataframe tbody tr th {\n",
       "        vertical-align: top;\n",
       "    }\n",
       "\n",
       "    .dataframe thead th {\n",
       "        text-align: right;\n",
       "    }\n",
       "</style>\n",
       "<table border=\"1\" class=\"dataframe\">\n",
       "  <thead>\n",
       "    <tr style=\"text-align: right;\">\n",
       "      <th></th>\n",
       "      <th>female</th>\n",
       "      <th>male</th>\n",
       "    </tr>\n",
       "  </thead>\n",
       "  <tbody>\n",
       "    <tr>\n",
       "      <th>0</th>\n",
       "      <td>0</td>\n",
       "      <td>1</td>\n",
       "    </tr>\n",
       "    <tr>\n",
       "      <th>1</th>\n",
       "      <td>1</td>\n",
       "      <td>0</td>\n",
       "    </tr>\n",
       "    <tr>\n",
       "      <th>2</th>\n",
       "      <td>1</td>\n",
       "      <td>0</td>\n",
       "    </tr>\n",
       "    <tr>\n",
       "      <th>3</th>\n",
       "      <td>1</td>\n",
       "      <td>0</td>\n",
       "    </tr>\n",
       "    <tr>\n",
       "      <th>4</th>\n",
       "      <td>0</td>\n",
       "      <td>1</td>\n",
       "    </tr>\n",
       "  </tbody>\n",
       "</table>\n",
       "</div>"
      ],
      "text/plain": [
       "   female  male\n",
       "0       0     1\n",
       "1       1     0\n",
       "2       1     0\n",
       "3       1     0\n",
       "4       0     1"
      ]
     },
     "execution_count": 13,
     "metadata": {},
     "output_type": "execute_result"
    }
   ],
   "source": [
    "dummies = pd.get_dummies(inputs['Sex'])\n",
    "dummies.head()"
   ]
  },
  {
   "cell_type": "code",
   "execution_count": 14,
   "id": "c16861ba",
   "metadata": {},
   "outputs": [
    {
     "data": {
      "text/html": [
       "<div>\n",
       "<style scoped>\n",
       "    .dataframe tbody tr th:only-of-type {\n",
       "        vertical-align: middle;\n",
       "    }\n",
       "\n",
       "    .dataframe tbody tr th {\n",
       "        vertical-align: top;\n",
       "    }\n",
       "\n",
       "    .dataframe thead th {\n",
       "        text-align: right;\n",
       "    }\n",
       "</style>\n",
       "<table border=\"1\" class=\"dataframe\">\n",
       "  <thead>\n",
       "    <tr style=\"text-align: right;\">\n",
       "      <th></th>\n",
       "      <th>Pclass</th>\n",
       "      <th>Sex</th>\n",
       "      <th>Age</th>\n",
       "      <th>Fare</th>\n",
       "      <th>female</th>\n",
       "      <th>male</th>\n",
       "    </tr>\n",
       "  </thead>\n",
       "  <tbody>\n",
       "    <tr>\n",
       "      <th>0</th>\n",
       "      <td>3</td>\n",
       "      <td>male</td>\n",
       "      <td>22.0</td>\n",
       "      <td>7.2500</td>\n",
       "      <td>0</td>\n",
       "      <td>1</td>\n",
       "    </tr>\n",
       "    <tr>\n",
       "      <th>1</th>\n",
       "      <td>1</td>\n",
       "      <td>female</td>\n",
       "      <td>38.0</td>\n",
       "      <td>71.2833</td>\n",
       "      <td>1</td>\n",
       "      <td>0</td>\n",
       "    </tr>\n",
       "    <tr>\n",
       "      <th>2</th>\n",
       "      <td>3</td>\n",
       "      <td>female</td>\n",
       "      <td>26.0</td>\n",
       "      <td>7.9250</td>\n",
       "      <td>1</td>\n",
       "      <td>0</td>\n",
       "    </tr>\n",
       "  </tbody>\n",
       "</table>\n",
       "</div>"
      ],
      "text/plain": [
       "   Pclass     Sex   Age     Fare  female  male\n",
       "0       3    male  22.0   7.2500       0     1\n",
       "1       1  female  38.0  71.2833       1     0\n",
       "2       3  female  26.0   7.9250       1     0"
      ]
     },
     "execution_count": 14,
     "metadata": {},
     "output_type": "execute_result"
    }
   ],
   "source": [
    "inputs = pd.concat([inputs,dummies],axis='columns')\n",
    "inputs.head(3)"
   ]
  },
  {
   "cell_type": "code",
   "execution_count": 15,
   "id": "354acb75",
   "metadata": {},
   "outputs": [],
   "source": [
    "inputs.columns[inputs.isna().any()] #check for null\n",
    "inputs = inputs.drop('Sex',axis='columns')"
   ]
  },
  {
   "cell_type": "code",
   "execution_count": 16,
   "id": "9b0d56af",
   "metadata": {},
   "outputs": [
    {
     "data": {
      "text/html": [
       "<div>\n",
       "<style scoped>\n",
       "    .dataframe tbody tr th:only-of-type {\n",
       "        vertical-align: middle;\n",
       "    }\n",
       "\n",
       "    .dataframe tbody tr th {\n",
       "        vertical-align: top;\n",
       "    }\n",
       "\n",
       "    .dataframe thead th {\n",
       "        text-align: right;\n",
       "    }\n",
       "</style>\n",
       "<table border=\"1\" class=\"dataframe\">\n",
       "  <thead>\n",
       "    <tr style=\"text-align: right;\">\n",
       "      <th></th>\n",
       "      <th>Pclass</th>\n",
       "      <th>Age</th>\n",
       "      <th>Fare</th>\n",
       "      <th>female</th>\n",
       "      <th>male</th>\n",
       "    </tr>\n",
       "  </thead>\n",
       "  <tbody>\n",
       "    <tr>\n",
       "      <th>0</th>\n",
       "      <td>3</td>\n",
       "      <td>22.000000</td>\n",
       "      <td>7.2500</td>\n",
       "      <td>0</td>\n",
       "      <td>1</td>\n",
       "    </tr>\n",
       "    <tr>\n",
       "      <th>1</th>\n",
       "      <td>1</td>\n",
       "      <td>38.000000</td>\n",
       "      <td>71.2833</td>\n",
       "      <td>1</td>\n",
       "      <td>0</td>\n",
       "    </tr>\n",
       "    <tr>\n",
       "      <th>2</th>\n",
       "      <td>3</td>\n",
       "      <td>26.000000</td>\n",
       "      <td>7.9250</td>\n",
       "      <td>1</td>\n",
       "      <td>0</td>\n",
       "    </tr>\n",
       "    <tr>\n",
       "      <th>3</th>\n",
       "      <td>1</td>\n",
       "      <td>35.000000</td>\n",
       "      <td>53.1000</td>\n",
       "      <td>1</td>\n",
       "      <td>0</td>\n",
       "    </tr>\n",
       "    <tr>\n",
       "      <th>4</th>\n",
       "      <td>3</td>\n",
       "      <td>35.000000</td>\n",
       "      <td>8.0500</td>\n",
       "      <td>0</td>\n",
       "      <td>1</td>\n",
       "    </tr>\n",
       "    <tr>\n",
       "      <th>5</th>\n",
       "      <td>3</td>\n",
       "      <td>29.699118</td>\n",
       "      <td>8.4583</td>\n",
       "      <td>0</td>\n",
       "      <td>1</td>\n",
       "    </tr>\n",
       "  </tbody>\n",
       "</table>\n",
       "</div>"
      ],
      "text/plain": [
       "   Pclass        Age     Fare  female  male\n",
       "0       3  22.000000   7.2500       0     1\n",
       "1       1  38.000000  71.2833       1     0\n",
       "2       3  26.000000   7.9250       1     0\n",
       "3       1  35.000000  53.1000       1     0\n",
       "4       3  35.000000   8.0500       0     1\n",
       "5       3  29.699118   8.4583       0     1"
      ]
     },
     "execution_count": 16,
     "metadata": {},
     "output_type": "execute_result"
    }
   ],
   "source": [
    "inputs['Age'] = inputs['Age'].fillna(inputs['Age'].mean())\n",
    "inputs.head(6)"
   ]
  },
  {
   "cell_type": "code",
   "execution_count": 17,
   "id": "70f4fc37",
   "metadata": {},
   "outputs": [],
   "source": [
    "from sklearn.model_selection import train_test_split\n",
    "X_train, X_test, y_train, y_test = train_test_split(inputs,target,test_size=0.2)"
   ]
  },
  {
   "cell_type": "code",
   "execution_count": 18,
   "id": "fbe3ace3",
   "metadata": {},
   "outputs": [
    {
     "data": {
      "text/plain": [
       "712"
      ]
     },
     "execution_count": 18,
     "metadata": {},
     "output_type": "execute_result"
    }
   ],
   "source": [
    "len(X_train)"
   ]
  },
  {
   "cell_type": "code",
   "execution_count": 19,
   "id": "b27030d6",
   "metadata": {},
   "outputs": [
    {
     "data": {
      "text/plain": [
       "179"
      ]
     },
     "execution_count": 19,
     "metadata": {},
     "output_type": "execute_result"
    }
   ],
   "source": [
    "len(X_test)"
   ]
  },
  {
   "cell_type": "code",
   "execution_count": 20,
   "id": "3fc0353e",
   "metadata": {},
   "outputs": [
    {
     "data": {
      "text/plain": [
       "891"
      ]
     },
     "execution_count": 20,
     "metadata": {},
     "output_type": "execute_result"
    }
   ],
   "source": [
    "len(inputs)"
   ]
  },
  {
   "cell_type": "code",
   "execution_count": 21,
   "id": "1f90d700",
   "metadata": {},
   "outputs": [],
   "source": [
    "from sklearn.naive_bayes import GaussianNB\n",
    "model = GaussianNB()"
   ]
  },
  {
   "cell_type": "code",
   "execution_count": 22,
   "id": "cce36cc7",
   "metadata": {},
   "outputs": [
    {
     "data": {
      "text/plain": [
       "GaussianNB()"
      ]
     },
     "execution_count": 22,
     "metadata": {},
     "output_type": "execute_result"
    }
   ],
   "source": [
    "model.fit(X_train,y_train)"
   ]
  },
  {
   "cell_type": "code",
   "execution_count": 23,
   "id": "e3572343",
   "metadata": {},
   "outputs": [
    {
     "data": {
      "text/plain": [
       "0.8156424581005587"
      ]
     },
     "execution_count": 23,
     "metadata": {},
     "output_type": "execute_result"
    }
   ],
   "source": [
    "model.score(X_test,y_test)"
   ]
  },
  {
   "cell_type": "code",
   "execution_count": 24,
   "id": "410d96d9",
   "metadata": {},
   "outputs": [
    {
     "data": {
      "text/plain": [
       "array([1, 1, 0, 0, 1, 0, 0, 1, 1, 1, 0, 1, 1, 0, 1, 0, 1, 1, 1, 1, 0, 0,\n",
       "       1, 0, 0, 0, 0, 0, 1, 0, 1, 0, 1, 1, 0, 1, 0, 0, 0, 0, 1, 0, 0, 1,\n",
       "       1, 0, 1, 1, 0, 1, 1, 0, 1, 0, 1, 0, 0, 0, 1, 0, 0, 1, 1, 1, 1, 0,\n",
       "       0, 0, 0, 0, 0, 1, 0, 0, 1, 0, 1, 0, 1, 0, 0, 0, 0, 1, 0, 1, 1, 0,\n",
       "       1, 0, 0, 1, 0, 1, 0, 0, 0, 0, 1, 0, 1, 0, 1, 0, 0, 0, 0, 0, 0, 0,\n",
       "       1, 1, 0, 0, 0, 0, 0, 1, 1, 1, 0, 0, 0, 1, 0, 0, 0, 0, 0, 0, 0, 1,\n",
       "       1, 1, 1, 1, 0, 1, 0, 0, 0, 1, 0, 0, 0, 0, 0, 0, 1, 1, 1, 0, 0, 1,\n",
       "       0, 0, 0, 0, 0, 1, 0, 1, 0, 0, 1, 0, 1, 0, 0, 1, 1, 1, 0, 1, 0, 0,\n",
       "       0, 0, 0], dtype=int64)"
      ]
     },
     "execution_count": 24,
     "metadata": {},
     "output_type": "execute_result"
    }
   ],
   "source": [
    "model.predict(X_test)"
   ]
  },
  {
   "cell_type": "code",
   "execution_count": 25,
   "id": "e387292d",
   "metadata": {},
   "outputs": [
    {
     "data": {
      "text/plain": [
       "array([[3.93409856e-02, 9.60659014e-01],\n",
       "       [2.76068737e-02, 9.72393126e-01],\n",
       "       [9.88028624e-01, 1.19713764e-02],\n",
       "       [8.91276692e-01, 1.08723308e-01],\n",
       "       [8.61701927e-07, 9.99999138e-01],\n",
       "       [9.01381880e-01, 9.86181199e-02],\n",
       "       [9.88043767e-01, 1.19562331e-02],\n",
       "       [4.14086573e-02, 9.58591343e-01],\n",
       "       [5.08934156e-03, 9.94910658e-01],\n",
       "       [4.72384723e-02, 9.52761528e-01],\n",
       "       [9.73104308e-01, 2.68956919e-02],\n",
       "       [3.93299140e-02, 9.60670086e-01],\n",
       "       [4.29377624e-02, 9.57062238e-01],\n",
       "       [9.88028624e-01, 1.19713764e-02],\n",
       "       [9.06895752e-02, 9.09310425e-01],\n",
       "       [9.87523430e-01, 1.24765698e-02],\n",
       "       [1.87465065e-03, 9.98125349e-01],\n",
       "       [6.18711552e-14, 1.00000000e+00],\n",
       "       [4.01137320e-02, 9.59886268e-01],\n",
       "       [8.70437488e-02, 9.12956251e-01],\n",
       "       [9.74155083e-01, 2.58449167e-02],\n",
       "       [6.94242107e-01, 3.05757893e-01],\n",
       "       [7.94603399e-07, 9.99999205e-01],\n",
       "       [8.87910631e-01, 1.12089369e-01],\n",
       "       [9.87390596e-01, 1.26094035e-02],\n",
       "       [9.87929456e-01, 1.20705435e-02],\n",
       "       [9.71541651e-01, 2.84583491e-02],\n",
       "       [9.71968560e-01, 2.80314401e-02],\n",
       "       [3.81189472e-11, 1.00000000e+00],\n",
       "       [8.99754082e-01, 1.00245918e-01],\n",
       "       [9.31930255e-02, 9.06806974e-01],\n",
       "       [9.88028624e-01, 1.19713764e-02],\n",
       "       [7.34704821e-10, 9.99999999e-01],\n",
       "       [8.94160546e-02, 9.10583945e-01],\n",
       "       [9.86126468e-01, 1.38735320e-02],\n",
       "       [9.64956732e-03, 9.90350433e-01],\n",
       "       [9.86017894e-01, 1.39821063e-02],\n",
       "       [9.85690776e-01, 1.43092245e-02],\n",
       "       [9.72979212e-01, 2.70207883e-02],\n",
       "       [9.88010169e-01, 1.19898306e-02],\n",
       "       [3.68205800e-02, 9.63179420e-01],\n",
       "       [9.88010169e-01, 1.19898306e-02],\n",
       "       [9.74471142e-01, 2.55288576e-02],\n",
       "       [7.94918919e-04, 9.99205081e-01],\n",
       "       [3.93116264e-02, 9.60688374e-01],\n",
       "       [9.88250159e-01, 1.17498413e-02],\n",
       "       [3.92395530e-02, 9.60760447e-01],\n",
       "       [8.01127492e-02, 9.19887251e-01],\n",
       "       [9.63722665e-01, 3.62773354e-02],\n",
       "       [3.33048233e-02, 9.66695177e-01],\n",
       "       [1.87950977e-03, 9.98120490e-01],\n",
       "       [8.99996088e-01, 1.00003912e-01],\n",
       "       [7.24142607e-02, 9.27585739e-01],\n",
       "       [9.86289002e-01, 1.37109978e-02],\n",
       "       [7.29305933e-04, 9.99270694e-01],\n",
       "       [6.12925891e-01, 3.87074109e-01],\n",
       "       [8.54614173e-01, 1.45385827e-01],\n",
       "       [9.87949883e-01, 1.20501173e-02],\n",
       "       [1.42558456e-47, 1.00000000e+00],\n",
       "       [9.86347446e-01, 1.36525535e-02],\n",
       "       [9.62397279e-01, 3.76027214e-02],\n",
       "       [3.67947838e-02, 9.63205216e-01],\n",
       "       [3.67290328e-02, 9.63270967e-01],\n",
       "       [4.08993404e-02, 9.59100660e-01],\n",
       "       [5.31871442e-02, 9.46812856e-01],\n",
       "       [8.43069615e-01, 1.56930385e-01],\n",
       "       [8.96450888e-01, 1.03549112e-01],\n",
       "       [9.73104308e-01, 2.68956919e-02],\n",
       "       [9.88010169e-01, 1.19898306e-02],\n",
       "       [9.69389049e-01, 3.06109513e-02],\n",
       "       [9.88032353e-01, 1.19676470e-02],\n",
       "       [5.55129751e-02, 9.44487025e-01],\n",
       "       [9.86764120e-01, 1.32358800e-02],\n",
       "       [9.86369878e-01, 1.36301224e-02],\n",
       "       [2.06535336e-03, 9.97934647e-01],\n",
       "       [8.42917338e-01, 1.57082662e-01],\n",
       "       [4.58051381e-02, 9.54194862e-01],\n",
       "       [9.85377702e-01, 1.46222983e-02],\n",
       "       [1.47166863e-02, 9.85283314e-01],\n",
       "       [9.74316484e-01, 2.56835160e-02],\n",
       "       [9.87308509e-01, 1.26914910e-02],\n",
       "       [7.94794858e-01, 2.05205142e-01],\n",
       "       [5.85716389e-01, 4.14283611e-01],\n",
       "       [1.81091710e-03, 9.98189083e-01],\n",
       "       [8.92083182e-01, 1.07916818e-01],\n",
       "       [3.93116264e-02, 9.60688374e-01],\n",
       "       [1.52604729e-01, 8.47395271e-01],\n",
       "       [9.88005698e-01, 1.19943021e-02],\n",
       "       [8.76361863e-02, 9.12363814e-01],\n",
       "       [9.87977371e-01, 1.20226290e-02],\n",
       "       [9.88068640e-01, 1.19313601e-02],\n",
       "       [4.22094038e-02, 9.57790596e-01],\n",
       "       [9.83610804e-01, 1.63891959e-02],\n",
       "       [8.79390249e-02, 9.12060975e-01],\n",
       "       [9.68288293e-01, 3.17117065e-02],\n",
       "       [9.85396470e-01, 1.46035304e-02],\n",
       "       [8.94141382e-01, 1.05858618e-01],\n",
       "       [9.85415688e-01, 1.45843125e-02],\n",
       "       [3.49001776e-02, 9.65099822e-01],\n",
       "       [8.83156067e-01, 1.16843933e-01],\n",
       "       [8.84568220e-02, 9.11543178e-01],\n",
       "       [9.84246598e-01, 1.57534019e-02],\n",
       "       [2.32268616e-04, 9.99767731e-01],\n",
       "       [8.77008269e-01, 1.22991731e-01],\n",
       "       [9.87764497e-01, 1.22355026e-02],\n",
       "       [9.88455353e-01, 1.15446474e-02],\n",
       "       [9.88019253e-01, 1.19807475e-02],\n",
       "       [9.69022204e-01, 3.09777965e-02],\n",
       "       [9.76431403e-01, 2.35685971e-02],\n",
       "       [8.17695951e-01, 1.82304049e-01],\n",
       "       [5.42302665e-03, 9.94576973e-01],\n",
       "       [1.78683432e-02, 9.82131657e-01],\n",
       "       [9.84399825e-01, 1.56001750e-02],\n",
       "       [7.99632363e-01, 2.00367637e-01],\n",
       "       [9.88353478e-01, 1.16465218e-02],\n",
       "       [9.87031839e-01, 1.29681609e-02],\n",
       "       [7.24438818e-01, 2.75561182e-01],\n",
       "       [1.73914113e-03, 9.98260859e-01],\n",
       "       [2.73039341e-05, 9.99972696e-01],\n",
       "       [5.95207112e-03, 9.94047929e-01],\n",
       "       [9.88365396e-01, 1.16346044e-02],\n",
       "       [9.88716072e-01, 1.12839279e-02],\n",
       "       [9.85037007e-01, 1.49629925e-02],\n",
       "       [9.00750511e-02, 9.09924949e-01],\n",
       "       [9.88010169e-01, 1.19898306e-02],\n",
       "       [9.88550499e-01, 1.14495015e-02],\n",
       "       [9.88518651e-01, 1.14813494e-02],\n",
       "       [9.88019253e-01, 1.19807475e-02],\n",
       "       [9.87975664e-01, 1.20243362e-02],\n",
       "       [8.85238017e-01, 1.14761983e-01],\n",
       "       [9.86100686e-01, 1.38993142e-02],\n",
       "       [5.00641557e-03, 9.94993584e-01],\n",
       "       [3.61985962e-02, 9.63801404e-01],\n",
       "       [4.11090882e-02, 9.58890912e-01],\n",
       "       [8.75325289e-02, 9.12467471e-01],\n",
       "       [7.37980016e-06, 9.99992620e-01],\n",
       "       [8.46748441e-01, 1.53251559e-01],\n",
       "       [9.06784334e-02, 9.09321567e-01],\n",
       "       [9.87591078e-01, 1.24089221e-02],\n",
       "       [9.87975951e-01, 1.20240489e-02],\n",
       "       [9.86407479e-01, 1.35925211e-02],\n",
       "       [1.25926651e-01, 8.74073349e-01],\n",
       "       [9.88203877e-01, 1.17961226e-02],\n",
       "       [9.71502128e-01, 2.84978721e-02],\n",
       "       [9.73482704e-01, 2.65172960e-02],\n",
       "       [9.71721593e-01, 2.82784068e-02],\n",
       "       [9.85809309e-01, 1.41906909e-02],\n",
       "       [9.85858579e-01, 1.41414210e-02],\n",
       "       [4.16340890e-02, 9.58365911e-01],\n",
       "       [8.46992126e-02, 9.15300787e-01],\n",
       "       [7.43710784e-02, 9.25628922e-01],\n",
       "       [9.87975951e-01, 1.20240489e-02],\n",
       "       [9.88010169e-01, 1.19898306e-02],\n",
       "       [6.12883883e-14, 1.00000000e+00],\n",
       "       [9.38566928e-01, 6.14330719e-02],\n",
       "       [9.73733871e-01, 2.62661288e-02],\n",
       "       [9.88511488e-01, 1.14885119e-02],\n",
       "       [9.88279612e-01, 1.17203876e-02],\n",
       "       [9.87437638e-01, 1.25623617e-02],\n",
       "       [1.47900473e-01, 8.52099527e-01],\n",
       "       [9.72678936e-01, 2.73210638e-02],\n",
       "       [5.03524784e-11, 1.00000000e+00],\n",
       "       [9.87130591e-01, 1.28694090e-02],\n",
       "       [9.84643345e-01, 1.53566549e-02],\n",
       "       [2.93474188e-03, 9.97065258e-01],\n",
       "       [9.87756329e-01, 1.22436714e-02],\n",
       "       [3.96123408e-02, 9.60387659e-01],\n",
       "       [9.87115791e-01, 1.28842086e-02],\n",
       "       [9.71103268e-01, 2.88967321e-02],\n",
       "       [9.03071076e-02, 9.09692892e-01],\n",
       "       [8.93606545e-02, 9.10639346e-01],\n",
       "       [8.57014629e-02, 9.14298537e-01],\n",
       "       [9.58460189e-01, 4.15398108e-02],\n",
       "       [8.35798452e-02, 9.16420155e-01],\n",
       "       [6.38034691e-01, 3.61965309e-01],\n",
       "       [9.88019253e-01, 1.19807475e-02],\n",
       "       [8.97423850e-01, 1.02576150e-01],\n",
       "       [9.86760248e-01, 1.32397519e-02],\n",
       "       [9.88629863e-01, 1.13701372e-02]])"
      ]
     },
     "execution_count": 25,
     "metadata": {},
     "output_type": "execute_result"
    }
   ],
   "source": [
    "model.predict_proba(X_test)"
   ]
  },
  {
   "cell_type": "code",
   "execution_count": null,
   "id": "c59cd2e1",
   "metadata": {},
   "outputs": [],
   "source": []
  }
 ],
 "metadata": {
  "kernelspec": {
   "display_name": "Python 3 (ipykernel)",
   "language": "python",
   "name": "python3"
  },
  "language_info": {
   "codemirror_mode": {
    "name": "ipython",
    "version": 3
   },
   "file_extension": ".py",
   "mimetype": "text/x-python",
   "name": "python",
   "nbconvert_exporter": "python",
   "pygments_lexer": "ipython3",
   "version": "3.9.12"
  }
 },
 "nbformat": 4,
 "nbformat_minor": 5
}
