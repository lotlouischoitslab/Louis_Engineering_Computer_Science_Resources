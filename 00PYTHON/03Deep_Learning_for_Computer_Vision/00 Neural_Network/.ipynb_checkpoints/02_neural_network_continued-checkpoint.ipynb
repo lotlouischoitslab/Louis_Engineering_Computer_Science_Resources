{
 "cells": [
  {
   "cell_type": "code",
   "execution_count": 1,
   "id": "e669b3e0",
   "metadata": {},
   "outputs": [],
   "source": [
    "import tensorflow as tf\n",
    "from tensorflow import keras\n",
    "import numpy as np\n",
    "import matplotlib.pyplot as plt"
   ]
  },
  {
   "cell_type": "code",
   "execution_count": 2,
   "id": "876172e8",
   "metadata": {},
   "outputs": [
    {
     "name": "stdout",
     "output_type": "stream",
     "text": [
      "Downloading data from https://storage.googleapis.com/tensorflow/tf-keras-datasets/train-labels-idx1-ubyte.gz\n",
      "29515/29515 [==============================] - 0s 1us/step\n",
      "Downloading data from https://storage.googleapis.com/tensorflow/tf-keras-datasets/train-images-idx3-ubyte.gz\n",
      "26421880/26421880 [==============================] - 1s 0us/step\n",
      "Downloading data from https://storage.googleapis.com/tensorflow/tf-keras-datasets/t10k-labels-idx1-ubyte.gz\n",
      "5148/5148 [==============================] - 0s 0s/step\n",
      "Downloading data from https://storage.googleapis.com/tensorflow/tf-keras-datasets/t10k-images-idx3-ubyte.gz\n",
      "4422102/4422102 [==============================] - 1s 0us/step\n"
     ]
    }
   ],
   "source": [
    "fashion_mnist = keras.datasets.fashion_mnist\n",
    "(train_images,train_labels),(test_images,test_labels) = fashion_mnist.load_data()"
   ]
  },
  {
   "cell_type": "code",
   "execution_count": 3,
   "id": "9167228f",
   "metadata": {},
   "outputs": [
    {
     "data": {
      "text/plain": [
       "(60000, 28, 28)"
      ]
     },
     "execution_count": 3,
     "metadata": {},
     "output_type": "execute_result"
    }
   ],
   "source": [
    "train_images.shape"
   ]
  },
  {
   "cell_type": "code",
   "execution_count": 4,
   "id": "05a99937",
   "metadata": {},
   "outputs": [
    {
     "data": {
      "text/plain": [
       "194"
      ]
     },
     "execution_count": 4,
     "metadata": {},
     "output_type": "execute_result"
    }
   ],
   "source": [
    "train_images[0,23,23]"
   ]
  },
  {
   "cell_type": "code",
   "execution_count": 5,
   "id": "f436fa83",
   "metadata": {},
   "outputs": [
    {
     "data": {
      "text/plain": [
       "array([9, 0, 0, 3, 0, 2, 7, 2, 5, 5], dtype=uint8)"
      ]
     },
     "execution_count": 5,
     "metadata": {},
     "output_type": "execute_result"
    }
   ],
   "source": [
    "train_labels[:10]"
   ]
  },
  {
   "cell_type": "code",
   "execution_count": 6,
   "id": "d01b45fb",
   "metadata": {},
   "outputs": [],
   "source": [
    "class_names = ['T-shirt/top','Trouser','Pullover','Dress','Cost',\n",
    "              'Sandal','Shirt','Sneaker','Bag','Ankle boot']"
   ]
  },
  {
   "cell_type": "code",
   "execution_count": 8,
   "id": "5c797b5e",
   "metadata": {},
   "outputs": [
    {
     "data": {
      "image/png": "[encoded data removed]",
      "text/plain": [
       "<Figure size 432x288 with 2 Axes>"
      ]
     },
     "metadata": {
      "needs_background": "light"
     },
     "output_type": "display_data"
    }
   ],
   "source": [
    "plt.figure()\n",
    "plt.imshow(train_images[1])\n",
    "plt.colorbar()\n",
    "plt.grid(False)\n",
    "plt.show()"
   ]
  },
  {
   "cell_type": "markdown",
   "id": "b43a6189",
   "metadata": {},
   "source": [
    "## Data Preprocessing"
   ]
  },
  {
   "cell_type": "code",
   "execution_count": 9,
   "id": "959fe158",
   "metadata": {},
   "outputs": [],
   "source": [
    "train_images = train_images/255.0\n",
    "test_images = test_images/255.0"
   ]
  },
  {
   "cell_type": "markdown",
   "id": "8e78097f",
   "metadata": {},
   "source": [
    "## Building Model"
   ]
  },
  {
   "cell_type": "code",
   "execution_count": 12,
   "id": "6cfbb48c",
   "metadata": {},
   "outputs": [],
   "source": [
    "model = keras.Sequential([\n",
    "    keras.layers.Flatten(input_shape=(28,28)), #input layer 1\n",
    "    keras.layers.Dense(128,activation='relu'), #input layer 2\n",
    "    keras.layers.Dense(10,activation='softmax') #input layer 3\n",
    "])"
   ]
  },
  {
   "cell_type": "markdown",
   "id": "7aad904c",
   "metadata": {},
   "source": [
    "## Compile Model"
   ]
  },
  {
   "cell_type": "code",
   "execution_count": 13,
   "id": "b58e44fd",
   "metadata": {},
   "outputs": [],
   "source": [
    "model.compile(optimizer='adam',\n",
    "             loss='sparse_categorical_crossentropy',\n",
    "             metrics=['accuracy'])"
   ]
  },
  {
   "cell_type": "code",
   "execution_count": 18,
   "id": "ccedf901",
   "metadata": {},
   "outputs": [
    {
     "name": "stdout",
     "output_type": "stream",
     "text": [
      "Epoch 1/8\n",
      "1875/1875 [==============================] - 7s 4ms/step - loss: 0.2310 - accuracy: 0.9134\n",
      "Epoch 2/8\n",
      "1875/1875 [==============================] - 7s 4ms/step - loss: 0.2245 - accuracy: 0.9144\n",
      "Epoch 3/8\n",
      "1875/1875 [==============================] - 9s 5ms/step - loss: 0.2159 - accuracy: 0.9193\n",
      "Epoch 4/8\n",
      "1875/1875 [==============================] - 13s 7ms/step - loss: 0.2113 - accuracy: 0.9196\n",
      "Epoch 5/8\n",
      "1875/1875 [==============================] - 14s 7ms/step - loss: 0.2033 - accuracy: 0.9229\n",
      "Epoch 6/8\n",
      "1875/1875 [==============================] - 12s 7ms/step - loss: 0.1993 - accuracy: 0.9254\n",
      "Epoch 7/8\n",
      "1875/1875 [==============================] - 9s 5ms/step - loss: 0.1913 - accuracy: 0.9287\n",
      "Epoch 8/8\n",
      "1875/1875 [==============================] - 13s 7ms/step - loss: 0.1864 - accuracy: 0.9305\n"
     ]
    },
    {
     "data": {
      "text/plain": [
       "<keras.callbacks.History at 0x2f683ecf190>"
      ]
     },
     "execution_count": 18,
     "metadata": {},
     "output_type": "execute_result"
    }
   ],
   "source": [
    "model.fit(train_images,train_labels,epochs=8)"
   ]
  },
  {
   "cell_type": "code",
   "execution_count": 19,
   "id": "e1da5c8e",
   "metadata": {},
   "outputs": [
    {
     "name": "stdout",
     "output_type": "stream",
     "text": [
      "313/313 [==============================] - 2s 5ms/step - loss: 0.3573 - accuracy: 0.8874\n",
      "Accuracy 0.8873999714851379\n"
     ]
    }
   ],
   "source": [
    "test_loss,test_acc = model.evaluate(test_images,test_labels,verbose=1)\n",
    "print('Accuracy',test_acc)"
   ]
  },
  {
   "cell_type": "code",
   "execution_count": 20,
   "id": "49140fdf",
   "metadata": {},
   "outputs": [
    {
     "name": "stdout",
     "output_type": "stream",
     "text": [
      "313/313 [==============================] - 1s 3ms/step\n"
     ]
    }
   ],
   "source": [
    "predictions = model.predict(test_images)"
   ]
  },
  {
   "cell_type": "code",
   "execution_count": 21,
   "id": "5a35a5fa",
   "metadata": {},
   "outputs": [
    {
     "data": {
      "text/plain": [
       "(10000, 28, 28)"
      ]
     },
     "execution_count": 21,
     "metadata": {},
     "output_type": "execute_result"
    }
   ],
   "source": [
    "test_images.shape"
   ]
  },
  {
   "cell_type": "code",
   "execution_count": 22,
   "id": "e63e14d6",
   "metadata": {},
   "outputs": [
    {
     "data": {
      "text/plain": [
       "array([[0.        , 0.        , 0.        , 0.        , 0.        ,\n",
       "        0.        , 0.        , 0.        , 0.        , 0.        ,\n",
       "        0.        , 0.        , 0.        , 0.        , 0.        ,\n",
       "        0.        , 0.        , 0.        , 0.        , 0.        ,\n",
       "        0.        , 0.        , 0.        , 0.        , 0.        ,\n",
       "        0.        , 0.        , 0.        ],\n",
       "       [0.        , 0.        , 0.        , 0.        , 0.        ,\n",
       "        0.        , 0.        , 0.        , 0.        , 0.        ,\n",
       "        0.        , 0.        , 0.        , 0.        , 0.        ,\n",
       "        0.        , 0.        , 0.        , 0.        , 0.        ,\n",
       "        0.        , 0.        , 0.        , 0.        , 0.        ,\n",
       "        0.        , 0.        , 0.        ],\n",
       "       [0.        , 0.        , 0.        , 0.        , 0.        ,\n",
       "        0.        , 0.        , 0.        , 0.        , 0.        ,\n",
       "        0.        , 0.        , 0.        , 0.        , 0.        ,\n",
       "        0.        , 0.        , 0.        , 0.        , 0.        ,\n",
       "        0.        , 0.        , 0.        , 0.        , 0.        ,\n",
       "        0.        , 0.        , 0.        ],\n",
       "       [0.        , 0.        , 0.        , 0.        , 0.        ,\n",
       "        0.        , 0.        , 0.        , 0.        , 0.        ,\n",
       "        0.        , 0.        , 0.        , 0.        , 0.        ,\n",
       "        0.        , 0.        , 0.        , 0.        , 0.        ,\n",
       "        0.        , 0.        , 0.        , 0.        , 0.        ,\n",
       "        0.        , 0.        , 0.        ],\n",
       "       [0.        , 0.        , 0.        , 0.        , 0.        ,\n",
       "        0.        , 0.        , 0.        , 0.        , 0.        ,\n",
       "        0.        , 0.        , 0.        , 0.        , 0.        ,\n",
       "        0.        , 0.        , 0.        , 0.        , 0.        ,\n",
       "        0.        , 0.        , 0.        , 0.        , 0.        ,\n",
       "        0.        , 0.        , 0.        ],\n",
       "       [0.        , 0.        , 0.        , 0.        , 0.        ,\n",
       "        0.        , 0.        , 0.        , 0.        , 0.        ,\n",
       "        0.        , 0.        , 0.        , 0.        , 0.        ,\n",
       "        0.        , 0.        , 0.        , 0.        , 0.        ,\n",
       "        0.        , 0.        , 0.        , 0.        , 0.        ,\n",
       "        0.        , 0.        , 0.        ],\n",
       "       [0.        , 0.        , 0.        , 0.        , 0.        ,\n",
       "        0.        , 0.        , 0.        , 0.        , 0.        ,\n",
       "        0.        , 0.        , 0.        , 0.        , 0.        ,\n",
       "        0.        , 0.        , 0.        , 0.        , 0.        ,\n",
       "        0.        , 0.        , 0.        , 0.        , 0.        ,\n",
       "        0.        , 0.        , 0.        ],\n",
       "       [0.        , 0.        , 0.        , 0.        , 0.        ,\n",
       "        0.        , 0.        , 0.        , 0.        , 0.        ,\n",
       "        0.        , 0.        , 0.        , 0.        , 0.        ,\n",
       "        0.        , 0.        , 0.        , 0.        , 0.01176471,\n",
       "        0.00392157, 0.        , 0.        , 0.02745098, 0.        ,\n",
       "        0.14509804, 0.        , 0.        ],\n",
       "       [0.        , 0.        , 0.        , 0.        , 0.        ,\n",
       "        0.        , 0.        , 0.        , 0.        , 0.        ,\n",
       "        0.        , 0.        , 0.        , 0.00392157, 0.00784314,\n",
       "        0.        , 0.10588235, 0.32941176, 0.04313725, 0.        ,\n",
       "        0.        , 0.        , 0.        , 0.        , 0.        ,\n",
       "        0.46666667, 0.        , 0.        ],\n",
       "       [0.        , 0.        , 0.        , 0.        , 0.        ,\n",
       "        0.        , 0.        , 0.        , 0.        , 0.        ,\n",
       "        0.        , 0.        , 0.        , 0.00392157, 0.        ,\n",
       "        0.        , 0.34509804, 0.56078431, 0.43137255, 0.        ,\n",
       "        0.        , 0.        , 0.        , 0.08627451, 0.36470588,\n",
       "        0.41568627, 0.        , 0.        ],\n",
       "       [0.        , 0.        , 0.        , 0.        , 0.        ,\n",
       "        0.        , 0.        , 0.        , 0.        , 0.        ,\n",
       "        0.        , 0.        , 0.        , 0.01568627, 0.        ,\n",
       "        0.20784314, 0.50588235, 0.47058824, 0.57647059, 0.68627451,\n",
       "        0.61568627, 0.65098039, 0.52941176, 0.60392157, 0.65882353,\n",
       "        0.54901961, 0.        , 0.        ],\n",
       "       [0.        , 0.        , 0.        , 0.        , 0.        ,\n",
       "        0.        , 0.        , 0.        , 0.        , 0.        ,\n",
       "        0.        , 0.        , 0.00784314, 0.        , 0.04313725,\n",
       "        0.5372549 , 0.50980392, 0.50196078, 0.62745098, 0.69019608,\n",
       "        0.62352941, 0.65490196, 0.69803922, 0.58431373, 0.59215686,\n",
       "        0.56470588, 0.        , 0.        ],\n",
       "       [0.        , 0.        , 0.        , 0.        , 0.        ,\n",
       "        0.        , 0.00392157, 0.        , 0.00784314, 0.00392157,\n",
       "        0.        , 0.01176471, 0.        , 0.        , 0.45098039,\n",
       "        0.44705882, 0.41568627, 0.5372549 , 0.65882353, 0.6       ,\n",
       "        0.61176471, 0.64705882, 0.65490196, 0.56078431, 0.61568627,\n",
       "        0.61960784, 0.04313725, 0.        ],\n",
       "       [0.        , 0.        , 0.        , 0.        , 0.00392157,\n",
       "        0.        , 0.        , 0.        , 0.        , 0.        ,\n",
       "        0.01176471, 0.        , 0.        , 0.34901961, 0.54509804,\n",
       "        0.35294118, 0.36862745, 0.6       , 0.58431373, 0.51372549,\n",
       "        0.59215686, 0.6627451 , 0.6745098 , 0.56078431, 0.62352941,\n",
       "        0.6627451 , 0.18823529, 0.        ],\n",
       "       [0.        , 0.        , 0.        , 0.        , 0.        ,\n",
       "        0.        , 0.00784314, 0.01568627, 0.00392157, 0.        ,\n",
       "        0.        , 0.        , 0.38431373, 0.53333333, 0.43137255,\n",
       "        0.42745098, 0.43137255, 0.63529412, 0.52941176, 0.56470588,\n",
       "        0.58431373, 0.62352941, 0.65490196, 0.56470588, 0.61960784,\n",
       "        0.6627451 , 0.46666667, 0.        ],\n",
       "       [0.        , 0.        , 0.00784314, 0.00784314, 0.00392157,\n",
       "        0.00784314, 0.        , 0.        , 0.        , 0.        ,\n",
       "        0.10196078, 0.42352941, 0.45882353, 0.38823529, 0.43529412,\n",
       "        0.45882353, 0.53333333, 0.61176471, 0.5254902 , 0.60392157,\n",
       "        0.60392157, 0.61176471, 0.62745098, 0.55294118, 0.57647059,\n",
       "        0.61176471, 0.69803922, 0.        ],\n",
       "       [0.01176471, 0.        , 0.        , 0.        , 0.        ,\n",
       "        0.        , 0.        , 0.08235294, 0.20784314, 0.36078431,\n",
       "        0.45882353, 0.43529412, 0.40392157, 0.45098039, 0.50588235,\n",
       "        0.5254902 , 0.56078431, 0.60392157, 0.64705882, 0.66666667,\n",
       "        0.60392157, 0.59215686, 0.60392157, 0.56078431, 0.54117647,\n",
       "        0.58823529, 0.64705882, 0.16862745],\n",
       "       [0.        , 0.        , 0.09019608, 0.21176471, 0.25490196,\n",
       "        0.29803922, 0.33333333, 0.4627451 , 0.50196078, 0.48235294,\n",
       "        0.43529412, 0.44313725, 0.4627451 , 0.49803922, 0.49019608,\n",
       "        0.54509804, 0.52156863, 0.53333333, 0.62745098, 0.54901961,\n",
       "        0.60784314, 0.63137255, 0.56470588, 0.60784314, 0.6745098 ,\n",
       "        0.63137255, 0.74117647, 0.24313725],\n",
       "       [0.        , 0.26666667, 0.36862745, 0.35294118, 0.43529412,\n",
       "        0.44705882, 0.43529412, 0.44705882, 0.45098039, 0.49803922,\n",
       "        0.52941176, 0.53333333, 0.56078431, 0.49411765, 0.49803922,\n",
       "        0.59215686, 0.60392157, 0.56078431, 0.58039216, 0.49019608,\n",
       "        0.63529412, 0.63529412, 0.56470588, 0.54117647, 0.6       ,\n",
       "        0.63529412, 0.76862745, 0.22745098],\n",
       "       [0.2745098 , 0.6627451 , 0.50588235, 0.40784314, 0.38431373,\n",
       "        0.39215686, 0.36862745, 0.38039216, 0.38431373, 0.4       ,\n",
       "        0.42352941, 0.41568627, 0.46666667, 0.47058824, 0.50588235,\n",
       "        0.58431373, 0.61176471, 0.65490196, 0.74509804, 0.74509804,\n",
       "        0.76862745, 0.77647059, 0.77647059, 0.73333333, 0.77254902,\n",
       "        0.74117647, 0.72156863, 0.14117647],\n",
       "       [0.0627451 , 0.49411765, 0.67058824, 0.7372549 , 0.7372549 ,\n",
       "        0.72156863, 0.67058824, 0.6       , 0.52941176, 0.47058824,\n",
       "        0.49411765, 0.49803922, 0.57254902, 0.7254902 , 0.76470588,\n",
       "        0.81960784, 0.81568627, 1.        , 0.81960784, 0.69411765,\n",
       "        0.96078431, 0.98823529, 0.98431373, 0.98431373, 0.96862745,\n",
       "        0.8627451 , 0.80784314, 0.19215686],\n",
       "       [0.        , 0.        , 0.        , 0.04705882, 0.2627451 ,\n",
       "        0.41568627, 0.64313725, 0.7254902 , 0.78039216, 0.82352941,\n",
       "        0.82745098, 0.82352941, 0.81568627, 0.74509804, 0.58823529,\n",
       "        0.32156863, 0.03137255, 0.        , 0.        , 0.        ,\n",
       "        0.69803922, 0.81568627, 0.7372549 , 0.68627451, 0.63529412,\n",
       "        0.61960784, 0.59215686, 0.04313725],\n",
       "       [0.        , 0.        , 0.        , 0.        , 0.        ,\n",
       "        0.        , 0.        , 0.        , 0.        , 0.        ,\n",
       "        0.        , 0.        , 0.        , 0.        , 0.        ,\n",
       "        0.        , 0.        , 0.        , 0.        , 0.        ,\n",
       "        0.        , 0.        , 0.        , 0.        , 0.        ,\n",
       "        0.        , 0.        , 0.        ],\n",
       "       [0.        , 0.        , 0.        , 0.        , 0.        ,\n",
       "        0.        , 0.        , 0.        , 0.        , 0.        ,\n",
       "        0.        , 0.        , 0.        , 0.        , 0.        ,\n",
       "        0.        , 0.        , 0.        , 0.        , 0.        ,\n",
       "        0.        , 0.        , 0.        , 0.        , 0.        ,\n",
       "        0.        , 0.        , 0.        ],\n",
       "       [0.        , 0.        , 0.        , 0.        , 0.        ,\n",
       "        0.        , 0.        , 0.        , 0.        , 0.        ,\n",
       "        0.        , 0.        , 0.        , 0.        , 0.        ,\n",
       "        0.        , 0.        , 0.        , 0.        , 0.        ,\n",
       "        0.        , 0.        , 0.        , 0.        , 0.        ,\n",
       "        0.        , 0.        , 0.        ],\n",
       "       [0.        , 0.        , 0.        , 0.        , 0.        ,\n",
       "        0.        , 0.        , 0.        , 0.        , 0.        ,\n",
       "        0.        , 0.        , 0.        , 0.        , 0.        ,\n",
       "        0.        , 0.        , 0.        , 0.        , 0.        ,\n",
       "        0.        , 0.        , 0.        , 0.        , 0.        ,\n",
       "        0.        , 0.        , 0.        ],\n",
       "       [0.        , 0.        , 0.        , 0.        , 0.        ,\n",
       "        0.        , 0.        , 0.        , 0.        , 0.        ,\n",
       "        0.        , 0.        , 0.        , 0.        , 0.        ,\n",
       "        0.        , 0.        , 0.        , 0.        , 0.        ,\n",
       "        0.        , 0.        , 0.        , 0.        , 0.        ,\n",
       "        0.        , 0.        , 0.        ],\n",
       "       [0.        , 0.        , 0.        , 0.        , 0.        ,\n",
       "        0.        , 0.        , 0.        , 0.        , 0.        ,\n",
       "        0.        , 0.        , 0.        , 0.        , 0.        ,\n",
       "        0.        , 0.        , 0.        , 0.        , 0.        ,\n",
       "        0.        , 0.        , 0.        , 0.        , 0.        ,\n",
       "        0.        , 0.        , 0.        ]])"
      ]
     },
     "execution_count": 22,
     "metadata": {},
     "output_type": "execute_result"
    }
   ],
   "source": [
    "test_images[0]"
   ]
  },
  {
   "cell_type": "code",
   "execution_count": 23,
   "id": "4d890054",
   "metadata": {},
   "outputs": [
    {
     "name": "stdout",
     "output_type": "stream",
     "text": [
      "9\n"
     ]
    }
   ],
   "source": [
    "#index of the maximum value in this array\n",
    "print(np.argmax(predictions[0]))"
   ]
  },
  {
   "cell_type": "markdown",
   "id": "b6a69c15",
   "metadata": {},
   "source": [
    "loc selects rows and columns with specific labels\n",
    "\n",
    "iloc selects rows and columns at specific integer positions"
   ]
  },
  {
   "cell_type": "code",
   "execution_count": 24,
   "id": "518da5bc",
   "metadata": {},
   "outputs": [
    {
     "name": "stdout",
     "output_type": "stream",
     "text": [
      "313/313 [==============================] - 1s 4ms/step\n",
      "Ankle boot\n"
     ]
    },
    {
     "data": {
      "image/png": "[encoded data removed]",
      "text/plain": [
       "<Figure size 432x288 with 2 Axes>"
      ]
     },
     "metadata": {
      "needs_background": "light"
     },
     "output_type": "display_data"
    }
   ],
   "source": [
    "predictions = model.predict(test_images)\n",
    "print(class_names[np.argmax(predictions[0])])\n",
    "plt.figure()\n",
    "plt.imshow(test_images[0])\n",
    "plt.colorbar()\n",
    "plt.grid(False)\n",
    "plt.show()"
   ]
  },
  {
   "cell_type": "code",
   "execution_count": 25,
   "id": "00cda76c",
   "metadata": {},
   "outputs": [
    {
     "name": "stdout",
     "output_type": "stream",
     "text": [
      "313/313 [==============================] - 1s 3ms/step\n",
      "Pullover\n"
     ]
    },
    {
     "data": {
      "image/png": "[encoded data removed]",
      "text/plain": [
       "<Figure size 432x288 with 2 Axes>"
      ]
     },
     "metadata": {
      "needs_background": "light"
     },
     "output_type": "display_data"
    }
   ],
   "source": [
    "predictions = model.predict(test_images)\n",
    "print(class_names[np.argmax(predictions[1])])\n",
    "plt.figure()\n",
    "plt.imshow(test_images[1])\n",
    "plt.colorbar()\n",
    "plt.grid(False)\n",
    "plt.show()"
   ]
  },
  {
   "cell_type": "code",
   "execution_count": 26,
   "id": "21927211",
   "metadata": {},
   "outputs": [
    {
     "name": "stdout",
     "output_type": "stream",
     "text": [
      "313/313 [==============================] - 1s 3ms/step\n",
      "Trouser\n"
     ]
    },
    {
     "data": {
      "image/png": "[encoded data removed]",
      "text/plain": [
       "<Figure size 432x288 with 2 Axes>"
      ]
     },
     "metadata": {
      "needs_background": "light"
     },
     "output_type": "display_data"
    }
   ],
   "source": [
    "predictions = model.predict(test_images)\n",
    "print(class_names[np.argmax(predictions[2])])\n",
    "plt.figure()\n",
    "plt.imshow(test_images[2])\n",
    "plt.colorbar()\n",
    "plt.grid(False)\n",
    "plt.show()"
   ]
  },
  {
   "cell_type": "code",
   "execution_count": null,
   "id": "e7524a93",
   "metadata": {},
   "outputs": [],
   "source": []
  }
 ],
 "metadata": {
  "kernelspec": {
   "display_name": "Python 3 (ipykernel)",
   "language": "python",
   "name": "python3"
  },
  "language_info": {
   "codemirror_mode": {
    "name": "ipython",
    "version": 3
   },
   "file_extension": ".py",
   "mimetype": "text/x-python",
   "name": "python",
   "nbconvert_exporter": "python",
   "pygments_lexer": "ipython3",
   "version": "3.9.12"
  }
 },
 "nbformat": 4,
 "nbformat_minor": 5
}
