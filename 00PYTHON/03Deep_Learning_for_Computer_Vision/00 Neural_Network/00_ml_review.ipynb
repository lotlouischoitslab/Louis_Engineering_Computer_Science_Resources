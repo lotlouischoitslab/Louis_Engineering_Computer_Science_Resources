{
 "cells": [
  {
   "cell_type": "markdown",
   "id": "df2b163d",
   "metadata": {},
   "source": [
    "# 00. Linear Regression"
   ]
  },
  {
   "cell_type": "code",
   "execution_count": 1,
   "id": "5e5a2ffe",
   "metadata": {},
   "outputs": [],
   "source": [
    "import numpy as np\n",
    "import pandas as pd\n",
    "import matplotlib.pyplot as plt"
   ]
  },
  {
   "cell_type": "code",
   "execution_count": 3,
   "id": "beaaefdd",
   "metadata": {},
   "outputs": [
    {
     "data": {
      "image/png": "[encoded data removed]",
      "text/plain": [
       "<Figure size 432x288 with 1 Axes>"
      ]
     },
     "metadata": {
      "needs_background": "light"
     },
     "output_type": "display_data"
    }
   ],
   "source": [
    "x = [1,2,2.5,3,4]\n",
    "y = [1,4,7,9,15]\n",
    "plt.plot(x,y,'ro')\n",
    "plt.plot(np.unique(x),np.poly1d(np.polyfit(x,y,1))(np.unique(x)))\n",
    "plt.show()"
   ]
  },
  {
   "cell_type": "code",
   "execution_count": 7,
   "id": "7ddef330",
   "metadata": {},
   "outputs": [
    {
     "name": "stdout",
     "output_type": "stream",
     "text": [
      "sex                          male\n",
      "age                          22.0\n",
      "n_siblings_spouses              1\n",
      "parch                           0\n",
      "fare                         7.25\n",
      "class                       Third\n",
      "deck                      unknown\n",
      "embark_town           Southampton\n",
      "alone                           n\n",
      "Name: 0, dtype: object 0\n"
     ]
    }
   ],
   "source": [
    "dftrain = pd.read_csv('https://storage.googleapis.com/tf-datasets/titanic/train.csv')\n",
    "dfeval = pd.read_csv('https://storage.googleapis.com/tf-datasets/titanic/eval.csv')\n",
    "y_train = dftrain.pop('survived')\n",
    "y_eval = dfeval.pop('survived')\n",
    "print(dftrain.loc[0],y_train.loc[0])"
   ]
  },
  {
   "cell_type": "code",
   "execution_count": 8,
   "id": "bcf481c8",
   "metadata": {},
   "outputs": [
    {
     "data": {
      "text/html": [
       "<div>\n",
       "<style scoped>\n",
       "    .dataframe tbody tr th:only-of-type {\n",
       "        vertical-align: middle;\n",
       "    }\n",
       "\n",
       "    .dataframe tbody tr th {\n",
       "        vertical-align: top;\n",
       "    }\n",
       "\n",
       "    .dataframe thead th {\n",
       "        text-align: right;\n",
       "    }\n",
       "</style>\n",
       "<table border=\"1\" class=\"dataframe\">\n",
       "  <thead>\n",
       "    <tr style=\"text-align: right;\">\n",
       "      <th></th>\n",
       "      <th>sex</th>\n",
       "      <th>age</th>\n",
       "      <th>n_siblings_spouses</th>\n",
       "      <th>parch</th>\n",
       "      <th>fare</th>\n",
       "      <th>class</th>\n",
       "      <th>deck</th>\n",
       "      <th>embark_town</th>\n",
       "      <th>alone</th>\n",
       "    </tr>\n",
       "  </thead>\n",
       "  <tbody>\n",
       "    <tr>\n",
       "      <th>0</th>\n",
       "      <td>male</td>\n",
       "      <td>22.0</td>\n",
       "      <td>1</td>\n",
       "      <td>0</td>\n",
       "      <td>7.2500</td>\n",
       "      <td>Third</td>\n",
       "      <td>unknown</td>\n",
       "      <td>Southampton</td>\n",
       "      <td>n</td>\n",
       "    </tr>\n",
       "    <tr>\n",
       "      <th>1</th>\n",
       "      <td>female</td>\n",
       "      <td>38.0</td>\n",
       "      <td>1</td>\n",
       "      <td>0</td>\n",
       "      <td>71.2833</td>\n",
       "      <td>First</td>\n",
       "      <td>C</td>\n",
       "      <td>Cherbourg</td>\n",
       "      <td>n</td>\n",
       "    </tr>\n",
       "    <tr>\n",
       "      <th>2</th>\n",
       "      <td>female</td>\n",
       "      <td>26.0</td>\n",
       "      <td>0</td>\n",
       "      <td>0</td>\n",
       "      <td>7.9250</td>\n",
       "      <td>Third</td>\n",
       "      <td>unknown</td>\n",
       "      <td>Southampton</td>\n",
       "      <td>y</td>\n",
       "    </tr>\n",
       "    <tr>\n",
       "      <th>3</th>\n",
       "      <td>female</td>\n",
       "      <td>35.0</td>\n",
       "      <td>1</td>\n",
       "      <td>0</td>\n",
       "      <td>53.1000</td>\n",
       "      <td>First</td>\n",
       "      <td>C</td>\n",
       "      <td>Southampton</td>\n",
       "      <td>n</td>\n",
       "    </tr>\n",
       "    <tr>\n",
       "      <th>4</th>\n",
       "      <td>male</td>\n",
       "      <td>28.0</td>\n",
       "      <td>0</td>\n",
       "      <td>0</td>\n",
       "      <td>8.4583</td>\n",
       "      <td>Third</td>\n",
       "      <td>unknown</td>\n",
       "      <td>Queenstown</td>\n",
       "      <td>y</td>\n",
       "    </tr>\n",
       "  </tbody>\n",
       "</table>\n",
       "</div>"
      ],
      "text/plain": [
       "      sex   age  n_siblings_spouses  parch     fare  class     deck  \\\n",
       "0    male  22.0                   1      0   7.2500  Third  unknown   \n",
       "1  female  38.0                   1      0  71.2833  First        C   \n",
       "2  female  26.0                   0      0   7.9250  Third  unknown   \n",
       "3  female  35.0                   1      0  53.1000  First        C   \n",
       "4    male  28.0                   0      0   8.4583  Third  unknown   \n",
       "\n",
       "   embark_town alone  \n",
       "0  Southampton     n  \n",
       "1    Cherbourg     n  \n",
       "2  Southampton     y  \n",
       "3  Southampton     n  \n",
       "4   Queenstown     y  "
      ]
     },
     "execution_count": 8,
     "metadata": {},
     "output_type": "execute_result"
    }
   ],
   "source": [
    "dftrain.head()"
   ]
  },
  {
   "cell_type": "code",
   "execution_count": 9,
   "id": "739eaafd",
   "metadata": {},
   "outputs": [
    {
     "data": {
      "text/html": [
       "<div>\n",
       "<style scoped>\n",
       "    .dataframe tbody tr th:only-of-type {\n",
       "        vertical-align: middle;\n",
       "    }\n",
       "\n",
       "    .dataframe tbody tr th {\n",
       "        vertical-align: top;\n",
       "    }\n",
       "\n",
       "    .dataframe thead th {\n",
       "        text-align: right;\n",
       "    }\n",
       "</style>\n",
       "<table border=\"1\" class=\"dataframe\">\n",
       "  <thead>\n",
       "    <tr style=\"text-align: right;\">\n",
       "      <th></th>\n",
       "      <th>age</th>\n",
       "      <th>n_siblings_spouses</th>\n",
       "      <th>parch</th>\n",
       "      <th>fare</th>\n",
       "    </tr>\n",
       "  </thead>\n",
       "  <tbody>\n",
       "    <tr>\n",
       "      <th>count</th>\n",
       "      <td>627.000000</td>\n",
       "      <td>627.000000</td>\n",
       "      <td>627.000000</td>\n",
       "      <td>627.000000</td>\n",
       "    </tr>\n",
       "    <tr>\n",
       "      <th>mean</th>\n",
       "      <td>29.631308</td>\n",
       "      <td>0.545455</td>\n",
       "      <td>0.379585</td>\n",
       "      <td>34.385399</td>\n",
       "    </tr>\n",
       "    <tr>\n",
       "      <th>std</th>\n",
       "      <td>12.511818</td>\n",
       "      <td>1.151090</td>\n",
       "      <td>0.792999</td>\n",
       "      <td>54.597730</td>\n",
       "    </tr>\n",
       "    <tr>\n",
       "      <th>min</th>\n",
       "      <td>0.750000</td>\n",
       "      <td>0.000000</td>\n",
       "      <td>0.000000</td>\n",
       "      <td>0.000000</td>\n",
       "    </tr>\n",
       "    <tr>\n",
       "      <th>25%</th>\n",
       "      <td>23.000000</td>\n",
       "      <td>0.000000</td>\n",
       "      <td>0.000000</td>\n",
       "      <td>7.895800</td>\n",
       "    </tr>\n",
       "    <tr>\n",
       "      <th>50%</th>\n",
       "      <td>28.000000</td>\n",
       "      <td>0.000000</td>\n",
       "      <td>0.000000</td>\n",
       "      <td>15.045800</td>\n",
       "    </tr>\n",
       "    <tr>\n",
       "      <th>75%</th>\n",
       "      <td>35.000000</td>\n",
       "      <td>1.000000</td>\n",
       "      <td>0.000000</td>\n",
       "      <td>31.387500</td>\n",
       "    </tr>\n",
       "    <tr>\n",
       "      <th>max</th>\n",
       "      <td>80.000000</td>\n",
       "      <td>8.000000</td>\n",
       "      <td>5.000000</td>\n",
       "      <td>512.329200</td>\n",
       "    </tr>\n",
       "  </tbody>\n",
       "</table>\n",
       "</div>"
      ],
      "text/plain": [
       "              age  n_siblings_spouses       parch        fare\n",
       "count  627.000000          627.000000  627.000000  627.000000\n",
       "mean    29.631308            0.545455    0.379585   34.385399\n",
       "std     12.511818            1.151090    0.792999   54.597730\n",
       "min      0.750000            0.000000    0.000000    0.000000\n",
       "25%     23.000000            0.000000    0.000000    7.895800\n",
       "50%     28.000000            0.000000    0.000000   15.045800\n",
       "75%     35.000000            1.000000    0.000000   31.387500\n",
       "max     80.000000            8.000000    5.000000  512.329200"
      ]
     },
     "execution_count": 9,
     "metadata": {},
     "output_type": "execute_result"
    }
   ],
   "source": [
    "dftrain.describe()"
   ]
  },
  {
   "cell_type": "code",
   "execution_count": 10,
   "id": "74d4e03f",
   "metadata": {},
   "outputs": [
    {
     "data": {
      "text/plain": [
       "<AxesSubplot:>"
      ]
     },
     "execution_count": 10,
     "metadata": {},
     "output_type": "execute_result"
    },
    {
     "data": {
      "image/png": "[encoded data removed]",
      "text/plain": [
       "<Figure size 432x288 with 1 Axes>"
      ]
     },
     "metadata": {
      "needs_background": "light"
     },
     "output_type": "display_data"
    }
   ],
   "source": [
    "dftrain.age.hist(bins=20)"
   ]
  },
  {
   "cell_type": "code",
   "execution_count": 12,
   "id": "dbd2166e",
   "metadata": {},
   "outputs": [
    {
     "data": {
      "text/plain": [
       "<AxesSubplot:>"
      ]
     },
     "execution_count": 12,
     "metadata": {},
     "output_type": "execute_result"
    },
    {
     "data": {
      "image/png": "[encoded data removed]",
      "text/plain": [
       "<Figure size 432x288 with 1 Axes>"
      ]
     },
     "metadata": {
      "needs_background": "light"
     },
     "output_type": "display_data"
    }
   ],
   "source": [
    "dftrain.sex.value_counts().plot(kind='barh')"
   ]
  },
  {
   "cell_type": "code",
   "execution_count": 13,
   "id": "6332042b",
   "metadata": {},
   "outputs": [
    {
     "data": {
      "text/plain": [
       "<AxesSubplot:>"
      ]
     },
     "execution_count": 13,
     "metadata": {},
     "output_type": "execute_result"
    },
    {
     "data": {
      "image/png": "[encoded data removed]",
      "text/plain": [
       "<Figure size 432x288 with 1 Axes>"
      ]
     },
     "metadata": {
      "needs_background": "light"
     },
     "output_type": "display_data"
    }
   ],
   "source": [
    "dftrain['class'].value_counts().plot(kind='barh')"
   ]
  },
  {
   "cell_type": "code",
   "execution_count": 15,
   "id": "523d67ad",
   "metadata": {},
   "outputs": [
    {
     "data": {
      "text/plain": [
       "Text(0.5, 0, '% survived')"
      ]
     },
     "execution_count": 15,
     "metadata": {},
     "output_type": "execute_result"
    },
    {
     "data": {
      "image/png": "[encoded data removed]",
      "text/plain": [
       "<Figure size 432x288 with 1 Axes>"
      ]
     },
     "metadata": {
      "needs_background": "light"
     },
     "output_type": "display_data"
    }
   ],
   "source": [
    "pd.concat([dftrain,y_train],axis=1).groupby('sex').survived.mean().plot(kind='barh').set_xlabel('% survived')"
   ]
  },
  {
   "cell_type": "code",
   "execution_count": 2,
   "id": "c68b91bd",
   "metadata": {},
   "outputs": [],
   "source": [
    "import tensorflow as tf\n",
    "import tensorflow.compat.v2.feature_column as fc"
   ]
  },
  {
   "cell_type": "code",
   "execution_count": 8,
   "id": "b87c3167",
   "metadata": {},
   "outputs": [],
   "source": [
    "dftrain = pd.read_csv('https://storage.googleapis.com/tf-datasets/titanic/train.csv')\n",
    "dfeval = pd.read_csv('https://storage.googleapis.com/tf-datasets/titanic/eval.csv')\n",
    "y_train = dftrain.pop('survived')\n",
    "y_eval = dfeval.pop('survived')\n",
    "\n",
    "categorical_columns = ['sex','n_siblings_spouses','parch','class','deck','embark_town','alone']\n",
    "numeric_columns = ['age','fare']\n",
    "\n",
    "feature_columns = []\n",
    "for feature_name in categorical_columns:\n",
    "    vocabulary = dftrain[feature_name].unique()\n",
    "    feature_columns.append(tf.feature_column.categorical_column_with_vocabulary_list(feature_name,vocabulary))\n",
    "    \n",
    "for feature_name in numeric_columns:\n",
    "    feature_columns.append(tf.feature_column.numeric_column(feature_name,dtype=tf.float32))"
   ]
  },
  {
   "cell_type": "code",
   "execution_count": 9,
   "id": "0f284e2e",
   "metadata": {},
   "outputs": [
    {
     "data": {
      "text/plain": [
       "array(['male', 'female'], dtype=object)"
      ]
     },
     "execution_count": 9,
     "metadata": {},
     "output_type": "execute_result"
    }
   ],
   "source": [
    "dftrain['sex'].unique()"
   ]
  },
  {
   "cell_type": "code",
   "execution_count": 10,
   "id": "fa338763",
   "metadata": {},
   "outputs": [],
   "source": [
    "def make_input_fn(data_df,label_df,num_epochs=10,shuffle=True,batch_size=32):\n",
    "    def input_function():\n",
    "        ds = tf.data.Dataset.from_tensor_slices((dict(data_df),label_df))\n",
    "        if shuffle:\n",
    "            ds = ds.shuffle(1000)\n",
    "        ds = ds.batch(batch_size).repeat(num_epochs)\n",
    "        return ds\n",
    "    return input_function"
   ]
  },
  {
   "cell_type": "code",
   "execution_count": 11,
   "id": "91501fdb",
   "metadata": {},
   "outputs": [],
   "source": [
    "train_input_fn = make_input_fn(dftrain,y_train)\n",
    "eval_input_fn = make_input_fn(dfeval,y_eval,num_epochs=1,shuffle=False)"
   ]
  },
  {
   "cell_type": "code",
   "execution_count": 13,
   "id": "eb7b7d28",
   "metadata": {},
   "outputs": [
    {
     "name": "stdout",
     "output_type": "stream",
     "text": [
      "INFO:tensorflow:Using default config.\n",
      "WARNING:tensorflow:Using temporary folder as model directory: C:\\Users\\LOTLOU~1\\AppData\\Local\\Temp\\tmp7294e1oe\n",
      "INFO:tensorflow:Using config: {'_model_dir': 'C:\\\\Users\\\\LOTLOU~1\\\\AppData\\\\Local\\\\Temp\\\\tmp7294e1oe', '_tf_random_seed': None, '_save_summary_steps': 100, '_save_checkpoints_steps': None, '_save_checkpoints_secs': 600, '_session_config': allow_soft_placement: true\n",
      "graph_options {\n",
      "  rewrite_options {\n",
      "    meta_optimizer_iterations: ONE\n",
      "  }\n",
      "}\n",
      ", '_keep_checkpoint_max': 5, '_keep_checkpoint_every_n_hours': 10000, '_log_step_count_steps': 100, '_train_distribute': None, '_device_fn': None, '_protocol': None, '_eval_distribute': None, '_experimental_distribute': None, '_experimental_max_worker_delay_secs': None, '_session_creation_timeout_secs': 7200, '_checkpoint_save_graph_def': True, '_service': None, '_cluster_spec': ClusterSpec({}), '_task_type': 'worker', '_task_id': 0, '_global_id_in_cluster': 0, '_master': '', '_evaluation_master': '', '_is_chief': True, '_num_ps_replicas': 0, '_num_worker_replicas': 1}\n",
      "INFO:tensorflow:Calling model_fn.\n",
      "INFO:tensorflow:Done calling model_fn.\n",
      "INFO:tensorflow:Create CheckpointSaverHook.\n",
      "INFO:tensorflow:Graph was finalized.\n",
      "INFO:tensorflow:Running local_init_op.\n",
      "INFO:tensorflow:Done running local_init_op.\n",
      "INFO:tensorflow:Calling checkpoint listeners before saving checkpoint 0...\n",
      "INFO:tensorflow:Saving checkpoints for 0 into C:\\Users\\LOTLOU~1\\AppData\\Local\\Temp\\tmp7294e1oe\\model.ckpt.\n",
      "INFO:tensorflow:C:\\Users\\LOTLOU~1\\AppData\\Local\\Temp\\tmp7294e1oe\\model.ckpt-0.data-00000-of-00001\n",
      "INFO:tensorflow:0\n",
      "INFO:tensorflow:C:\\Users\\LOTLOU~1\\AppData\\Local\\Temp\\tmp7294e1oe\\model.ckpt-0.index\n",
      "INFO:tensorflow:0\n",
      "INFO:tensorflow:C:\\Users\\LOTLOU~1\\AppData\\Local\\Temp\\tmp7294e1oe\\model.ckpt-0.meta\n",
      "INFO:tensorflow:600\n",
      "INFO:tensorflow:Calling checkpoint listeners after saving checkpoint 0...\n",
      "INFO:tensorflow:loss = 0.6931472, step = 0\n",
      "INFO:tensorflow:global_step/sec: 139.54\n",
      "INFO:tensorflow:loss = 0.66407615, step = 100 (0.720 sec)\n",
      "INFO:tensorflow:Calling checkpoint listeners before saving checkpoint 200...\n",
      "INFO:tensorflow:Saving checkpoints for 200 into C:\\Users\\LOTLOU~1\\AppData\\Local\\Temp\\tmp7294e1oe\\model.ckpt.\n",
      "INFO:tensorflow:C:\\Users\\LOTLOU~1\\AppData\\Local\\Temp\\tmp7294e1oe\\model.ckpt-200.data-00000-of-00001\n",
      "INFO:tensorflow:0\n",
      "INFO:tensorflow:C:\\Users\\LOTLOU~1\\AppData\\Local\\Temp\\tmp7294e1oe\\model.ckpt-200.index\n",
      "INFO:tensorflow:0\n",
      "INFO:tensorflow:C:\\Users\\LOTLOU~1\\AppData\\Local\\Temp\\tmp7294e1oe\\model.ckpt-200.meta\n",
      "INFO:tensorflow:600\n",
      "INFO:tensorflow:Calling checkpoint listeners after saving checkpoint 200...\n",
      "INFO:tensorflow:Loss for final step: 0.37592155.\n",
      "INFO:tensorflow:Calling model_fn.\n",
      "INFO:tensorflow:Done calling model_fn.\n",
      "INFO:tensorflow:Starting evaluation at 2022-07-22T14:28:34\n",
      "INFO:tensorflow:Graph was finalized.\n",
      "INFO:tensorflow:Restoring parameters from C:\\Users\\LOTLOU~1\\AppData\\Local\\Temp\\tmp7294e1oe\\model.ckpt-200\n",
      "INFO:tensorflow:Running local_init_op.\n",
      "INFO:tensorflow:Done running local_init_op.\n",
      "INFO:tensorflow:Inference Time : 2.75251s\n",
      "INFO:tensorflow:Finished evaluation at 2022-07-22-14:28:37\n",
      "INFO:tensorflow:Saving dict for global step 200: accuracy = 0.7689394, accuracy_baseline = 0.625, auc = 0.8344965, auc_precision_recall = 0.78572595, average_loss = 0.49185926, global_step = 200, label/mean = 0.375, loss = 0.48427922, precision = 0.7375, prediction/mean = 0.30392244, recall = 0.5959596\n",
      "INFO:tensorflow:Saving 'checkpoint_path' summary for global step 200: C:\\Users\\LOTLOU~1\\AppData\\Local\\Temp\\tmp7294e1oe\\model.ckpt-200\n",
      "0.7689394\n"
     ]
    }
   ],
   "source": [
    "linear_est = tf.estimator.LinearClassifier(feature_columns=feature_columns)\n",
    "#Training the model\n",
    "linear_est.train(train_input_fn)\n",
    "result = linear_est.evaluate(eval_input_fn)\n",
    "print(result['accuracy'])"
   ]
  },
  {
   "cell_type": "code",
   "execution_count": 14,
   "id": "2b97a74f",
   "metadata": {},
   "outputs": [
    {
     "name": "stdout",
     "output_type": "stream",
     "text": [
      "{'accuracy': 0.7689394, 'accuracy_baseline': 0.625, 'auc': 0.8344965, 'auc_precision_recall': 0.78572595, 'average_loss': 0.49185926, 'label/mean': 0.375, 'loss': 0.48427922, 'precision': 0.7375, 'prediction/mean': 0.30392244, 'recall': 0.5959596, 'global_step': 200}\n"
     ]
    }
   ],
   "source": [
    "print(result)"
   ]
  },
  {
   "cell_type": "code",
   "execution_count": 16,
   "id": "8d95d86d",
   "metadata": {},
   "outputs": [
    {
     "name": "stdout",
     "output_type": "stream",
     "text": [
      "INFO:tensorflow:Calling model_fn.\n",
      "INFO:tensorflow:Done calling model_fn.\n",
      "INFO:tensorflow:Graph was finalized.\n",
      "INFO:tensorflow:Restoring parameters from C:\\Users\\LOTLOU~1\\AppData\\Local\\Temp\\tmp7294e1oe\\model.ckpt-200\n",
      "INFO:tensorflow:Running local_init_op.\n",
      "INFO:tensorflow:Done running local_init_op.\n",
      "[{'logits': array([-3.0337093], dtype=float32), 'logistic': array([0.04592603], dtype=float32), 'probabilities': array([0.954074  , 0.04592603], dtype=float32), 'class_ids': array([0], dtype=int64), 'classes': array([b'0'], dtype=object), 'all_class_ids': array([0, 1]), 'all_classes': array([b'0', b'1'], dtype=object)}, {'logits': array([-1.4544451], dtype=float32), 'logistic': array([0.1893184], dtype=float32), 'probabilities': array([0.8106816, 0.1893184], dtype=float32), 'class_ids': array([0], dtype=int64), 'classes': array([b'0'], dtype=object), 'all_class_ids': array([0, 1]), 'all_classes': array([b'0', b'1'], dtype=object)}, {'logits': array([0.01328798], dtype=float32), 'logistic': array([0.50332195], dtype=float32), 'probabilities': array([0.49667808, 0.50332195], dtype=float32), 'class_ids': array([1], dtype=int64), 'classes': array([b'1'], dtype=object), 'all_class_ids': array([0, 1]), 'all_classes': array([b'0', b'1'], dtype=object)}, {'logits': array([-0.27259496], dtype=float32), 'logistic': array([0.43227017], dtype=float32), 'probabilities': array([0.56772983, 0.43227017], dtype=float32), 'class_ids': array([0], dtype=int64), 'classes': array([b'0'], dtype=object), 'all_class_ids': array([0, 1]), 'all_classes': array([b'0', b'1'], dtype=object)}, {'logits': array([-1.5877384], dtype=float32), 'logistic': array([0.16970234], dtype=float32), 'probabilities': array([0.8302977 , 0.16970234], dtype=float32), 'class_ids': array([0], dtype=int64), 'classes': array([b'0'], dtype=object), 'all_class_ids': array([0, 1]), 'all_classes': array([b'0', b'1'], dtype=object)}, {'logits': array([0.61455196], dtype=float32), 'logistic': array([0.6489785], dtype=float32), 'probabilities': array([0.35102153, 0.64897853], dtype=float32), 'class_ids': array([1], dtype=int64), 'classes': array([b'1'], dtype=object), 'all_class_ids': array([0, 1]), 'all_classes': array([b'0', b'1'], dtype=object)}, {'logits': array([-0.11940864], dtype=float32), 'logistic': array([0.47018325], dtype=float32), 'probabilities': array([0.52981675, 0.47018325], dtype=float32), 'class_ids': array([0], dtype=int64), 'classes': array([b'0'], dtype=object), 'all_class_ids': array([0, 1]), 'all_classes': array([b'0', b'1'], dtype=object)}, {'logits': array([-2.5388098], dtype=float32), 'logistic': array([0.07318186], dtype=float32), 'probabilities': array([0.92681813, 0.07318186], dtype=float32), 'class_ids': array([0], dtype=int64), 'classes': array([b'0'], dtype=object), 'all_class_ids': array([0, 1]), 'all_classes': array([b'0', b'1'], dtype=object)}, {'logits': array([-0.00386206], dtype=float32), 'logistic': array([0.4990345], dtype=float32), 'probabilities': array([0.50096554, 0.4990345 ], dtype=float32), 'class_ids': array([0], dtype=int64), 'classes': array([b'0'], dtype=object), 'all_class_ids': array([0, 1]), 'all_classes': array([b'0', b'1'], dtype=object)}, {'logits': array([0.472694], dtype=float32), 'logistic': array([0.6160212], dtype=float32), 'probabilities': array([0.38397878, 0.61602116], dtype=float32), 'class_ids': array([1], dtype=int64), 'classes': array([b'1'], dtype=object), 'all_class_ids': array([0, 1]), 'all_classes': array([b'0', b'1'], dtype=object)}, {'logits': array([0.15414962], dtype=float32), 'logistic': array([0.53846127], dtype=float32), 'probabilities': array([0.4615387 , 0.53846127], dtype=float32), 'class_ids': array([1], dtype=int64), 'classes': array([b'1'], dtype=object), 'all_class_ids': array([0, 1]), 'all_classes': array([b'0', b'1'], dtype=object)}, {'logits': array([-2.5395732], dtype=float32), 'logistic': array([0.07313009], dtype=float32), 'probabilities': array([0.92686987, 0.07313009], dtype=float32), 'class_ids': array([0], dtype=int64), 'classes': array([b'0'], dtype=object), 'all_class_ids': array([0, 1]), 'all_classes': array([b'0', b'1'], dtype=object)}, {'logits': array([1.3781171], dtype=float32), 'logistic': array([0.7986884], dtype=float32), 'probabilities': array([0.20131159, 0.7986885 ], dtype=float32), 'class_ids': array([1], dtype=int64), 'classes': array([b'1'], dtype=object), 'all_class_ids': array([0, 1]), 'all_classes': array([b'0', b'1'], dtype=object)}, {'logits': array([-1.0811502], dtype=float32), 'logistic': array([0.25328842], dtype=float32), 'probabilities': array([0.7467116 , 0.25328842], dtype=float32), 'class_ids': array([0], dtype=int64), 'classes': array([b'0'], dtype=object), 'all_class_ids': array([0, 1]), 'all_classes': array([b'0', b'1'], dtype=object)}, {'logits': array([1.0323743], dtype=float32), 'logistic': array([0.7373759], dtype=float32), 'probabilities': array([0.26262406, 0.7373759 ], dtype=float32), 'class_ids': array([1], dtype=int64), 'classes': array([b'1'], dtype=object), 'all_class_ids': array([0, 1]), 'all_classes': array([b'0', b'1'], dtype=object)}, {'logits': array([-0.3075035], dtype=float32), 'logistic': array([0.42372426], dtype=float32), 'probabilities': array([0.57627577, 0.42372423], dtype=float32), 'class_ids': array([0], dtype=int64), 'classes': array([b'0'], dtype=object), 'all_class_ids': array([0, 1]), 'all_classes': array([b'0', b'1'], dtype=object)}, {'logits': array([-2.1156893], dtype=float32), 'logistic': array([0.10758124], dtype=float32), 'probabilities': array([0.8924188 , 0.10758124], dtype=float32), 'class_ids': array([0], dtype=int64), 'classes': array([b'0'], dtype=object), 'all_class_ids': array([0, 1]), 'all_classes': array([b'0', b'1'], dtype=object)}, {'logits': array([1.0539058], dtype=float32), 'logistic': array([0.7415242], dtype=float32), 'probabilities': array([0.25847575, 0.74152416], dtype=float32), 'class_ids': array([1], dtype=int64), 'classes': array([b'1'], dtype=object), 'all_class_ids': array([0, 1]), 'all_classes': array([b'0', b'1'], dtype=object)}, {'logits': array([-1.1098433], dtype=float32), 'logistic': array([0.24790011], dtype=float32), 'probabilities': array([0.75209993, 0.24790013], dtype=float32), 'class_ids': array([0], dtype=int64), 'classes': array([b'0'], dtype=object), 'all_class_ids': array([0, 1]), 'all_classes': array([b'0', b'1'], dtype=object)}, {'logits': array([-2.8216095], dtype=float32), 'logistic': array([0.05616755], dtype=float32), 'probabilities': array([0.9438324 , 0.05616755], dtype=float32), 'class_ids': array([0], dtype=int64), 'classes': array([b'0'], dtype=object), 'all_class_ids': array([0, 1]), 'all_classes': array([b'0', b'1'], dtype=object)}, {'logits': array([-2.504058], dtype=float32), 'logistic': array([0.0755742], dtype=float32), 'probabilities': array([0.92442584, 0.0755742 ], dtype=float32), 'class_ids': array([0], dtype=int64), 'classes': array([b'0'], dtype=object), 'all_class_ids': array([0, 1]), 'all_classes': array([b'0', b'1'], dtype=object)}, {'logits': array([-2.829979], dtype=float32), 'logistic': array([0.05572551], dtype=float32), 'probabilities': array([0.9442745 , 0.05572551], dtype=float32), 'class_ids': array([0], dtype=int64), 'classes': array([b'0'], dtype=object), 'all_class_ids': array([0, 1]), 'all_classes': array([b'0', b'1'], dtype=object)}, {'logits': array([0.1599774], dtype=float32), 'logistic': array([0.53990924], dtype=float32), 'probabilities': array([0.4600907 , 0.53990924], dtype=float32), 'class_ids': array([1], dtype=int64), 'classes': array([b'1'], dtype=object), 'all_class_ids': array([0, 1]), 'all_classes': array([b'0', b'1'], dtype=object)}, {'logits': array([-3.1402302], dtype=float32), 'logistic': array([0.04147797], dtype=float32), 'probabilities': array([0.958522  , 0.04147797], dtype=float32), 'class_ids': array([0], dtype=int64), 'classes': array([b'0'], dtype=object), 'all_class_ids': array([0, 1]), 'all_classes': array([b'0', b'1'], dtype=object)}, {'logits': array([0.2721041], dtype=float32), 'logistic': array([0.5676094], dtype=float32), 'probabilities': array([0.4323906, 0.5676094], dtype=float32), 'class_ids': array([1], dtype=int64), 'classes': array([b'1'], dtype=object), 'all_class_ids': array([0, 1]), 'all_classes': array([b'0', b'1'], dtype=object)}, {'logits': array([0.02723225], dtype=float32), 'logistic': array([0.5068076], dtype=float32), 'probabilities': array([0.49319234, 0.5068076 ], dtype=float32), 'class_ids': array([1], dtype=int64), 'classes': array([b'1'], dtype=object), 'all_class_ids': array([0, 1]), 'all_classes': array([b'0', b'1'], dtype=object)}, {'logits': array([-1.8965923], dtype=float32), 'logistic': array([0.13049465], dtype=float32), 'probabilities': array([0.8695054 , 0.13049465], dtype=float32), 'class_ids': array([0], dtype=int64), 'classes': array([b'0'], dtype=object), 'all_class_ids': array([0, 1]), 'all_classes': array([b'0', b'1'], dtype=object)}, {'logits': array([-1.7898002], dtype=float32), 'logistic': array([0.14309724], dtype=float32), 'probabilities': array([0.8569028 , 0.14309724], dtype=float32), 'class_ids': array([0], dtype=int64), 'classes': array([b'0'], dtype=object), 'all_class_ids': array([0, 1]), 'all_classes': array([b'0', b'1'], dtype=object)}, {'logits': array([-1.6306008], dtype=float32), 'logistic': array([0.16374809], dtype=float32), 'probabilities': array([0.836252  , 0.16374809], dtype=float32), 'class_ids': array([0], dtype=int64), 'classes': array([b'0'], dtype=object), 'all_class_ids': array([0, 1]), 'all_classes': array([b'0', b'1'], dtype=object)}, {'logits': array([1.0311553], dtype=float32), 'logistic': array([0.7371398], dtype=float32), 'probabilities': array([0.26286015, 0.73713976], dtype=float32), 'class_ids': array([1], dtype=int64), 'classes': array([b'1'], dtype=object), 'all_class_ids': array([0, 1]), 'all_classes': array([b'0', b'1'], dtype=object)}, {'logits': array([-2.453303], dtype=float32), 'logistic': array([0.07919733], dtype=float32), 'probabilities': array([0.92080265, 0.07919733], dtype=float32), 'class_ids': array([0], dtype=int64), 'classes': array([b'0'], dtype=object), 'all_class_ids': array([0, 1]), 'all_classes': array([b'0', b'1'], dtype=object)}, {'logits': array([0.7471792], dtype=float32), 'logistic': array([0.6785638], dtype=float32), 'probabilities': array([0.32143626, 0.6785638 ], dtype=float32), 'class_ids': array([1], dtype=int64), 'classes': array([b'1'], dtype=object), 'all_class_ids': array([0, 1]), 'all_classes': array([b'0', b'1'], dtype=object)}, {'logits': array([-1.9212674], dtype=float32), 'logistic': array([0.1277203], dtype=float32), 'probabilities': array([0.87227964, 0.1277203 ], dtype=float32), 'class_ids': array([0], dtype=int64), 'classes': array([b'0'], dtype=object), 'all_class_ids': array([0, 1]), 'all_classes': array([b'0', b'1'], dtype=object)}, {'logits': array([0.14910528], dtype=float32), 'logistic': array([0.5372074], dtype=float32), 'probabilities': array([0.46279258, 0.5372074 ], dtype=float32), 'class_ids': array([1], dtype=int64), 'classes': array([b'1'], dtype=object), 'all_class_ids': array([0, 1]), 'all_classes': array([b'0', b'1'], dtype=object)}, {'logits': array([-1.4757702], dtype=float32), 'logistic': array([0.18606715], dtype=float32), 'probabilities': array([0.8139328 , 0.18606713], dtype=float32), 'class_ids': array([0], dtype=int64), 'classes': array([b'0'], dtype=object), 'all_class_ids': array([0, 1]), 'all_classes': array([b'0', b'1'], dtype=object)}, {'logits': array([-2.751686], dtype=float32), 'logistic': array([0.0599915], dtype=float32), 'probabilities': array([0.9400085 , 0.05999149], dtype=float32), 'class_ids': array([0], dtype=int64), 'classes': array([b'0'], dtype=object), 'all_class_ids': array([0, 1]), 'all_classes': array([b'0', b'1'], dtype=object)}, {'logits': array([-2.2813888], dtype=float32), 'logistic': array([0.09267612], dtype=float32), 'probabilities': array([0.9073239 , 0.09267611], dtype=float32), 'class_ids': array([0], dtype=int64), 'classes': array([b'0'], dtype=object), 'all_class_ids': array([0, 1]), 'all_classes': array([b'0', b'1'], dtype=object)}, {'logits': array([-2.5222168], dtype=float32), 'logistic': array([0.0743153], dtype=float32), 'probabilities': array([0.92568463, 0.0743153 ], dtype=float32), 'class_ids': array([0], dtype=int64), 'classes': array([b'0'], dtype=object), 'all_class_ids': array([0, 1]), 'all_classes': array([b'0', b'1'], dtype=object)}, {'logits': array([1.4783387], dtype=float32), 'logistic': array([0.8143215], dtype=float32), 'probabilities': array([0.18567847, 0.8143215 ], dtype=float32), 'class_ids': array([1], dtype=int64), 'classes': array([b'1'], dtype=object), 'all_class_ids': array([0, 1]), 'all_classes': array([b'0', b'1'], dtype=object)}, {'logits': array([-2.8569596], dtype=float32), 'logistic': array([0.05432268], dtype=float32), 'probabilities': array([0.94567734, 0.05432268], dtype=float32), 'class_ids': array([0], dtype=int64), 'classes': array([b'0'], dtype=object), 'all_class_ids': array([0, 1]), 'all_classes': array([b'0', b'1'], dtype=object)}, {'logits': array([0.25689098], dtype=float32), 'logistic': array([0.56387186], dtype=float32), 'probabilities': array([0.4361281 , 0.56387186], dtype=float32), 'class_ids': array([1], dtype=int64), 'classes': array([b'1'], dtype=object), 'all_class_ids': array([0, 1]), 'all_classes': array([b'0', b'1'], dtype=object)}, {'logits': array([-2.4724784], dtype=float32), 'logistic': array([0.07781021], dtype=float32), 'probabilities': array([0.9221898 , 0.07781021], dtype=float32), 'class_ids': array([0], dtype=int64), 'classes': array([b'0'], dtype=object), 'all_class_ids': array([0, 1]), 'all_classes': array([b'0', b'1'], dtype=object)}, {'logits': array([-0.8318954], dtype=float32), 'logistic': array([0.30324444], dtype=float32), 'probabilities': array([0.6967555 , 0.30324444], dtype=float32), 'class_ids': array([0], dtype=int64), 'classes': array([b'0'], dtype=object), 'all_class_ids': array([0, 1]), 'all_classes': array([b'0', b'1'], dtype=object)}, {'logits': array([-1.5968121], dtype=float32), 'logistic': array([0.16842765], dtype=float32), 'probabilities': array([0.8315724 , 0.16842765], dtype=float32), 'class_ids': array([0], dtype=int64), 'classes': array([b'0'], dtype=object), 'all_class_ids': array([0, 1]), 'all_classes': array([b'0', b'1'], dtype=object)}, {'logits': array([-2.1653242], dtype=float32), 'logistic': array([0.1029079], dtype=float32), 'probabilities': array([0.8970921 , 0.10290789], dtype=float32), 'class_ids': array([0], dtype=int64), 'classes': array([b'0'], dtype=object), 'all_class_ids': array([0, 1]), 'all_classes': array([b'0', b'1'], dtype=object)}, {'logits': array([1.0384767], dtype=float32), 'logistic': array([0.73855597], dtype=float32), 'probabilities': array([0.261444  , 0.73855597], dtype=float32), 'class_ids': array([1], dtype=int64), 'classes': array([b'1'], dtype=object), 'all_class_ids': array([0, 1]), 'all_classes': array([b'0', b'1'], dtype=object)}, {'logits': array([-2.5391917], dtype=float32), 'logistic': array([0.07315596], dtype=float32), 'probabilities': array([0.92684406, 0.07315596], dtype=float32), 'class_ids': array([0], dtype=int64), 'classes': array([b'0'], dtype=object), 'all_class_ids': array([0, 1]), 'all_classes': array([b'0', b'1'], dtype=object)}, {'logits': array([-1.6410269], dtype=float32), 'logistic': array([0.1623254], dtype=float32), 'probabilities': array([0.8376747, 0.1623254], dtype=float32), 'class_ids': array([0], dtype=int64), 'classes': array([b'0'], dtype=object), 'all_class_ids': array([0, 1]), 'all_classes': array([b'0', b'1'], dtype=object)}, {'logits': array([-0.8015647], dtype=float32), 'logistic': array([0.3096909], dtype=float32), 'probabilities': array([0.69030905, 0.3096909 ], dtype=float32), 'class_ids': array([0], dtype=int64), 'classes': array([b'0'], dtype=object), 'all_class_ids': array([0, 1]), 'all_classes': array([b'0', b'1'], dtype=object)}, {'logits': array([-1.1024476], dtype=float32), 'logistic': array([0.24928156], dtype=float32), 'probabilities': array([0.7507184 , 0.24928156], dtype=float32), 'class_ids': array([0], dtype=int64), 'classes': array([b'0'], dtype=object), 'all_class_ids': array([0, 1]), 'all_classes': array([b'0', b'1'], dtype=object)}, {'logits': array([-2.7855277], dtype=float32), 'logistic': array([0.05811126], dtype=float32), 'probabilities': array([0.94188875, 0.05811126], dtype=float32), 'class_ids': array([0], dtype=int64), 'classes': array([b'0'], dtype=object), 'all_class_ids': array([0, 1]), 'all_classes': array([b'0', b'1'], dtype=object)}, {'logits': array([-1.7091676], dtype=float32), 'logistic': array([0.15327172], dtype=float32), 'probabilities': array([0.84672827, 0.15327172], dtype=float32), 'class_ids': array([0], dtype=int64), 'classes': array([b'0'], dtype=object), 'all_class_ids': array([0, 1]), 'all_classes': array([b'0', b'1'], dtype=object)}, {'logits': array([-3.362512], dtype=float32), 'logistic': array([0.03348782], dtype=float32), 'probabilities': array([0.9665122 , 0.03348782], dtype=float32), 'class_ids': array([0], dtype=int64), 'classes': array([b'0'], dtype=object), 'all_class_ids': array([0, 1]), 'all_classes': array([b'0', b'1'], dtype=object)}, {'logits': array([-2.8972263], dtype=float32), 'logistic': array([0.05229085], dtype=float32), 'probabilities': array([0.9477092 , 0.05229085], dtype=float32), 'class_ids': array([0], dtype=int64), 'classes': array([b'0'], dtype=object), 'all_class_ids': array([0, 1]), 'all_classes': array([b'0', b'1'], dtype=object)}, {'logits': array([-2.43276], dtype=float32), 'logistic': array([0.08070845], dtype=float32), 'probabilities': array([0.91929156, 0.08070845], dtype=float32), 'class_ids': array([0], dtype=int64), 'classes': array([b'0'], dtype=object), 'all_class_ids': array([0, 1]), 'all_classes': array([b'0', b'1'], dtype=object)}, {'logits': array([-2.647914], dtype=float32), 'logistic': array([0.0661177], dtype=float32), 'probabilities': array([0.9338823, 0.0661177], dtype=float32), 'class_ids': array([0], dtype=int64), 'classes': array([b'0'], dtype=object), 'all_class_ids': array([0, 1]), 'all_classes': array([b'0', b'1'], dtype=object)}, {'logits': array([-2.0980172], dtype=float32), 'logistic': array([0.10928968], dtype=float32), 'probabilities': array([0.8907103 , 0.10928968], dtype=float32), 'class_ids': array([0], dtype=int64), 'classes': array([b'0'], dtype=object), 'all_class_ids': array([0, 1]), 'all_classes': array([b'0', b'1'], dtype=object)}, {'logits': array([2.2774787], dtype=float32), 'logistic': array([0.9069946], dtype=float32), 'probabilities': array([0.09300542, 0.9069946 ], dtype=float32), 'class_ids': array([1], dtype=int64), 'classes': array([b'1'], dtype=object), 'all_class_ids': array([0, 1]), 'all_classes': array([b'0', b'1'], dtype=object)}, {'logits': array([-1.9919673], dtype=float32), 'logistic': array([0.12004888], dtype=float32), 'probabilities': array([0.87995106, 0.12004887], dtype=float32), 'class_ids': array([0], dtype=int64), 'classes': array([b'0'], dtype=object), 'all_class_ids': array([0, 1]), 'all_classes': array([b'0', b'1'], dtype=object)}, {'logits': array([-2.7867308], dtype=float32), 'logistic': array([0.05804545], dtype=float32), 'probabilities': array([0.9419545 , 0.05804544], dtype=float32), 'class_ids': array([0], dtype=int64), 'classes': array([b'0'], dtype=object), 'all_class_ids': array([0, 1]), 'all_classes': array([b'0', b'1'], dtype=object)}, {'logits': array([-1.7158031], dtype=float32), 'logistic': array([0.15241253], dtype=float32), 'probabilities': array([0.84758747, 0.15241253], dtype=float32), 'class_ids': array([0], dtype=int64), 'classes': array([b'0'], dtype=object), 'all_class_ids': array([0, 1]), 'all_classes': array([b'0', b'1'], dtype=object)}, {'logits': array([-0.07847408], dtype=float32), 'logistic': array([0.48039153], dtype=float32), 'probabilities': array([0.5196085 , 0.48039156], dtype=float32), 'class_ids': array([0], dtype=int64), 'classes': array([b'0'], dtype=object), 'all_class_ids': array([0, 1]), 'all_classes': array([b'0', b'1'], dtype=object)}, {'logits': array([-1.8935527], dtype=float32), 'logistic': array([0.13083993], dtype=float32), 'probabilities': array([0.86916006, 0.13083993], dtype=float32), 'class_ids': array([0], dtype=int64), 'classes': array([b'0'], dtype=object), 'all_class_ids': array([0, 1]), 'all_classes': array([b'0', b'1'], dtype=object)}, {'logits': array([1.0241896], dtype=float32), 'logistic': array([0.73578787], dtype=float32), 'probabilities': array([0.2642121 , 0.73578787], dtype=float32), 'class_ids': array([1], dtype=int64), 'classes': array([b'1'], dtype=object), 'all_class_ids': array([0, 1]), 'all_classes': array([b'0', b'1'], dtype=object)}, {'logits': array([-2.0703025], dtype=float32), 'logistic': array([0.11201694], dtype=float32), 'probabilities': array([0.887983  , 0.11201694], dtype=float32), 'class_ids': array([0], dtype=int64), 'classes': array([b'0'], dtype=object), 'all_class_ids': array([0, 1]), 'all_classes': array([b'0', b'1'], dtype=object)}, {'logits': array([0.01895925], dtype=float32), 'logistic': array([0.50473964], dtype=float32), 'probabilities': array([0.49526036, 0.5047397 ], dtype=float32), 'class_ids': array([1], dtype=int64), 'classes': array([b'1'], dtype=object), 'all_class_ids': array([0, 1]), 'all_classes': array([b'0', b'1'], dtype=object)}, {'logits': array([-1.0210928], dtype=float32), 'logistic': array([0.26481462], dtype=float32), 'probabilities': array([0.7351854, 0.2648146], dtype=float32), 'class_ids': array([0], dtype=int64), 'classes': array([b'0'], dtype=object), 'all_class_ids': array([0, 1]), 'all_classes': array([b'0', b'1'], dtype=object)}, {'logits': array([-2.8365788], dtype=float32), 'logistic': array([0.05537923], dtype=float32), 'probabilities': array([0.9446207 , 0.05537923], dtype=float32), 'class_ids': array([0], dtype=int64), 'classes': array([b'0'], dtype=object), 'all_class_ids': array([0, 1]), 'all_classes': array([b'0', b'1'], dtype=object)}, {'logits': array([-2.8281207], dtype=float32), 'logistic': array([0.05582337], dtype=float32), 'probabilities': array([0.9441766 , 0.05582337], dtype=float32), 'class_ids': array([0], dtype=int64), 'classes': array([b'0'], dtype=object), 'all_class_ids': array([0, 1]), 'all_classes': array([b'0', b'1'], dtype=object)}, {'logits': array([0.01458498], dtype=float32), 'logistic': array([0.50364625], dtype=float32), 'probabilities': array([0.49635386, 0.5036462 ], dtype=float32), 'class_ids': array([1], dtype=int64), 'classes': array([b'1'], dtype=object), 'all_class_ids': array([0, 1]), 'all_classes': array([b'0', b'1'], dtype=object)}, {'logits': array([1.7924021], dtype=float32), 'logistic': array([0.85722154], dtype=float32), 'probabilities': array([0.14277847, 0.85722154], dtype=float32), 'class_ids': array([1], dtype=int64), 'classes': array([b'1'], dtype=object), 'all_class_ids': array([0, 1]), 'all_classes': array([b'0', b'1'], dtype=object)}, {'logits': array([-1.138017], dtype=float32), 'logistic': array([0.2426846], dtype=float32), 'probabilities': array([0.75731534, 0.24268459], dtype=float32), 'class_ids': array([0], dtype=int64), 'classes': array([b'0'], dtype=object), 'all_class_ids': array([0, 1]), 'all_classes': array([b'0', b'1'], dtype=object)}, {'logits': array([-3.853808], dtype=float32), 'logistic': array([0.0207588], dtype=float32), 'probabilities': array([0.9792412, 0.0207588], dtype=float32), 'class_ids': array([0], dtype=int64), 'classes': array([b'0'], dtype=object), 'all_class_ids': array([0, 1]), 'all_classes': array([b'0', b'1'], dtype=object)}, {'logits': array([-2.4681098], dtype=float32), 'logistic': array([0.07812425], dtype=float32), 'probabilities': array([0.9218757 , 0.07812425], dtype=float32), 'class_ids': array([0], dtype=int64), 'classes': array([b'0'], dtype=object), 'all_class_ids': array([0, 1]), 'all_classes': array([b'0', b'1'], dtype=object)}, {'logits': array([-2.4509616], dtype=float32), 'logistic': array([0.07936826], dtype=float32), 'probabilities': array([0.92063177, 0.07936826], dtype=float32), 'class_ids': array([0], dtype=int64), 'classes': array([b'0'], dtype=object), 'all_class_ids': array([0, 1]), 'all_classes': array([b'0', b'1'], dtype=object)}, {'logits': array([-2.8525312], dtype=float32), 'logistic': array([0.05455062], dtype=float32), 'probabilities': array([0.94544935, 0.05455062], dtype=float32), 'class_ids': array([0], dtype=int64), 'classes': array([b'0'], dtype=object), 'all_class_ids': array([0, 1]), 'all_classes': array([b'0', b'1'], dtype=object)}, {'logits': array([-2.5746307], dtype=float32), 'logistic': array([0.0707891], dtype=float32), 'probabilities': array([0.92921096, 0.0707891 ], dtype=float32), 'class_ids': array([0], dtype=int64), 'classes': array([b'0'], dtype=object), 'all_class_ids': array([0, 1]), 'all_classes': array([b'0', b'1'], dtype=object)}, {'logits': array([-2.5222168], dtype=float32), 'logistic': array([0.0743153], dtype=float32), 'probabilities': array([0.92568463, 0.0743153 ], dtype=float32), 'class_ids': array([0], dtype=int64), 'classes': array([b'0'], dtype=object), 'all_class_ids': array([0, 1]), 'all_classes': array([b'0', b'1'], dtype=object)}, {'logits': array([0.3662494], dtype=float32), 'logistic': array([0.5905524], dtype=float32), 'probabilities': array([0.4094476, 0.5905524], dtype=float32), 'class_ids': array([1], dtype=int64), 'classes': array([b'1'], dtype=object), 'all_class_ids': array([0, 1]), 'all_classes': array([b'0', b'1'], dtype=object)}, {'logits': array([2.7755485], dtype=float32), 'logistic': array([0.9413401], dtype=float32), 'probabilities': array([0.05865988, 0.9413401 ], dtype=float32), 'class_ids': array([1], dtype=int64), 'classes': array([b'1'], dtype=object), 'all_class_ids': array([0, 1]), 'all_classes': array([b'0', b'1'], dtype=object)}, {'logits': array([0.05759235], dtype=float32), 'logistic': array([0.5143941], dtype=float32), 'probabilities': array([0.4856059, 0.5143941], dtype=float32), 'class_ids': array([1], dtype=int64), 'classes': array([b'1'], dtype=object), 'all_class_ids': array([0, 1]), 'all_classes': array([b'0', b'1'], dtype=object)}, {'logits': array([-1.0811502], dtype=float32), 'logistic': array([0.25328842], dtype=float32), 'probabilities': array([0.7467116 , 0.25328842], dtype=float32), 'class_ids': array([0], dtype=int64), 'classes': array([b'0'], dtype=object), 'all_class_ids': array([0, 1]), 'all_classes': array([b'0', b'1'], dtype=object)}, {'logits': array([-2.1195142], dtype=float32), 'logistic': array([0.10721456], dtype=float32), 'probabilities': array([0.8927854 , 0.10721455], dtype=float32), 'class_ids': array([0], dtype=int64), 'classes': array([b'0'], dtype=object), 'all_class_ids': array([0, 1]), 'all_classes': array([b'0', b'1'], dtype=object)}, {'logits': array([2.2219796], dtype=float32), 'logistic': array([0.902206], dtype=float32), 'probabilities': array([0.09779401, 0.90220606], dtype=float32), 'class_ids': array([1], dtype=int64), 'classes': array([b'1'], dtype=object), 'all_class_ids': array([0, 1]), 'all_classes': array([b'0', b'1'], dtype=object)}, {'logits': array([-2.8000197], dtype=float32), 'logistic': array([0.05732311], dtype=float32), 'probabilities': array([0.94267684, 0.05732311], dtype=float32), 'class_ids': array([0], dtype=int64), 'classes': array([b'0'], dtype=object), 'all_class_ids': array([0, 1]), 'all_classes': array([b'0', b'1'], dtype=object)}, {'logits': array([-0.43985108], dtype=float32), 'logistic': array([0.39177647], dtype=float32), 'probabilities': array([0.60822356, 0.39177647], dtype=float32), 'class_ids': array([0], dtype=int64), 'classes': array([b'0'], dtype=object), 'all_class_ids': array([0, 1]), 'all_classes': array([b'0', b'1'], dtype=object)}, {'logits': array([-0.01614896], dtype=float32), 'logistic': array([0.49596286], dtype=float32), 'probabilities': array([0.5040372, 0.4959629], dtype=float32), 'class_ids': array([0], dtype=int64), 'classes': array([b'0'], dtype=object), 'all_class_ids': array([0, 1]), 'all_classes': array([b'0', b'1'], dtype=object)}, {'logits': array([-2.9433622], dtype=float32), 'logistic': array([0.05005118], dtype=float32), 'probabilities': array([0.94994885, 0.05005117], dtype=float32), 'class_ids': array([0], dtype=int64), 'classes': array([b'0'], dtype=object), 'all_class_ids': array([0, 1]), 'all_classes': array([b'0', b'1'], dtype=object)}, {'logits': array([0.841323], dtype=float32), 'logistic': array([0.6987438], dtype=float32), 'probabilities': array([0.30125624, 0.6987438 ], dtype=float32), 'class_ids': array([1], dtype=int64), 'classes': array([b'1'], dtype=object), 'all_class_ids': array([0, 1]), 'all_classes': array([b'0', b'1'], dtype=object)}, {'logits': array([1.0415703], dtype=float32), 'logistic': array([0.7391529], dtype=float32), 'probabilities': array([0.26084712, 0.7391529 ], dtype=float32), 'class_ids': array([1], dtype=int64), 'classes': array([b'1'], dtype=object), 'all_class_ids': array([0, 1]), 'all_classes': array([b'0', b'1'], dtype=object)}, {'logits': array([2.6279383], dtype=float32), 'logistic': array([0.9326381], dtype=float32), 'probabilities': array([0.06736186, 0.9326381 ], dtype=float32), 'class_ids': array([1], dtype=int64), 'classes': array([b'1'], dtype=object), 'all_class_ids': array([0, 1]), 'all_classes': array([b'0', b'1'], dtype=object)}, {'logits': array([-2.2388906], dtype=float32), 'logistic': array([0.09631205], dtype=float32), 'probabilities': array([0.90368795, 0.09631205], dtype=float32), 'class_ids': array([0], dtype=int64), 'classes': array([b'0'], dtype=object), 'all_class_ids': array([0, 1]), 'all_classes': array([b'0', b'1'], dtype=object)}, {'logits': array([-2.633171], dtype=float32), 'logistic': array([0.06703385], dtype=float32), 'probabilities': array([0.9329661 , 0.06703385], dtype=float32), 'class_ids': array([0], dtype=int64), 'classes': array([b'0'], dtype=object), 'all_class_ids': array([0, 1]), 'all_classes': array([b'0', b'1'], dtype=object)}, {'logits': array([2.4676757], dtype=float32), 'logistic': array([0.9218445], dtype=float32), 'probabilities': array([0.07815553, 0.9218445 ], dtype=float32), 'class_ids': array([1], dtype=int64), 'classes': array([b'1'], dtype=object), 'all_class_ids': array([0, 1]), 'all_classes': array([b'0', b'1'], dtype=object)}, {'logits': array([-0.50498474], dtype=float32), 'logistic': array([0.37636995], dtype=float32), 'probabilities': array([0.62363005, 0.37636995], dtype=float32), 'class_ids': array([0], dtype=int64), 'classes': array([b'0'], dtype=object), 'all_class_ids': array([0, 1]), 'all_classes': array([b'0', b'1'], dtype=object)}, {'logits': array([0.8438635], dtype=float32), 'logistic': array([0.6992783], dtype=float32), 'probabilities': array([0.30072173, 0.6992783 ], dtype=float32), 'class_ids': array([1], dtype=int64), 'classes': array([b'1'], dtype=object), 'all_class_ids': array([0, 1]), 'all_classes': array([b'0', b'1'], dtype=object)}, {'logits': array([-1.7176738], dtype=float32), 'logistic': array([0.15217103], dtype=float32), 'probabilities': array([0.847829  , 0.15217105], dtype=float32), 'class_ids': array([0], dtype=int64), 'classes': array([b'0'], dtype=object), 'all_class_ids': array([0, 1]), 'all_classes': array([b'0', b'1'], dtype=object)}, {'logits': array([-3.2792885], dtype=float32), 'logistic': array([0.03628859], dtype=float32), 'probabilities': array([0.96371144, 0.03628859], dtype=float32), 'class_ids': array([0], dtype=int64), 'classes': array([b'0'], dtype=object), 'all_class_ids': array([0, 1]), 'all_classes': array([b'0', b'1'], dtype=object)}, {'logits': array([-2.6059213], dtype=float32), 'logistic': array([0.0687583], dtype=float32), 'probabilities': array([0.93124163, 0.0687583 ], dtype=float32), 'class_ids': array([0], dtype=int64), 'classes': array([b'0'], dtype=object), 'all_class_ids': array([0, 1]), 'all_classes': array([b'0', b'1'], dtype=object)}, {'logits': array([-1.6004144], dtype=float32), 'logistic': array([0.16792372], dtype=float32), 'probabilities': array([0.8320763 , 0.16792372], dtype=float32), 'class_ids': array([0], dtype=int64), 'classes': array([b'0'], dtype=object), 'all_class_ids': array([0, 1]), 'all_classes': array([b'0', b'1'], dtype=object)}, {'logits': array([-2.859403], dtype=float32), 'logistic': array([0.0541973], dtype=float32), 'probabilities': array([0.9458027, 0.0541973], dtype=float32), 'class_ids': array([0], dtype=int64), 'classes': array([b'0'], dtype=object), 'all_class_ids': array([0, 1]), 'all_classes': array([b'0', b'1'], dtype=object)}, {'logits': array([0.16194662], dtype=float32), 'logistic': array([0.5403984], dtype=float32), 'probabilities': array([0.4596016, 0.5403984], dtype=float32), 'class_ids': array([1], dtype=int64), 'classes': array([b'1'], dtype=object), 'all_class_ids': array([0, 1]), 'all_classes': array([b'0', b'1'], dtype=object)}, {'logits': array([-0.5394724], dtype=float32), 'logistic': array([0.36831033], dtype=float32), 'probabilities': array([0.6316897 , 0.36831036], dtype=float32), 'class_ids': array([0], dtype=int64), 'classes': array([b'0'], dtype=object), 'all_class_ids': array([0, 1]), 'all_classes': array([b'0', b'1'], dtype=object)}, {'logits': array([0.05734106], dtype=float32), 'logistic': array([0.51433134], dtype=float32), 'probabilities': array([0.4856687 , 0.51433134], dtype=float32), 'class_ids': array([1], dtype=int64), 'classes': array([b'1'], dtype=object), 'all_class_ids': array([0, 1]), 'all_classes': array([b'0', b'1'], dtype=object)}, {'logits': array([0.12340566], dtype=float32), 'logistic': array([0.53081226], dtype=float32), 'probabilities': array([0.4691877, 0.5308123], dtype=float32), 'class_ids': array([1], dtype=int64), 'classes': array([b'1'], dtype=object), 'all_class_ids': array([0, 1]), 'all_classes': array([b'0', b'1'], dtype=object)}, {'logits': array([-2.0056138], dtype=float32), 'logistic': array([0.11861477], dtype=float32), 'probabilities': array([0.88138527, 0.11861477], dtype=float32), 'class_ids': array([0], dtype=int64), 'classes': array([b'0'], dtype=object), 'all_class_ids': array([0, 1]), 'all_classes': array([b'0', b'1'], dtype=object)}, {'logits': array([1.0058985], dtype=float32), 'logistic': array([0.7322167], dtype=float32), 'probabilities': array([0.26778328, 0.7322167 ], dtype=float32), 'class_ids': array([1], dtype=int64), 'classes': array([b'1'], dtype=object), 'all_class_ids': array([0, 1]), 'all_classes': array([b'0', b'1'], dtype=object)}, {'logits': array([1.0055172], dtype=float32), 'logistic': array([0.732142], dtype=float32), 'probabilities': array([0.26785806, 0.732142  ], dtype=float32), 'class_ids': array([1], dtype=int64), 'classes': array([b'1'], dtype=object), 'all_class_ids': array([0, 1]), 'all_classes': array([b'0', b'1'], dtype=object)}, {'logits': array([0.38989195], dtype=float32), 'logistic': array([0.5962567], dtype=float32), 'probabilities': array([0.40374336, 0.59625673], dtype=float32), 'class_ids': array([1], dtype=int64), 'classes': array([b'1'], dtype=object), 'all_class_ids': array([0, 1]), 'all_classes': array([b'0', b'1'], dtype=object)}, {'logits': array([-3.0881407], dtype=float32), 'logistic': array([0.0435991], dtype=float32), 'probabilities': array([0.95640093, 0.0435991 ], dtype=float32), 'class_ids': array([0], dtype=int64), 'classes': array([b'0'], dtype=object), 'all_class_ids': array([0, 1]), 'all_classes': array([b'0', b'1'], dtype=object)}, {'logits': array([0.6716225], dtype=float32), 'logistic': array([0.66186637], dtype=float32), 'probabilities': array([0.3381336 , 0.66186637], dtype=float32), 'class_ids': array([1], dtype=int64), 'classes': array([b'1'], dtype=object), 'all_class_ids': array([0, 1]), 'all_classes': array([b'0', b'1'], dtype=object)}, {'logits': array([0.23675415], dtype=float32), 'logistic': array([0.55891365], dtype=float32), 'probabilities': array([0.44108638, 0.5589136 ], dtype=float32), 'class_ids': array([1], dtype=int64), 'classes': array([b'1'], dtype=object), 'all_class_ids': array([0, 1]), 'all_classes': array([b'0', b'1'], dtype=object)}, {'logits': array([0.19841954], dtype=float32), 'logistic': array([0.5494428], dtype=float32), 'probabilities': array([0.4505572 , 0.54944277], dtype=float32), 'class_ids': array([1], dtype=int64), 'classes': array([b'1'], dtype=object), 'all_class_ids': array([0, 1]), 'all_classes': array([b'0', b'1'], dtype=object)}, {'logits': array([-3.6002252], dtype=float32), 'logistic': array([0.02659116], dtype=float32), 'probabilities': array([0.9734089 , 0.02659116], dtype=float32), 'class_ids': array([0], dtype=int64), 'classes': array([b'0'], dtype=object), 'all_class_ids': array([0, 1]), 'all_classes': array([b'0', b'1'], dtype=object)}, {'logits': array([1.4022723], dtype=float32), 'logistic': array([0.80254424], dtype=float32), 'probabilities': array([0.19745578, 0.80254424], dtype=float32), 'class_ids': array([1], dtype=int64), 'classes': array([b'1'], dtype=object), 'all_class_ids': array([0, 1]), 'all_classes': array([b'0', b'1'], dtype=object)}, {'logits': array([0.20325157], dtype=float32), 'logistic': array([0.5506387], dtype=float32), 'probabilities': array([0.4493613, 0.5506387], dtype=float32), 'class_ids': array([1], dtype=int64), 'classes': array([b'1'], dtype=object), 'all_class_ids': array([0, 1]), 'all_classes': array([b'0', b'1'], dtype=object)}, {'logits': array([-2.822144], dtype=float32), 'logistic': array([0.05613922], dtype=float32), 'probabilities': array([0.94386077, 0.05613922], dtype=float32), 'class_ids': array([0], dtype=int64), 'classes': array([b'0'], dtype=object), 'all_class_ids': array([0, 1]), 'all_classes': array([b'0', b'1'], dtype=object)}, {'logits': array([0.09400447], dtype=float32), 'logistic': array([0.5234839], dtype=float32), 'probabilities': array([0.4765162, 0.5234838], dtype=float32), 'class_ids': array([1], dtype=int64), 'classes': array([b'1'], dtype=object), 'all_class_ids': array([0, 1]), 'all_classes': array([b'0', b'1'], dtype=object)}, {'logits': array([-2.788703], dtype=float32), 'logistic': array([0.05793771], dtype=float32), 'probabilities': array([0.9420623 , 0.05793771], dtype=float32), 'class_ids': array([0], dtype=int64), 'classes': array([b'0'], dtype=object), 'all_class_ids': array([0, 1]), 'all_classes': array([b'0', b'1'], dtype=object)}, {'logits': array([0.7825292], dtype=float32), 'logistic': array([0.68622494], dtype=float32), 'probabilities': array([0.31377503, 0.68622494], dtype=float32), 'class_ids': array([1], dtype=int64), 'classes': array([b'1'], dtype=object), 'all_class_ids': array([0, 1]), 'all_classes': array([b'0', b'1'], dtype=object)}, {'logits': array([-0.2827069], dtype=float32), 'logistic': array([0.42979026], dtype=float32), 'probabilities': array([0.5702097 , 0.42979026], dtype=float32), 'class_ids': array([0], dtype=int64), 'classes': array([b'0'], dtype=object), 'all_class_ids': array([0, 1]), 'all_classes': array([b'0', b'1'], dtype=object)}, {'logits': array([-2.6109157], dtype=float32), 'logistic': array([0.0684392], dtype=float32), 'probabilities': array([0.9315608, 0.0684392], dtype=float32), 'class_ids': array([0], dtype=int64), 'classes': array([b'0'], dtype=object), 'all_class_ids': array([0, 1]), 'all_classes': array([b'0', b'1'], dtype=object)}, {'logits': array([-0.5527177], dtype=float32), 'logistic': array([0.36523414], dtype=float32), 'probabilities': array([0.6347659 , 0.36523414], dtype=float32), 'class_ids': array([0], dtype=int64), 'classes': array([b'0'], dtype=object), 'all_class_ids': array([0, 1]), 'all_classes': array([b'0', b'1'], dtype=object)}, {'logits': array([1.1403582], dtype=float32), 'logistic': array([0.7577454], dtype=float32), 'probabilities': array([0.24225459, 0.7577454 ], dtype=float32), 'class_ids': array([1], dtype=int64), 'classes': array([b'1'], dtype=object), 'all_class_ids': array([0, 1]), 'all_classes': array([b'0', b'1'], dtype=object)}, {'logits': array([-2.6797304], dtype=float32), 'logistic': array([0.06418007], dtype=float32), 'probabilities': array([0.93582   , 0.06418007], dtype=float32), 'class_ids': array([0], dtype=int64), 'classes': array([b'0'], dtype=object), 'all_class_ids': array([0, 1]), 'all_classes': array([b'0', b'1'], dtype=object)}, {'logits': array([-2.7862597], dtype=float32), 'logistic': array([0.05807121], dtype=float32), 'probabilities': array([0.9419288 , 0.05807121], dtype=float32), 'class_ids': array([0], dtype=int64), 'classes': array([b'0'], dtype=object), 'all_class_ids': array([0, 1]), 'all_classes': array([b'0', b'1'], dtype=object)}, {'logits': array([-0.11264304], dtype=float32), 'logistic': array([0.47186896], dtype=float32), 'probabilities': array([0.528131  , 0.47186896], dtype=float32), 'class_ids': array([0], dtype=int64), 'classes': array([b'0'], dtype=object), 'all_class_ids': array([0, 1]), 'all_classes': array([b'0', b'1'], dtype=object)}, {'logits': array([-2.5458593], dtype=float32), 'logistic': array([0.07270516], dtype=float32), 'probabilities': array([0.92729485, 0.07270516], dtype=float32), 'class_ids': array([0], dtype=int64), 'classes': array([b'0'], dtype=object), 'all_class_ids': array([0, 1]), 'all_classes': array([b'0', b'1'], dtype=object)}, {'logits': array([-2.7343166], dtype=float32), 'logistic': array([0.06097852], dtype=float32), 'probabilities': array([0.9390214 , 0.06097852], dtype=float32), 'class_ids': array([0], dtype=int64), 'classes': array([b'0'], dtype=object), 'all_class_ids': array([0, 1]), 'all_classes': array([b'0', b'1'], dtype=object)}, {'logits': array([-2.067021], dtype=float32), 'logistic': array([0.11234379], dtype=float32), 'probabilities': array([0.8876562 , 0.11234378], dtype=float32), 'class_ids': array([0], dtype=int64), 'classes': array([b'0'], dtype=object), 'all_class_ids': array([0, 1]), 'all_classes': array([b'0', b'1'], dtype=object)}, {'logits': array([-3.1378887], dtype=float32), 'logistic': array([0.04157116], dtype=float32), 'probabilities': array([0.9584288 , 0.04157116], dtype=float32), 'class_ids': array([0], dtype=int64), 'classes': array([b'0'], dtype=object), 'all_class_ids': array([0, 1]), 'all_classes': array([b'0', b'1'], dtype=object)}, {'logits': array([0.13130817], dtype=float32), 'logistic': array([0.53277993], dtype=float32), 'probabilities': array([0.46722007, 0.53278   ], dtype=float32), 'class_ids': array([1], dtype=int64), 'classes': array([b'1'], dtype=object), 'all_class_ids': array([0, 1]), 'all_classes': array([b'0', b'1'], dtype=object)}, {'logits': array([-2.575776], dtype=float32), 'logistic': array([0.0707138], dtype=float32), 'probabilities': array([0.9292862, 0.0707138], dtype=float32), 'class_ids': array([0], dtype=int64), 'classes': array([b'0'], dtype=object), 'all_class_ids': array([0, 1]), 'all_classes': array([b'0', b'1'], dtype=object)}, {'logits': array([-3.563959], dtype=float32), 'logistic': array([0.02754617], dtype=float32), 'probabilities': array([0.9724538 , 0.02754617], dtype=float32), 'class_ids': array([0], dtype=int64), 'classes': array([b'0'], dtype=object), 'all_class_ids': array([0, 1]), 'all_classes': array([b'0', b'1'], dtype=object)}, {'logits': array([-2.8569596], dtype=float32), 'logistic': array([0.05432268], dtype=float32), 'probabilities': array([0.94567734, 0.05432268], dtype=float32), 'class_ids': array([0], dtype=int64), 'classes': array([b'0'], dtype=object), 'all_class_ids': array([0, 1]), 'all_classes': array([b'0', b'1'], dtype=object)}, {'logits': array([-2.541253], dtype=float32), 'logistic': array([0.07301631], dtype=float32), 'probabilities': array([0.92698365, 0.07301631], dtype=float32), 'class_ids': array([0], dtype=int64), 'classes': array([b'0'], dtype=object), 'all_class_ids': array([0, 1]), 'all_classes': array([b'0', b'1'], dtype=object)}, {'logits': array([-2.5686073], dtype=float32), 'logistic': array([0.07118633], dtype=float32), 'probabilities': array([0.9288137 , 0.07118633], dtype=float32), 'class_ids': array([0], dtype=int64), 'classes': array([b'0'], dtype=object), 'all_class_ids': array([0, 1]), 'all_classes': array([b'0', b'1'], dtype=object)}, {'logits': array([-2.2565107], dtype=float32), 'logistic': array([0.09478934], dtype=float32), 'probabilities': array([0.9052107 , 0.09478934], dtype=float32), 'class_ids': array([0], dtype=int64), 'classes': array([b'0'], dtype=object), 'all_class_ids': array([0, 1]), 'all_classes': array([b'0', b'1'], dtype=object)}, {'logits': array([1.5759453], dtype=float32), 'logistic': array([0.8286295], dtype=float32), 'probabilities': array([0.1713705 , 0.82862955], dtype=float32), 'class_ids': array([1], dtype=int64), 'classes': array([b'1'], dtype=object), 'all_class_ids': array([0, 1]), 'all_classes': array([b'0', b'1'], dtype=object)}, {'logits': array([-2.764728], dtype=float32), 'logistic': array([0.05926023], dtype=float32), 'probabilities': array([0.9407397 , 0.05926023], dtype=float32), 'class_ids': array([0], dtype=int64), 'classes': array([b'0'], dtype=object), 'all_class_ids': array([0, 1]), 'all_classes': array([b'0', b'1'], dtype=object)}, {'logits': array([-2.645636], dtype=float32), 'logistic': array([0.06625849], dtype=float32), 'probabilities': array([0.93374157, 0.06625849], dtype=float32), 'class_ids': array([0], dtype=int64), 'classes': array([b'0'], dtype=object), 'all_class_ids': array([0, 1]), 'all_classes': array([b'0', b'1'], dtype=object)}, {'logits': array([0.15378067], dtype=float32), 'logistic': array([0.5383696], dtype=float32), 'probabilities': array([0.4616304, 0.5383696], dtype=float32), 'class_ids': array([1], dtype=int64), 'classes': array([b'1'], dtype=object), 'all_class_ids': array([0, 1]), 'all_classes': array([b'0', b'1'], dtype=object)}, {'logits': array([2.2873015], dtype=float32), 'logistic': array([0.90781987], dtype=float32), 'probabilities': array([0.09218012, 0.90781987], dtype=float32), 'class_ids': array([1], dtype=int64), 'classes': array([b'1'], dtype=object), 'all_class_ids': array([0, 1]), 'all_classes': array([b'0', b'1'], dtype=object)}, {'logits': array([-2.7420511], dtype=float32), 'logistic': array([0.06053714], dtype=float32), 'probabilities': array([0.9394629 , 0.06053714], dtype=float32), 'class_ids': array([0], dtype=int64), 'classes': array([b'0'], dtype=object), 'all_class_ids': array([0, 1]), 'all_classes': array([b'0', b'1'], dtype=object)}, {'logits': array([-2.5812092], dtype=float32), 'logistic': array([0.0703576], dtype=float32), 'probabilities': array([0.92964244, 0.0703576 ], dtype=float32), 'class_ids': array([0], dtype=int64), 'classes': array([b'0'], dtype=object), 'all_class_ids': array([0, 1]), 'all_classes': array([b'0', b'1'], dtype=object)}, {'logits': array([-2.7862597], dtype=float32), 'logistic': array([0.05807121], dtype=float32), 'probabilities': array([0.9419288 , 0.05807121], dtype=float32), 'class_ids': array([0], dtype=int64), 'classes': array([b'0'], dtype=object), 'all_class_ids': array([0, 1]), 'all_classes': array([b'0', b'1'], dtype=object)}, {'logits': array([-0.89625484], dtype=float32), 'logistic': array([0.28982076], dtype=float32), 'probabilities': array([0.71017927, 0.28982073], dtype=float32), 'class_ids': array([0], dtype=int64), 'classes': array([b'0'], dtype=object), 'all_class_ids': array([0, 1]), 'all_classes': array([b'0', b'1'], dtype=object)}, {'logits': array([-2.4957716], dtype=float32), 'logistic': array([0.07615513], dtype=float32), 'probabilities': array([0.9238448 , 0.07615513], dtype=float32), 'class_ids': array([0], dtype=int64), 'classes': array([b'0'], dtype=object), 'all_class_ids': array([0, 1]), 'all_classes': array([b'0', b'1'], dtype=object)}, {'logits': array([-2.2786021], dtype=float32), 'logistic': array([0.0929107], dtype=float32), 'probabilities': array([0.90708935, 0.0929107 ], dtype=float32), 'class_ids': array([0], dtype=int64), 'classes': array([b'0'], dtype=object), 'all_class_ids': array([0, 1]), 'all_classes': array([b'0', b'1'], dtype=object)}, {'logits': array([-3.1754909], dtype=float32), 'logistic': array([0.04009854], dtype=float32), 'probabilities': array([0.9599015 , 0.04009854], dtype=float32), 'class_ids': array([0], dtype=int64), 'classes': array([b'0'], dtype=object), 'all_class_ids': array([0, 1]), 'all_classes': array([b'0', b'1'], dtype=object)}, {'logits': array([-2.2785892], dtype=float32), 'logistic': array([0.09291179], dtype=float32), 'probabilities': array([0.9070883 , 0.09291179], dtype=float32), 'class_ids': array([0], dtype=int64), 'classes': array([b'0'], dtype=object), 'all_class_ids': array([0, 1]), 'all_classes': array([b'0', b'1'], dtype=object)}, {'logits': array([-2.7665606], dtype=float32), 'logistic': array([0.05915816], dtype=float32), 'probabilities': array([0.94084185, 0.05915816], dtype=float32), 'class_ids': array([0], dtype=int64), 'classes': array([b'0'], dtype=object), 'all_class_ids': array([0, 1]), 'all_classes': array([b'0', b'1'], dtype=object)}, {'logits': array([-2.0588794], dtype=float32), 'logistic': array([0.11315825], dtype=float32), 'probabilities': array([0.8868418 , 0.11315825], dtype=float32), 'class_ids': array([0], dtype=int64), 'classes': array([b'0'], dtype=object), 'all_class_ids': array([0, 1]), 'all_classes': array([b'0', b'1'], dtype=object)}, {'logits': array([-2.8691819], dtype=float32), 'logistic': array([0.05369821], dtype=float32), 'probabilities': array([0.9463018 , 0.05369821], dtype=float32), 'class_ids': array([0], dtype=int64), 'classes': array([b'0'], dtype=object), 'all_class_ids': array([0, 1]), 'all_classes': array([b'0', b'1'], dtype=object)}, {'logits': array([-1.0869206], dtype=float32), 'logistic': array([0.25219858], dtype=float32), 'probabilities': array([0.7478014 , 0.25219858], dtype=float32), 'class_ids': array([0], dtype=int64), 'classes': array([b'0'], dtype=object), 'all_class_ids': array([0, 1]), 'all_classes': array([b'0', b'1'], dtype=object)}, {'logits': array([-2.0665023], dtype=float32), 'logistic': array([0.1123955], dtype=float32), 'probabilities': array([0.8876045, 0.1123955], dtype=float32), 'class_ids': array([0], dtype=int64), 'classes': array([b'0'], dtype=object), 'all_class_ids': array([0, 1]), 'all_classes': array([b'0', b'1'], dtype=object)}, {'logits': array([-2.796802], dtype=float32), 'logistic': array([0.05749723], dtype=float32), 'probabilities': array([0.94250274, 0.05749723], dtype=float32), 'class_ids': array([0], dtype=int64), 'classes': array([b'0'], dtype=object), 'all_class_ids': array([0, 1]), 'all_classes': array([b'0', b'1'], dtype=object)}, {'logits': array([-2.0257902], dtype=float32), 'logistic': array([0.1165216], dtype=float32), 'probabilities': array([0.8834784, 0.1165216], dtype=float32), 'class_ids': array([0], dtype=int64), 'classes': array([b'0'], dtype=object), 'all_class_ids': array([0, 1]), 'all_classes': array([b'0', b'1'], dtype=object)}, {'logits': array([-0.08625082], dtype=float32), 'logistic': array([0.47845063], dtype=float32), 'probabilities': array([0.52154934, 0.47845063], dtype=float32), 'class_ids': array([0], dtype=int64), 'classes': array([b'0'], dtype=object), 'all_class_ids': array([0, 1]), 'all_classes': array([b'0', b'1'], dtype=object)}, {'logits': array([-2.2785892], dtype=float32), 'logistic': array([0.09291179], dtype=float32), 'probabilities': array([0.9070883 , 0.09291179], dtype=float32), 'class_ids': array([0], dtype=int64), 'classes': array([b'0'], dtype=object), 'all_class_ids': array([0, 1]), 'all_classes': array([b'0', b'1'], dtype=object)}, {'logits': array([0.15414962], dtype=float32), 'logistic': array([0.53846127], dtype=float32), 'probabilities': array([0.4615387 , 0.53846127], dtype=float32), 'class_ids': array([1], dtype=int64), 'classes': array([b'1'], dtype=object), 'all_class_ids': array([0, 1]), 'all_classes': array([b'0', b'1'], dtype=object)}, {'logits': array([-2.4484107], dtype=float32), 'logistic': array([0.07955485], dtype=float32), 'probabilities': array([0.9204452 , 0.07955486], dtype=float32), 'class_ids': array([0], dtype=int64), 'classes': array([b'0'], dtype=object), 'all_class_ids': array([0, 1]), 'all_classes': array([b'0', b'1'], dtype=object)}, {'logits': array([1.8582784], dtype=float32), 'logistic': array([0.86509615], dtype=float32), 'probabilities': array([0.13490385, 0.86509615], dtype=float32), 'class_ids': array([1], dtype=int64), 'classes': array([b'1'], dtype=object), 'all_class_ids': array([0, 1]), 'all_classes': array([b'0', b'1'], dtype=object)}, {'logits': array([0.5136321], dtype=float32), 'logistic': array([0.62565756], dtype=float32), 'probabilities': array([0.37434247, 0.6256575 ], dtype=float32), 'class_ids': array([1], dtype=int64), 'classes': array([b'1'], dtype=object), 'all_class_ids': array([0, 1]), 'all_classes': array([b'0', b'1'], dtype=object)}, {'logits': array([-2.9280412], dtype=float32), 'logistic': array([0.05078467], dtype=float32), 'probabilities': array([0.94921535, 0.05078467], dtype=float32), 'class_ids': array([0], dtype=int64), 'classes': array([b'0'], dtype=object), 'all_class_ids': array([0, 1]), 'all_classes': array([b'0', b'1'], dtype=object)}, {'logits': array([1.6135406], dtype=float32), 'logistic': array([0.83390236], dtype=float32), 'probabilities': array([0.16609764, 0.8339024 ], dtype=float32), 'class_ids': array([1], dtype=int64), 'classes': array([b'1'], dtype=object), 'all_class_ids': array([0, 1]), 'all_classes': array([b'0', b'1'], dtype=object)}, {'logits': array([-2.9067128], dtype=float32), 'logistic': array([0.05182273], dtype=float32), 'probabilities': array([0.9481773 , 0.05182273], dtype=float32), 'class_ids': array([0], dtype=int64), 'classes': array([b'0'], dtype=object), 'all_class_ids': array([0, 1]), 'all_classes': array([b'0', b'1'], dtype=object)}, {'logits': array([-2.274059], dtype=float32), 'logistic': array([0.09329429], dtype=float32), 'probabilities': array([0.9067057 , 0.09329429], dtype=float32), 'class_ids': array([0], dtype=int64), 'classes': array([b'0'], dtype=object), 'all_class_ids': array([0, 1]), 'all_classes': array([b'0', b'1'], dtype=object)}, {'logits': array([2.2070603], dtype=float32), 'logistic': array([0.90088177], dtype=float32), 'probabilities': array([0.09911826, 0.9008817 ], dtype=float32), 'class_ids': array([1], dtype=int64), 'classes': array([b'1'], dtype=object), 'all_class_ids': array([0, 1]), 'all_classes': array([b'0', b'1'], dtype=object)}, {'logits': array([-2.5741599], dtype=float32), 'logistic': array([0.07082007], dtype=float32), 'probabilities': array([0.92917985, 0.07082007], dtype=float32), 'class_ids': array([0], dtype=int64), 'classes': array([b'0'], dtype=object), 'all_class_ids': array([0, 1]), 'all_classes': array([b'0', b'1'], dtype=object)}, {'logits': array([0.6460772], dtype=float32), 'logistic': array([0.6561259], dtype=float32), 'probabilities': array([0.34387404, 0.6561259 ], dtype=float32), 'class_ids': array([1], dtype=int64), 'classes': array([b'1'], dtype=object), 'all_class_ids': array([0, 1]), 'all_classes': array([b'0', b'1'], dtype=object)}, {'logits': array([-2.7867308], dtype=float32), 'logistic': array([0.05804545], dtype=float32), 'probabilities': array([0.9419545 , 0.05804544], dtype=float32), 'class_ids': array([0], dtype=int64), 'classes': array([b'0'], dtype=object), 'all_class_ids': array([0, 1]), 'all_classes': array([b'0', b'1'], dtype=object)}, {'logits': array([-1.5464954], dtype=float32), 'logistic': array([0.175593], dtype=float32), 'probabilities': array([0.824407  , 0.17559302], dtype=float32), 'class_ids': array([0], dtype=int64), 'classes': array([b'0'], dtype=object), 'all_class_ids': array([0, 1]), 'all_classes': array([b'0', b'1'], dtype=object)}, {'logits': array([-3.351859], dtype=float32), 'logistic': array([0.03383434], dtype=float32), 'probabilities': array([0.96616566, 0.03383434], dtype=float32), 'class_ids': array([0], dtype=int64), 'classes': array([b'0'], dtype=object), 'all_class_ids': array([0, 1]), 'all_classes': array([b'0', b'1'], dtype=object)}, {'logits': array([-2.5458593], dtype=float32), 'logistic': array([0.07270516], dtype=float32), 'probabilities': array([0.92729485, 0.07270516], dtype=float32), 'class_ids': array([0], dtype=int64), 'classes': array([b'0'], dtype=object), 'all_class_ids': array([0, 1]), 'all_classes': array([b'0', b'1'], dtype=object)}, {'logits': array([0.07916888], dtype=float32), 'logistic': array([0.5197819], dtype=float32), 'probabilities': array([0.4802181, 0.5197819], dtype=float32), 'class_ids': array([1], dtype=int64), 'classes': array([b'1'], dtype=object), 'all_class_ids': array([0, 1]), 'all_classes': array([b'0', b'1'], dtype=object)}, {'logits': array([1.7923942], dtype=float32), 'logistic': array([0.85722053], dtype=float32), 'probabilities': array([0.14277945, 0.8572206 ], dtype=float32), 'class_ids': array([1], dtype=int64), 'classes': array([b'1'], dtype=object), 'all_class_ids': array([0, 1]), 'all_classes': array([b'0', b'1'], dtype=object)}, {'logits': array([-2.1510391], dtype=float32), 'logistic': array([0.10423417], dtype=float32), 'probabilities': array([0.89576584, 0.10423417], dtype=float32), 'class_ids': array([0], dtype=int64), 'classes': array([b'0'], dtype=object), 'all_class_ids': array([0, 1]), 'all_classes': array([b'0', b'1'], dtype=object)}, {'logits': array([-1.2885702], dtype=float32), 'logistic': array([0.21609493], dtype=float32), 'probabilities': array([0.783905  , 0.21609491], dtype=float32), 'class_ids': array([0], dtype=int64), 'classes': array([b'0'], dtype=object), 'all_class_ids': array([0, 1]), 'all_classes': array([b'0', b'1'], dtype=object)}, {'logits': array([-2.5394077], dtype=float32), 'logistic': array([0.07314131], dtype=float32), 'probabilities': array([0.9268587 , 0.07314131], dtype=float32), 'class_ids': array([0], dtype=int64), 'classes': array([b'0'], dtype=object), 'all_class_ids': array([0, 1]), 'all_classes': array([b'0', b'1'], dtype=object)}, {'logits': array([-2.514224], dtype=float32), 'logistic': array([0.07486702], dtype=float32), 'probabilities': array([0.925133  , 0.07486702], dtype=float32), 'class_ids': array([0], dtype=int64), 'classes': array([b'0'], dtype=object), 'all_class_ids': array([0, 1]), 'all_classes': array([b'0', b'1'], dtype=object)}, {'logits': array([-1.6759902], dtype=float32), 'logistic': array([0.15762715], dtype=float32), 'probabilities': array([0.84237283, 0.15762715], dtype=float32), 'class_ids': array([0], dtype=int64), 'classes': array([b'0'], dtype=object), 'all_class_ids': array([0, 1]), 'all_classes': array([b'0', b'1'], dtype=object)}, {'logits': array([-1.9320382], dtype=float32), 'logistic': array([0.12652516], dtype=float32), 'probabilities': array([0.87347484, 0.12652516], dtype=float32), 'class_ids': array([0], dtype=int64), 'classes': array([b'0'], dtype=object), 'all_class_ids': array([0, 1]), 'all_classes': array([b'0', b'1'], dtype=object)}, {'logits': array([2.4621482], dtype=float32), 'logistic': array([0.9214453], dtype=float32), 'probabilities': array([0.0785547, 0.9214453], dtype=float32), 'class_ids': array([1], dtype=int64), 'classes': array([b'1'], dtype=object), 'all_class_ids': array([0, 1]), 'all_classes': array([b'0', b'1'], dtype=object)}, {'logits': array([-0.19999817], dtype=float32), 'logistic': array([0.45016646], dtype=float32), 'probabilities': array([0.54983354, 0.45016646], dtype=float32), 'class_ids': array([0], dtype=int64), 'classes': array([b'0'], dtype=object), 'all_class_ids': array([0, 1]), 'all_classes': array([b'0', b'1'], dtype=object)}, {'logits': array([-2.4685807], dtype=float32), 'logistic': array([0.07809035], dtype=float32), 'probabilities': array([0.92190963, 0.07809035], dtype=float32), 'class_ids': array([0], dtype=int64), 'classes': array([b'0'], dtype=object), 'all_class_ids': array([0, 1]), 'all_classes': array([b'0', b'1'], dtype=object)}, {'logits': array([-1.6263543], dtype=float32), 'logistic': array([0.1643304], dtype=float32), 'probabilities': array([0.83566964, 0.1643304 ], dtype=float32), 'class_ids': array([0], dtype=int64), 'classes': array([b'0'], dtype=object), 'all_class_ids': array([0, 1]), 'all_classes': array([b'0', b'1'], dtype=object)}, {'logits': array([0.1543915], dtype=float32), 'logistic': array([0.53852135], dtype=float32), 'probabilities': array([0.46147862, 0.5385214 ], dtype=float32), 'class_ids': array([1], dtype=int64), 'classes': array([b'1'], dtype=object), 'all_class_ids': array([0, 1]), 'all_classes': array([b'0', b'1'], dtype=object)}, {'logits': array([0.5045951], dtype=float32), 'logistic': array([0.62353855], dtype=float32), 'probabilities': array([0.37646145, 0.6235386 ], dtype=float32), 'class_ids': array([1], dtype=int64), 'classes': array([b'1'], dtype=object), 'all_class_ids': array([0, 1]), 'all_classes': array([b'0', b'1'], dtype=object)}, {'logits': array([-1.8505675], dtype=float32), 'logistic': array([0.13580629], dtype=float32), 'probabilities': array([0.8641937 , 0.13580629], dtype=float32), 'class_ids': array([0], dtype=int64), 'classes': array([b'0'], dtype=object), 'all_class_ids': array([0, 1]), 'all_classes': array([b'0', b'1'], dtype=object)}, {'logits': array([-1.6246463], dtype=float32), 'logistic': array([0.16456509], dtype=float32), 'probabilities': array([0.8354349 , 0.16456509], dtype=float32), 'class_ids': array([0], dtype=int64), 'classes': array([b'0'], dtype=object), 'all_class_ids': array([0, 1]), 'all_classes': array([b'0', b'1'], dtype=object)}, {'logits': array([-2.7028017], dtype=float32), 'logistic': array([0.06280824], dtype=float32), 'probabilities': array([0.9371918 , 0.06280824], dtype=float32), 'class_ids': array([0], dtype=int64), 'classes': array([b'0'], dtype=object), 'all_class_ids': array([0, 1]), 'all_classes': array([b'0', b'1'], dtype=object)}, {'logits': array([-2.2854419], dtype=float32), 'logistic': array([0.09233586], dtype=float32), 'probabilities': array([0.9076641 , 0.09233586], dtype=float32), 'class_ids': array([0], dtype=int64), 'classes': array([b'0'], dtype=object), 'all_class_ids': array([0, 1]), 'all_classes': array([b'0', b'1'], dtype=object)}, {'logits': array([1.2216486], dtype=float32), 'logistic': array([0.7723535], dtype=float32), 'probabilities': array([0.22764647, 0.77235353], dtype=float32), 'class_ids': array([1], dtype=int64), 'classes': array([b'1'], dtype=object), 'all_class_ids': array([0, 1]), 'all_classes': array([b'0', b'1'], dtype=object)}, {'logits': array([-3.5196512], dtype=float32), 'logistic': array([0.02875824], dtype=float32), 'probabilities': array([0.9712417 , 0.02875824], dtype=float32), 'class_ids': array([0], dtype=int64), 'classes': array([b'0'], dtype=object), 'all_class_ids': array([0, 1]), 'all_classes': array([b'0', b'1'], dtype=object)}, {'logits': array([-2.6625347], dtype=float32), 'logistic': array([0.06522063], dtype=float32), 'probabilities': array([0.93477935, 0.06522063], dtype=float32), 'class_ids': array([0], dtype=int64), 'classes': array([b'0'], dtype=object), 'all_class_ids': array([0, 1]), 'all_classes': array([b'0', b'1'], dtype=object)}, {'logits': array([-0.49426487], dtype=float32), 'logistic': array([0.3788894], dtype=float32), 'probabilities': array([0.6211106, 0.3788894], dtype=float32), 'class_ids': array([0], dtype=int64), 'classes': array([b'0'], dtype=object), 'all_class_ids': array([0, 1]), 'all_classes': array([b'0', b'1'], dtype=object)}, {'logits': array([0.15533301], dtype=float32), 'logistic': array([0.53875536], dtype=float32), 'probabilities': array([0.4612446 , 0.53875536], dtype=float32), 'class_ids': array([1], dtype=int64), 'classes': array([b'1'], dtype=object), 'all_class_ids': array([0, 1]), 'all_classes': array([b'0', b'1'], dtype=object)}, {'logits': array([-1.4764777], dtype=float32), 'logistic': array([0.18596002], dtype=float32), 'probabilities': array([0.81404   , 0.18596002], dtype=float32), 'class_ids': array([0], dtype=int64), 'classes': array([b'0'], dtype=object), 'all_class_ids': array([0, 1]), 'all_classes': array([b'0', b'1'], dtype=object)}, {'logits': array([-2.7577496], dtype=float32), 'logistic': array([0.05965047], dtype=float32), 'probabilities': array([0.9403495 , 0.05965047], dtype=float32), 'class_ids': array([0], dtype=int64), 'classes': array([b'0'], dtype=object), 'all_class_ids': array([0, 1]), 'all_classes': array([b'0', b'1'], dtype=object)}, {'logits': array([-2.172552], dtype=float32), 'logistic': array([0.10224254], dtype=float32), 'probabilities': array([0.8977575 , 0.10224254], dtype=float32), 'class_ids': array([0], dtype=int64), 'classes': array([b'0'], dtype=object), 'all_class_ids': array([0, 1]), 'all_classes': array([b'0', b'1'], dtype=object)}, {'logits': array([-2.8741894], dtype=float32), 'logistic': array([0.05344432], dtype=float32), 'probabilities': array([0.9465556 , 0.05344432], dtype=float32), 'class_ids': array([0], dtype=int64), 'classes': array([b'0'], dtype=object), 'all_class_ids': array([0, 1]), 'all_classes': array([b'0', b'1'], dtype=object)}, {'logits': array([-3.351859], dtype=float32), 'logistic': array([0.03383434], dtype=float32), 'probabilities': array([0.96616566, 0.03383434], dtype=float32), 'class_ids': array([0], dtype=int64), 'classes': array([b'0'], dtype=object), 'all_class_ids': array([0, 1]), 'all_classes': array([b'0', b'1'], dtype=object)}, {'logits': array([-2.8797128], dtype=float32), 'logistic': array([0.05316559], dtype=float32), 'probabilities': array([0.9468344 , 0.05316559], dtype=float32), 'class_ids': array([0], dtype=int64), 'classes': array([b'0'], dtype=object), 'all_class_ids': array([0, 1]), 'all_classes': array([b'0', b'1'], dtype=object)}, {'logits': array([2.6214006], dtype=float32), 'logistic': array([0.93222624], dtype=float32), 'probabilities': array([0.06777375, 0.93222624], dtype=float32), 'class_ids': array([1], dtype=int64), 'classes': array([b'1'], dtype=object), 'all_class_ids': array([0, 1]), 'all_classes': array([b'0', b'1'], dtype=object)}, {'logits': array([0.7145507], dtype=float32), 'logistic': array([0.6714059], dtype=float32), 'probabilities': array([0.3285941, 0.6714059], dtype=float32), 'class_ids': array([1], dtype=int64), 'classes': array([b'1'], dtype=object), 'all_class_ids': array([0, 1]), 'all_classes': array([b'0', b'1'], dtype=object)}, {'logits': array([-2.6460238], dtype=float32), 'logistic': array([0.06623451], dtype=float32), 'probabilities': array([0.9337655 , 0.06623451], dtype=float32), 'class_ids': array([0], dtype=int64), 'classes': array([b'0'], dtype=object), 'all_class_ids': array([0, 1]), 'all_classes': array([b'0', b'1'], dtype=object)}, {'logits': array([0.07326933], dtype=float32), 'logistic': array([0.5183092], dtype=float32), 'probabilities': array([0.48169082, 0.5183091 ], dtype=float32), 'class_ids': array([1], dtype=int64), 'classes': array([b'1'], dtype=object), 'all_class_ids': array([0, 1]), 'all_classes': array([b'0', b'1'], dtype=object)}, {'logits': array([-1.1083546], dtype=float32), 'logistic': array([0.24817777], dtype=float32), 'probabilities': array([0.7518222 , 0.24817775], dtype=float32), 'class_ids': array([0], dtype=int64), 'classes': array([b'0'], dtype=object), 'all_class_ids': array([0, 1]), 'all_classes': array([b'0', b'1'], dtype=object)}, {'logits': array([-2.8757164], dtype=float32), 'logistic': array([0.05336712], dtype=float32), 'probabilities': array([0.94663286, 0.05336712], dtype=float32), 'class_ids': array([0], dtype=int64), 'classes': array([b'0'], dtype=object), 'all_class_ids': array([0, 1]), 'all_classes': array([b'0', b'1'], dtype=object)}, {'logits': array([-2.330317], dtype=float32), 'logistic': array([0.08864305], dtype=float32), 'probabilities': array([0.911357  , 0.08864305], dtype=float32), 'class_ids': array([0], dtype=int64), 'classes': array([b'0'], dtype=object), 'all_class_ids': array([0, 1]), 'all_classes': array([b'0', b'1'], dtype=object)}, {'logits': array([-2.239417], dtype=float32), 'logistic': array([0.09626625], dtype=float32), 'probabilities': array([0.9037338 , 0.09626625], dtype=float32), 'class_ids': array([0], dtype=int64), 'classes': array([b'0'], dtype=object), 'all_class_ids': array([0, 1]), 'all_classes': array([b'0', b'1'], dtype=object)}, {'logits': array([-2.5015893], dtype=float32), 'logistic': array([0.07574684], dtype=float32), 'probabilities': array([0.9242532 , 0.07574684], dtype=float32), 'class_ids': array([0], dtype=int64), 'classes': array([b'0'], dtype=object), 'all_class_ids': array([0, 1]), 'all_classes': array([b'0', b'1'], dtype=object)}, {'logits': array([0.15411147], dtype=float32), 'logistic': array([0.5384518], dtype=float32), 'probabilities': array([0.46154818, 0.5384518 ], dtype=float32), 'class_ids': array([1], dtype=int64), 'classes': array([b'1'], dtype=object), 'all_class_ids': array([0, 1]), 'all_classes': array([b'0', b'1'], dtype=object)}, {'logits': array([-2.7793489], dtype=float32), 'logistic': array([0.05845038], dtype=float32), 'probabilities': array([0.9415496 , 0.05845038], dtype=float32), 'class_ids': array([0], dtype=int64), 'classes': array([b'0'], dtype=object), 'all_class_ids': array([0, 1]), 'all_classes': array([b'0', b'1'], dtype=object)}, {'logits': array([-0.6012979], dtype=float32), 'logistic': array([0.35404682], dtype=float32), 'probabilities': array([0.6459532 , 0.35404682], dtype=float32), 'class_ids': array([0], dtype=int64), 'classes': array([b'0'], dtype=object), 'all_class_ids': array([0, 1]), 'all_classes': array([b'0', b'1'], dtype=object)}, {'logits': array([-0.9326881], dtype=float32), 'logistic': array([0.2823797], dtype=float32), 'probabilities': array([0.7176204, 0.2823797], dtype=float32), 'class_ids': array([0], dtype=int64), 'classes': array([b'0'], dtype=object), 'all_class_ids': array([0, 1]), 'all_classes': array([b'0', b'1'], dtype=object)}, {'logits': array([-2.8926911], dtype=float32), 'logistic': array([0.05251605], dtype=float32), 'probabilities': array([0.94748396, 0.05251605], dtype=float32), 'class_ids': array([0], dtype=int64), 'classes': array([b'0'], dtype=object), 'all_class_ids': array([0, 1]), 'all_classes': array([b'0', b'1'], dtype=object)}, {'logits': array([-2.163938], dtype=float32), 'logistic': array([0.10303593], dtype=float32), 'probabilities': array([0.8969641 , 0.10303593], dtype=float32), 'class_ids': array([0], dtype=int64), 'classes': array([b'0'], dtype=object), 'all_class_ids': array([0, 1]), 'all_classes': array([b'0', b'1'], dtype=object)}, {'logits': array([0.6019916], dtype=float32), 'logistic': array([0.6461118], dtype=float32), 'probabilities': array([0.35388815, 0.64611185], dtype=float32), 'class_ids': array([1], dtype=int64), 'classes': array([b'1'], dtype=object), 'all_class_ids': array([0, 1]), 'all_classes': array([b'0', b'1'], dtype=object)}, {'logits': array([-0.47385398], dtype=float32), 'logistic': array([0.38370448], dtype=float32), 'probabilities': array([0.6162955 , 0.38370445], dtype=float32), 'class_ids': array([0], dtype=int64), 'classes': array([b'0'], dtype=object), 'all_class_ids': array([0, 1]), 'all_classes': array([b'0', b'1'], dtype=object)}, {'logits': array([-2.6519089], dtype=float32), 'logistic': array([0.06587145], dtype=float32), 'probabilities': array([0.9341286 , 0.06587145], dtype=float32), 'class_ids': array([0], dtype=int64), 'classes': array([b'0'], dtype=object), 'all_class_ids': array([0, 1]), 'all_classes': array([b'0', b'1'], dtype=object)}, {'logits': array([-0.8957597], dtype=float32), 'logistic': array([0.28992265], dtype=float32), 'probabilities': array([0.71007735, 0.28992265], dtype=float32), 'class_ids': array([0], dtype=int64), 'classes': array([b'0'], dtype=object), 'all_class_ids': array([0, 1]), 'all_classes': array([b'0', b'1'], dtype=object)}, {'logits': array([-1.6783987], dtype=float32), 'logistic': array([0.15730762], dtype=float32), 'probabilities': array([0.8426924 , 0.15730762], dtype=float32), 'class_ids': array([0], dtype=int64), 'classes': array([b'0'], dtype=object), 'all_class_ids': array([0, 1]), 'all_classes': array([b'0', b'1'], dtype=object)}, {'logits': array([1.6863524], dtype=float32), 'logistic': array([0.84374386], dtype=float32), 'probabilities': array([0.15625614, 0.84374386], dtype=float32), 'class_ids': array([1], dtype=int64), 'classes': array([b'1'], dtype=object), 'all_class_ids': array([0, 1]), 'all_classes': array([b'0', b'1'], dtype=object)}, {'logits': array([1.5299435], dtype=float32), 'logistic': array([0.82199806], dtype=float32), 'probabilities': array([0.17800194, 0.821998  ], dtype=float32), 'class_ids': array([1], dtype=int64), 'classes': array([b'1'], dtype=object), 'all_class_ids': array([0, 1]), 'all_classes': array([b'0', b'1'], dtype=object)}, {'logits': array([-2.3628998], dtype=float32), 'logistic': array([0.08604588], dtype=float32), 'probabilities': array([0.9139541 , 0.08604588], dtype=float32), 'class_ids': array([0], dtype=int64), 'classes': array([b'0'], dtype=object), 'all_class_ids': array([0, 1]), 'all_classes': array([b'0', b'1'], dtype=object)}, {'logits': array([0.06577476], dtype=float32), 'logistic': array([0.51643777], dtype=float32), 'probabilities': array([0.48356226, 0.51643777], dtype=float32), 'class_ids': array([1], dtype=int64), 'classes': array([b'1'], dtype=object), 'all_class_ids': array([0, 1]), 'all_classes': array([b'0', b'1'], dtype=object)}, {'logits': array([-2.6404314], dtype=float32), 'logistic': array([0.06658121], dtype=float32), 'probabilities': array([0.93341875, 0.06658121], dtype=float32), 'class_ids': array([0], dtype=int64), 'classes': array([b'0'], dtype=object), 'all_class_ids': array([0, 1]), 'all_classes': array([b'0', b'1'], dtype=object)}, {'logits': array([-2.2786021], dtype=float32), 'logistic': array([0.0929107], dtype=float32), 'probabilities': array([0.90708935, 0.0929107 ], dtype=float32), 'class_ids': array([0], dtype=int64), 'classes': array([b'0'], dtype=object), 'all_class_ids': array([0, 1]), 'all_classes': array([b'0', b'1'], dtype=object)}, {'logits': array([-0.10431413], dtype=float32), 'logistic': array([0.47394508], dtype=float32), 'probabilities': array([0.5260549 , 0.47394508], dtype=float32), 'class_ids': array([0], dtype=int64), 'classes': array([b'0'], dtype=object), 'all_class_ids': array([0, 1]), 'all_classes': array([b'0', b'1'], dtype=object)}, {'logits': array([-2.5458975], dtype=float32), 'logistic': array([0.07270258], dtype=float32), 'probabilities': array([0.9272974 , 0.07270258], dtype=float32), 'class_ids': array([0], dtype=int64), 'classes': array([b'0'], dtype=object), 'all_class_ids': array([0, 1]), 'all_classes': array([b'0', b'1'], dtype=object)}, {'logits': array([1.6316872], dtype=float32), 'logistic': array([0.8364006], dtype=float32), 'probabilities': array([0.16359937, 0.8364006 ], dtype=float32), 'class_ids': array([1], dtype=int64), 'classes': array([b'1'], dtype=object), 'all_class_ids': array([0, 1]), 'all_classes': array([b'0', b'1'], dtype=object)}, {'logits': array([0.9516691], dtype=float32), 'logistic': array([0.72145075], dtype=float32), 'probabilities': array([0.27854928, 0.72145075], dtype=float32), 'class_ids': array([1], dtype=int64), 'classes': array([b'1'], dtype=object), 'all_class_ids': array([0, 1]), 'all_classes': array([b'0', b'1'], dtype=object)}, {'logits': array([-2.682653], dtype=float32), 'logistic': array([0.06400476], dtype=float32), 'probabilities': array([0.9359952 , 0.06400476], dtype=float32), 'class_ids': array([0], dtype=int64), 'classes': array([b'0'], dtype=object), 'all_class_ids': array([0, 1]), 'all_classes': array([b'0', b'1'], dtype=object)}, {'logits': array([0.2655562], dtype=float32), 'logistic': array([0.5660016], dtype=float32), 'probabilities': array([0.43399835, 0.56600165], dtype=float32), 'class_ids': array([1], dtype=int64), 'classes': array([b'1'], dtype=object), 'all_class_ids': array([0, 1]), 'all_classes': array([b'0', b'1'], dtype=object)}, {'logits': array([-2.3365922], dtype=float32), 'logistic': array([0.08813742], dtype=float32), 'probabilities': array([0.9118626 , 0.08813742], dtype=float32), 'class_ids': array([0], dtype=int64), 'classes': array([b'0'], dtype=object), 'all_class_ids': array([0, 1]), 'all_classes': array([b'0', b'1'], dtype=object)}, {'logits': array([-1.3821394], dtype=float32), 'logistic': array([0.20066562], dtype=float32), 'probabilities': array([0.79933435, 0.20066562], dtype=float32), 'class_ids': array([0], dtype=int64), 'classes': array([b'0'], dtype=object), 'all_class_ids': array([0, 1]), 'all_classes': array([b'0', b'1'], dtype=object)}, {'logits': array([-2.7541928], dtype=float32), 'logistic': array([0.05985029], dtype=float32), 'probabilities': array([0.9401497 , 0.05985029], dtype=float32), 'class_ids': array([0], dtype=int64), 'classes': array([b'0'], dtype=object), 'all_class_ids': array([0, 1]), 'all_classes': array([b'0', b'1'], dtype=object)}, {'logits': array([0.2664089], dtype=float32), 'logistic': array([0.56621104], dtype=float32), 'probabilities': array([0.43378893, 0.5662111 ], dtype=float32), 'class_ids': array([1], dtype=int64), 'classes': array([b'1'], dtype=object), 'all_class_ids': array([0, 1]), 'all_classes': array([b'0', b'1'], dtype=object)}, {'logits': array([-0.11416761], dtype=float32), 'logistic': array([0.47148904], dtype=float32), 'probabilities': array([0.5285109 , 0.47148904], dtype=float32), 'class_ids': array([0], dtype=int64), 'classes': array([b'0'], dtype=object), 'all_class_ids': array([0, 1]), 'all_classes': array([b'0', b'1'], dtype=object)}, {'logits': array([-3.3213956], dtype=float32), 'logistic': array([0.03484444], dtype=float32), 'probabilities': array([0.96515554, 0.03484444], dtype=float32), 'class_ids': array([0], dtype=int64), 'classes': array([b'0'], dtype=object), 'all_class_ids': array([0, 1]), 'all_classes': array([b'0', b'1'], dtype=object)}, {'logits': array([-2.02949], dtype=float32), 'logistic': array([0.11614127], dtype=float32), 'probabilities': array([0.88385874, 0.11614127], dtype=float32), 'class_ids': array([0], dtype=int64), 'classes': array([b'0'], dtype=object), 'all_class_ids': array([0, 1]), 'all_classes': array([b'0', b'1'], dtype=object)}, {'logits': array([0.86242884], dtype=float32), 'logistic': array([0.70316786], dtype=float32), 'probabilities': array([0.29683214, 0.70316786], dtype=float32), 'class_ids': array([1], dtype=int64), 'classes': array([b'1'], dtype=object), 'all_class_ids': array([0, 1]), 'all_classes': array([b'0', b'1'], dtype=object)}, {'logits': array([-0.8853474], dtype=float32), 'logistic': array([0.29207087], dtype=float32), 'probabilities': array([0.7079291 , 0.29207087], dtype=float32), 'class_ids': array([0], dtype=int64), 'classes': array([b'0'], dtype=object), 'all_class_ids': array([0, 1]), 'all_classes': array([b'0', b'1'], dtype=object)}, {'logits': array([0.86858416], dtype=float32), 'logistic': array([0.704451], dtype=float32), 'probabilities': array([0.29554898, 0.70445096], dtype=float32), 'class_ids': array([1], dtype=int64), 'classes': array([b'1'], dtype=object), 'all_class_ids': array([0, 1]), 'all_classes': array([b'0', b'1'], dtype=object)}, {'logits': array([-0.88843566], dtype=float32), 'logistic': array([0.29143277], dtype=float32), 'probabilities': array([0.70856726, 0.29143277], dtype=float32), 'class_ids': array([0], dtype=int64), 'classes': array([b'0'], dtype=object), 'all_class_ids': array([0, 1]), 'all_classes': array([b'0', b'1'], dtype=object)}, {'logits': array([-2.7797], dtype=float32), 'logistic': array([0.05843106], dtype=float32), 'probabilities': array([0.9415689 , 0.05843106], dtype=float32), 'class_ids': array([0], dtype=int64), 'classes': array([b'0'], dtype=object), 'all_class_ids': array([0, 1]), 'all_classes': array([b'0', b'1'], dtype=object)}, {'logits': array([-2.5038419], dtype=float32), 'logistic': array([0.07558929], dtype=float32), 'probabilities': array([0.92441076, 0.07558929], dtype=float32), 'class_ids': array([0], dtype=int64), 'classes': array([b'0'], dtype=object), 'all_class_ids': array([0, 1]), 'all_classes': array([b'0', b'1'], dtype=object)}, {'logits': array([-2.3955393], dtype=float32), 'logistic': array([0.08351348], dtype=float32), 'probabilities': array([0.91648644, 0.08351347], dtype=float32), 'class_ids': array([0], dtype=int64), 'classes': array([b'0'], dtype=object), 'all_class_ids': array([0, 1]), 'all_classes': array([b'0', b'1'], dtype=object)}, {'logits': array([-4.413198], dtype=float32), 'logistic': array([0.01197132], dtype=float32), 'probabilities': array([0.9880287 , 0.01197132], dtype=float32), 'class_ids': array([0], dtype=int64), 'classes': array([b'0'], dtype=object), 'all_class_ids': array([0, 1]), 'all_classes': array([b'0', b'1'], dtype=object)}, {'logits': array([1.2784144], dtype=float32), 'logistic': array([0.7821797], dtype=float32), 'probabilities': array([0.21782026, 0.7821798 ], dtype=float32), 'class_ids': array([1], dtype=int64), 'classes': array([b'1'], dtype=object), 'all_class_ids': array([0, 1]), 'all_classes': array([b'0', b'1'], dtype=object)}, {'logits': array([0.21692988], dtype=float32), 'logistic': array([0.55402076], dtype=float32), 'probabilities': array([0.4459792, 0.5540208], dtype=float32), 'class_ids': array([1], dtype=int64), 'classes': array([b'1'], dtype=object), 'all_class_ids': array([0, 1]), 'all_classes': array([b'0', b'1'], dtype=object)}, {'logits': array([-2.2785892], dtype=float32), 'logistic': array([0.09291179], dtype=float32), 'probabilities': array([0.9070883 , 0.09291179], dtype=float32), 'class_ids': array([0], dtype=int64), 'classes': array([b'0'], dtype=object), 'all_class_ids': array([0, 1]), 'all_classes': array([b'0', b'1'], dtype=object)}, {'logits': array([-1.7143145], dtype=float32), 'logistic': array([0.15260495], dtype=float32), 'probabilities': array([0.84739506, 0.15260495], dtype=float32), 'class_ids': array([0], dtype=int64), 'classes': array([b'0'], dtype=object), 'all_class_ids': array([0, 1]), 'all_classes': array([b'0', b'1'], dtype=object)}, {'logits': array([1.0478884], dtype=float32), 'logistic': array([0.7403692], dtype=float32), 'probabilities': array([0.2596308, 0.7403692], dtype=float32), 'class_ids': array([1], dtype=int64), 'classes': array([b'1'], dtype=object), 'all_class_ids': array([0, 1]), 'all_classes': array([b'0', b'1'], dtype=object)}, {'logits': array([-0.82425004], dtype=float32), 'logistic': array([0.30486223], dtype=float32), 'probabilities': array([0.69513774, 0.30486223], dtype=float32), 'class_ids': array([0], dtype=int64), 'classes': array([b'0'], dtype=object), 'all_class_ids': array([0, 1]), 'all_classes': array([b'0', b'1'], dtype=object)}, {'logits': array([-2.7818313], dtype=float32), 'logistic': array([0.05831391], dtype=float32), 'probabilities': array([0.94168603, 0.05831391], dtype=float32), 'class_ids': array([0], dtype=int64), 'classes': array([b'0'], dtype=object), 'all_class_ids': array([0, 1]), 'all_classes': array([b'0', b'1'], dtype=object)}, {'logits': array([0.68461925], dtype=float32), 'logistic': array([0.66476893], dtype=float32), 'probabilities': array([0.3352311, 0.6647689], dtype=float32), 'class_ids': array([1], dtype=int64), 'classes': array([b'1'], dtype=object), 'all_class_ids': array([0, 1]), 'all_classes': array([b'0', b'1'], dtype=object)}, {'logits': array([0.7360104], dtype=float32), 'logistic': array([0.67612284], dtype=float32), 'probabilities': array([0.3238772 , 0.67612284], dtype=float32), 'class_ids': array([1], dtype=int64), 'classes': array([b'1'], dtype=object), 'all_class_ids': array([0, 1]), 'all_classes': array([b'0', b'1'], dtype=object)}, {'logits': array([-2.9634802], dtype=float32), 'logistic': array([0.04910326], dtype=float32), 'probabilities': array([0.9508968 , 0.04910326], dtype=float32), 'class_ids': array([0], dtype=int64), 'classes': array([b'0'], dtype=object), 'all_class_ids': array([0, 1]), 'all_classes': array([b'0', b'1'], dtype=object)}, {'logits': array([-0.51965076], dtype=float32), 'logistic': array([0.3729339], dtype=float32), 'probabilities': array([0.6270661, 0.3729339], dtype=float32), 'class_ids': array([0], dtype=int64), 'classes': array([b'0'], dtype=object), 'all_class_ids': array([0, 1]), 'all_classes': array([b'0', b'1'], dtype=object)}, {'logits': array([-1.9919673], dtype=float32), 'logistic': array([0.12004888], dtype=float32), 'probabilities': array([0.87995106, 0.12004887], dtype=float32), 'class_ids': array([0], dtype=int64), 'classes': array([b'0'], dtype=object), 'all_class_ids': array([0, 1]), 'all_classes': array([b'0', b'1'], dtype=object)}, {'logits': array([-1.0348077], dtype=float32), 'logistic': array([0.2621531], dtype=float32), 'probabilities': array([0.7378469, 0.2621531], dtype=float32), 'class_ids': array([0], dtype=int64), 'classes': array([b'0'], dtype=object), 'all_class_ids': array([0, 1]), 'all_classes': array([b'0', b'1'], dtype=object)}]\n"
     ]
    }
   ],
   "source": [
    "result = list(linear_est.predict(eval_input_fn))\n",
    "print(result)"
   ]
  },
  {
   "cell_type": "code",
   "execution_count": 17,
   "id": "607f1869",
   "metadata": {},
   "outputs": [
    {
     "name": "stdout",
     "output_type": "stream",
     "text": [
      "[0.954074   0.04592603]\n"
     ]
    }
   ],
   "source": [
    "print(result[0]['probabilities']) #probability of survival"
   ]
  },
  {
   "cell_type": "code",
   "execution_count": null,
   "id": "256f1af0",
   "metadata": {},
   "outputs": [],
   "source": []
  }
 ],
 "metadata": {
  "kernelspec": {
   "display_name": "Python 3 (ipykernel)",
   "language": "python",
   "name": "python3"
  },
  "language_info": {
   "codemirror_mode": {
    "name": "ipython",
    "version": 3
   },
   "file_extension": ".py",
   "mimetype": "text/x-python",
   "name": "python",
   "nbconvert_exporter": "python",
   "pygments_lexer": "ipython3",
   "version": "3.9.12"
  }
 },
 "nbformat": 4,
 "nbformat_minor": 5
}
