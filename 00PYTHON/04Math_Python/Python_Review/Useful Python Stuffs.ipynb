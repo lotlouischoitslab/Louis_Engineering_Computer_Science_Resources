{
 "cells": [
  {
   "cell_type": "markdown",
   "id": "b3b92c5a",
   "metadata": {},
   "source": [
    "# Basic stuff to know"
   ]
  },
  {
   "cell_type": "code",
   "execution_count": 1,
   "id": "3e68460b",
   "metadata": {},
   "outputs": [
    {
     "name": "stdout",
     "output_type": "stream",
     "text": [
      "<class 'float'> <class 'int'>\n"
     ]
    }
   ],
   "source": [
    "a = 2\n",
    "b = 3.0\n",
    "c = a+b\n",
    "d = 2*a\n",
    "print(type(c),type(d))"
   ]
  },
  {
   "cell_type": "code",
   "execution_count": 7,
   "id": "a35c81a2",
   "metadata": {},
   "outputs": [
    {
     "name": "stdout",
     "output_type": "stream",
     "text": [
      "[1, 2, 3, 4]\n",
      "[1, 2, 3, 4]\n"
     ]
    },
    {
     "data": {
      "text/plain": [
       "True"
      ]
     },
     "execution_count": 7,
     "metadata": {},
     "output_type": "execute_result"
    }
   ],
   "source": [
    "a = [1,2,3]\n",
    "b = a\n",
    "b.append(4)\n",
    "print(a)\n",
    "print(b)\n",
    "a is b"
   ]
  },
  {
   "cell_type": "code",
   "execution_count": 8,
   "id": "fc441545",
   "metadata": {},
   "outputs": [
    {
     "name": "stdout",
     "output_type": "stream",
     "text": [
      "IS   False\n",
      "EQUAL True\n"
     ]
    }
   ],
   "source": [
    "a = [1,2,3]\n",
    "b = [1,2,3]\n",
    "print(\"IS  \", a is b)\n",
    "print(\"EQUAL\", a == b)"
   ]
  },
  {
   "cell_type": "code",
   "execution_count": 9,
   "id": "8be048d8",
   "metadata": {},
   "outputs": [
    {
     "name": "stdout",
     "output_type": "stream",
     "text": [
      "IS   True\n",
      "EQUAL True\n"
     ]
    }
   ],
   "source": [
    "a = [1,2,3]\n",
    "b = a\n",
    "print(\"IS  \", a is b)\n",
    "print(\"EQUAL\", a == b)"
   ]
  },
  {
   "cell_type": "code",
   "execution_count": 11,
   "id": "4cc5caa8",
   "metadata": {},
   "outputs": [
    {
     "name": "stdout",
     "output_type": "stream",
     "text": [
      "[1, 2, 3]\n",
      "[1, 2, 3, 4]\n",
      "[1, 2, 3]\n",
      "[1, 2, 3, 4, 4]\n"
     ]
    },
    {
     "data": {
      "text/plain": [
       "False"
      ]
     },
     "execution_count": 11,
     "metadata": {},
     "output_type": "execute_result"
    }
   ],
   "source": [
    "a = [1,2,3]\n",
    "b = a\n",
    "a = a + [4]\n",
    "print(b)\n",
    "print(a)\n",
    "a is b\n",
    "a += [4]\n",
    "print(b)\n",
    "print(a)\n",
    "a is b"
   ]
  },
  {
   "cell_type": "code",
   "execution_count": 18,
   "id": "67c5fc27",
   "metadata": {},
   "outputs": [
    {
     "name": "stdout",
     "output_type": "stream",
     "text": [
      "['hello', 'goodbye', 'hey']\n",
      "['hello', 'goodbye', 'hey', 'hey']\n",
      "False\n"
     ]
    }
   ],
   "source": [
    "a = ['hello','goodbye']\n",
    "b = 'hey'\n",
    "a.append(b)\n",
    "c = a + [b]\n",
    "print(a)\n",
    "print(c)\n",
    "print(a == c)"
   ]
  },
  {
   "cell_type": "code",
   "execution_count": 16,
   "id": "651e1111",
   "metadata": {},
   "outputs": [
    {
     "name": "stdout",
     "output_type": "stream",
     "text": [
      "['hello', 'goodbye', 'hey']\n",
      "['hello', 'goodbye', 'hey']\n",
      "True\n"
     ]
    }
   ],
   "source": [
    "a = ['hello','goodbye']\n",
    "b = 'hey'\n",
    "c = a + [b]\n",
    "a.append(b)\n",
    "print(a)\n",
    "print(c)\n",
    "print(a == c)"
   ]
  },
  {
   "cell_type": "code",
   "execution_count": 17,
   "id": "432d0b79",
   "metadata": {},
   "outputs": [
    {
     "name": "stdout",
     "output_type": "stream",
     "text": [
      "['hello', 'goodbye', 'h', 'e', 'y']\n",
      "['hello', 'goodbye', 'hey']\n",
      "False\n"
     ]
    }
   ],
   "source": [
    "a = ['hello','goodbye']\n",
    "b = 'hey'\n",
    "c = a + [b]\n",
    "a += b\n",
    "print(a)\n",
    "print(c)\n",
    "print(a == c)"
   ]
  },
  {
   "cell_type": "code",
   "execution_count": 19,
   "id": "21edb0d1",
   "metadata": {},
   "outputs": [
    {
     "name": "stdout",
     "output_type": "stream",
     "text": [
      "['pear', ['apple', 'fish'], ['apple', 'fish']]\n"
     ]
    }
   ],
   "source": [
    "fruit = 'apple'\n",
    "lunch = []\n",
    "lunch.append(fruit)\n",
    "\n",
    "dinner = lunch\n",
    "dinner.append('fish')\n",
    "\n",
    "fruit = 'pear'\n",
    "\n",
    "meals = [fruit,lunch,dinner]\n",
    "print(meals)"
   ]
  },
  {
   "cell_type": "code",
   "execution_count": 23,
   "id": "e4395043",
   "metadata": {},
   "outputs": [
    {
     "name": "stdout",
     "output_type": "stream",
     "text": [
      "computer_science ['electrical', 'physics']\n"
     ]
    }
   ],
   "source": [
    "John = 'computer_science'\n",
    "Tim = John\n",
    "Tim += ', math'\n",
    "Anna = ['electrical']\n",
    "Julie = Anna\n",
    "Julie += ['physics']\n",
    "print(John,Anna)"
   ]
  },
  {
   "cell_type": "code",
   "execution_count": 24,
   "id": "2899e8ad",
   "metadata": {},
   "outputs": [
    {
     "data": {
      "text/plain": [
       "[9, 7, 5, 3, 1]"
      ]
     },
     "execution_count": 24,
     "metadata": {},
     "output_type": "execute_result"
    }
   ],
   "source": [
    "a = [0,1,2,3,4,5,6,7,8,9]\n",
    "a[1::2][::-1]"
   ]
  },
  {
   "cell_type": "code",
   "execution_count": 25,
   "id": "39a948f8",
   "metadata": {},
   "outputs": [
    {
     "data": {
      "text/plain": [
       "[0, 49, 196, 441, 784, 1225, 1764, 2401]"
      ]
     },
     "execution_count": 25,
     "metadata": {},
     "output_type": "execute_result"
    }
   ],
   "source": [
    "mylist = []\n",
    "\n",
    "for i in range(50):\n",
    "    if i % 7 == 0:\n",
    "        mylist.append(i**2)\n",
    "\n",
    "mylist"
   ]
  },
  {
   "cell_type": "code",
   "execution_count": 26,
   "id": "55f481fc",
   "metadata": {},
   "outputs": [
    {
     "name": "stdout",
     "output_type": "stream",
     "text": [
      "['computer_science', 'math'] ['computer_science', 'math']\n"
     ]
    }
   ],
   "source": [
    "def add_minor(person):\n",
    "    person.append('math')\n",
    "\n",
    "def switch_majors(person):\n",
    "    person = ['physics']\n",
    "    person.append('economics')\n",
    "\n",
    "John = ['computer_science']\n",
    "Tim = John\n",
    "add_minor(Tim)\n",
    "switch_majors(John)\n",
    "print(John,Tim)"
   ]
  },
  {
   "cell_type": "code",
   "execution_count": 29,
   "id": "b09ce032",
   "metadata": {},
   "outputs": [
    {
     "ename": "TypeError",
     "evalue": "getvar() takes 0 positional arguments but 1 was given",
     "output_type": "error",
     "traceback": [
      "\u001b[1;31m---------------------------------------------------------------------------\u001b[0m",
      "\u001b[1;31mTypeError\u001b[0m                                 Traceback (most recent call last)",
      "\u001b[1;32m<ipython-input-29-4a8695fee505>\u001b[0m in \u001b[0;36m<module>\u001b[1;34m\u001b[0m\n\u001b[0;32m      9\u001b[0m \u001b[1;33m\u001b[0m\u001b[0m\n\u001b[0;32m     10\u001b[0m \u001b[0mobj\u001b[0m \u001b[1;33m=\u001b[0m \u001b[0mtest\u001b[0m\u001b[1;33m(\u001b[0m\u001b[1;33m)\u001b[0m\u001b[1;33m\u001b[0m\u001b[1;33m\u001b[0m\u001b[0m\n\u001b[1;32m---> 11\u001b[1;33m \u001b[0mprint\u001b[0m\u001b[1;33m(\u001b[0m\u001b[0mobj\u001b[0m\u001b[1;33m.\u001b[0m\u001b[0mgetvar\u001b[0m\u001b[1;33m(\u001b[0m\u001b[1;33m)\u001b[0m\u001b[1;33m)\u001b[0m\u001b[1;33m\u001b[0m\u001b[1;33m\u001b[0m\u001b[0m\n\u001b[0m",
      "\u001b[1;31mTypeError\u001b[0m: getvar() takes 0 positional arguments but 1 was given"
     ]
    }
   ],
   "source": [
    "class test:\n",
    "    def _init_(self):\n",
    "        self.variable = 'Old'\n",
    "        self.Change(self.variable)\n",
    "    def Change(self,var):\n",
    "        var = 'New'\n",
    "    def getvar():\n",
    "        return var\n",
    "\n",
    "obj = test()\n",
    "print(obj.getvar())"
   ]
  }
 ],
 "metadata": {
  "kernelspec": {
   "display_name": "Python 3",
   "language": "python",
   "name": "python3"
  },
  "language_info": {
   "codemirror_mode": {
    "name": "ipython",
    "version": 3
   },
   "file_extension": ".py",
   "mimetype": "text/x-python",
   "name": "python",
   "nbconvert_exporter": "python",
   "pygments_lexer": "ipython3",
   "version": "3.8.8"
  }
 },
 "nbformat": 4,
 "nbformat_minor": 5
}
