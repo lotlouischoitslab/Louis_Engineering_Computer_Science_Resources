{
 "cells": [
  {
   "cell_type": "markdown",
   "id": "4dc88d98",
   "metadata": {},
   "source": [
    "## Count number of paths"
   ]
  },
  {
   "cell_type": "code",
   "execution_count": 1,
   "id": "fbcebd1c",
   "metadata": {},
   "outputs": [],
   "source": [
    "def count(row,col):\n",
    "    if row == 1 or col == 1:\n",
    "        return 1\n",
    "    \n",
    "    left = count(row-1,col)\n",
    "    right = count(row,col-1)\n",
    "    return left + right"
   ]
  },
  {
   "cell_type": "code",
   "execution_count": 2,
   "id": "337fbfde",
   "metadata": {},
   "outputs": [
    {
     "data": {
      "text/plain": [
       "6"
      ]
     },
     "execution_count": 2,
     "metadata": {},
     "output_type": "execute_result"
    }
   ],
   "source": [
    "#let's have a maze of 3 x 3\n",
    "row = 3\n",
    "col = 3\n",
    "length_of_path = count(row,col)\n",
    "length_of_path"
   ]
  },
  {
   "cell_type": "markdown",
   "id": "7cfecfd7",
   "metadata": {},
   "source": [
    "## Longest Increasing Subsequence"
   ]
  },
  {
   "cell_type": "markdown",
   "id": "9c55036f",
   "metadata": {},
   "source": [
    "**Recursive Solution**"
   ]
  },
  {
   "cell_type": "code",
   "execution_count": 42,
   "id": "948028dd",
   "metadata": {},
   "outputs": [],
   "source": [
    "def lisr(i,j,A):\n",
    "    if j >= len(A):\n",
    "        return 1\n",
    "    if A[i] >= A[j] and j < len(A):\n",
    "        return lisr(i,j+1,A)\n",
    "    else:\n",
    "        return max(lisr(i,j+1,A), 1+lisr(j,j+1,A) )"
   ]
  },
  {
   "cell_type": "code",
   "execution_count": 43,
   "id": "8f07800d",
   "metadata": {},
   "outputs": [
    {
     "name": "stdout",
     "output_type": "stream",
     "text": [
      "3\n"
     ]
    }
   ],
   "source": [
    "arr = [1,2,4,3]\n",
    "nums = lisr(0,1,arr)\n",
    "print(nums)"
   ]
  },
  {
   "cell_type": "markdown",
   "id": "f5b7c8ca",
   "metadata": {},
   "source": [
    "**Dynamic Programming Solution**"
   ]
  },
  {
   "cell_type": "code",
   "execution_count": 44,
   "id": "1e354619",
   "metadata": {},
   "outputs": [],
   "source": [
    "def dplis(A):\n",
    "    to_ret = [1]*(len(A)+1)\n",
    "    for i in range(len(A)-1,-1,-1):\n",
    "        for j in range(i+1,len(A)):\n",
    "            if A[i] < A[j]:\n",
    "                to_ret[j] = max(to_ret[i],1+to_ret[j])\n",
    "    return max(to_ret)"
   ]
  },
  {
   "cell_type": "code",
   "execution_count": 45,
   "id": "05088059",
   "metadata": {},
   "outputs": [
    {
     "name": "stdout",
     "output_type": "stream",
     "text": [
      "3\n"
     ]
    }
   ],
   "source": [
    "arr = [1,2,4,3]\n",
    "nums = dplis(arr)\n",
    "print(nums)"
   ]
  },
  {
   "cell_type": "markdown",
   "id": "826569e0",
   "metadata": {},
   "source": [
    "### Longest Decreasing Subsequence"
   ]
  },
  {
   "cell_type": "markdown",
   "id": "73c93bf3",
   "metadata": {},
   "source": [
    "**Recursive Approach**"
   ]
  },
  {
   "cell_type": "code",
   "execution_count": 21,
   "id": "12f65c54",
   "metadata": {},
   "outputs": [],
   "source": [
    "def lds(i,j,A):\n",
    "    if j >= len(A):\n",
    "        return 0\n",
    "    if A[i] <= A[j] and j < len(A):\n",
    "        return lds(i,j+1,A)\n",
    "    return max(lds(i,j+1,A),1+lds(j,j+1,A))"
   ]
  },
  {
   "cell_type": "code",
   "execution_count": 22,
   "id": "41b9774d",
   "metadata": {},
   "outputs": [
    {
     "name": "stdout",
     "output_type": "stream",
     "text": [
      "2\n"
     ]
    }
   ],
   "source": [
    "arr = [4,2,1,3]\n",
    "nums = lds(0,1,arr)\n",
    "print(nums)"
   ]
  },
  {
   "cell_type": "markdown",
   "id": "01148836",
   "metadata": {},
   "source": [
    "**Dynamic Programming Approach**"
   ]
  },
  {
   "cell_type": "code",
   "execution_count": 23,
   "id": "7feb7347",
   "metadata": {},
   "outputs": [],
   "source": [
    "def dpdlds(A):\n",
    "    ret_list = [1]*len(A)\n",
    "    \n",
    "    for i in range(len(A)-1,-1,-1):\n",
    "        for j in range(i+1,len(A)):\n",
    "            if A[i] > A[j]:\n",
    "                ret_list[i] = max(ret_list[i],1+ret_list[j])\n",
    "    print(ret_list)\n",
    "    return max(ret_list)"
   ]
  },
  {
   "cell_type": "code",
   "execution_count": 24,
   "id": "a092b048",
   "metadata": {},
   "outputs": [
    {
     "name": "stdout",
     "output_type": "stream",
     "text": [
      "[3, 2, 1, 1]\n",
      "3\n"
     ]
    }
   ],
   "source": [
    "arr = [4,2,1,3]\n",
    "nums = dpdlds(arr)\n",
    "print(nums)"
   ]
  },
  {
   "cell_type": "markdown",
   "id": "7db01464",
   "metadata": {},
   "source": [
    "### Longest Alternating Subsequence"
   ]
  },
  {
   "cell_type": "markdown",
   "id": "cf91ecc7",
   "metadata": {},
   "source": [
    "**Recursive Approach**"
   ]
  },
  {
   "cell_type": "code",
   "execution_count": null,
   "id": "2810cd0d",
   "metadata": {},
   "outputs": [],
   "source": [
    "def las(i,j,arr):\n",
    "    dp = {}\n",
    "    if i == len(arr):\n",
    "        return 0\n",
    "    if (i,even) in dp:\n",
    "        return dp[(i,even)]\n",
    "    if even:\n",
    "        total = nums[i]\n",
    "    else:\n",
    "        total = -1*nums[i]\n",
    "    \n",
    "    dp[(i,even)] = max(total+las(i+1,not even),dfs(i+1,even))\n",
    "    return dp[(i,even)]\n",
    "    return las()"
   ]
  },
  {
   "cell_type": "markdown",
   "id": "b3d156e0",
   "metadata": {},
   "source": [
    "**Dynamic Programming Approach**"
   ]
  },
  {
   "cell_type": "code",
   "execution_count": null,
   "id": "17f3744a",
   "metadata": {},
   "outputs": [],
   "source": []
  }
 ],
 "metadata": {
  "kernelspec": {
   "display_name": "Python 3 (ipykernel)",
   "language": "python",
   "name": "python3"
  },
  "language_info": {
   "codemirror_mode": {
    "name": "ipython",
    "version": 3
   },
   "file_extension": ".py",
   "mimetype": "text/x-python",
   "name": "python",
   "nbconvert_exporter": "python",
   "pygments_lexer": "ipython3",
   "version": "3.9.12"
  }
 },
 "nbformat": 4,
 "nbformat_minor": 5
}
