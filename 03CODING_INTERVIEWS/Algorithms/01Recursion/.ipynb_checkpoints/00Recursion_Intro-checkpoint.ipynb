{
 "cells": [
  {
   "cell_type": "markdown",
   "id": "3b753237",
   "metadata": {},
   "source": [
    "## Fibonnaci Numbers"
   ]
  },
  {
   "cell_type": "code",
   "execution_count": 60,
   "id": "d522384b",
   "metadata": {},
   "outputs": [],
   "source": [
    "def fibo(n):\n",
    "    if n == 0:\n",
    "        return 0\n",
    "    if n == 1:\n",
    "        return 1\n",
    "    return fibo(n-1)+fibo(n-2)"
   ]
  },
  {
   "cell_type": "code",
   "execution_count": 61,
   "id": "cdd92192",
   "metadata": {},
   "outputs": [
    {
     "data": {
      "text/plain": [
       "8"
      ]
     },
     "execution_count": 61,
     "metadata": {},
     "output_type": "execute_result"
    }
   ],
   "source": [
    "fibo(6)"
   ]
  },
  {
   "cell_type": "markdown",
   "id": "b6ed2c5b",
   "metadata": {},
   "source": [
    "## Factorial"
   ]
  },
  {
   "cell_type": "code",
   "execution_count": 62,
   "id": "5dc987f2",
   "metadata": {},
   "outputs": [],
   "source": [
    "def fact(n):\n",
    "    if n == 0:\n",
    "        return 1\n",
    "    return n*fact(n-1)"
   ]
  },
  {
   "cell_type": "code",
   "execution_count": 63,
   "id": "ce277aa1",
   "metadata": {},
   "outputs": [
    {
     "data": {
      "text/plain": [
       "120"
      ]
     },
     "execution_count": 63,
     "metadata": {},
     "output_type": "execute_result"
    }
   ],
   "source": [
    "fact(5)"
   ]
  },
  {
   "cell_type": "markdown",
   "id": "f266a31d",
   "metadata": {},
   "source": [
    "## Sum of Digits\n",
    "N = 1342"
   ]
  },
  {
   "cell_type": "code",
   "execution_count": 64,
   "id": "3662fcfc",
   "metadata": {},
   "outputs": [],
   "source": [
    "def sum_dig(n):\n",
    "    if n == 0:\n",
    "        return 0\n",
    "    return n%10 + sum_dig(n//10)"
   ]
  },
  {
   "cell_type": "code",
   "execution_count": 65,
   "id": "b973d694",
   "metadata": {},
   "outputs": [
    {
     "data": {
      "text/plain": [
       "10"
      ]
     },
     "execution_count": 65,
     "metadata": {},
     "output_type": "execute_result"
    }
   ],
   "source": [
    "sum_dig(1342)"
   ]
  },
  {
   "cell_type": "markdown",
   "id": "1fe45258",
   "metadata": {},
   "source": [
    "## Product of Digits"
   ]
  },
  {
   "cell_type": "code",
   "execution_count": 66,
   "id": "4d7f778c",
   "metadata": {},
   "outputs": [],
   "source": [
    "def pro_dig(n):\n",
    "    if n == 0:\n",
    "        return 1\n",
    "    return (n%10)*pro_dig(n//10)"
   ]
  },
  {
   "cell_type": "code",
   "execution_count": 67,
   "id": "cadca921",
   "metadata": {},
   "outputs": [
    {
     "data": {
      "text/plain": [
       "24"
      ]
     },
     "execution_count": 67,
     "metadata": {},
     "output_type": "execute_result"
    }
   ],
   "source": [
    "pro_dig(1342)"
   ]
  },
  {
   "cell_type": "markdown",
   "id": "1c9f10a0",
   "metadata": {},
   "source": [
    "## Reverse Number"
   ]
  },
  {
   "cell_type": "code",
   "execution_count": 68,
   "id": "005603c7",
   "metadata": {},
   "outputs": [],
   "source": [
    "import math\n",
    "def reverse(num):\n",
    "    if num < 10:\n",
    "        return num\n",
    "    else:\n",
    "        ones = num % 10\n",
    "        rest = num //10\n",
    "        return ones * 10 ** int(math.log10(rest)+1) + reverse(rest)"
   ]
  },
  {
   "cell_type": "code",
   "execution_count": 69,
   "id": "e0188d0d",
   "metadata": {},
   "outputs": [
    {
     "data": {
      "text/plain": [
       "54321"
      ]
     },
     "execution_count": 69,
     "metadata": {},
     "output_type": "execute_result"
    }
   ],
   "source": [
    "reverse(12345)"
   ]
  },
  {
   "cell_type": "code",
   "execution_count": 70,
   "id": "c206a8e0",
   "metadata": {},
   "outputs": [
    {
     "data": {
      "text/plain": [
       "54321"
      ]
     },
     "execution_count": 70,
     "metadata": {},
     "output_type": "execute_result"
    }
   ],
   "source": [
    "reverse(12345)"
   ]
  },
  {
   "cell_type": "code",
   "execution_count": 71,
   "id": "00546a15",
   "metadata": {},
   "outputs": [
    {
     "data": {
      "text/plain": [
       "321"
      ]
     },
     "execution_count": 71,
     "metadata": {},
     "output_type": "execute_result"
    }
   ],
   "source": [
    "reverse(123)"
   ]
  },
  {
   "cell_type": "markdown",
   "id": "1634ae95",
   "metadata": {},
   "source": [
    "## Palindrome"
   ]
  },
  {
   "cell_type": "code",
   "execution_count": 72,
   "id": "bbae0edc",
   "metadata": {},
   "outputs": [],
   "source": [
    "def palindrome(n):\n",
    "    return n == reverse(n)"
   ]
  },
  {
   "cell_type": "code",
   "execution_count": 73,
   "id": "94275e5f",
   "metadata": {},
   "outputs": [
    {
     "data": {
      "text/plain": [
       "True"
      ]
     },
     "execution_count": 73,
     "metadata": {},
     "output_type": "execute_result"
    }
   ],
   "source": [
    "palindrome(12321)"
   ]
  },
  {
   "cell_type": "markdown",
   "id": "0e2d1e97",
   "metadata": {},
   "source": [
    "## Count Number of Zeros"
   ]
  },
  {
   "cell_type": "code",
   "execution_count": 76,
   "id": "3734ca2f",
   "metadata": {},
   "outputs": [],
   "source": [
    "def zeros(num):\n",
    "    count = 0\n",
    "    return zero_help(num,count)\n",
    "\n",
    "def zero_help(num,count):\n",
    "    if num == 0:\n",
    "        return count\n",
    "    if num%10 == 0:\n",
    "        count+=1\n",
    "    return zero_help(num//10,count)"
   ]
  },
  {
   "cell_type": "code",
   "execution_count": 77,
   "id": "143d2f84",
   "metadata": {},
   "outputs": [
    {
     "data": {
      "text/plain": [
       "2"
      ]
     },
     "execution_count": 77,
     "metadata": {},
     "output_type": "execute_result"
    }
   ],
   "source": [
    "zeros(30204)"
   ]
  },
  {
   "cell_type": "markdown",
   "id": "cbb08698",
   "metadata": {},
   "source": [
    "### [Number of Steps to Reduce a Number to Zero](https://leetcode.com/problems/number-of-steps-to-reduce-a-number-to-zero/)"
   ]
  },
  {
   "cell_type": "code",
   "execution_count": 1,
   "id": "4b9298fe",
   "metadata": {},
   "outputs": [],
   "source": [
    "def numberOfSteps(num):\n",
    "    total = 0\n",
    "    return myhelper(num,total)\n",
    "\n",
    "def myhelper(num,total):\n",
    "    if num == 0:\n",
    "        return total\n",
    "    elif num%2 == 0:\n",
    "        return myhelper(num//2,total+1)\n",
    "    else:\n",
    "        return myhelper(num-1,total+1)"
   ]
  },
  {
   "cell_type": "code",
   "execution_count": 2,
   "id": "96d9a29f",
   "metadata": {},
   "outputs": [
    {
     "data": {
      "text/plain": [
       "6"
      ]
     },
     "execution_count": 2,
     "metadata": {},
     "output_type": "execute_result"
    }
   ],
   "source": [
    "numberOfSteps(14)"
   ]
  },
  {
   "cell_type": "code",
   "execution_count": null,
   "id": "9ae101fd",
   "metadata": {},
   "outputs": [],
   "source": []
  }
 ],
 "metadata": {
  "kernelspec": {
   "display_name": "Python 3 (ipykernel)",
   "language": "python",
   "name": "python3"
  },
  "language_info": {
   "codemirror_mode": {
    "name": "ipython",
    "version": 3
   },
   "file_extension": ".py",
   "mimetype": "text/x-python",
   "name": "python",
   "nbconvert_exporter": "python",
   "pygments_lexer": "ipython3",
   "version": "3.9.12"
  }
 },
 "nbformat": 4,
 "nbformat_minor": 5
}
