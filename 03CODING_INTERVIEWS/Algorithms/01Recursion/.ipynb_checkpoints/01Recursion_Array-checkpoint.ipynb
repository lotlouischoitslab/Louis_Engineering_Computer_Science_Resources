{
 "cells": [
  {
   "cell_type": "markdown",
   "id": "aab432a1",
   "metadata": {},
   "source": [
    "## Check if Array is Sorted"
   ]
  },
  {
   "cell_type": "code",
   "execution_count": 4,
   "id": "e8eeb8de",
   "metadata": {},
   "outputs": [],
   "source": [
    "def check_sort(arr):\n",
    "    return sort_helper(arr,0)\n",
    "\n",
    "def sort_helper(arr,index):\n",
    "    if index == len(arr)-1:\n",
    "        return True\n",
    "    return arr[index] < arr[index+1] and sort_helper(arr,index+1)"
   ]
  },
  {
   "cell_type": "code",
   "execution_count": 5,
   "id": "b876b416",
   "metadata": {},
   "outputs": [
    {
     "data": {
      "text/plain": [
       "True"
      ]
     },
     "execution_count": 5,
     "metadata": {},
     "output_type": "execute_result"
    }
   ],
   "source": [
    "arr = [1,2,3,4,5]\n",
    "check_sort(arr)"
   ]
  },
  {
   "cell_type": "code",
   "execution_count": 6,
   "id": "b7603cc3",
   "metadata": {},
   "outputs": [
    {
     "data": {
      "text/plain": [
       "False"
      ]
     },
     "execution_count": 6,
     "metadata": {},
     "output_type": "execute_result"
    }
   ],
   "source": [
    "arr = [1,2,8,4,5]\n",
    "check_sort(arr)"
   ]
  },
  {
   "cell_type": "markdown",
   "id": "7c16c082",
   "metadata": {},
   "source": [
    "### Recursive Search"
   ]
  },
  {
   "cell_type": "code",
   "execution_count": 8,
   "id": "3b0199d4",
   "metadata": {},
   "outputs": [],
   "source": [
    "def find(arr,target):\n",
    "    return find_helper(arr,target,0)\n",
    "\n",
    "def find_helper(arr,target,index):\n",
    "    if index == len(arr):\n",
    "        return -1\n",
    "    if arr[index] == target:\n",
    "        return index\n",
    "    return find_helper(arr,target,index+1)"
   ]
  },
  {
   "cell_type": "code",
   "execution_count": 10,
   "id": "6f9f3e2b",
   "metadata": {},
   "outputs": [
    {
     "data": {
      "text/plain": [
       "2"
      ]
     },
     "execution_count": 10,
     "metadata": {},
     "output_type": "execute_result"
    }
   ],
   "source": [
    "arr = [1,2,8,4,5]\n",
    "target = 8\n",
    "find(arr,target)"
   ]
  },
  {
   "cell_type": "markdown",
   "id": "88654da1",
   "metadata": {},
   "source": [
    "## Return where target is equal to"
   ]
  },
  {
   "cell_type": "code",
   "execution_count": 15,
   "id": "75c8c3ef",
   "metadata": {},
   "outputs": [],
   "source": [
    "def make_array(arr,target):\n",
    "    to_return = []\n",
    "    index = 0\n",
    "    return array_helper(arr,target,to_return,index)\n",
    "\n",
    "def array_helper(arr,target,to_return,index):\n",
    "    if index == len(arr)-1:\n",
    "        return to_return\n",
    "    if arr[index] == target:\n",
    "        to_return.append(index)\n",
    "    return array_helper(arr,target,to_return,index+1)"
   ]
  },
  {
   "cell_type": "code",
   "execution_count": 17,
   "id": "f1ab80b6",
   "metadata": {},
   "outputs": [
    {
     "data": {
      "text/plain": [
       "[3, 4]"
      ]
     },
     "execution_count": 17,
     "metadata": {},
     "output_type": "execute_result"
    }
   ],
   "source": [
    "arr = [1,2,3,4,4,5]\n",
    "target = 4\n",
    "make_array(arr,target)"
   ]
  },
  {
   "cell_type": "markdown",
   "id": "fa7ea50a",
   "metadata": {},
   "source": [
    "## Binary Search"
   ]
  },
  {
   "cell_type": "code",
   "execution_count": 5,
   "id": "3c60e0e4",
   "metadata": {},
   "outputs": [],
   "source": [
    "def binary_search(arr,target):\n",
    "    return binary_search_helper(arr,target,0,len(arr)-1)\n",
    "\n",
    "def binary_search_helper(arr,target,start,end):\n",
    "    if start > end:\n",
    "        return -1\n",
    "    \n",
    "    middle = (start + end)//2\n",
    "    \n",
    "    if arr[middle] == target:\n",
    "        return middle\n",
    "    \n",
    "    elif arr[middle] > target:\n",
    "        return binary_search_helper(arr,target,start,middle-1)\n",
    "    \n",
    "    else:\n",
    "        return binary_search_helper(arr,target,middle+1,end)"
   ]
  },
  {
   "cell_type": "code",
   "execution_count": 6,
   "id": "d9be6b05",
   "metadata": {},
   "outputs": [
    {
     "data": {
      "text/plain": [
       "5"
      ]
     },
     "execution_count": 6,
     "metadata": {},
     "output_type": "execute_result"
    }
   ],
   "source": [
    "arr = [1,2,3,4,5,6]\n",
    "target = 6\n",
    "binary_search(arr,target)"
   ]
  },
  {
   "cell_type": "code",
   "execution_count": null,
   "id": "992d34f0",
   "metadata": {},
   "outputs": [],
   "source": []
  }
 ],
 "metadata": {
  "kernelspec": {
   "display_name": "Python 3 (ipykernel)",
   "language": "python",
   "name": "python3"
  },
  "language_info": {
   "codemirror_mode": {
    "name": "ipython",
    "version": 3
   },
   "file_extension": ".py",
   "mimetype": "text/x-python",
   "name": "python",
   "nbconvert_exporter": "python",
   "pygments_lexer": "ipython3",
   "version": "3.9.12"
  }
 },
 "nbformat": 4,
 "nbformat_minor": 5
}
