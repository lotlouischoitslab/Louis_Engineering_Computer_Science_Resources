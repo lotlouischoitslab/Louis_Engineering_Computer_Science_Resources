{
 "cells": [
  {
   "cell_type": "markdown",
   "id": "37282941",
   "metadata": {},
   "source": [
    "## Triangle Printing"
   ]
  },
  {
   "cell_type": "code",
   "execution_count": 5,
   "id": "5061c684",
   "metadata": {},
   "outputs": [
    {
     "name": "stdout",
     "output_type": "stream",
     "text": [
      "####\n",
      "####\n",
      "####\n",
      "####\n"
     ]
    }
   ],
   "source": [
    "for i in range(4):\n",
    "    for j in range(4):\n",
    "        print('#',end='')\n",
    "    print()"
   ]
  },
  {
   "cell_type": "code",
   "execution_count": 7,
   "id": "1c7fa5bb",
   "metadata": {},
   "outputs": [
    {
     "name": "stdout",
     "output_type": "stream",
     "text": [
      "#\n",
      "##\n",
      "###\n",
      "####\n"
     ]
    }
   ],
   "source": [
    "for i in range(4):\n",
    "    for j in range(i+1):\n",
    "        print('#',end='')\n",
    "    print()"
   ]
  },
  {
   "cell_type": "code",
   "execution_count": 8,
   "id": "088985f9",
   "metadata": {},
   "outputs": [
    {
     "name": "stdout",
     "output_type": "stream",
     "text": [
      "####\n",
      "###\n",
      "##\n",
      "#\n"
     ]
    }
   ],
   "source": [
    "for i in range(4):\n",
    "    for j in range(4-i):\n",
    "        print('#',end='')\n",
    "    print()"
   ]
  },
  {
   "cell_type": "markdown",
   "id": "d0e08550",
   "metadata": {},
   "source": [
    "## Bubble Sort"
   ]
  },
  {
   "cell_type": "code",
   "execution_count": 32,
   "id": "a0d84146",
   "metadata": {},
   "outputs": [],
   "source": [
    "def bubble_sort(arr):\n",
    "    bubble_sort_helper(arr,len(arr)-1,0)\n",
    "    print(arr)\n",
    "\n",
    "def bubble_sort_helper(arr,r,c):\n",
    "    if r == 0:\n",
    "        return\n",
    "    if c < r:\n",
    "        if arr[c] > arr[c+1]:\n",
    "            #Swap\n",
    "            arr[c],arr[c+1] = arr[c+1],arr[c]\n",
    "        bubble_sort_helper(arr,r,c+1)\n",
    "        \n",
    "    else:\n",
    "        bubble_sort_helper(arr,r-1,0)"
   ]
  },
  {
   "cell_type": "code",
   "execution_count": 33,
   "id": "40ea72f4",
   "metadata": {},
   "outputs": [
    {
     "name": "stdout",
     "output_type": "stream",
     "text": [
      "[1, 2, 3, 4]\n"
     ]
    }
   ],
   "source": [
    "arr = [4,3,2,1]\n",
    "bubble_sort(arr)"
   ]
  },
  {
   "cell_type": "markdown",
   "id": "52bba38f",
   "metadata": {},
   "source": [
    "## Selection Sort"
   ]
  },
  {
   "cell_type": "code",
   "execution_count": 50,
   "id": "76a0c8e5",
   "metadata": {},
   "outputs": [],
   "source": [
    "def selection_sort(arr):\n",
    "    selection_sort_helper(arr,len(arr),0,0)\n",
    "    print(arr)\n",
    "    \n",
    "def selection_sort_helper(arr,r,c,maxval):\n",
    "    if r == 0:\n",
    "        return\n",
    "    if c < r:\n",
    "        if arr[c] > arr[maxval]:\n",
    "            selection_sort_helper(arr,r,c+1,c)\n",
    "        else:\n",
    "            selection_sort_helper(arr,r,c+1,maxval)\n",
    "    else:\n",
    "        arr[maxval],arr[r-1] = arr[r-1],arr[maxval]\n",
    "        selection_sort_helper(arr,r-1,0,0)"
   ]
  },
  {
   "cell_type": "code",
   "execution_count": 51,
   "id": "47856c19",
   "metadata": {},
   "outputs": [
    {
     "name": "stdout",
     "output_type": "stream",
     "text": [
      "[1, 2, 3, 4]\n"
     ]
    }
   ],
   "source": [
    "arr = [4,3,2,1]\n",
    "selection_sort(arr)"
   ]
  },
  {
   "cell_type": "code",
   "execution_count": null,
   "id": "f51a2d98",
   "metadata": {},
   "outputs": [],
   "source": []
  }
 ],
 "metadata": {
  "kernelspec": {
   "display_name": "Python 3 (ipykernel)",
   "language": "python",
   "name": "python3"
  },
  "language_info": {
   "codemirror_mode": {
    "name": "ipython",
    "version": 3
   },
   "file_extension": ".py",
   "mimetype": "text/x-python",
   "name": "python",
   "nbconvert_exporter": "python",
   "pygments_lexer": "ipython3",
   "version": "3.9.12"
  }
 },
 "nbformat": 4,
 "nbformat_minor": 5
}
