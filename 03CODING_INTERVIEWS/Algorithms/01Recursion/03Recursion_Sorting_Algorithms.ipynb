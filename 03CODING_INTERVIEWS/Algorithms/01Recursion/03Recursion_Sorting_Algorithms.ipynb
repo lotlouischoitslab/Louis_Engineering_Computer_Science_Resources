{
 "cells": [
  {
   "cell_type": "markdown",
   "id": "f15694f5",
   "metadata": {},
   "source": [
    "### Review of Bubble Sort\n",
    "\n",
    "We know that the simple algorithm for sorting is bubble sort with a runtime with \n",
    "\n",
    "$$O(n^2)$$\n",
    "\n",
    "We will use an iterative approach here"
   ]
  },
  {
   "cell_type": "code",
   "execution_count": 1,
   "id": "98fae5fc",
   "metadata": {},
   "outputs": [],
   "source": [
    "def bubblesort(arr):\n",
    "    n = len(arr)\n",
    "    for i in range(n):\n",
    "        for j in range(n-i-1):\n",
    "            if arr[j] >= arr[j+1]:\n",
    "                arr[j],arr[j+1] = arr[j+1],arr[j]\n",
    "    \n",
    "    return arr"
   ]
  },
  {
   "cell_type": "code",
   "execution_count": 2,
   "id": "e4af8872",
   "metadata": {},
   "outputs": [
    {
     "data": {
      "text/plain": [
       "[1, 4, 5, 6, 8, 11, 20]"
      ]
     },
     "execution_count": 2,
     "metadata": {},
     "output_type": "execute_result"
    }
   ],
   "source": [
    "arr = [1,6,5,4,11,8,20]\n",
    "bubblesort(arr)"
   ]
  },
  {
   "cell_type": "markdown",
   "id": "2687a91e",
   "metadata": {},
   "source": [
    "### Review of Insertion Sort\n",
    "\n",
    "Insertion sort likewise has a runtime of \n",
    "$$ O(n^2) $$"
   ]
  },
  {
   "cell_type": "code",
   "execution_count": 3,
   "id": "2a5e8a74",
   "metadata": {},
   "outputs": [],
   "source": [
    "def insertionsort(arr):\n",
    "    n = len(arr)\n",
    "    for i in range(1,n):\n",
    "        key = arr[i]\n",
    "        j = i -1\n",
    "        while j >= 0 and key < arr[j]:\n",
    "            arr[j+1] = arr[j]\n",
    "            j -=1\n",
    "        arr[j+1] = key\n",
    "    return arr"
   ]
  },
  {
   "cell_type": "code",
   "execution_count": 4,
   "id": "45d6bd3b",
   "metadata": {},
   "outputs": [
    {
     "data": {
      "text/plain": [
       "[1, 4, 5, 6, 8, 11, 20]"
      ]
     },
     "execution_count": 4,
     "metadata": {},
     "output_type": "execute_result"
    }
   ],
   "source": [
    "arr = [1,6,5,4,11,8,20]\n",
    "insertionsort(arr)"
   ]
  },
  {
   "cell_type": "markdown",
   "id": "0fd7cef3",
   "metadata": {},
   "source": [
    "### Review of Selection Sort\n",
    "Selection sort has a runtime of \n",
    "\n",
    "$$ O(n^2) $$"
   ]
  },
  {
   "cell_type": "code",
   "execution_count": 5,
   "id": "0074fe13",
   "metadata": {},
   "outputs": [],
   "source": [
    "def selectionsort(arr):\n",
    "    n = len(arr)\n",
    "    for i in range(n):\n",
    "        min_idx = i\n",
    "        for j in range(i+1, n):\n",
    "            if arr[min_idx] > arr[j]:\n",
    "                min_idx = j\n",
    "        arr[i], arr[min_idx] = arr[min_idx], arr[i]\n",
    "    return arr"
   ]
  },
  {
   "cell_type": "code",
   "execution_count": 6,
   "id": "46174cec",
   "metadata": {},
   "outputs": [
    {
     "data": {
      "text/plain": [
       "[1, 4, 5, 6, 8, 11, 20]"
      ]
     },
     "execution_count": 6,
     "metadata": {},
     "output_type": "execute_result"
    }
   ],
   "source": [
    "arr = [1,6,5,4,11,8,20]\n",
    "selectionsort(arr)"
   ]
  },
  {
   "cell_type": "markdown",
   "id": "6e57ddec",
   "metadata": {},
   "source": [
    "### Merge Sort\n",
    "\n",
    "Now we are going to optimize the runtime to \n",
    "\n",
    "$$ O(nlogn) $$\n",
    "\n",
    "We will recursively define merge sort"
   ]
  },
  {
   "cell_type": "code",
   "execution_count": 7,
   "id": "6bfc0316",
   "metadata": {},
   "outputs": [],
   "source": [
    "def mergesort(arr):\n",
    "    if len(arr) <= 1:\n",
    "        return arr\n",
    "    \n",
    "    mid = len(arr) //2\n",
    "    left = arr[:mid]\n",
    "    right = arr[mid:]\n",
    "    \n",
    "    left = mergesort(left)\n",
    "    right = mergesort(right)\n",
    "    \n",
    "    return merge(left,right)\n",
    "        \n",
    "def merge(a,b):\n",
    "    sorted_list = []\n",
    "    len_a = len(a)\n",
    "    len_b = len(b)\n",
    "    i = j = 0\n",
    "    \n",
    "    while i < len_a and j < len_b:\n",
    "        if a[i] <= b[j]:\n",
    "            sorted_list.append(a[i])\n",
    "            i +=1\n",
    "        else:\n",
    "            sorted_list.append(b[j])\n",
    "            j +=1\n",
    "    \n",
    "    while i < len_a:\n",
    "        sorted_list.append(a[i])\n",
    "        i +=1\n",
    "    while j < len_b:\n",
    "        sorted_list.append(b[j])\n",
    "        j +=1\n",
    "        \n",
    "    return sorted_list"
   ]
  },
  {
   "cell_type": "code",
   "execution_count": 8,
   "id": "5ed0159a",
   "metadata": {},
   "outputs": [
    {
     "name": "stdout",
     "output_type": "stream",
     "text": [
      "[0, 1, 2, 2, 3, 4, 4, 4, 5, 6, 7]\n"
     ]
    }
   ],
   "source": [
    "arr = [2,3,5,1,7,4,4,4,2,6,0]\n",
    "a = mergesort(arr)\n",
    "print(a)"
   ]
  },
  {
   "cell_type": "code",
   "execution_count": 9,
   "id": "252b3bf7",
   "metadata": {},
   "outputs": [],
   "source": [
    "def mergesort(arr):\n",
    "    if len(arr) <= 1:\n",
    "        return arr\n",
    "    start = 0\n",
    "    mid = len(arr) //2\n",
    "    end = len(arr)-1\n",
    "    \n",
    "    left = arr[:mid]\n",
    "    right = arr[mid:]\n",
    "    \n",
    "    left = mergesort(left)\n",
    "    right = mergesort(right)\n",
    "    \n",
    "    return merge(left,right)\n",
    "\n",
    "def merge(left,right):\n",
    "    sorted_list = []\n",
    "    left_len = len(left)\n",
    "    right_len = len(right)\n",
    "    i = 0\n",
    "    j = 0\n",
    "    \n",
    "    while i < left_len and j < right_len:\n",
    "        if left[i] <= right[j]:\n",
    "            sorted_list.append(left[i])\n",
    "            i +=1\n",
    "        else:\n",
    "            sorted_list.append(right[j])\n",
    "            j +=1\n",
    "        \n",
    "    while i < left_len:\n",
    "        sorted_list.append(left[i])\n",
    "        i +=1\n",
    "    \n",
    "    while j < right_len:\n",
    "        sorted_list.append(right[j])\n",
    "        j += 1\n",
    "        \n",
    "    return sorted_list"
   ]
  },
  {
   "cell_type": "code",
   "execution_count": 10,
   "id": "91347b30",
   "metadata": {},
   "outputs": [
    {
     "data": {
      "text/plain": [
       "[1, 4, 5, 6, 8, 11]"
      ]
     },
     "execution_count": 10,
     "metadata": {},
     "output_type": "execute_result"
    }
   ],
   "source": [
    "arr = [1,6,5,4,8,11]\n",
    "mergesort(arr)"
   ]
  },
  {
   "cell_type": "markdown",
   "id": "4574dbc8",
   "metadata": {},
   "source": [
    "### Quicksort\n",
    "The runtime of Quicksort algorithm is \n",
    "\n",
    "$$ O(n^2) $$"
   ]
  },
  {
   "cell_type": "code",
   "execution_count": 11,
   "id": "dae873b7",
   "metadata": {},
   "outputs": [],
   "source": [
    "def partition(elements,start,end):\n",
    "    pivot_index = start\n",
    "    pivot = elements[pivot_index]\n",
    "    \n",
    "    while start < end:\n",
    "        while start < len(elements) and elements[start] <= pivot:\n",
    "            start +=1\n",
    "\n",
    "        while elements[end] > pivot:\n",
    "            end -=1\n",
    "\n",
    "        if start < end:\n",
    "            elements[end],elements[start] = elements[start],elements[end]\n",
    "\n",
    "    elements[end],elements[pivot_index] = elements[pivot_index],elements[end]\n",
    "    return end\n",
    "        \n",
    "def quicksort(elements):\n",
    "    quicksorthelper(elements,0,len(elements)-1)\n",
    "    \n",
    "def quicksorthelper(elements,start,end):\n",
    "    if start < end:\n",
    "        pi = partition(elements,start,end)\n",
    "        quicksorthelper(elements,start,pi-1)\n",
    "        quicksorthelper(elements,pi+1,end)"
   ]
  },
  {
   "cell_type": "code",
   "execution_count": 12,
   "id": "e3d1e7b4",
   "metadata": {},
   "outputs": [
    {
     "name": "stdout",
     "output_type": "stream",
     "text": [
      "[2, 7, 9, 11, 15, 28, 29]\n"
     ]
    }
   ],
   "source": [
    "arr = [11,9,29,7,2,15,28]\n",
    "quicksort(arr)\n",
    "print(arr)"
   ]
  },
  {
   "cell_type": "code",
   "execution_count": null,
   "id": "b54c0822",
   "metadata": {},
   "outputs": [],
   "source": []
  }
 ],
 "metadata": {
  "kernelspec": {
   "display_name": "Python 3 (ipykernel)",
   "language": "python",
   "name": "python3"
  },
  "language_info": {
   "codemirror_mode": {
    "name": "ipython",
    "version": 3
   },
   "file_extension": ".py",
   "mimetype": "text/x-python",
   "name": "python",
   "nbconvert_exporter": "python",
   "pygments_lexer": "ipython3",
   "version": "3.9.12"
  }
 },
 "nbformat": 4,
 "nbformat_minor": 5
}
