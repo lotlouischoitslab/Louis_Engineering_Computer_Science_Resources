{
 "cells": [
  {
   "cell_type": "markdown",
   "id": "2cd4fdec",
   "metadata": {},
   "source": [
    "## Skip Character"
   ]
  },
  {
   "cell_type": "code",
   "execution_count": 8,
   "id": "313c9a18",
   "metadata": {},
   "outputs": [],
   "source": [
    "def skipchar(word,alpha):\n",
    "    return skipcharhelper(word,alpha,'',0)\n",
    "\n",
    "def skipcharhelper(word,alpha,temp,count):\n",
    "    if count == len(word):\n",
    "        return temp\n",
    "    if word[count] != alpha:\n",
    "        temp += word[count]\n",
    "    return skipcharhelper(word,alpha,temp,count+1)"
   ]
  },
  {
   "cell_type": "code",
   "execution_count": 10,
   "id": "f6490449",
   "metadata": {},
   "outputs": [
    {
     "data": {
      "text/plain": [
       "'bccd'"
      ]
     },
     "execution_count": 10,
     "metadata": {},
     "output_type": "execute_result"
    }
   ],
   "source": [
    "word = 'baccad'\n",
    "alpha = 'a'\n",
    "skipchar(word,alpha)"
   ]
  },
  {
   "cell_type": "code",
   "execution_count": 11,
   "id": "b6faa19d",
   "metadata": {},
   "outputs": [
    {
     "data": {
      "text/plain": [
       "'Luis Sungw Ch'"
      ]
     },
     "execution_count": 11,
     "metadata": {},
     "output_type": "execute_result"
    }
   ],
   "source": [
    "word = 'Louis Sungwoo Cho'\n",
    "alpha = 'o'\n",
    "skipchar(word,alpha)"
   ]
  },
  {
   "cell_type": "markdown",
   "id": "149f9f0d",
   "metadata": {},
   "source": [
    "## Skip String"
   ]
  },
  {
   "cell_type": "code",
   "execution_count": 27,
   "id": "373d9501",
   "metadata": {},
   "outputs": [],
   "source": [
    "def skipstring(word,alpha):\n",
    "    return skipstringhelper(word,alpha,'',0)\n",
    "\n",
    "def skipstringhelper(word,alpha,temp,count):\n",
    "    if count == len(word):\n",
    "        return temp\n",
    "    if word[count:count+len(alpha)] != alpha:\n",
    "        temp += word[count]\n",
    "        return skipstringhelper(word,alpha,temp,count+1)\n",
    "        \n",
    "    return skipstringhelper(word,alpha,temp,count+len(alpha))"
   ]
  },
  {
   "cell_type": "code",
   "execution_count": 28,
   "id": "2719dd50",
   "metadata": {},
   "outputs": [
    {
     "data": {
      "text/plain": [
       "'Louis  Cho'"
      ]
     },
     "execution_count": 28,
     "metadata": {},
     "output_type": "execute_result"
    }
   ],
   "source": [
    "word = 'Louis Sungwoo Cho'\n",
    "alpha = 'Sungwoo'\n",
    "skipstring(word,alpha)"
   ]
  },
  {
   "cell_type": "code",
   "execution_count": 29,
   "id": "e3053c09",
   "metadata": {},
   "outputs": [
    {
     "data": {
      "text/plain": [
       "'Anish '"
      ]
     },
     "execution_count": 29,
     "metadata": {},
     "output_type": "execute_result"
    }
   ],
   "source": [
    "word = 'Anish Meka'\n",
    "alpha = 'Meka'\n",
    "skipstring(word,alpha)"
   ]
  },
  {
   "cell_type": "markdown",
   "id": "e0371006",
   "metadata": {},
   "source": [
    "## Subsequence of String"
   ]
  },
  {
   "cell_type": "code",
   "execution_count": 34,
   "id": "fdb3c3e8",
   "metadata": {},
   "outputs": [],
   "source": [
    "def subseq(p,up):\n",
    "    if len(up) == 0:\n",
    "        print(p)\n",
    "        return \n",
    "    temp = up[0]\n",
    "    \n",
    "    subseq(p+temp,up[1:])\n",
    "    subseq(p,up[1:])"
   ]
  },
  {
   "cell_type": "code",
   "execution_count": 64,
   "id": "425f48f1",
   "metadata": {},
   "outputs": [],
   "source": [
    "def subseqret(p,up):\n",
    "    empty = []\n",
    "    return subseqarr(p,up)\n",
    "\n",
    "def subseqarr(p,up):\n",
    "    if len(up) == 0:\n",
    "        arraylist = []\n",
    "        arraylist.append(p)\n",
    "        return arraylist\n",
    "    temp = up[0]\n",
    "    left = subseqarr(p+temp,up[1:])\n",
    "    right = subseqarr(p,up[1:])\n",
    "    left.append(right)\n",
    "    return left"
   ]
  },
  {
   "cell_type": "code",
   "execution_count": 65,
   "id": "b1dc85a3",
   "metadata": {},
   "outputs": [
    {
     "data": {
      "text/plain": [
       "['abc', ['ab'], ['ac', ['a']], ['bc', ['b'], ['c', ['']]]]"
      ]
     },
     "execution_count": 65,
     "metadata": {},
     "output_type": "execute_result"
    }
   ],
   "source": [
    "p = ''\n",
    "word = 'abc'\n",
    "subseqret(p,word)"
   ]
  },
  {
   "cell_type": "code",
   "execution_count": null,
   "id": "c023190a",
   "metadata": {},
   "outputs": [],
   "source": [
    " "
   ]
  }
 ],
 "metadata": {
  "kernelspec": {
   "display_name": "Python 3 (ipykernel)",
   "language": "python",
   "name": "python3"
  },
  "language_info": {
   "codemirror_mode": {
    "name": "ipython",
    "version": 3
   },
   "file_extension": ".py",
   "mimetype": "text/x-python",
   "name": "python",
   "nbconvert_exporter": "python",
   "pygments_lexer": "ipython3",
   "version": "3.9.12"
  }
 },
 "nbformat": 4,
 "nbformat_minor": 5
}
