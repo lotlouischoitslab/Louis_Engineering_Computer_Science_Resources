{
 "cells": [
  {
   "cell_type": "markdown",
   "id": "cff652d3",
   "metadata": {},
   "source": [
    "# 00 Edit Distance\n",
    "You are given a problem to determine the shortest number of steps to match 2 strings for example:\n",
    "\n",
    "s1 = 'abc'\n",
    "s2 = 'bcd'"
   ]
  },
  {
   "cell_type": "code",
   "execution_count": 1,
   "id": "468f18c3",
   "metadata": {},
   "outputs": [],
   "source": [
    "def edit_distance(s1,s2):\n",
    "    rows = len(s1)+1\n",
    "    cols = len(s2)+1\n",
    "    M = []\n",
    "    \n",
    "    for i in range(rows):\n",
    "        temp = []\n",
    "        for j in range(cols):\n",
    "            temp.append(0)\n",
    "        M.append(temp)\n",
    "    \n",
    "    for i in range(rows):\n",
    "        M[i][0] = i\n",
    "        \n",
    "    for j in range(cols):\n",
    "        M[0][j] = j\n",
    "          \n",
    "    for i in range(1,rows):\n",
    "        for j in range(1,cols):\n",
    "            if s1[i-1] == s2[j-1]:\n",
    "                M[i][j] = M[i-1][j-1]\n",
    "            else:\n",
    "                M[i][j] = 1 + min(M[i-1][j],M[i-1][j-1],M[i][j-1])\n",
    "\n",
    "    return M[rows-1][cols-1]"
   ]
  },
  {
   "cell_type": "code",
   "execution_count": 2,
   "id": "162523d4",
   "metadata": {},
   "outputs": [
    {
     "data": {
      "text/plain": [
       "2"
      ]
     },
     "execution_count": 2,
     "metadata": {},
     "output_type": "execute_result"
    }
   ],
   "source": [
    "s1 = 'abc'\n",
    "s2 = 'bcd'\n",
    "edit_distance(s1,s2)"
   ]
  },
  {
   "cell_type": "code",
   "execution_count": null,
   "id": "cbec93bf",
   "metadata": {},
   "outputs": [],
   "source": []
  }
 ],
 "metadata": {
  "kernelspec": {
   "display_name": "Python 3 (ipykernel)",
   "language": "python",
   "name": "python3"
  },
  "language_info": {
   "codemirror_mode": {
    "name": "ipython",
    "version": 3
   },
   "file_extension": ".py",
   "mimetype": "text/x-python",
   "name": "python",
   "nbconvert_exporter": "python",
   "pygments_lexer": "ipython3",
   "version": "3.9.12"
  }
 },
 "nbformat": 4,
 "nbformat_minor": 5
}
