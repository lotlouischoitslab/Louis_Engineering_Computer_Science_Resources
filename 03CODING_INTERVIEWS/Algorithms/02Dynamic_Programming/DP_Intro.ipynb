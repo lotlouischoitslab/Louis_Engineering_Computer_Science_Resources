{
 "cells": [
  {
   "cell_type": "markdown",
   "id": "5d037b03",
   "metadata": {},
   "source": [
    "## Fibonacci\n",
    "Time Complexity: O(n)\n",
    "Space Complexity: O(n)"
   ]
  },
  {
   "cell_type": "code",
   "execution_count": 1,
   "id": "1ab35605",
   "metadata": {},
   "outputs": [],
   "source": [
    "import numpy as np"
   ]
  },
  {
   "cell_type": "code",
   "execution_count": 2,
   "id": "efbcb45a",
   "metadata": {},
   "outputs": [],
   "source": [
    "def fib(n):\n",
    "    dp = [0 for i in range(n)]\n",
    "    dp[0]=1\n",
    "    dp[1]=1\n",
    "    for i in range(2,n):\n",
    "        dp[i] = dp[i-1]+dp[i-2]\n",
    "    return dp"
   ]
  },
  {
   "cell_type": "code",
   "execution_count": 3,
   "id": "f7eeaa57",
   "metadata": {},
   "outputs": [
    {
     "data": {
      "text/plain": [
       "[1, 1, 2, 3, 5, 8, 13, 21, 34, 55]"
      ]
     },
     "execution_count": 3,
     "metadata": {},
     "output_type": "execute_result"
    }
   ],
   "source": [
    "n = 10\n",
    "fib(n)"
   ]
  },
  {
   "cell_type": "markdown",
   "id": "ab4f6e56",
   "metadata": {},
   "source": [
    "## Framework for DP"
   ]
  },
  {
   "cell_type": "code",
   "execution_count": 5,
   "id": "cae75d71",
   "metadata": {},
   "outputs": [],
   "source": [
    "#Problem: Climbing Stairs\n",
    "\n",
    "#Framework for DP\n",
    "#1. Define Objective Functions\n",
    "#2. Identify base cases\n",
    "#3. Write recurrence relation\n",
    "#4. What's the order of computation? Bottom-Up\n",
    "#   f(n) = f(n-1)+f(n-2)\n",
    "#5. Where to look at the answer? f(n)\n",
    "\n",
    "#Time Complexity: O(n)\n",
    "#Space Complexity: O(n)"
   ]
  },
  {
   "cell_type": "code",
   "execution_count": 6,
   "id": "25712a1c",
   "metadata": {},
   "outputs": [],
   "source": [
    "def climbing_stairs(n):\n",
    "    dp = [i for i in range(n+1)]\n",
    "    dp[0] = 1\n",
    "    dp[1] = 1\n",
    "    for i in range(2,n+1):\n",
    "        dp[i] = dp[i-1]+dp[i-2]\n",
    "    return dp[n]"
   ]
  },
  {
   "cell_type": "code",
   "execution_count": 12,
   "id": "f940ca1c",
   "metadata": {},
   "outputs": [
    {
     "data": {
      "text/plain": [
       "8"
      ]
     },
     "execution_count": 12,
     "metadata": {},
     "output_type": "execute_result"
    }
   ],
   "source": [
    "n = 5\n",
    "climbing_stairs(n)"
   ]
  },
  {
   "cell_type": "code",
   "execution_count": 18,
   "id": "b2d3b92b",
   "metadata": {},
   "outputs": [],
   "source": [
    "def climbing_stairs_skip_red(n,k,stairs):\n",
    "    dp = [0 for i in range(k)]\n",
    "    dp[0] = 1\n",
    "    for i in range(1,n+1):\n",
    "        for j in range(1,k):\n",
    "            if i-j < 0:\n",
    "                continue\n",
    "            if stairs[i-1] == True:\n",
    "                dp[i%k] = 0\n",
    "            else:\n",
    "                dp[i%k] += dp[(i-j)%k]\n",
    "    return dp[n%k]"
   ]
  },
  {
   "cell_type": "code",
   "execution_count": 19,
   "id": "aa930e21",
   "metadata": {},
   "outputs": [
    {
     "name": "stdout",
     "output_type": "stream",
     "text": [
      "[0, 0, 0]\n"
     ]
    },
    {
     "data": {
      "text/plain": [
       "2"
      ]
     },
     "execution_count": 19,
     "metadata": {},
     "output_type": "execute_result"
    }
   ],
   "source": [
    "n = 7\n",
    "k=3\n",
    "not_allowed = [False,True,False,True,True,False,False,False]\n",
    "climbing_stairs_skip_red(n,k,not_allowed)"
   ]
  },
  {
   "cell_type": "markdown",
   "id": "5093a4b1",
   "metadata": {},
   "source": [
    "# Paid Staircase"
   ]
  },
  {
   "cell_type": "code",
   "execution_count": 20,
   "id": "278857b1",
   "metadata": {},
   "outputs": [],
   "source": [
    "#Step on the ith stair\n",
    "#Time Complexity: O(n)\n",
    "#Space Complexity: O(n)"
   ]
  },
  {
   "cell_type": "code",
   "execution_count": 25,
   "id": "3a3eb29b",
   "metadata": {},
   "outputs": [],
   "source": [
    "def paidstaircase(n,p):\n",
    "    dp = [0 for i in range(n+1)]\n",
    "    dp[0] = 0\n",
    "    dp[1] = p[1]\n",
    "    \n",
    "    for i in range(2,n+1):\n",
    "        dp[i] = p[i]+ min(dp[i-1],dp[i-2])\n",
    "    return dp[n]"
   ]
  },
  {
   "cell_type": "code",
   "execution_count": 26,
   "id": "efeef59d",
   "metadata": {},
   "outputs": [
    {
     "data": {
      "text/plain": [
       "6"
      ]
     },
     "execution_count": 26,
     "metadata": {},
     "output_type": "execute_result"
    }
   ],
   "source": [
    "n = 3\n",
    "p = [0,3,2,4]\n",
    "paidstaircase(n,p)"
   ]
  },
  {
   "cell_type": "code",
   "execution_count": null,
   "id": "232774fe",
   "metadata": {},
   "outputs": [],
   "source": []
  }
 ],
 "metadata": {
  "kernelspec": {
   "display_name": "Python 3 (ipykernel)",
   "language": "python",
   "name": "python3"
  },
  "language_info": {
   "codemirror_mode": {
    "name": "ipython",
    "version": 3
   },
   "file_extension": ".py",
   "mimetype": "text/x-python",
   "name": "python",
   "nbconvert_exporter": "python",
   "pygments_lexer": "ipython3",
   "version": "3.9.13"
  }
 },
 "nbformat": 4,
 "nbformat_minor": 5
}
