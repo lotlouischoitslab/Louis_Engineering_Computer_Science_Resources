{
 "cells": [
  {
   "cell_type": "markdown",
   "id": "5d037b03",
   "metadata": {},
   "source": [
    "## Fibonacci\n",
    "Time Complexity: O(n)\n",
    "Space Complexity: O(n)"
   ]
  },
  {
   "cell_type": "code",
   "execution_count": 1,
   "id": "1ab35605",
   "metadata": {},
   "outputs": [],
   "source": [
    "import numpy as np"
   ]
  },
  {
   "cell_type": "code",
   "execution_count": 2,
   "id": "efbcb45a",
   "metadata": {},
   "outputs": [],
   "source": [
    "def fib(n):\n",
    "    dp = [0 for i in range(n)]\n",
    "    dp[0]=1\n",
    "    dp[1]=1\n",
    "    for i in range(2,n):\n",
    "        dp[i] = dp[i-1]+dp[i-2]\n",
    "    return dp"
   ]
  },
  {
   "cell_type": "code",
   "execution_count": 3,
   "id": "f7eeaa57",
   "metadata": {},
   "outputs": [
    {
     "data": {
      "text/plain": [
       "[1, 1, 2, 3, 5, 8, 13, 21, 34, 55]"
      ]
     },
     "execution_count": 3,
     "metadata": {},
     "output_type": "execute_result"
    }
   ],
   "source": [
    "n = 10\n",
    "fib(n)"
   ]
  },
  {
   "cell_type": "markdown",
   "id": "ab4f6e56",
   "metadata": {},
   "source": [
    "## Framework for DP"
   ]
  },
  {
   "cell_type": "code",
   "execution_count": 4,
   "id": "cae75d71",
   "metadata": {},
   "outputs": [],
   "source": [
    "#Problem: Climbing Stairs\n",
    "\n",
    "#Framework for DP\n",
    "#1. Define Objective Functions\n",
    "#2. Identify base cases\n",
    "#3. Write recurrence relation\n",
    "#4. What's the order of computation? Bottom-Up\n",
    "#   f(n) = f(n-1)+f(n-2)\n",
    "#5. Where to look at the answer? f(n)\n",
    "\n",
    "#Time Complexity: O(n)\n",
    "#Space Complexity: O(n)\n",
    "\n",
    "#Also NOTE that for combinatorics, set all your dp values to be 0\n",
    "#Also NOTE that for optimization, set all your dp values to be either \n",
    "#float('inf') or float('-inf')"
   ]
  },
  {
   "cell_type": "code",
   "execution_count": 5,
   "id": "25712a1c",
   "metadata": {},
   "outputs": [],
   "source": [
    "def climbing_stairs(n):\n",
    "    dp = [i for i in range(n+1)]\n",
    "    dp[0] = 1\n",
    "    dp[1] = 1\n",
    "    for i in range(2,n+1):\n",
    "        dp[i] = dp[i-1]+dp[i-2]\n",
    "    return dp[n]"
   ]
  },
  {
   "cell_type": "code",
   "execution_count": 6,
   "id": "f940ca1c",
   "metadata": {},
   "outputs": [
    {
     "data": {
      "text/plain": [
       "8"
      ]
     },
     "execution_count": 6,
     "metadata": {},
     "output_type": "execute_result"
    }
   ],
   "source": [
    "n = 5\n",
    "climbing_stairs(n)"
   ]
  },
  {
   "cell_type": "code",
   "execution_count": 7,
   "id": "b2d3b92b",
   "metadata": {},
   "outputs": [],
   "source": [
    "def climbing_stairs_skip_red(n,k,stairs):\n",
    "    dp = [0 for i in range(k)]\n",
    "    dp[0] = 1\n",
    "    for i in range(1,n+1):\n",
    "        for j in range(1,k):\n",
    "            if i-j < 0:\n",
    "                continue\n",
    "            if stairs[i-1] == True:\n",
    "                dp[i%k] = 0\n",
    "            else:\n",
    "                dp[i%k] += dp[(i-j)%k]\n",
    "    return dp[n%k]"
   ]
  },
  {
   "cell_type": "code",
   "execution_count": 8,
   "id": "aa930e21",
   "metadata": {},
   "outputs": [
    {
     "data": {
      "text/plain": [
       "2"
      ]
     },
     "execution_count": 8,
     "metadata": {},
     "output_type": "execute_result"
    }
   ],
   "source": [
    "n = 7\n",
    "k=3\n",
    "not_allowed = [False,True,False,True,True,False,False,False]\n",
    "climbing_stairs_skip_red(n,k,not_allowed)"
   ]
  },
  {
   "cell_type": "markdown",
   "id": "5093a4b1",
   "metadata": {},
   "source": [
    "# Paid Staircase"
   ]
  },
  {
   "cell_type": "code",
   "execution_count": 9,
   "id": "278857b1",
   "metadata": {},
   "outputs": [],
   "source": [
    "#Step on the ith stair\n",
    "#Time Complexity: O(n)\n",
    "#Space Complexity: O(n)"
   ]
  },
  {
   "cell_type": "code",
   "execution_count": 10,
   "id": "3a3eb29b",
   "metadata": {},
   "outputs": [],
   "source": [
    "def paidstaircase(n,p):\n",
    "    dp = [float('inf') for i in range(n+1)]\n",
    "    dp[0] = 0\n",
    "    dp[1] = p[1]\n",
    "    \n",
    "    for i in range(2,n+1):\n",
    "        dp[i] = p[i]+ min(dp[i-1],dp[i-2])\n",
    "    return dp[n]"
   ]
  },
  {
   "cell_type": "code",
   "execution_count": 11,
   "id": "efeef59d",
   "metadata": {},
   "outputs": [
    {
     "data": {
      "text/plain": [
       "6"
      ]
     },
     "execution_count": 11,
     "metadata": {},
     "output_type": "execute_result"
    }
   ],
   "source": [
    "n = 3\n",
    "p = [0,3,2,4]\n",
    "paidstaircase(n,p)"
   ]
  },
  {
   "cell_type": "code",
   "execution_count": 12,
   "id": "e3d9e5ef",
   "metadata": {},
   "outputs": [],
   "source": [
    "def paidstairpath(n,p):\n",
    "    dp = [float('inf') for i in range(n+1)]\n",
    "    dp[0] = p[0]\n",
    "    dp[1] = p[1]\n",
    "    from_ = [0 for i in range(n+1)]\n",
    "    \n",
    "    for i in range(2,n+1):\n",
    "        dp[i] = min(dp[i-1],dp[i-2])+p[i]\n",
    "        if dp[i-1] < dp[i-2]:\n",
    "            from_[i] = i-1\n",
    "        else:\n",
    "            from_[i] = i-2\n",
    "    \n",
    "    j = n\n",
    "    path = [j]\n",
    "    \n",
    "    while j > 0:\n",
    "        path.append(from_[j])\n",
    "        j = from_[j]\n",
    "    return path[::-1]"
   ]
  },
  {
   "cell_type": "code",
   "execution_count": 13,
   "id": "9dc3dd95",
   "metadata": {},
   "outputs": [
    {
     "data": {
      "text/plain": [
       "[0, 2, 3, 5, 6, 8]"
      ]
     },
     "execution_count": 13,
     "metadata": {},
     "output_type": "execute_result"
    }
   ],
   "source": [
    "n = 8\n",
    "p = [0,3,2,4,6,1,1,5,3]\n",
    "paidstairpath(n,p)"
   ]
  },
  {
   "cell_type": "markdown",
   "id": "fa24eb58",
   "metadata": {},
   "source": [
    "# Unique Paths"
   ]
  },
  {
   "cell_type": "code",
   "execution_count": 14,
   "id": "1b2fe982",
   "metadata": {},
   "outputs": [],
   "source": [
    "#F(i,j) = F(i-1,j)+F(i,j-1)\n",
    "def uniquepaths(matrix):\n",
    "    row = len(matrix)\n",
    "    col = len(matrix[0])\n",
    "    dp = [[float('inf') for j in range(col)] for i in range(row)]\n",
    "    \n",
    "    dp[0][0] = 1\n",
    "    \n",
    "    for i in range(row):\n",
    "        for j in range(col):\n",
    "            if i > 0 and j > 0:\n",
    "                dp[i][j] = dp[i-1][j]+dp[i][j-1]\n",
    "            elif i > 0:\n",
    "                dp[i][j] = dp[i-1][j]\n",
    "            elif j > 0:\n",
    "                dp[i][j] = dp[i][j-1]\n",
    "    \n",
    "    return dp[row-1][col-1]"
   ]
  },
  {
   "cell_type": "code",
   "execution_count": 15,
   "id": "37feb18f",
   "metadata": {},
   "outputs": [
    {
     "data": {
      "text/plain": [
       "15"
      ]
     },
     "execution_count": 15,
     "metadata": {},
     "output_type": "execute_result"
    }
   ],
   "source": [
    "row = 3\n",
    "col = 5\n",
    "matrix = [[_ for j in range(col)]for i in range(row) ]\n",
    "uniquepaths(matrix)"
   ]
  },
  {
   "cell_type": "markdown",
   "id": "fa50ac4b",
   "metadata": {},
   "source": [
    "# Unique Paths with Obstacles"
   ]
  },
  {
   "cell_type": "code",
   "execution_count": 16,
   "id": "62b371bc",
   "metadata": {},
   "outputs": [],
   "source": [
    "#F(i,j) = F(i-1,j)+F(i,j-1)\n",
    "def uniquepathsobstacles(matrix):\n",
    "    row = len(matrix)\n",
    "    col = len(matrix[0])\n",
    "    dp = [[float('inf') for j in range(col)] for i in range(row)]\n",
    "    \n",
    "    dp[0][0] = 1\n",
    "    \n",
    "    for i in range(row):\n",
    "        for j in range(col):\n",
    "            if matrix[i][j] == 1:\n",
    "                dp[i][j] = 0\n",
    "                continue\n",
    "            if i > 0 and j > 0:\n",
    "                dp[i][j] = dp[i-1][j]+dp[i][j-1]\n",
    "            elif i > 0:\n",
    "                dp[i][j] = dp[i-1][j]\n",
    "            elif j > 0:\n",
    "                dp[i][j] = dp[i][j-1]\n",
    "\n",
    "    return dp[row-1][col-1]"
   ]
  },
  {
   "cell_type": "code",
   "execution_count": 17,
   "id": "f8e927e7",
   "metadata": {},
   "outputs": [
    {
     "data": {
      "text/plain": [
       "3"
      ]
     },
     "execution_count": 17,
     "metadata": {},
     "output_type": "execute_result"
    }
   ],
   "source": [
    "matrix = [[0,0,0,0],[0,0,1,1],[0,0,0,0]]\n",
    "uniquepathsobstacles(matrix)"
   ]
  },
  {
   "cell_type": "markdown",
   "id": "342904d4",
   "metadata": {},
   "source": [
    "# Maximum Profit"
   ]
  },
  {
   "cell_type": "code",
   "execution_count": 18,
   "id": "6cda7464",
   "metadata": {},
   "outputs": [],
   "source": [
    "#F(i,j) = F(i-1,j)+F(i,j-1)\n",
    "def uniquepaths(matrix):\n",
    "    row = len(matrix)\n",
    "    col = len(matrix[0])\n",
    "    dp = [[float('inf') for j in range(col)] for i in range(row)]\n",
    "    \n",
    "    dp[0][0] = 0\n",
    "    \n",
    "    for i in range(row):\n",
    "        for j in range(col):\n",
    "            if i > 0 and j > 0:\n",
    "                dp[i][j] = max(dp[i-1][j],dp[i][j-1])+matrix[i][j]\n",
    "            elif i > 0:\n",
    "                dp[i][j] = dp[i-1][j]+matrix[i][j]\n",
    "            elif j > 0:\n",
    "                dp[i][j] = dp[i][j-1]+matrix[i][j]\n",
    "    return dp[row-1][col-1]"
   ]
  },
  {
   "cell_type": "code",
   "execution_count": 19,
   "id": "341f4d9b",
   "metadata": {},
   "outputs": [
    {
     "data": {
      "text/plain": [
       "18"
      ]
     },
     "execution_count": 19,
     "metadata": {},
     "output_type": "execute_result"
    }
   ],
   "source": [
    "matrix = [[1,3,1,1,2],[2,1,1,1,1],[5,4,4,2,1]]\n",
    "uniquepaths(matrix)"
   ]
  },
  {
   "cell_type": "code",
   "execution_count": 20,
   "id": "e5d28a8e",
   "metadata": {},
   "outputs": [
    {
     "data": {
      "text/plain": [
       "13"
      ]
     },
     "execution_count": 20,
     "metadata": {},
     "output_type": "execute_result"
    }
   ],
   "source": [
    "matrix = [[0,2,2,1],[3,1,1,1],[4,4,2,0]]\n",
    "uniquepaths(matrix)"
   ]
  },
  {
   "cell_type": "code",
   "execution_count": 21,
   "id": "2cdf4ee9",
   "metadata": {},
   "outputs": [
    {
     "data": {
      "text/plain": [
       "154"
      ]
     },
     "execution_count": 21,
     "metadata": {},
     "output_type": "execute_result"
    }
   ],
   "source": [
    "matrix = [[0,2,2,50],[3,1,1,100],[4,4,2,0]]\n",
    "uniquepaths(matrix)"
   ]
  },
  {
   "cell_type": "code",
   "execution_count": 22,
   "id": "31f12184",
   "metadata": {},
   "outputs": [],
   "source": [
    "#F(i,j) = F(i-1,j)+F(i,j-1)\n",
    "def uniquepaths(matrix):\n",
    "    row = len(matrix)\n",
    "    col = len(matrix[0])\n",
    "    dp = [[float('inf') for j in range(col)] for i in range(row)]\n",
    "    \n",
    "    dp[0][0] = 0\n",
    "    \n",
    "    for i in range(row):\n",
    "        for j in range(col):\n",
    "            if i > 0 and j > 0:\n",
    "                dp[i][j] = max(dp[i-1][j],dp[i][j-1])+matrix[i][j]\n",
    "            elif i > 0:\n",
    "                dp[i][j] = dp[i-1][j]+matrix[i][j]\n",
    "            elif j > 0:\n",
    "                dp[i][j] = dp[i][j-1]+matrix[i][j]\n",
    "    \n",
    "    return getpath(dp,row-1,col-1,[])\n",
    "\n",
    "def getpath(dp,i,j,path):\n",
    "    if i == 0 and j == 0:\n",
    "        path += [(i,j)]\n",
    "        return path\n",
    "    elif i == 0:\n",
    "        path = getpath(dp,i,j-1,path)\n",
    "    elif j == 0:\n",
    "        path = getpath(dp,i-1,j,path)\n",
    "    else:\n",
    "        if dp[i-1][j] > dp[i][j-1]:\n",
    "            path = getpath(dp,i-1,j,path)\n",
    "        else:\n",
    "            path = getpath(dp,i,j-1,path)\n",
    "    path += [(i,j)]\n",
    "    return path"
   ]
  },
  {
   "cell_type": "code",
   "execution_count": 23,
   "id": "25761489",
   "metadata": {},
   "outputs": [
    {
     "data": {
      "text/plain": [
       "[(0, 0), (0, 1), (0, 2), (0, 3), (1, 3), (2, 3)]"
      ]
     },
     "execution_count": 23,
     "metadata": {},
     "output_type": "execute_result"
    }
   ],
   "source": [
    "matrix = [[0,2,2,50],[3,1,1,100],[4,4,2,0]]\n",
    "uniquepaths(matrix)"
   ]
  },
  {
   "cell_type": "markdown",
   "id": "27e72cc1",
   "metadata": {},
   "source": [
    "# 2D Dynamic Programming"
   ]
  },
  {
   "cell_type": "markdown",
   "id": "4bd5bc9c",
   "metadata": {},
   "source": [
    "### Painting Fences"
   ]
  },
  {
   "cell_type": "code",
   "execution_count": 24,
   "id": "f95cfccc",
   "metadata": {},
   "outputs": [],
   "source": [
    "def paint(n):\n",
    "    dp = [[float('inf')for j in range(n+1)]for i in range(n+1)]\n",
    "    \n",
    "    #green = 1\n",
    "    #blue = 0\n",
    "    dp[1][0] = 1\n",
    "    dp[1][1] = 1\n",
    "    dp[2][0] = 2 #10, 00\n",
    "    dp[2][1] = 2 #01, 11\n",
    "    \n",
    "    for i in range(3,n+1):\n",
    "        for j in range(0,2):\n",
    "            dp[i][j] = dp[i-1][1-j]+dp[i-2][1-j]\n",
    "    return dp[n][0]+dp[n][1]"
   ]
  },
  {
   "cell_type": "code",
   "execution_count": 25,
   "id": "cbf35ad6",
   "metadata": {},
   "outputs": [
    {
     "data": {
      "text/plain": [
       "6"
      ]
     },
     "execution_count": 25,
     "metadata": {},
     "output_type": "execute_result"
    }
   ],
   "source": [
    "n = 3\n",
    "paint(n)"
   ]
  },
  {
   "cell_type": "markdown",
   "id": "5c9bf8da",
   "metadata": {},
   "source": [
    "# Fibonacci "
   ]
  },
  {
   "cell_type": "code",
   "execution_count": 26,
   "id": "2a41c87a",
   "metadata": {},
   "outputs": [],
   "source": [
    "def fib(n):\n",
    "    if n == 0:\n",
    "        return 0\n",
    "    if n <= 2:\n",
    "        return 1\n",
    "    return fib(n-2)+fib(n-1)"
   ]
  },
  {
   "cell_type": "code",
   "execution_count": 27,
   "id": "ac1f383f",
   "metadata": {},
   "outputs": [
    {
     "data": {
      "text/plain": [
       "8"
      ]
     },
     "execution_count": 27,
     "metadata": {},
     "output_type": "execute_result"
    }
   ],
   "source": [
    "n = 6\n",
    "fib(n)"
   ]
  },
  {
   "cell_type": "markdown",
   "id": "3f03d1e7",
   "metadata": {},
   "source": [
    "### Top-Down Approach"
   ]
  },
  {
   "cell_type": "code",
   "execution_count": 28,
   "id": "b1dafe7e",
   "metadata": {},
   "outputs": [],
   "source": [
    "def fib(n):\n",
    "    memo = dict()\n",
    "    return fib_helper(n,memo)"
   ]
  },
  {
   "cell_type": "code",
   "execution_count": 29,
   "id": "81384ce4",
   "metadata": {},
   "outputs": [],
   "source": [
    "def fib_helper(n,memo):\n",
    "    if n == 0:\n",
    "        return 0\n",
    "    if n <= 2:\n",
    "        return 1\n",
    "    \n",
    "    memo[n] = fib_helper(n-1,memo)+fib_helper(n-2,memo)\n",
    "    return memo[n]"
   ]
  },
  {
   "cell_type": "code",
   "execution_count": 30,
   "id": "f4b97e63",
   "metadata": {},
   "outputs": [
    {
     "data": {
      "text/plain": [
       "8"
      ]
     },
     "execution_count": 30,
     "metadata": {},
     "output_type": "execute_result"
    }
   ],
   "source": [
    "n = 6\n",
    "fib(n)"
   ]
  },
  {
   "cell_type": "markdown",
   "id": "bf5b8104",
   "metadata": {},
   "source": [
    "### Bottom-Up Approach"
   ]
  },
  {
   "cell_type": "code",
   "execution_count": 31,
   "id": "b723c08d",
   "metadata": {},
   "outputs": [],
   "source": [
    "def fib(n):\n",
    "    dp = [0 for i in range(n+1)]\n",
    "    dp[0] = 0\n",
    "    dp[1] = 1\n",
    "    for i in range(2,n+1):\n",
    "        dp[i] = dp[i-1]+dp[i-2]\n",
    "    return dp[n]"
   ]
  },
  {
   "cell_type": "code",
   "execution_count": 32,
   "id": "0b285756",
   "metadata": {},
   "outputs": [
    {
     "data": {
      "text/plain": [
       "8"
      ]
     },
     "execution_count": 32,
     "metadata": {},
     "output_type": "execute_result"
    }
   ],
   "source": [
    "n = 6\n",
    "fib(n)"
   ]
  },
  {
   "cell_type": "markdown",
   "id": "8d76ce9a",
   "metadata": {},
   "source": [
    "### Coin Change"
   ]
  },
  {
   "cell_type": "code",
   "execution_count": 33,
   "id": "49938c28",
   "metadata": {},
   "outputs": [],
   "source": [
    "#F(n) = F(n-1)+F(n-3)+F(n-5)+F(n-10)\n",
    "def coinchange(n,coins):\n",
    "    dp = [0 for i in range(n+1)]\n",
    "    dp[0] = 1\n",
    "    for i in range(1,n+1):\n",
    "        for coin in coins:\n",
    "            if i-coin >= 0:\n",
    "                dp[i] += dp[i-coin]\n",
    "    print(dp)\n",
    "    return dp[n]"
   ]
  },
  {
   "cell_type": "code",
   "execution_count": 34,
   "id": "7b234526",
   "metadata": {},
   "outputs": [
    {
     "name": "stdout",
     "output_type": "stream",
     "text": [
      "[1, 1, 1, 2, 3]\n"
     ]
    },
    {
     "data": {
      "text/plain": [
       "3"
      ]
     },
     "execution_count": 34,
     "metadata": {},
     "output_type": "execute_result"
    }
   ],
   "source": [
    "n = 4\n",
    "coins = [1,3,5,10]\n",
    "coinchange(n,coins)"
   ]
  },
  {
   "cell_type": "markdown",
   "id": "5b2b1ab6",
   "metadata": {},
   "source": [
    "# Coin Change Exactly T Coins"
   ]
  },
  {
   "cell_type": "code",
   "execution_count": 53,
   "id": "138e62bd",
   "metadata": {},
   "outputs": [],
   "source": [
    "def coincchangeexactlytcoins(n,t,coins):\n",
    "    dp = [[0 for j in range(t+1)]for i in range(n+1)]\n",
    "        \n",
    "    dp[0][0] = 1\n",
    "    \n",
    "    for i in range(n+1):\n",
    "        for j in range(t+1):\n",
    "            if i > 0 and j == 0:\n",
    "                dp[i][j] = 0\n",
    "                continue\n",
    "                \n",
    "            for c in coins:\n",
    "                if i - c >= 0:\n",
    "                    dp[i][j] += dp[i-c][j-1]\n",
    "    return dp[n][t]"
   ]
  },
  {
   "cell_type": "code",
   "execution_count": 54,
   "id": "380f5634",
   "metadata": {},
   "outputs": [
    {
     "data": {
      "text/plain": [
       "9"
      ]
     },
     "execution_count": 54,
     "metadata": {},
     "output_type": "execute_result"
    }
   ],
   "source": [
    "n = 7\n",
    "t = 3\n",
    "coins = [1,2,3,5]\n",
    "coincchangeexactlytcoins(n,t,coins)"
   ]
  },
  {
   "cell_type": "code",
   "execution_count": null,
   "id": "30635987",
   "metadata": {},
   "outputs": [],
   "source": []
  }
 ],
 "metadata": {
  "kernelspec": {
   "display_name": "Python 3 (ipykernel)",
   "language": "python",
   "name": "python3"
  },
  "language_info": {
   "codemirror_mode": {
    "name": "ipython",
    "version": 3
   },
   "file_extension": ".py",
   "mimetype": "text/x-python",
   "name": "python",
   "nbconvert_exporter": "python",
   "pygments_lexer": "ipython3",
   "version": "3.9.13"
  }
 },
 "nbformat": 4,
 "nbformat_minor": 5
}
