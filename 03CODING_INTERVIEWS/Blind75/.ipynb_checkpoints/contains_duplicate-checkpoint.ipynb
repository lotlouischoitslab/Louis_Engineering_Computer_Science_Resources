{
 "cells": [
  {
   "cell_type": "markdown",
   "id": "d049bcaa",
   "metadata": {},
   "source": [
    "**https://leetcode.com/problems/contains-duplicate/**"
   ]
  },
  {
   "cell_type": "markdown",
   "id": "e797c7ba",
   "metadata": {},
   "source": [
    "# Algorithm\n",
    "Hashset Approach: \n",
    "Create an empty hashset. Make a forward pass through the input vector of nums. Every iterations, first check if the number at the current index i is the hashset. If it is, then we have a duplicate, so return true. If not add the current num to the hashset before moving on to the next iteration. At the very end, after we have added all elements to the hashset, if we have no more numbers to consider, we can return false, meaning that there are no two duplicates. \n",
    "\n",
    "Runtime Analysis: O(N) where N is the size of the input vector of nums since we solely make a forward pass through the array. \n",
    "In the worst-case, there are no duplicates, so we don't return in the middle of iterating. \n",
    "Space Complexity: O(N) - linear to the size of the hashset. In the worst case scenario, we have no duplicates, so we add every num to our hashset. "
   ]
  },
  {
   "cell_type": "code",
   "execution_count": null,
   "id": "e3b60f83",
   "metadata": {},
   "outputs": [],
   "source": [
    "class Solution:\n",
    "    def containsDuplicate(self, nums: List[int]) -> bool:\n",
    "        encountered = set()\n",
    "        for i in range(len(nums)):\n",
    "            if nums[i] in encountered:\n",
    "                return True\n",
    "            encountered.add(nums[i])\n",
    "        return False"
   ]
  }
 ],
 "metadata": {
  "kernelspec": {
   "display_name": "Python 3 (ipykernel)",
   "language": "python",
   "name": "python3"
  },
  "language_info": {
   "codemirror_mode": {
    "name": "ipython",
    "version": 3
   },
   "file_extension": ".py",
   "mimetype": "text/x-python",
   "name": "python",
   "nbconvert_exporter": "python",
   "pygments_lexer": "ipython3",
   "version": "3.9.12"
  }
 },
 "nbformat": 4,
 "nbformat_minor": 5
}
