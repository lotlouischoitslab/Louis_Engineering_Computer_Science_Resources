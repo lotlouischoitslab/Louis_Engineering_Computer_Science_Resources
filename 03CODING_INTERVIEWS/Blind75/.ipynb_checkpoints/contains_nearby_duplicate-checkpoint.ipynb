{
 "cells": [
  {
   "cell_type": "markdown",
   "id": "6925527f",
   "metadata": {},
   "source": [
    "**https://leetcode.com/problems/contains-duplicate-ii/**"
   ]
  },
  {
   "cell_type": "markdown",
   "id": "524d38bd",
   "metadata": {},
   "source": [
    "# Algorithm\n",
    "\n",
    "Time: O(n)\n",
    "Space: O(n)"
   ]
  },
  {
   "cell_type": "code",
   "execution_count": null,
   "id": "50d5f59c",
   "metadata": {},
   "outputs": [],
   "source": [
    "class Solution:\n",
    "    def containsNearbyDuplicate(self, nums: List[int], k: int) -> bool:\n",
    "        num_to_idx = dict()\n",
    "        for i in range(len(nums)):\n",
    "            if nums[i] in num_to_idx:\n",
    "                if abs(num_to_idx[nums[i]] - i) <= k:\n",
    "                    return True\n",
    "            num_to_idx[nums[i]] = i\n",
    "        return False"
   ]
  },
  {
   "cell_type": "markdown",
   "id": "4c82d8f5",
   "metadata": {},
   "source": [
    "# Optimized Hashset Approach:\n",
    "Consider k as the size of the sliding window. Our hashset will only contain k elements. Therefore, if we find a duplicate num that exists inside the hashset, we know that the absolute difference between their indices will be at most k for which we can return True. Make a forward pass through the input list of nums. If the current num is in the hashset, return true. Otherwise, insert the current num into the hashset. Remove the oldest element from the hashset if its size becomes larger than k (i.e nums[i-k]). Remember that insert and removal operations for hashsets are constant. \n",
    "\n",
    "Time Complexity: O(N)\n",
    "Space Complexity: O(k) where k is the second parameter to our function containsNearbyDuplicate since we enforce the max size of our hashset to be k, removing the oldest element everytime our size exceeds k by 1. "
   ]
  },
  {
   "cell_type": "code",
   "execution_count": null,
   "id": "577a54c2",
   "metadata": {},
   "outputs": [],
   "source": [
    "#Optimized Hashset Approach:\n",
    "class Solution:\n",
    "    def containsNearbyDuplicate(self, nums: List[int], k: int) -> bool:\n",
    "        encounter = set()\n",
    "        for i in range(len(nums)):\n",
    "            if nums[i] in encounter:\n",
    "                return True\n",
    "            encounter.add(nums[i])\n",
    "            if i >= k:\n",
    "                encounter.remove(nums[i-k])\n",
    "            \n",
    "        return False"
   ]
  }
 ],
 "metadata": {
  "kernelspec": {
   "display_name": "Python 3 (ipykernel)",
   "language": "python",
   "name": "python3"
  },
  "language_info": {
   "codemirror_mode": {
    "name": "ipython",
    "version": 3
   },
   "file_extension": ".py",
   "mimetype": "text/x-python",
   "name": "python",
   "nbconvert_exporter": "python",
   "pygments_lexer": "ipython3",
   "version": "3.9.12"
  }
 },
 "nbformat": 4,
 "nbformat_minor": 5
}
