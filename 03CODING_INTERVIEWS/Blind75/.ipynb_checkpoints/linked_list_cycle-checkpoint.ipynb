{
 "cells": [
  {
   "cell_type": "markdown",
   "id": "9cde399f",
   "metadata": {},
   "source": [
    "# https://leetcode.com/problems/linked-list-cycle/"
   ]
  },
  {
   "cell_type": "markdown",
   "id": "b8da87ba",
   "metadata": {},
   "source": [
    "# Algorithm\n",
    "Floyd's Cycle Detection Algorithm.\n",
    "We'll maintain two pointers. Fast pointer and slow pointer. The slow pointer moves one step at a time. The fast pointer will reach the end of the linked list first, and we can return false. If there is a cycle in the our linked list, both the fast pointer and slow pointer will eventually meet at the same node in which case we can return true. The fast pointer is initialized to one position after the slow pointer, which itself is initialized to be pointing to the head."
   ]
  },
  {
   "cell_type": "code",
   "execution_count": null,
   "id": "c43b0228",
   "metadata": {},
   "outputs": [],
   "source": [
    "# Definition for singly-linked list.\n",
    "# class ListNode:\n",
    "#     def __init__(self, x):\n",
    "#         self.val = x\n",
    "#         self.next = None\n",
    "\n",
    "class Solution:\n",
    "    def hasCycle(self, head: Optional[ListNode]) -> bool:\n",
    "        slow_ptr = head\n",
    "        fast_ptr = head\n",
    "        \n",
    "        while(fast_ptr and fast_ptr.next):\n",
    "            slow_ptr = slow_ptr.next\n",
    "            fast_ptr = fast_ptr.next.next\n",
    "            if slow_ptr == fast_ptr:\n",
    "                return True\n",
    "            \n",
    "        return False"
   ]
  }
 ],
 "metadata": {
  "kernelspec": {
   "display_name": "Python 3 (ipykernel)",
   "language": "python",
   "name": "python3"
  },
  "language_info": {
   "codemirror_mode": {
    "name": "ipython",
    "version": 3
   },
   "file_extension": ".py",
   "mimetype": "text/x-python",
   "name": "python",
   "nbconvert_exporter": "python",
   "pygments_lexer": "ipython3",
   "version": "3.9.12"
  }
 },
 "nbformat": 4,
 "nbformat_minor": 5
}
