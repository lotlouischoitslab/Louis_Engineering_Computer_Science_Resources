{
 "cells": [
  {
   "cell_type": "markdown",
   "id": "733cd035",
   "metadata": {},
   "source": [
    "**https://leetcode.com/problems/maximum-subarray/**"
   ]
  },
  {
   "cell_type": "markdown",
   "id": "eae99053",
   "metadata": {},
   "source": [
    "# Algorithm\n",
    "Greedy Algorithm:\n",
    "Our algorithm is greedy because we select the best option available at the moment. We'll make a forward pass through the input vector of nums. We'll keep track of the prefix sum. If our prefix sum is negative, we get rid of it. This is why our algorithm is greedy - we simply think that we will do better without it. 'Get rid of it' means the prefix sum resets to 0. Initially, we have no numbers that come before the first num in the vector, so the prefix sum is 0. Then, to our running prefix sum we add our current num. We'll maintain a variable for the largest sum of contiguous subarray and update it with the new prefix sum if it is greater than the current value for the largest sum. Every time we reset our prefix sum to 0, that becomes the start of a new contiguous subarray. Every time we add to our prefix sum, we grow the current contiguous subarray. \n",
    "\n",
    "Runtime Analysis: O(N) where N is equal to size of vector of nums. We solely make a forward pass through the input vector, which dominates the time complexity.\n",
    "\n",
    "Space Complexity: O(1) => We don't make use of any auxillary data structures or additional memory, so our overall memory usage is constant. "
   ]
  },
  {
   "cell_type": "code",
   "execution_count": null,
   "id": "6b6ff99d",
   "metadata": {},
   "outputs": [],
   "source": [
    "class Solution:\n",
    "    def maxSubArray(self, nums: List[int]) -> int:\n",
    "        largest_sum = float('-inf')\n",
    "        prefix_sum = 0\n",
    "        for i in range(len(nums)):\n",
    "            if prefix_sum < 0:\n",
    "                prefix_sum = 0\n",
    "            prefix_sum += nums[i]\n",
    "            largest_sum = max(prefix_sum,largest_sum)\n",
    "        return largest_sum"
   ]
  }
 ],
 "metadata": {
  "kernelspec": {
   "display_name": "Python 3 (ipykernel)",
   "language": "python",
   "name": "python3"
  },
  "language_info": {
   "codemirror_mode": {
    "name": "ipython",
    "version": 3
   },
   "file_extension": ".py",
   "mimetype": "text/x-python",
   "name": "python",
   "nbconvert_exporter": "python",
   "pygments_lexer": "ipython3",
   "version": "3.9.12"
  }
 },
 "nbformat": 4,
 "nbformat_minor": 5
}
