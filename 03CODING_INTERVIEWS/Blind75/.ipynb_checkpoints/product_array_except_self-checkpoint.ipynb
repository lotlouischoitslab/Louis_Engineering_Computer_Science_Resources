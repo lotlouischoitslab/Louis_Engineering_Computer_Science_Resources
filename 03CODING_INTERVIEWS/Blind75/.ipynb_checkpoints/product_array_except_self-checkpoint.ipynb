{
 "cells": [
  {
   "cell_type": "markdown",
   "id": "be30f2d1",
   "metadata": {},
   "source": [
    "**https://leetcode.com/problems/product-of-array-except-self/**"
   ]
  },
  {
   "cell_type": "markdown",
   "id": "c21ad98a",
   "metadata": {},
   "source": [
    "# Algorithm\n",
    "Prefix/Postfix Multiplication:\n",
    "The prefix product is the product of all members that come before the current member, whereas the postfix is the product of all numbers that come after the current number. If we multiplied the prefix product and postfix product for a certain array element together, we obtain the product of every element in the array except the current number, but we can do this faster then quadratic time. Let's maintain a vector for the prefix product of all array elements of the input vector of nums. Let's maintain another vector for the postfix product of all elements in the input vector of nums. Initialize N entries (where N = len(nums)) to 1.  We'll make a forward pass through the input vector of nums. On each iteration, we will multiply the previous entry from prefix list with the previous entry from the input vector of nums aside from the very first iteration (skip this). We'll make a backward pass through the input vector of nums to calculate the postfix products. On each iteration, we will multiply the subsequent entry from the postfix product list with the subsequent entry from the input vector of nums with the exception of the very last element in the input vector of nums. \n",
    "\n",
    "Space Complexity: O(N) since we maintain two auxillary data structures - one for the prefix product \n",
    "\n",
    "We can also do away withou lists. At the very end anyways, we perform an element-wise multiplication of both the prefix product and postfix product lists. Instead, we can simply maintain the output vector. SInce it's required return type from our funciton, we will not count it towards the space complexity. First, we will make a forward pass through the input vector of nums like we did above, but instead of updating the prefix vector list, we will directly update the output vector. When we later make a backward pass through the inut vector of nums, we can once again update the output vector instead of the postfix vector list by multiplying on top of the entries it already contains.\n",
    "\n",
    "Space Complexity: O(1) since as we talked about above, the output  "
   ]
  },
  {
   "cell_type": "code",
   "execution_count": 1,
   "id": "0c6f0279",
   "metadata": {},
   "outputs": [
    {
     "ename": "NameError",
     "evalue": "name 'List' is not defined",
     "output_type": "error",
     "traceback": [
      "\u001b[1;31m---------------------------------------------------------------------------\u001b[0m",
      "\u001b[1;31mNameError\u001b[0m                                 Traceback (most recent call last)",
      "Input \u001b[1;32mIn [1]\u001b[0m, in \u001b[0;36m<cell line: 1>\u001b[1;34m()\u001b[0m\n\u001b[1;32m----> 1\u001b[0m \u001b[38;5;28;01mclass\u001b[39;00m \u001b[38;5;21;01mSolution\u001b[39;00m:\n\u001b[0;32m      2\u001b[0m     \u001b[38;5;28;01mdef\u001b[39;00m \u001b[38;5;21mproductExceptSelf\u001b[39m(\u001b[38;5;28mself\u001b[39m, nums: List[\u001b[38;5;28mint\u001b[39m]) \u001b[38;5;241m-\u001b[39m\u001b[38;5;241m>\u001b[39m List[\u001b[38;5;28mint\u001b[39m]:\n\u001b[0;32m      3\u001b[0m         \u001b[38;5;28;01mpass\u001b[39;00m\n",
      "Input \u001b[1;32mIn [1]\u001b[0m, in \u001b[0;36mSolution\u001b[1;34m()\u001b[0m\n\u001b[0;32m      1\u001b[0m \u001b[38;5;28;01mclass\u001b[39;00m \u001b[38;5;21;01mSolution\u001b[39;00m:\n\u001b[1;32m----> 2\u001b[0m     \u001b[38;5;28;01mdef\u001b[39;00m \u001b[38;5;21mproductExceptSelf\u001b[39m(\u001b[38;5;28mself\u001b[39m, nums: \u001b[43mList\u001b[49m[\u001b[38;5;28mint\u001b[39m]) \u001b[38;5;241m-\u001b[39m\u001b[38;5;241m>\u001b[39m List[\u001b[38;5;28mint\u001b[39m]:\n\u001b[0;32m      3\u001b[0m         \u001b[38;5;28;01mpass\u001b[39;00m\n",
      "\u001b[1;31mNameError\u001b[0m: name 'List' is not defined"
     ]
    }
   ],
   "source": [
    "class Solution:\n",
    "    def productExceptSelf(self, nums: List[int]) -> List[int]:\n",
    "        answer = [1 for i in range(len(nums))]\n",
    "        for i in range(len(nums)):\n",
    "            for j in range(len(nums)):\n",
    "                if i == j:\n",
    "                    continue\n",
    "                answer[i] *= nums[j]\n",
    "        return answer"
   ]
  },
  {
   "cell_type": "code",
   "execution_count": null,
   "id": "89731d62",
   "metadata": {},
   "outputs": [],
   "source": [
    "#Prefix/Postfix Multiplication\n",
    "class Solution:\n",
    "    def productExceptSelf(self, nums: List[int]) -> List[int]:\n",
    "        prefix_product = [1 for i in range(len(nums))]\n",
    "        postfix_product = [1 for i in range(len(nums))]\n",
    "        for i in range(1,len(nums)):\n",
    "            prefix_product[i] = prefix_product[i-1] * nums[i-1]\n",
    "        \n",
    "        for i in range(len(nums)-2,-1,-1):\n",
    "            postfix_product[i] = postfix_product[i+1] * nums[i+1]\n",
    "        \n",
    "        answers = [0 for i in range(len(nums))]\n",
    "        for i in range(len(answers)):\n",
    "            answers[i] = prefix_product[i]*postfix_product[i]\n",
    "        return answers"
   ]
  },
  {
   "cell_type": "code",
   "execution_count": null,
   "id": "3e1520d7",
   "metadata": {},
   "outputs": [],
   "source": [
    "#Prefix/Postfix Multiplication\n",
    "class Solution:\n",
    "    def productExceptSelf(self, nums: List[int]) -> List[int]:\n",
    "        answers = [1 for i in range(len(nums))]\n",
    "        for i in range(1,len(nums)):\n",
    "            answers[i] = answers[i-1] * nums[i-1]\n",
    "        \n",
    "        postfix_product = nums[len(nums)-1]\n",
    "        for i in range(len(nums)-2,-1,-1):\n",
    "            answers[i] *= postfix_product\n",
    "            postfix_product *= nums[i]\n",
    "        \n",
    "        return answers"
   ]
  }
 ],
 "metadata": {
  "kernelspec": {
   "display_name": "Python 3 (ipykernel)",
   "language": "python",
   "name": "python3"
  },
  "language_info": {
   "codemirror_mode": {
    "name": "ipython",
    "version": 3
   },
   "file_extension": ".py",
   "mimetype": "text/x-python",
   "name": "python",
   "nbconvert_exporter": "python",
   "pygments_lexer": "ipython3",
   "version": "3.9.12"
  }
 },
 "nbformat": 4,
 "nbformat_minor": 5
}
