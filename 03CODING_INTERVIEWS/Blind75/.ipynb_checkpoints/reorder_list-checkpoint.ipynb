{
 "cells": [
  {
   "cell_type": "markdown",
   "id": "5d1b1a98",
   "metadata": {},
   "source": [
    "## https://leetcode.com/problems/reorder-list/"
   ]
  },
  {
   "cell_type": "code",
   "execution_count": null,
   "id": "630834e0",
   "metadata": {},
   "outputs": [],
   "source": [
    "# Definition for singly-linked list.\n",
    "# class ListNode:\n",
    "#     def __init__(self, val=0, next=None):\n",
    "#         self.val = val\n",
    "#         self.next = next\n",
    "\n",
    "class Solution:\n",
    "    def reverse_list(self,head):\n",
    "        prev = None\n",
    "        curr = head\n",
    "        while curr:\n",
    "            next = curr.next\n",
    "            curr.next = prev\n",
    "            prev = curr\n",
    "            curr = next\n",
    "        return prev\n",
    "        \n",
    "    def reorderList(self, head: Optional[ListNode]) -> None:\n",
    "        slow = head\n",
    "        fast = head.next\n",
    "        while fast and fast.next:\n",
    "            slow = slow.next\n",
    "            fast = fast.next.next\n",
    "        \n",
    "        second = slow.next\n",
    "        slow.next = None\n",
    "        second_reversed = self.reverse_list(second)\n",
    "        first_ptr = head\n",
    "        second_ptr = second_reversed\n",
    "        \n",
    "        while (second_ptr):\n",
    "            second_rest = second_ptr.next\n",
    "            first_rest = first_ptr.next\n",
    "            second_ptr.next = first_ptr.next\n",
    "            first_ptr.next = second_ptr\n",
    "            second_ptr = second_rest\n",
    "            first_ptr = first_rest\n",
    "        \n",
    "        "
   ]
  }
 ],
 "metadata": {
  "kernelspec": {
   "display_name": "Python 3 (ipykernel)",
   "language": "python",
   "name": "python3"
  },
  "language_info": {
   "codemirror_mode": {
    "name": "ipython",
    "version": 3
   },
   "file_extension": ".py",
   "mimetype": "text/x-python",
   "name": "python",
   "nbconvert_exporter": "python",
   "pygments_lexer": "ipython3",
   "version": "3.9.12"
  }
 },
 "nbformat": 4,
 "nbformat_minor": 5
}
