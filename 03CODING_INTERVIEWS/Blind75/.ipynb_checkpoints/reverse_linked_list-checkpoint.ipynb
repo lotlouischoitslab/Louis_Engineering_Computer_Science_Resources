{
 "cells": [
  {
   "cell_type": "markdown",
   "id": "657c8c87",
   "metadata": {},
   "source": [
    "https://leetcode.com/problems/reverse-linked-list/"
   ]
  },
  {
   "cell_type": "markdown",
   "id": "2317788f",
   "metadata": {},
   "source": [
    "# Algorithm\n",
    "Recursive Approach:\n",
    "If the linked list is empty or has one element, we can go ahead and return the linked list in its current state since a linked list with a single node is already a reversed list. We build the reversed list starting from here by resolving all the recursive calls in our recursion stack in LIFO order. First, we keep track of the rest of the linked list since we will eventually have to lose access to it. Then, we will reverse the rest of the linked list irst. We set the next node of our very next node to ourself after which point we can lose access to the rest of our linked list by cutting off our next connection. Finally, we can return the reverse of the rest of the linked list which we maintain access to in a variable. \n",
    "\n",
    "Iterative approach:\n",
    "We maintain two pointers: curr and next. curr is initialized to head and prev is initialized to NULL. So, at the every while loop iteration, we'll update curr to next and prev to curr. First, we keep track of the rest of the linked list because we're about to lose track of it. Then, we update curr->next to the previous. "
   ]
  },
  {
   "cell_type": "code",
   "execution_count": 1,
   "id": "35c1324a",
   "metadata": {},
   "outputs": [
    {
     "ename": "NameError",
     "evalue": "name 'Optional' is not defined",
     "output_type": "error",
     "traceback": [
      "\u001b[1;31m---------------------------------------------------------------------------\u001b[0m",
      "\u001b[1;31mNameError\u001b[0m                                 Traceback (most recent call last)",
      "Input \u001b[1;32mIn [1]\u001b[0m, in \u001b[0;36m<cell line: 6>\u001b[1;34m()\u001b[0m\n\u001b[0;32m      1\u001b[0m \u001b[38;5;66;03m# Definition for singly-linked list.\u001b[39;00m\n\u001b[0;32m      2\u001b[0m \u001b[38;5;66;03m# class ListNode:\u001b[39;00m\n\u001b[0;32m      3\u001b[0m \u001b[38;5;66;03m#     def __init__(self, val=0, next=None):\u001b[39;00m\n\u001b[0;32m      4\u001b[0m \u001b[38;5;66;03m#         self.val = val\u001b[39;00m\n\u001b[0;32m      5\u001b[0m \u001b[38;5;66;03m#         self.next = next\u001b[39;00m\n\u001b[1;32m----> 6\u001b[0m \u001b[38;5;28;01mclass\u001b[39;00m \u001b[38;5;21;01mSolution\u001b[39;00m:\n\u001b[0;32m      7\u001b[0m     \u001b[38;5;28;01mdef\u001b[39;00m \u001b[38;5;21mreverseList\u001b[39m(\u001b[38;5;28mself\u001b[39m, head: Optional[ListNode]) \u001b[38;5;241m-\u001b[39m\u001b[38;5;241m>\u001b[39m Optional[ListNode]:\n\u001b[0;32m      8\u001b[0m         \u001b[38;5;28;01mpass\u001b[39;00m\n",
      "Input \u001b[1;32mIn [1]\u001b[0m, in \u001b[0;36mSolution\u001b[1;34m()\u001b[0m\n\u001b[0;32m      6\u001b[0m \u001b[38;5;28;01mclass\u001b[39;00m \u001b[38;5;21;01mSolution\u001b[39;00m:\n\u001b[1;32m----> 7\u001b[0m     \u001b[38;5;28;01mdef\u001b[39;00m \u001b[38;5;21mreverseList\u001b[39m(\u001b[38;5;28mself\u001b[39m, head: \u001b[43mOptional\u001b[49m[ListNode]) \u001b[38;5;241m-\u001b[39m\u001b[38;5;241m>\u001b[39m Optional[ListNode]:\n\u001b[0;32m      8\u001b[0m         \u001b[38;5;28;01mpass\u001b[39;00m\n",
      "\u001b[1;31mNameError\u001b[0m: name 'Optional' is not defined"
     ]
    }
   ],
   "source": [
    "# Definition for singly-linked list.\n",
    "# class ListNode:\n",
    "#     def __init__(self, val=0, next=None):\n",
    "#         self.val = val\n",
    "#         self.next = next\n",
    "\n",
    "#Recursive Approach\n",
    "class Solution:\n",
    "    def reverseList(self, head: Optional[ListNode]) -> Optional[ListNode]:\n",
    "        if head == None or head.next == None:\n",
    "            return head\n",
    "        \n",
    "        temp = self.reverseList(head.next)\n",
    "        head.next.next = head\n",
    "        head.next = None\n",
    "        return temp\n",
    "    \n",
    "#Iterative Approach\n",
    "class Solution:\n",
    "    def reverseList(self, head: Optional[ListNode]) -> Optional[ListNode]:\n",
    "        prev,curr = None,head\n",
    "        while curr != None:\n",
    "            next = curr.next\n",
    "            curr.next = prev\n",
    "            prev = curr\n",
    "            curr = next\n",
    "        head = prev\n",
    "        return prev"
   ]
  },
  {
   "cell_type": "code",
   "execution_count": null,
   "id": "c5bd9b21",
   "metadata": {},
   "outputs": [],
   "source": []
  }
 ],
 "metadata": {
  "kernelspec": {
   "display_name": "Python 3 (ipykernel)",
   "language": "python",
   "name": "python3"
  },
  "language_info": {
   "codemirror_mode": {
    "name": "ipython",
    "version": 3
   },
   "file_extension": ".py",
   "mimetype": "text/x-python",
   "name": "python",
   "nbconvert_exporter": "python",
   "pygments_lexer": "ipython3",
   "version": "3.9.12"
  }
 },
 "nbformat": 4,
 "nbformat_minor": 5
}
