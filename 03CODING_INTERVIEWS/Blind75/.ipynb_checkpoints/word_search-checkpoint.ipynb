{
 "cells": [
  {
   "cell_type": "markdown",
   "id": "83588042",
   "metadata": {},
   "source": [
    "**https://leetcode.com/problems/word-search/**"
   ]
  },
  {
   "cell_type": "markdown",
   "id": "413b98f9",
   "metadata": {},
   "source": [
    "# Algorithm\n",
    "Recursive Backtracking: \n",
    "We incrementally build candidates to the solutions. The moment we notice a candidate cannot form a valid solution, we abandon it. \n",
    "The minimum piece of information we need to know for any particular state is whether we are in the board (i.e. the position). So, we'll define a recursive function dfs where the first parameter to the function is the board position. We'll also pass in an index into the string representing the word so that we know which letter in the word we are looking for in the board (second param). We start from the top left corner in the board. If there is a match between the first letter in the word and the top left board letter, then we can continue pursuing the other letters in the word. If not, we must look through the remaining board to find a match between the first letters. When we continue pursuing for other letters, we will look to the horizontally and vertically adjacent cells. The conditions we must check are that the row and column (position-wise) are not out of bounds, the position we're currently in does not belong to the visited set, meaning the same letter has already been matched with a letter from the word, and a mismatch between the letter from the word and the letter on the board. For any of these conditions, we will return false. If our index into the string representing the word is out of bounds, we are done and can return true since we have already constructed the word from the letters on the board. \n",
    "\n",
    "Runtime Analysis: In our main exist function, we loop through the board (M*N), but inside the body of the nested loops, we call our dfs function, and there is extra work involved with it. The number of recursive calls stored in the recursion stack before the base case is hit will be at max W number of calls where W is the length of the word. For every recursive invocation, we branch out to 4 additional recursive calls. Each of these recursive calls may need to hold W number of entries in their respective recursive stacks. So, this is the extra work involved with the dfs function from any particular board position. Therefore, the overall runtime of this function is O(M*N*4^W)\n",
    "\n",
    "Space Complexity: We have both a visited set and recursion stack. For the same reason as above with the recursion stack, the visited set will also hold W number of board positions (i.e. at amx the number of letters where we will find a match between the word and the board letters will be 4^W). Therefore, the overall memory usage is O(4^W)."
   ]
  },
  {
   "cell_type": "code",
   "execution_count": null,
   "id": "1baa2e80",
   "metadata": {},
   "outputs": [],
   "source": [
    "class Solution:\n",
    "    def exist(self, board: List[List[str]], word: str) -> bool:\n",
    "        rows,cols = len(board),len(board[0])\n",
    "        path = set()\n",
    "        \n",
    "        def dfs(i,position,board,word,visited):\n",
    "            if i == len(word):\n",
    "                return True\n",
    "            row = position[0]\n",
    "            col = position[1]\n",
    "            if row < 0 or col < 0 or row == len(board) or col == len(board[0]) or word[i] != board[row][col] or position in visited:\n",
    "                return False\n",
    "            visited.add(position)\n",
    "            return dfs(i+1,(row-1,col),board,word,visited) or dfs(i+1,(row+1,col),board,word,visited) or dfs(i+1,(row,col-1),board,word,visited) or dfs(i+1,(row,col+1),board,word,visited)\n",
    "            \n",
    "        visited = set()\n",
    "        for row in range(len(board)):\n",
    "            for col in range(len(board[0])):\n",
    "                if dfs(0,(row,col),board,word,visited):\n",
    "                    return True\n",
    "        return False"
   ]
  }
 ],
 "metadata": {
  "kernelspec": {
   "display_name": "Python 3 (ipykernel)",
   "language": "python",
   "name": "python3"
  },
  "language_info": {
   "codemirror_mode": {
    "name": "ipython",
    "version": 3
   },
   "file_extension": ".py",
   "mimetype": "text/x-python",
   "name": "python",
   "nbconvert_exporter": "python",
   "pygments_lexer": "ipython3",
   "version": "3.9.12"
  }
 },
 "nbformat": 4,
 "nbformat_minor": 5
}
