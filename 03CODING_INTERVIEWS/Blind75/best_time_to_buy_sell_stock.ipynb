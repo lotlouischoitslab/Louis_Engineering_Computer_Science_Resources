{
 "cells": [
  {
   "cell_type": "markdown",
   "id": "2e4854a8",
   "metadata": {},
   "source": [
    "**https://leetcode.com/problems/best-time-to-buy-and-sell-stock/**"
   ]
  },
  {
   "cell_type": "markdown",
   "id": "bdf5f57d",
   "metadata": {},
   "source": [
    "# Algorithm\n",
    "Sliding Window Technique:\n",
    "We maintain two pointers (two pointer approach): left pointer and right pointer. As the name implies, the right pointer starts after the left pointer. First, we make a full forward pass through the array. Every iteration, the right pointer will move one to the right. We take the difference between the price of the stock the day we sell it (prices[right]) and the price of the stock the day we buy it (prices[left]) and check if this difference is negative. If it is negative, then we will update the left pointer to equal to the right. We will constantly update the maximum difference. At the very end, if the maximum difference is still negative, we will return 0. \n",
    "\n",
    "Runtime Analysis: We solely make a single pass through the input list of prices so the time is linear time to the size of prices - O(N).\n",
    "Space Complexity: We don't maintain any additional auxillary data structures or memory, so our overall memory usage is constant O(1). "
   ]
  },
  {
   "cell_type": "code",
   "execution_count": null,
   "id": "b4b5cfa7",
   "metadata": {},
   "outputs": [],
   "source": [
    "class Solution:\n",
    "    def maxProfit(self, prices: List[int]) -> int:\n",
    "        if len(prices) <= 1:\n",
    "            return 0\n",
    "        left,right = 0,1\n",
    "        max_profit = 0\n",
    "        \n",
    "        for i in range(len(prices)-1):\n",
    "            diff = prices[right] - prices[left]\n",
    "            if diff < 0:\n",
    "                left = right\n",
    "            right +=1\n",
    "            max_profit = max(diff,max_profit)\n",
    "    \n",
    "        return max_profit"
   ]
  }
 ],
 "metadata": {
  "kernelspec": {
   "display_name": "Python 3 (ipykernel)",
   "language": "python",
   "name": "python3"
  },
  "language_info": {
   "codemirror_mode": {
    "name": "ipython",
    "version": 3
   },
   "file_extension": ".py",
   "mimetype": "text/x-python",
   "name": "python",
   "nbconvert_exporter": "python",
   "pygments_lexer": "ipython3",
   "version": "3.9.12"
  }
 },
 "nbformat": 4,
 "nbformat_minor": 5
}
