{
 "cells": [
  {
   "cell_type": "markdown",
   "id": "486e6f6b",
   "metadata": {},
   "source": [
    "**https://leetcode.com/problems/clone-graph/**"
   ]
  },
  {
   "cell_type": "markdown",
   "id": "b37bb581",
   "metadata": {},
   "source": [
    "# Algorithm\n",
    "\n",
    "DFS Approach:\n",
    "CREATE A DEEP COPY OF THE GRAPH\n",
    "We know that Node_val is unique for each node, so the node will be referenced by its val.\n",
    "Traverse every node in the graph for the deep copy and stop when the stack is empty. Our stack in this case, will store vertices that we have yet to traverse. Once we pop from the stack the very top node, that node is considered to be traversed. Our goal is to create a deep copy of the entire graph (so each of its nodes). What we will be pushing into the stack is a deep copy of the node. This means that once we pop from the stack, we don't need to create a deep copy of the node we just popped. The node itself is not a reference to the node in the original input graph. It is a new node whose memory was dynamically allocated on the heap. \n",
    "\n",
    "To translate between the iterative and recursive approach, \"pushing to the stack\" refers to making a recursive with a deep copy of the node from the original graph as an argument, whereas \"popping\" from the stack refers to the first parameter of the recursive function, which we can use throughout it. \n"
   ]
  },
  {
   "cell_type": "code",
   "execution_count": null,
   "id": "76354f38",
   "metadata": {},
   "outputs": [],
   "source": [
    "\"\"\"\n",
    "# Definition for a Node.\n",
    "class Node:\n",
    "    def __init__(self, val = 0, neighbors = None):\n",
    "        self.val = val\n",
    "        self.neighbors = neighbors if neighbors is not None else []\n",
    "\"\"\"\n",
    "\n",
    "class Solution:\n",
    "    def cloneGraphhelper(self,node,visited):  \n",
    "        deep_copy = Node(node.val)\n",
    "        visited[deep_copy.val] = deep_copy\n",
    "        neighbors = node.neighbors\n",
    "        for i in range(len(neighbors)):\n",
    "            if neighbors[i].val in visited:\n",
    "                deep_copy.neighbors.append(visited[neighbors[i].val])\n",
    "            else:\n",
    "                deep_copy.neighbors.append(self.cloneGraphhelper(neighbors[i],visited))        \n",
    "           \n",
    "        return deep_copy\n",
    "         \n",
    "        \n",
    "    def cloneGraph(self, node: 'Node') -> 'Node':\n",
    "        if node is None:\n",
    "            return node\n",
    "        visited = dict() #this is a set\n",
    "        return self.cloneGraphhelper(node,visited)"
   ]
  }
 ],
 "metadata": {
  "kernelspec": {
   "display_name": "Python 3 (ipykernel)",
   "language": "python",
   "name": "python3"
  },
  "language_info": {
   "codemirror_mode": {
    "name": "ipython",
    "version": 3
   },
   "file_extension": ".py",
   "mimetype": "text/x-python",
   "name": "python",
   "nbconvert_exporter": "python",
   "pygments_lexer": "ipython3",
   "version": "3.9.12"
  }
 },
 "nbformat": 4,
 "nbformat_minor": 5
}
