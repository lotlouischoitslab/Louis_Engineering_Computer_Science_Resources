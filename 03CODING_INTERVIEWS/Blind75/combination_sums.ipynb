{
 "cells": [
  {
   "cell_type": "markdown",
   "id": "6a169414",
   "metadata": {},
   "source": [
    "**https://leetcode.com/problems/combination-sum/**"
   ]
  },
  {
   "cell_type": "markdown",
   "id": "42738095",
   "metadata": {},
   "source": [
    "# Algorithm\n",
    "Backtracking:\n",
    "This is a backtracking problem since we're building a candidate to the solution and we immediately a candidate the moment we notice it cannot be a valid solution. \n",
    "We'll maintain a global variable for the list of all unique combinations where the numbers that constitute each of the combinations sum up to the target. This is ultimately what we will return from our maintain combinationSum function. We'll declare a recursive function buildCombination, which will take a list of candidates, the target score we want all numbers in a combination to sum up to, the current combination that we're building up, and the current sum of all numbers that constitute that combination and an index into the input vector of candidates representing the very next number we're planning to add to our combination to see if it either will sum up to the target or exceed the target. Recall that a combination is made up of a unique frequency of numbers. So, at least if the frequency of one of the numbers in the combination is different between combinations, they are unique combinations. If not, they are instead permutations. How can we ensure that each of the combinations are made up of a unique frequency of numbers from the list of candidates? From our index into the vector of candidates, we can only choose a candidates starting from that index to add to our combination (we cannot choose any preceding indices/candidates). \n",
    "\n",
    "Runtime Analysis: Our runtime is proportional to the number of recursive calls stored in the recursion stack before the base case is hit and these recursive calls are resolved in LIFO order. Every recursive invocation, we branch off to two additional recursive calls. Therefore, we have a branching factor of 2 and 2-ary decision tree where at each step, we decide to either continue pursuing the current candidate or moving onto the next candidate. Next, we need to determine the depth of our recursion tree. In the worst-case scenario, one of our candidates is a 1, which means we need to consider the combination only comprised of target number of 1's, which means that the depth of our recursion tree will go down to target. Therefore, our overall runtime is O(2^target).\n",
    "\n",
    "Space Complexity: Above, we determined that the number of recursive calls stored in our recursion stack before the base case is hit is 2^target. The size of the recursion stack also dominates our overall memory consumption. Therefore, our overall memory usage is O(2^target). "
   ]
  },
  {
   "cell_type": "code",
   "execution_count": null,
   "id": "7123c573",
   "metadata": {},
   "outputs": [],
   "source": [
    "class Solution:\n",
    "    # def buildCombination(self,i, combination,total,candidates,target,valid_combinations):\n",
    "    #     if i == len(candidates) or total >= target:\n",
    "    #         return valid_combinations\n",
    "    #     if total == target:\n",
    "    #         valid_combinations.append(combination)\n",
    "    #         return valid_combinations\n",
    "    #     combination.append(candidates[i])\n",
    "    #     self.buildCombination(i,combination,total+candidates[i],candidates,target,valid_combinations)\n",
    "    #     combination.pop()\n",
    "    #     self.buildCombination(i+1,combination,total+candidates,candidates,target,valid_combinations)\n",
    "    #     return valid_combinations\n",
    "    \n",
    "    # def combinationSum(self, candidates: List[int], target: int) -> List[List[int]]:\n",
    "    #     valid_combinations = [[]]\n",
    "    #     combination = []\n",
    "    #     return self.buildCombination(0,combination,0,candidates,target,valid_combinations)\n",
    "    def combinationSum(self, candidates: List[int], target: int) -> List[List[int]]:\n",
    "        res = []\n",
    "        \n",
    "        def dfs(i,cur,total):\n",
    "            if total == target:\n",
    "                res.append(cur.copy())\n",
    "                return\n",
    "            if i >= len(candidates) or total > target:\n",
    "                return\n",
    "            cur.append(candidates[i])\n",
    "            dfs(i,cur,total+candidates[i])\n",
    "            cur.pop()\n",
    "            dfs(i+1,cur,total)\n",
    "        dfs(0,[],0)\n",
    "        return res"
   ]
  }
 ],
 "metadata": {
  "kernelspec": {
   "display_name": "Python 3 (ipykernel)",
   "language": "python",
   "name": "python3"
  },
  "language_info": {
   "codemirror_mode": {
    "name": "ipython",
    "version": 3
   },
   "file_extension": ".py",
   "mimetype": "text/x-python",
   "name": "python",
   "nbconvert_exporter": "python",
   "pygments_lexer": "ipython3",
   "version": "3.9.12"
  }
 },
 "nbformat": 4,
 "nbformat_minor": 5
}
