{
 "cells": [
  {
   "cell_type": "markdown",
   "id": "6629fd4b",
   "metadata": {},
   "source": [
    "**https://leetcode.com/problems/number-of-islands/**"
   ]
  },
  {
   "cell_type": "markdown",
   "id": "4191a4a6",
   "metadata": {},
   "source": [
    "# Algorithm"
   ]
  },
  {
   "cell_type": "code",
   "execution_count": 7,
   "id": "d39da940",
   "metadata": {},
   "outputs": [],
   "source": [
    "l = [1,2,3]"
   ]
  }
 ],
 "metadata": {
  "kernelspec": {
   "display_name": "Python 3 (ipykernel)",
   "language": "python",
   "name": "python3"
  },
  "language_info": {
   "codemirror_mode": {
    "name": "ipython",
    "version": 3
   },
   "file_extension": ".py",
   "mimetype": "text/x-python",
   "name": "python",
   "nbconvert_exporter": "python",
   "pygments_lexer": "ipython3",
   "version": "3.9.12"
  }
 },
 "nbformat": 4,
 "nbformat_minor": 5
}
