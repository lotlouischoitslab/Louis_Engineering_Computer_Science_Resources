{
 "cells": [
  {
   "cell_type": "markdown",
   "id": "69aa42f7",
   "metadata": {},
   "source": [
    "## https://leetcode.com/problems/remove-nth-node-from-end-of-list/"
   ]
  },
  {
   "cell_type": "markdown",
   "id": "564f6153",
   "metadata": {},
   "source": [
    "# Algorithm\n",
    "One-Pass Approach: \n",
    "We will maintain two pointers one that starts at the start of the list and one that starts at index n - 1. Every iteration of the while loop, both pointers will move to the next node. Once the further pointer (i.e. the one that started at index n) reaches the end of the linked list (i.e. the very last node), the first pointer (i.e. the one that started at index 0) will be located at the node prior to the node we want to remove. Then, we can set the next pointer of this node to its very next pointer. Finally, we return head. "
   ]
  },
  {
   "cell_type": "code",
   "execution_count": null,
   "id": "e0130036",
   "metadata": {},
   "outputs": [],
   "source": [
    "class Solution:\n",
    "    #Dummy Node One-Pass Approach:\n",
    "    def removeNthFromEnd(self, head: Optional[ListNode], n: int) -> Optional[ListNode]:\n",
    "        second_ptr = head\n",
    "        for i in range(n):\n",
    "            second_ptr = second_ptr.next\n",
    "        \n",
    "        dummy = ListNode(-1)\n",
    "        dummy.next = head\n",
    "        first_ptr = dummy\n",
    "        while(second_ptr):\n",
    "            first_ptr = first_ptr.next\n",
    "            second_ptr = second_ptr.next\n",
    "        \n",
    "        first_ptr.next = first_ptr.next.next\n",
    "        return dummy.next"
   ]
  },
  {
   "cell_type": "code",
   "execution_count": null,
   "id": "81c9d3ac",
   "metadata": {},
   "outputs": [],
   "source": [
    "# Definition for singly-linked list.\n",
    "# class ListNode:\n",
    "#     def __init__(self, val=0, next=None):\n",
    "#         self.val = val\n",
    "#         self.next = next\n",
    "class Solution:\n",
    "    def removeNthFromEnd(self, head: Optional[ListNode], n: int) -> Optional[ListNode]:\n",
    "        first_ptr = head\n",
    "        second_ptr = head\n",
    "       \n",
    "        for i in range(n):\n",
    "            second_ptr = second_ptr.next\n",
    "            \n",
    "        while(second_ptr is not None and second_ptr.next is not None):\n",
    "            first_ptr = first_ptr.next\n",
    "            second_ptr = second_ptr.next\n",
    "        \n",
    "        if not first_ptr.next or not second_ptr:\n",
    "            return head.next\n",
    "        else:\n",
    "            first_ptr.next = first_ptr.next.next\n",
    "        \n",
    "        \n",
    "        return head"
   ]
  }
 ],
 "metadata": {
  "kernelspec": {
   "display_name": "Python 3 (ipykernel)",
   "language": "python",
   "name": "python3"
  },
  "language_info": {
   "codemirror_mode": {
    "name": "ipython",
    "version": 3
   },
   "file_extension": ".py",
   "mimetype": "text/x-python",
   "name": "python",
   "nbconvert_exporter": "python",
   "pygments_lexer": "ipython3",
   "version": "3.9.12"
  }
 },
 "nbformat": 4,
 "nbformat_minor": 5
}
