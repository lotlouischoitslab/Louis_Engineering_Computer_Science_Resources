{
 "cells": [
  {
   "cell_type": "code",
   "execution_count": 5,
   "id": "9fc49204",
   "metadata": {},
   "outputs": [],
   "source": [
    "def palindrome(s, replace):\n",
    "    for i in range(int(len(s) / 2)):\n",
    "        if s[i] != s[len(s) - 1 - i]:\n",
    "            if replacements == 0:\n",
    "                return False\n",
    "            else:\n",
    "                replacements -= 1\n",
    "    return True"
   ]
  },
  {
   "cell_type": "code",
   "execution_count": 8,
   "id": "1f88507d",
   "metadata": {},
   "outputs": [],
   "source": [
    " def canMakePaliQueries(s, queries, list):\n",
    "    temp = []\n",
    "    for query in queries:\n",
    "        temp.append(palindrome(s[query[0]:query[1] + 1], query[2]))\n",
    "    return temp"
   ]
  },
  {
   "cell_type": "markdown",
   "id": "62112124",
   "metadata": {},
   "source": [
    "### https://leetcode.com/problems/can-make-palindrome-from-substring/"
   ]
  },
  {
   "cell_type": "code",
   "execution_count": null,
   "id": "47450732",
   "metadata": {},
   "outputs": [],
   "source": []
  }
 ],
 "metadata": {
  "kernelspec": {
   "display_name": "Python 3 (ipykernel)",
   "language": "python",
   "name": "python3"
  },
  "language_info": {
   "codemirror_mode": {
    "name": "ipython",
    "version": 3
   },
   "file_extension": ".py",
   "mimetype": "text/x-python",
   "name": "python",
   "nbconvert_exporter": "python",
   "pygments_lexer": "ipython3",
   "version": "3.9.12"
  }
 },
 "nbformat": 4,
 "nbformat_minor": 5
}
