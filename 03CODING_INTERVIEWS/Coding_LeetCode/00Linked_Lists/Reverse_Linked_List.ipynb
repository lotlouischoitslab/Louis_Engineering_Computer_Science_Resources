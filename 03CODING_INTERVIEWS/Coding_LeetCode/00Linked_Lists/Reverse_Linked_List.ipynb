{
 "cells": [
  {
   "cell_type": "markdown",
   "id": "016ec42d",
   "metadata": {},
   "source": [
    "### https://leetcode.com/problems/reverse-linked-list/"
   ]
  },
  {
   "cell_type": "code",
   "execution_count": null,
   "id": "57d74039",
   "metadata": {},
   "outputs": [],
   "source": [
    "# Definition for singly-linked list.\n",
    "# class ListNode:\n",
    "#     def __init__(self, val=0, next=None):\n",
    "#         self.val = val\n",
    "#         self.next = next\n",
    "\n",
    "#Recursive Approach\n",
    "class Solution:\n",
    "    def reverseList(self, head: Optional[ListNode]) -> Optional[ListNode]:\n",
    "        if head == None or head.next == None:\n",
    "            return head\n",
    "        \n",
    "        temp = self.reverseList(head.next)\n",
    "        head.next.next = head\n",
    "        head.next = None\n",
    "        return temp\n",
    "    \n",
    "#Iterative Approach\n",
    "class Solution:\n",
    "    def reverseList(self, head: Optional[ListNode]) -> Optional[ListNode]:\n",
    "        prev,curr = None,head\n",
    "        while curr != None:\n",
    "            next = curr.next\n",
    "            curr.next = prev\n",
    "            prev = curr\n",
    "            curr = next\n",
    "        head = prev\n",
    "        return prev\n",
    "    \n",
    "# Recursive Approach:\n",
    "# If the linked list is empty or has one element, we can go ahead and return the linked list in its current state since a linked list with a single node is already a reversed list. We build the reversed list starting from here by resolving all the recursive calls in our recursion stack in LIFO order. First, we keep track of the rest of the linked list since we will eventually have to lose access to it. Then, we will reverse the rest of the linked list irst. We set the next node of our very next node to ourself after which point we can lose access to the rest of our linked list by cutting off our next connection. Finally, we can return the reverse of the rest of the linked list which we maintain access to in a variable. \n",
    "\n",
    "#Iterative approach:\n",
    "#"
   ]
  }
 ],
 "metadata": {
  "kernelspec": {
   "display_name": "Python 3 (ipykernel)",
   "language": "python",
   "name": "python3"
  },
  "language_info": {
   "codemirror_mode": {
    "name": "ipython",
    "version": 3
   },
   "file_extension": ".py",
   "mimetype": "text/x-python",
   "name": "python",
   "nbconvert_exporter": "python",
   "pygments_lexer": "ipython3",
   "version": "3.9.12"
  }
 },
 "nbformat": 4,
 "nbformat_minor": 5
}
