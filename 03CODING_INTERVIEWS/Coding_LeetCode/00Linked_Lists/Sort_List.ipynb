{
 "cells": [
  {
   "cell_type": "markdown",
   "id": "2ba29120",
   "metadata": {},
   "source": [
    "### https://leetcode.com/problems/sort-list"
   ]
  },
  {
   "cell_type": "code",
   "execution_count": null,
   "id": "a5817943",
   "metadata": {},
   "outputs": [],
   "source": [
    "# Definition for singly-linked list.\n",
    "# class ListNode:\n",
    "#     def __init__(self, val=0, next=None):\n",
    "#         self.val = val\n",
    "#         self.next = next\n",
    "class Solution:\n",
    "    def sortList(self, head: Optional[ListNode]) -> Optional[ListNode]:\n",
    "        array = []\n",
    "        current = head\n",
    "        while(current):\n",
    "            array.append(current.val)\n",
    "            current = current.next\n",
    "        louis = self.merge_sort(array)\n",
    "        if len(louis) == 0:\n",
    "            return None\n",
    "        \n",
    "        new_list = ListNode(louis[0])\n",
    "        current = new_list\n",
    "        for i in range(1,len(louis)):\n",
    "            current.next = ListNode(louis[i])\n",
    "            current = current.next\n",
    "        \n",
    "        return new_list\n",
    "        \n",
    "    def merge_sort(self,array):\n",
    "        if len(array) <= 1:\n",
    "            return array\n",
    "        mid = len(array)//2\n",
    "        left = array[:mid]\n",
    "        right = array[mid:]\n",
    "        left = self.merge_sort(left)\n",
    "        right = self.merge_sort(right)\n",
    "        \n",
    "        return self.merge(left,right)\n",
    "    \n",
    "    def merge(self,left,right):\n",
    "        i,j = 0,0\n",
    "        left_len = len(left)\n",
    "        right_len = len(right)\n",
    "        louis = []\n",
    "        \n",
    "        while i < left_len and j < right_len:\n",
    "            if left[i] < right[j]:\n",
    "                louis.append(left[i])\n",
    "                i +=1\n",
    "            else:\n",
    "                louis.append(right[j])\n",
    "                j +=1\n",
    "                \n",
    "        while i < left_len:\n",
    "            louis.append(left[i])\n",
    "            i +=1\n",
    "            \n",
    "        while j < right_len:\n",
    "            louis.append(right[j])\n",
    "            j +=1\n",
    "    \n",
    "        return louis"
   ]
  }
 ],
 "metadata": {
  "kernelspec": {
   "display_name": "Python 3 (ipykernel)",
   "language": "python",
   "name": "python3"
  },
  "language_info": {
   "codemirror_mode": {
    "name": "ipython",
    "version": 3
   },
   "file_extension": ".py",
   "mimetype": "text/x-python",
   "name": "python",
   "nbconvert_exporter": "python",
   "pygments_lexer": "ipython3",
   "version": "3.9.12"
  }
 },
 "nbformat": 4,
 "nbformat_minor": 5
}
