{
 "cells": [
  {
   "cell_type": "code",
   "execution_count": 7,
   "id": "cd51e446",
   "metadata": {},
   "outputs": [],
   "source": [
    "class ListNode:\n",
    "    def __init__(self, val=0, next=None):\n",
    "        self.val = val\n",
    "        self.next = next"
   ]
  },
  {
   "cell_type": "code",
   "execution_count": 8,
   "id": "577db1ee",
   "metadata": {},
   "outputs": [],
   "source": [
    "def swapPairs(head):\n",
    "    if not head or not head.next:\n",
    "        return head\n",
    "\n",
    "    temp = head.next\n",
    "    head.next = head.next.next\n",
    "    temp.next = head\n",
    "    head = temp\n",
    "    head.next.next = self.swapPairs(head.next.next)\n",
    "    return head"
   ]
  },
  {
   "cell_type": "code",
   "execution_count": 9,
   "id": "3003bb90",
   "metadata": {},
   "outputs": [],
   "source": [
    "def swapPairs(head):\n",
    "    curr = head\n",
    "    sentinal = ListNode(-1)\n",
    "    sentinal.next = head\n",
    "    prev = sentinal\n",
    "    \n",
    "    while curr is not None and curr.next is not None:\n",
    "        temp = curr.next\n",
    "        curr.next = curr.next.next\n",
    "        temp.next = curr\n",
    "        curr = temp\n",
    "        prev.next = curr\n",
    "        prev = curr.next\n",
    "        curr = curr.next.next\n",
    "        \n",
    "    return sentinal.next\n",
    "\n",
    "#Iterative Approach: Very similar to the iterative approach\n",
    "#Count for the fact we have previous node in the middle of the list whose next\n",
    "#nodes do not get updated when swapped. In the recurrence relation, this gets accounted for\n",
    "#because we set the head next next to the future consecutive adjacent swap pair linked list.\n",
    "#Iteratively, we have a curr pointer that traverses full linked list nodes at a time after the\n",
    "#swapping. However we cannot wait on the future part of the linked list to be swapped. We must\n",
    "#swap our part now and move onto the future part and swap it. "
   ]
  },
  {
   "cell_type": "code",
   "execution_count": null,
   "id": "a097f291",
   "metadata": {},
   "outputs": [],
   "source": []
  }
 ],
 "metadata": {
  "kernelspec": {
   "display_name": "Python 3 (ipykernel)",
   "language": "python",
   "name": "python3"
  },
  "language_info": {
   "codemirror_mode": {
    "name": "ipython",
    "version": 3
   },
   "file_extension": ".py",
   "mimetype": "text/x-python",
   "name": "python",
   "nbconvert_exporter": "python",
   "pygments_lexer": "ipython3",
   "version": "3.9.12"
  }
 },
 "nbformat": 4,
 "nbformat_minor": 5
}
