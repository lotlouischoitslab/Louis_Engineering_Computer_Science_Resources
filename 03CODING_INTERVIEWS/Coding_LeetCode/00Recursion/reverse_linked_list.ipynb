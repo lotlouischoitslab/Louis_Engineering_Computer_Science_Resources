{
 "cells": [
  {
   "cell_type": "code",
   "execution_count": 52,
   "id": "e0102583",
   "metadata": {},
   "outputs": [],
   "source": [
    "# Definition for singly-linked list.\n",
    "class ListNode:\n",
    "    def __init__(self, val, next=None):\n",
    "        self.val = val\n",
    "        self.next = next\n",
    "    "
   ]
  },
  {
   "cell_type": "code",
   "execution_count": 56,
   "id": "9b9386b4",
   "metadata": {},
   "outputs": [],
   "source": [
    "def reverseList(head):\n",
    "    if head is None or head.next is None:\n",
    "        return head\n",
    "\n",
    "    rest = reverseList(head.next)\n",
    "    head.next.next = head\n",
    "    head.next = None\n",
    "    return rest"
   ]
  },
  {
   "cell_type": "code",
   "execution_count": 57,
   "id": "5b706e66",
   "metadata": {},
   "outputs": [],
   "source": [
    "# def reverseList(self, head):\n",
    "#     curr = head\n",
    "#     prev = None\n",
    "#     while curr:\n",
    "#         nextNode = curr.next\n",
    "#         curr.next = prev\n",
    "#         prev = curr\n",
    "#         curr = nextNode\n",
    "#     return prev"
   ]
  },
  {
   "cell_type": "code",
   "execution_count": 64,
   "id": "4f6c216c",
   "metadata": {},
   "outputs": [
    {
     "name": "stdout",
     "output_type": "stream",
     "text": [
      "4\n",
      "3\n",
      "2\n",
      "1\n"
     ]
    }
   ],
   "source": [
    "head = ListNode(1)\n",
    "head.next = ListNode(2)\n",
    "head.next.next = ListNode(3)\n",
    "head.next.next.next = ListNode(4)\n",
    "# print(head.val)\n",
    "a = reverseList(head)\n",
    "while a is not None:\n",
    "    print(a.val)\n",
    "    a =a.next"
   ]
  },
  {
   "cell_type": "code",
   "execution_count": null,
   "id": "23569fd6",
   "metadata": {},
   "outputs": [],
   "source": [
    "#Recursive Approach:\n",
    "#Base case: Head is a null pointer in which case we cannot reverse a nullptr regardless of whther the number of nodes in the linked list is odd or even\n",
    "#Recursive case: What is the relationship between the results of the problem and the result of the subproblem? At any recursive step, all I will guarantee is that I can reverse my node. BY making a recursive call on the remainder of the linked list, we assume that the remainder of the linked list will be reversed. So, in the body of the function, I will need to figure out how to combine my ndoe with the result of the reversing the remainder of the linked list. \n",
    "\n",
    "#Runtime complexity: O(N) where N is the number of nodes in the linked list because we traverse the linked list only once and do the reversing part while backtracking.\n",
    "#Space complexity: O(N) due to the recursion stack. Before I can verse the initial head of the linked list. I will need to make sure that teh very last node in the linked list is reversed first. So we have the recursion stack with the recursive calls being exexcuted in the LIFO order. "
   ]
  },
  {
   "cell_type": "code",
   "execution_count": null,
   "id": "2abbbbb7",
   "metadata": {},
   "outputs": [],
   "source": [
    "#Iterative Approach:\n",
    "#Maintain a previous pointer that is initialized to a nullptr since head doesn't have \n",
    "#a previous node. Then, we need to figure out a way to set our connections. All I can gurantee is that \n",
    "#I reverse my own node (current) as I traverse the linked list from the initial head to end.\n",
    "#To reverse my own node. I will need to set my next next to my self. So it would be a great benefit to \n",
    "#store my next node. I will need to set my next to the previous node, which I can access from the previous \n",
    "#pointer. Now, previous will need to change so it will become me since I am no longer myself, which means\n",
    "#I move on the next node. \n",
    "#Algorithm \n",
    "#1. Set current to head and previous to nullptr\n",
    "#2. Iterate through a while loop until either curr is nullptr. \n",
    "#3. In the body of the loop, assign the next node and set its next to curr.\n",
    "#4. Set the curr's next to prev. Set prev to curr.\n",
    "#5. Finally, move on to the next node (considering the initial connections) by setting curr to next node\n"
   ]
  }
 ],
 "metadata": {
  "kernelspec": {
   "display_name": "Python 3 (ipykernel)",
   "language": "python",
   "name": "python3"
  },
  "language_info": {
   "codemirror_mode": {
    "name": "ipython",
    "version": 3
   },
   "file_extension": ".py",
   "mimetype": "text/x-python",
   "name": "python",
   "nbconvert_exporter": "python",
   "pygments_lexer": "ipython3",
   "version": "3.9.12"
  }
 },
 "nbformat": 4,
 "nbformat_minor": 5
}
