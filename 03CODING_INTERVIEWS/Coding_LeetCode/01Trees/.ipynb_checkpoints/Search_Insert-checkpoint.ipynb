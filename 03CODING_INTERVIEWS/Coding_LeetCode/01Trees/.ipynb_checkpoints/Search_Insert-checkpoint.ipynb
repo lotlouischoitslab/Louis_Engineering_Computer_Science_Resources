{
 "cells": [
  {
   "cell_type": "markdown",
   "id": "5d19783e",
   "metadata": {},
   "source": [
    "### https://leetcode.com/problems/search-insert-position"
   ]
  },
  {
   "cell_type": "code",
   "execution_count": null,
   "id": "bfd2adc9",
   "metadata": {},
   "outputs": [],
   "source": [
    "class Solution:\n",
    "    def searchInsert(self, nums: List[int], target: int) -> int:\n",
    "        left,right = 0,len(nums)-1\n",
    "        \n",
    "        while left <= right:\n",
    "            mid = (left+right) //2\n",
    "            if nums[mid] == target:\n",
    "                return mid\n",
    "            elif nums[mid] > target:\n",
    "                right = mid-1\n",
    "            elif nums[mid] < target:\n",
    "                left = mid+1\n",
    "           \n",
    "        return left"
   ]
  }
 ],
 "metadata": {
  "kernelspec": {
   "display_name": "Python 3 (ipykernel)",
   "language": "python",
   "name": "python3"
  },
  "language_info": {
   "codemirror_mode": {
    "name": "ipython",
    "version": 3
   },
   "file_extension": ".py",
   "mimetype": "text/x-python",
   "name": "python",
   "nbconvert_exporter": "python",
   "pygments_lexer": "ipython3",
   "version": "3.9.12"
  }
 },
 "nbformat": 4,
 "nbformat_minor": 5
}
