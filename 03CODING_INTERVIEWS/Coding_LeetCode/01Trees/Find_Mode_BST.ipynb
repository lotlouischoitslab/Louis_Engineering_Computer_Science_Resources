{
 "cells": [
  {
   "cell_type": "markdown",
   "id": "63f5db8d",
   "metadata": {},
   "source": [
    "### https://leetcode.com/problems/find-mode-in-binary-search-tree/"
   ]
  },
  {
   "cell_type": "code",
   "execution_count": null,
   "id": "48d7a8e3",
   "metadata": {},
   "outputs": [],
   "source": [
    "# Definition for a binary tree node.\n",
    "# class TreeNode:\n",
    "#     def __init__(self, val=0, left=None, right=None):\n",
    "#         self.val = val\n",
    "#         self.left = left\n",
    "#         self.right = right\n",
    "class Solution:\n",
    "    def findMode(self, root: Optional[TreeNode]) -> List[int]:\n",
    "        louis_array = self.inorder(root,[])\n",
    "        \n",
    "        d = {}\n",
    "        for i in louis_array:\n",
    "            if i not in d:\n",
    "                d[i] = 1\n",
    "            else:\n",
    "                d[i] +=1\n",
    "        \n",
    "        local_max = max(d.values())\n",
    "        ret=[]\n",
    "        for key,value in d.items():\n",
    "            print(key,value)\n",
    "            if value == local_max:\n",
    "                ret.append(key)\n",
    "        return ret\n",
    "        \n",
    "    def inorder(self,root,array):\n",
    "        if root.left:\n",
    "            array = self.inorder(root.left,array)\n",
    "        array.append(root.val)\n",
    "        if root.right:\n",
    "            array = self.inorder(root.right,array)\n",
    "        \n",
    "        return array"
   ]
  }
 ],
 "metadata": {
  "kernelspec": {
   "display_name": "Python 3 (ipykernel)",
   "language": "python",
   "name": "python3"
  },
  "language_info": {
   "codemirror_mode": {
    "name": "ipython",
    "version": 3
   },
   "file_extension": ".py",
   "mimetype": "text/x-python",
   "name": "python",
   "nbconvert_exporter": "python",
   "pygments_lexer": "ipython3",
   "version": "3.9.12"
  }
 },
 "nbformat": 4,
 "nbformat_minor": 5
}
