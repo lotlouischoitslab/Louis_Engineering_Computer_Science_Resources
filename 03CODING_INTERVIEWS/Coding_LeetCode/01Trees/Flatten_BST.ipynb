{
 "cells": [
  {
   "cell_type": "markdown",
   "id": "a844c7e1",
   "metadata": {},
   "source": [
    "### https://leetcode.com/problems/convert-sorted-array-to-binary-search-tree/"
   ]
  },
  {
   "cell_type": "code",
   "execution_count": null,
   "id": "a359641a",
   "metadata": {},
   "outputs": [],
   "source": [
    "# Definition for a binary tree node.\n",
    "# class TreeNode:\n",
    "#     def __init__(self, val=0, left=None, right=None):\n",
    "#         self.val = val\n",
    "#         self.left = left\n",
    "#         self.right = right\n",
    "class Solution:\n",
    "    def flatten(self, root: Optional[TreeNode]) -> None:\n",
    "        \"\"\"\n",
    "        Do not return anything, modify root in-place instead.\n",
    "        \"\"\"\n",
    "        self.dfs(root)\n",
    "        \n",
    "    def dfs(self,root):\n",
    "        if root is None:\n",
    "            return\n",
    "        stack = [root]\n",
    "        \n",
    "        while len(stack) > 0:\n",
    "            s = stack.pop()\n",
    "            if s.right:\n",
    "                stack.append(s.right)\n",
    "            if s.left:\n",
    "                stack.append(s.left)\n",
    "            if len(stack) > 0:\n",
    "                s.right = stack[-1]\n",
    "            s.left = None\n",
    "        \n",
    "                "
   ]
  }
 ],
 "metadata": {
  "kernelspec": {
   "display_name": "Python 3 (ipykernel)",
   "language": "python",
   "name": "python3"
  },
  "language_info": {
   "codemirror_mode": {
    "name": "ipython",
    "version": 3
   },
   "file_extension": ".py",
   "mimetype": "text/x-python",
   "name": "python",
   "nbconvert_exporter": "python",
   "pygments_lexer": "ipython3",
   "version": "3.9.12"
  }
 },
 "nbformat": 4,
 "nbformat_minor": 5
}
