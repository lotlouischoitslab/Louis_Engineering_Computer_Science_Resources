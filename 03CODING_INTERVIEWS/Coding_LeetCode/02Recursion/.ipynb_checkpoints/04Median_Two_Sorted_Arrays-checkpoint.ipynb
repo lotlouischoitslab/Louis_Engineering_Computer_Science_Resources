{
 "cells": [
  {
   "cell_type": "markdown",
   "id": "ac030fa0",
   "metadata": {},
   "source": [
    "### https://leetcode.com/problems/median-of-two-sorted-arrays/"
   ]
  },
  {
   "cell_type": "code",
   "execution_count": null,
   "id": "1eb9ffcd",
   "metadata": {},
   "outputs": [],
   "source": [
    "    def findMedianSortedArrays(self, nums1: List[int], nums2: List[int]) -> float:\n",
    "        A,B = nums1,nums2\n",
    "        total = len(nums1)+len(nums2) #total number of elements in nums1 and nums2\n",
    "        half = total //2\n",
    "        if len(B) < len(A):\n",
    "            A,B = B,A\n",
    "        left,right = 0,len(A)-1\n",
    "        #Guaranteed a minimum\n",
    "        while True:\n",
    "            i = (left+right) //2 #A\n",
    "            j = half - i - 2 #B 0-indexed\n",
    "\n",
    "            Aleft = A[i] if i >= 0 else float('-inf')\n",
    "            Aright = A[i+1] if i+1 < len(A) else float('inf')\n",
    "            Bleft = B[j] if j >= 0 else float('-inf')\n",
    "            Bright = B[j+1] if j+1 < len(B) else float('inf')\n",
    "\n",
    "            # Partition is correct\n",
    "            if Aleft <= Bright and Bleft <= Aright:\n",
    "                if total%2 == 1:\n",
    "                    return min(Aright,Bright)\n",
    "                \n",
    "                return (max(Aleft,Bleft)+min(Aright,Bright))/2\n",
    "            elif Aleft > Bright:\n",
    "                right = i -1 \n",
    "            else:\n",
    "                left = i+1"
   ]
  }
 ],
 "metadata": {
  "kernelspec": {
   "display_name": "Python 3 (ipykernel)",
   "language": "python",
   "name": "python3"
  },
  "language_info": {
   "codemirror_mode": {
    "name": "ipython",
    "version": 3
   },
   "file_extension": ".py",
   "mimetype": "text/x-python",
   "name": "python",
   "nbconvert_exporter": "python",
   "pygments_lexer": "ipython3",
   "version": "3.9.12"
  }
 },
 "nbformat": 4,
 "nbformat_minor": 5
}
