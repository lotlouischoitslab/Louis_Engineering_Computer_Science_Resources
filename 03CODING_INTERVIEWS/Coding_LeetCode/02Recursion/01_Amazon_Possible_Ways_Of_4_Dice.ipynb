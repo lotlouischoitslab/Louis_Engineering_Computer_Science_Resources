{
 "cells": [
  {
   "cell_type": "code",
   "execution_count": 10,
   "id": "8cd5039f",
   "metadata": {},
   "outputs": [],
   "source": [
    "def possiblenum(arr,target):\n",
    "    if target == 0:\n",
    "        print(arr)\n",
    "        return\n",
    "    for i in range(1,6 and target+1):\n",
    "        possiblenum(arr+str(i),target-i)"
   ]
  },
  {
   "cell_type": "code",
   "execution_count": 11,
   "id": "c9efaba3",
   "metadata": {},
   "outputs": [
    {
     "name": "stdout",
     "output_type": "stream",
     "text": [
      "1111\n",
      "112\n",
      "121\n",
      "13\n",
      "211\n",
      "22\n",
      "31\n",
      "4\n"
     ]
    }
   ],
   "source": [
    "arr = ''\n",
    "num = 4\n",
    "possiblenum(arr,num)"
   ]
  },
  {
   "cell_type": "code",
   "execution_count": null,
   "id": "d1819d6e",
   "metadata": {},
   "outputs": [],
   "source": []
  }
 ],
 "metadata": {
  "kernelspec": {
   "display_name": "Python 3 (ipykernel)",
   "language": "python",
   "name": "python3"
  },
  "language_info": {
   "codemirror_mode": {
    "name": "ipython",
    "version": 3
   },
   "file_extension": ".py",
   "mimetype": "text/x-python",
   "name": "python",
   "nbconvert_exporter": "python",
   "pygments_lexer": "ipython3",
   "version": "3.9.12"
  }
 },
 "nbformat": 4,
 "nbformat_minor": 5
}
