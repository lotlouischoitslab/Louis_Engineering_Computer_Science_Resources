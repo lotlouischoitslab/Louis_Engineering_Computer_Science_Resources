{
 "cells": [
  {
   "cell_type": "code",
   "execution_count": 9,
   "id": "2b67fabf",
   "metadata": {},
   "outputs": [],
   "source": [
    "# Definition for a binary tree node.\n",
    "class TreeNode:\n",
    "    def __init__(self, val=0, left=None, right=None):\n",
    "        self.val = val\n",
    "        self.left = left\n",
    "        self.right = right\n",
    "        \n",
    "\n",
    "def searchBST(root, val):\n",
    "    if root is None or root.val == val:\n",
    "        return root\n",
    "    elif val > root.val:\n",
    "        return searchBST(root.right,val)\n",
    "    else:\n",
    "        return searchBST(root.left,val)"
   ]
  },
  {
   "cell_type": "code",
   "execution_count": null,
   "id": "420338e2",
   "metadata": {},
   "outputs": [],
   "source": [
    "def searchBST(root,val):\n",
    "    while(root is not None and root.val != val):\n",
    "        if(val > root.val):\n",
    "            root = root.right\n",
    "        else\n",
    "            root = root.left\n",
    "    return root\n",
    "\n",
    "#Space complexity: O(1)"
   ]
  },
  {
   "cell_type": "code",
   "execution_count": 13,
   "id": "ca659193",
   "metadata": {},
   "outputs": [],
   "source": [
    "root = TreeNode(4)\n",
    "root.left = TreeNode(2)\n",
    "root.right = TreeNode(7)\n",
    "root.left.left = TreeNode(1)\n",
    "root.left.right = TreeNode(3)\n",
    "root.right = TreeNode(7)\n",
    "\n",
    "val = 2\n",
    "a = searchBST(root,val)"
   ]
  },
  {
   "cell_type": "code",
   "execution_count": 14,
   "id": "4e4d1f98",
   "metadata": {},
   "outputs": [],
   "source": [
    "#BST Search:\n",
    "#Base Case: root is None which means we have reached a lead node or a\n",
    "#node with only single subtree. It doesn't really matter what we have \n",
    "#reached but we stop recursing since a nullptr cannot have children. \n",
    "#Another base case would be that val of the root node is equal to the val \n",
    "#passed in. \n",
    "\n",
    "#Recurrence Relation: What is the relationship between the problem and \n",
    "#subproblem? Problem: Find a value in the entire tree. Subproblem: \n",
    "#Find a val in a subtree of the entire tree rooted at the initial root node.\n",
    "#Call search BST on the right and the left subtrees/children of the root node. \n",
    "#If the val of the root node is greater than the val passed in, call searchBST on the right subtree. \n",
    "#If the val of the root node is less than the val passed in, call searchBST on the left subtree.\n",
    "\n",
    "#Master's Theorem T(N) = aT(N/b) + Theta(N^d) \n",
    "#a subproblems of size N/ b in Theta(N^d)\n",
    "#d = log_b(a) = log_2(1) = 0\n",
    "#O(n^d*log^(a+1)*N) = O(logN)\n",
    "#O(n^d*log(N)^(d+1))\n",
    "\n",
    "#Iterative Approach: Same as recursive but less space complexity except enclose\n",
    "#In a while loop. Space Complexity: O(1) since we don't allocate any additional\n",
    "#data structure"
   ]
  },
  {
   "cell_type": "code",
   "execution_count": null,
   "id": "24657609",
   "metadata": {},
   "outputs": [],
   "source": []
  }
 ],
 "metadata": {
  "kernelspec": {
   "display_name": "Python 3 (ipykernel)",
   "language": "python",
   "name": "python3"
  },
  "language_info": {
   "codemirror_mode": {
    "name": "ipython",
    "version": 3
   },
   "file_extension": ".py",
   "mimetype": "text/x-python",
   "name": "python",
   "nbconvert_exporter": "python",
   "pygments_lexer": "ipython3",
   "version": "3.9.12"
  }
 },
 "nbformat": 4,
 "nbformat_minor": 5
}
