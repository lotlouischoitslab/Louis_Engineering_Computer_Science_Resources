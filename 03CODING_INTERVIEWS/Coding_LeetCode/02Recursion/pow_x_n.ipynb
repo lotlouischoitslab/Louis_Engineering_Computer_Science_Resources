{
 "cells": [
  {
   "cell_type": "code",
   "execution_count": 3,
   "id": "2a355c8d",
   "metadata": {},
   "outputs": [],
   "source": [
    "class Solution:\n",
    "    def myPow(self, x: float, n: int) -> float:\n",
    "        if n == 0:\n",
    "            return 1\n",
    "        elif n % 2 == 0:\n",
    "            subresult = 0.0\n",
    "            if n > 0:\n",
    "                subresult = self.myPow(x, n//2)\n",
    "            else:\n",
    "                subresult = self.myPow(1/x, abs(n)//2)\n",
    "\n",
    "            return subresult * subresult\n",
    "        else:\n",
    "            subresult = 0.0\n",
    "            if n > 0:\n",
    "                subresult = self.myPow(x, n//2)\n",
    "                return x* subresult * subresult\n",
    "            else:\n",
    "                subresult = self.myPow(1/x, abs(n)//2)\n",
    "                return (1 /x) * subresult * subresult\n",
    "\n",
    "#Brute-Force Recursive Approach:\n",
    "#Base Case: When n = 0, return 1. This because anything raised to the 0th power returns a 1. Also, n is an indication of the frequency with which you multiply input x to itself, so if n = 0, this tells us that we need to stop multiplying x to itself. \n",
    "\n",
    "#Recurrence Relation: What is the relationship betweeen the problem and the subproblem? We break the problem into subproblem by decreasing the frequency wit hwhich we should be multiplying input x to itself every recursive call. This will in effect get us closer to 0. Notice that in the case where the input is negative, we will need to multiply the reciprocal of the input x to itself bu the absolute value of n times. So the very first time we will take the absolute value of n before subtracting by one in order to keep that frequency of the number of self-multiplication of input x positive. \n",
    "\n",
    "#Tail Recursion: Recursion where the recursive call is the final instruction in the body of the recursive function and no other computations occur after we return from the recursive function. When we backtrack to the original caller, the return values of the recursive function should be the same everytime. To do this, let's store a global variable whose value is the product and once we reach the base case, we will simply return this product and backtrack through the recursive untill we recah the original caller and give it this same exact product. \n",
    "\n",
    "#Space Complexity: O(1) -> Now, inside our recursive stack, future recursive calls will overwrite memory in the stack allocated for its previous recursive call, so we will never need more space in the stack than to store a single recursive call. The reason we can do this is the return value of all recursive calls will be the exact same (the product returned from the base case).\n",
    "\n",
    "#Iterative Approach: As opposed to recursive calls, we will need to replace then with a loop. We can have a for loop that iterates through the absolute value of n and multiplies either x to itself if n > 0 or the reciprocal of x to itself if n < 0.\n",
    "\n",
    "#Runtime Complexity and Space Complexity of the iterative appraoch is the exact the same as it is for the tail recursion approach. O(n) where n is the second input to the function for the runtime becase we multiply either x or its reciprocal to itself for the absolute value of n times. Space-complexity wise, we don't use any additional auziliary data strutures. So our overall memory usage is O(1).\n",
    "\n",
    "#Approach: Fast Algorithm Recursive\n",
    "#Base Case: When n = 0. return 1 because anything raised to 0th power is one\n",
    "#Recurrence Relation: What is the relation between the problem and the subproblem? We break the problem into subproblem by dividing the frequency with which we multiply either input x or its reciprocals (depending on the sign of n) to itself by 2. We will in effect get closer to our base case of n = 0. This is a divide-and-conquer approach where we split our problem in half and then our subsequent subproblems (which have because the new problem) in half. We take the results of the subproblem or the return value from the recursive call and then multiply to itself to figure out to find the results of the problem. \n",
    "\n",
    "#Algorithm:\n",
    "#First off base case we know that if n is 0 return 1. \n",
    "#Now check the value of n. Let's have a control statement to check if n is even or odd. \n",
    "#If n is positive or the reciprocal of x if n is negative If n is even, take the result of the time recursive call for the subproblem and multiply to itself. Remember that our subproblem would be dividing n by 2 (splitting the problem in half), so our first parameter for our recursive call is same and the second parameter would be n / 2. \n",
    "\n",
    "#If n is odd, then take the result of the recursive call for the subproblem and multiply itself and then multiply it to input one more time. Remember that our subproblem would be dividing n by 2 splitting the subproblem in half. However since n is odd, we will have to perform integer division on n.  So our first parameter for our recursive call will be the same that is if n is positive or the reciprocal of x if n is negative and the second parameter will be abs(n) // 2. We can simply divide abs(n) by n since n is already of an integer type. \n",
    "\n",
    "#Runtime Analysis: We solely make one recursive call inside the body of our recursive function depending on the sign of n and whether n is even or odd. Every invocation of our recursive function, we split our problem into two equivalent sized subproblems and then combine the results of these subproblems to figure out the results of our original problem. So let's say that n = 10. Our first recursive call will split the problem in half so it will pass in n = 5 as the second parameter then we split this subproblem we can consider as a new problem in half using integer dividsion so truncate the fractional component to get that the size of our next subproblem is 2. Finally the size of the very last subproblem will be one by splitting 2 in half. Finally the size of our very last subproblem will be 1 by splitting 2 in half. Notice that the total number of recursive calls that we have made in this process is 4. This is equal to log_2(16). So whenever we split our problem in half, our runtime will be O(logn). \n",
    "\n",
    "#Space Complexity: Our space usage will be proportional to our runtime. In the runtime analysis, we determined that we made log_2(N) recursive calls. So this will be the size of our recursion stack. Recall that the recursion stack will store all our recursive calls until we reached our base case and then backtrack and execute them in LIFO order so our overall memory usage is O(logn). Note that we don't use any additional data structures.\n",
    "\n",
    "#Algorithm:\n",
    "#Let's take care of the very base, i.e n == 0. In the base case, anything raised to the 0th power is equal to 1 so we return 1.Let's begin the result calculation at x. \n",
    "#This will account for our base case when n == 0 from our previous recursion algorithm. This is when we will stop the while loop\n",
    "#Every single iteration of our while loop, we will want to break our problem in half by dividing abs(N) by 2. Let's store the initial value of n in a variable called N\n",
    "#so that we don't modify the original input. Every iteration, we will take the product and multiply it to itself, thereby attaining increasing powers of x. We continue to accumulate this product until we notice that N is an odd number. Now to the resulting product, we will multiply the current product as we have accumulated.\n",
    "\n",
    "#101\n",
    "#10\n",
    "#1\n",
    "#result = 3 * 81 = 243 = 3^1 * 3^4 = 3^5\n",
    "#product = 81 * 81\n",
    "\n",
    "#Approach: Fast Power Iterative Algorithm (Binary Exponetiation):\n",
    "#This is very similar to what we did in the recursive except as opposed to recursive except as opposed to recursive calls,\n",
    "#we'll just use a while loop.\n",
    "#Runtime Analysis: Same as above except we don't use recursive calls anymore. However, our loop will execute for O(log_2(n)) iterations.\n",
    "#Space Complexity: We don't use recursion stack and we don't have any additional auxiliary data structures, so our overall memory\n",
    "#usage is O(1)"
   ]
  },
  {
   "cell_type": "markdown",
   "id": "e54a1429",
   "metadata": {},
   "source": [
    "### https://leetcode.com/problems/powx-n/submissions/"
   ]
  },
  {
   "cell_type": "markdown",
   "id": "1f424b36",
   "metadata": {},
   "source": [
    "### https://www.youtube.com/watch?v=g9YQyYi4IQQ"
   ]
  },
  {
   "cell_type": "code",
   "execution_count": 1,
   "id": "33de28d4",
   "metadata": {},
   "outputs": [],
   "source": [
    "def myPow(self, x: float, n: int) -> float:\n",
    "    if n == 0:\n",
    "        return 1\n",
    "\n",
    "    product = x \n",
    "    if n < 0:\n",
    "        product = 1/product\n",
    "\n",
    "    N = abs(n)\n",
    "    result = 1.0\n",
    "    while N != 0:\n",
    "        if N % 2 != 0:\n",
    "            result *= product \n",
    "\n",
    "        product *= product\n",
    "        N = N // 2\n",
    "\n",
    "    return result "
   ]
  },
  {
   "cell_type": "markdown",
   "id": "aa7b7f30",
   "metadata": {},
   "source": [
    "### https://www.youtube.com/watch?v=L-Wzglnm4dM"
   ]
  },
  {
   "cell_type": "code",
   "execution_count": null,
   "id": "53e77206",
   "metadata": {},
   "outputs": [],
   "source": []
  }
 ],
 "metadata": {
  "kernelspec": {
   "display_name": "Python 3 (ipykernel)",
   "language": "python",
   "name": "python3"
  },
  "language_info": {
   "codemirror_mode": {
    "name": "ipython",
    "version": 3
   },
   "file_extension": ".py",
   "mimetype": "text/x-python",
   "name": "python",
   "nbconvert_exporter": "python",
   "pygments_lexer": "ipython3",
   "version": "3.9.12"
  }
 },
 "nbformat": 4,
 "nbformat_minor": 5
}
