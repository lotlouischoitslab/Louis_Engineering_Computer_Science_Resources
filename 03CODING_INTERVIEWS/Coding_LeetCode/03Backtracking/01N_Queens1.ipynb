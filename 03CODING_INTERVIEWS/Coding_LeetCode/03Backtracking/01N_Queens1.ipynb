{
 "cells": [
  {
   "cell_type": "markdown",
   "id": "4cbc109f",
   "metadata": {},
   "source": [
    "### https://leetcode.com/problems/n-queens/"
   ]
  },
  {
   "cell_type": "markdown",
   "id": "02e4016c",
   "metadata": {},
   "source": [
    "## Algorithm:\n",
    "Recursive Backtracking Approach:\n",
    "We will follow the N-Queens pseudocode template where we define a recursive function that takes the row as an input (we will pass in 0 as the starting row for initialization purpose) and an empty vector representing all distinct solutions to the n-queens puzzle, which will be the ultimate return value. Starting from the initial row (0), we go through every column. We do the same thing for every row. Using the row, col pair, we first check to see if we are in the attacking zone of another queen currently on the board (the state of the board should have been updated before to account for the queen's presence). We will have a function for this. If we are not in the attacking zone, first we will place a queen. Then, we will have two posibiltiies (i.e control statements). If we are the very last row, then we have found a full solution to the N-Queens problem because from the previous recursive invocation of our function, we should have already placed queens on the board such that they are not in the same row, col, main diagonal and anti-diagonal of one another. If not, we have not yet found the solution, we may still be at a partial candidate solution if we have not reached last column of the row, so call our recursive function with an incremented row and the same list of lists that was passed in as the second parameter. If so, append to the list a list representing the complete chess board (valid solution of N queens) where each entry is a string representing the row. (the columns will have a Q representing that a queen is located at that row, col pair or a . representing that nothing is located at that row, col, pair). After the control statements, we will need to backtrack (either we are executing our recursive statements in LIFO order because we may have discovered a distinct valid solution or may have found that a partial candidate solution was invalid. Since we have updated the state by placing a queen on the board, we will need a matching remove function for removing the queen (this can either happen for a success or failure case as we described above). At the very end of the function, after having iterated through all of the columns, return the list of lists representing all distinct solutions to the N-Queens puzzle. We are going to maintain 3 sets. Why sets? Look up in any hash-related data structure (such as a set) can be done in constant time, and we are going to have several lookups. Column sets. Intuitive: Add the cols. Positive diagnoal set: notice this technique for finding if two queens are in the same positive diagonal. Their row + col index will be the exact same. So add exactly this to the positive diagonal set. Likewise, for negative diagonal set, notice that if two queens are in the same negative diagonal, their row - col index will be the exact same. So, add exactly this to the negative diagonal set. \n",
    "\n",
    "not_attacking_zone(row,col,col_set,posdiag_set,negdiag_set): Check to see if the cols exist inside the col_set, row + col exists inside the posdiag_set, or row - col exist inside the negdiag_set. If so, return false. Otherwise, true. \n",
    "\n",
    "Backtracking: Imagine if we represented the solution space of all valid solutions as a tree where the leef nodes represent final valid solutions and the intermediate nodes following the root node (which represent the problem) represent partial candidate solutions. The goal is to reach the leaf nodes while considering every viable path. For invalid partial candidate solutions, we want to notcie them as soon as possible so that we can backtrack to the very last partial candidate node to consider the very next path. So, we can model this with a chessboard. "
   ]
  },
  {
   "cell_type": "code",
   "execution_count": 1,
   "id": "8319f6a1",
   "metadata": {},
   "outputs": [
    {
     "ename": "NameError",
     "evalue": "name 'List' is not defined",
     "output_type": "error",
     "traceback": [
      "\u001b[1;31m---------------------------------------------------------------------------\u001b[0m",
      "\u001b[1;31mNameError\u001b[0m                                 Traceback (most recent call last)",
      "Input \u001b[1;32mIn [1]\u001b[0m, in \u001b[0;36m<cell line: 1>\u001b[1;34m()\u001b[0m\n\u001b[1;32m----> 1\u001b[0m \u001b[38;5;28;01mclass\u001b[39;00m \u001b[38;5;21;01mSolution\u001b[39;00m:\n\u001b[0;32m      2\u001b[0m     \u001b[38;5;28;01mdef\u001b[39;00m \u001b[38;5;21msolveNQueens\u001b[39m(\u001b[38;5;28mself\u001b[39m, n: \u001b[38;5;28mint\u001b[39m) \u001b[38;5;241m-\u001b[39m\u001b[38;5;241m>\u001b[39m List[List[\u001b[38;5;28mstr\u001b[39m]]:\n\u001b[0;32m      3\u001b[0m         col \u001b[38;5;241m=\u001b[39m \u001b[38;5;28mset\u001b[39m()\n",
      "Input \u001b[1;32mIn [1]\u001b[0m, in \u001b[0;36mSolution\u001b[1;34m()\u001b[0m\n\u001b[0;32m      1\u001b[0m \u001b[38;5;28;01mclass\u001b[39;00m \u001b[38;5;21;01mSolution\u001b[39;00m:\n\u001b[1;32m----> 2\u001b[0m     \u001b[38;5;28;01mdef\u001b[39;00m \u001b[38;5;21msolveNQueens\u001b[39m(\u001b[38;5;28mself\u001b[39m, n: \u001b[38;5;28mint\u001b[39m) \u001b[38;5;241m-\u001b[39m\u001b[38;5;241m>\u001b[39m \u001b[43mList\u001b[49m[List[\u001b[38;5;28mstr\u001b[39m]]:\n\u001b[0;32m      3\u001b[0m         col \u001b[38;5;241m=\u001b[39m \u001b[38;5;28mset\u001b[39m()\n\u001b[0;32m      4\u001b[0m         posDiag \u001b[38;5;241m=\u001b[39m \u001b[38;5;28mset\u001b[39m() \u001b[38;5;66;03m#(r+c)\u001b[39;00m\n",
      "\u001b[1;31mNameError\u001b[0m: name 'List' is not defined"
     ]
    }
   ],
   "source": [
    "class Solution:\n",
    "    def solveNQueens(self, n: int) -> List[List[str]]:\n",
    "        col = set()\n",
    "        posDiag = set() # (r + c)\n",
    "        negDiag = set() # (r - c)\n",
    "        \n",
    "        res = []\n",
    "        board = [['.']*n for i in range(n)]\n",
    "        \n",
    "        def backtrack(r):\n",
    "            if r == n:\n",
    "                copy = [''.join(row) for row in board]\n",
    "                res.append(copy)\n",
    "                return \n",
    "            \n",
    "            for c in range(n):\n",
    "                if c in col or (r+c) in posDiag or (r-c) in negDiag:\n",
    "                    continue\n",
    "                \n",
    "                col.add(c)\n",
    "                posDiag.add(r+c)\n",
    "                negDiag.add(r-c)\n",
    "                board[r][c] = 'Q'\n",
    "                \n",
    "                backtrack(r+1)\n",
    "                \n",
    "                col.remove(c)\n",
    "                posDiag.remove(r+c)\n",
    "                negDiag.remove(r-c)\n",
    "                board[r][c] = '.'\n",
    "                \n",
    "        backtrack(0)\n",
    "        return res\n",
    "                "
   ]
  },
  {
   "cell_type": "code",
   "execution_count": null,
   "id": "36bca848",
   "metadata": {},
   "outputs": [],
   "source": []
  }
 ],
 "metadata": {
  "kernelspec": {
   "display_name": "Python 3 (ipykernel)",
   "language": "python",
   "name": "python3"
  },
  "language_info": {
   "codemirror_mode": {
    "name": "ipython",
    "version": 3
   },
   "file_extension": ".py",
   "mimetype": "text/x-python",
   "name": "python",
   "nbconvert_exporter": "python",
   "pygments_lexer": "ipython3",
   "version": "3.9.12"
  }
 },
 "nbformat": 4,
 "nbformat_minor": 5
}
