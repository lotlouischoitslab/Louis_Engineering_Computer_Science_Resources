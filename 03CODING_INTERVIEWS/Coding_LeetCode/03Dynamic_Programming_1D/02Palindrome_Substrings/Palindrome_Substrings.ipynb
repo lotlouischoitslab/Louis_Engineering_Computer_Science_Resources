{
 "cells": [
  {
   "cell_type": "markdown",
   "id": "03624f45",
   "metadata": {},
   "source": [
    "### https://leetcode.com/problems/palindromic-substrings/submissions/"
   ]
  },
  {
   "cell_type": "code",
   "execution_count": 1,
   "id": "0200cde8",
   "metadata": {},
   "outputs": [],
   "source": [
    "class Solution:\n",
    "    def countpali(self,left,right,s):\n",
    "        res = 0\n",
    "        while left >= 0 and right < len(s) and s[left] == s[right]:\n",
    "            res +=1 \n",
    "            left -=1\n",
    "            right +=1\n",
    "        return res\n",
    "        \n",
    "    def countSubstrings(self, s: str) -> int:\n",
    "        res = 0\n",
    "        for i in range(len(s)):\n",
    "            #odd length palindromes\n",
    "            left = right = i\n",
    "            res += self.countpali(left,right,s)\n",
    "            \n",
    "            #even length palindromes\n",
    "            left = i\n",
    "            right = i+1\n",
    "            res += self.countpali(left,right,s)\n",
    "                \n",
    "        return res\n",
    "    \n",
    "            "
   ]
  },
  {
   "cell_type": "code",
   "execution_count": null,
   "id": "b2f0f114",
   "metadata": {},
   "outputs": [],
   "source": []
  }
 ],
 "metadata": {
  "kernelspec": {
   "display_name": "Python 3 (ipykernel)",
   "language": "python",
   "name": "python3"
  },
  "language_info": {
   "codemirror_mode": {
    "name": "ipython",
    "version": 3
   },
   "file_extension": ".py",
   "mimetype": "text/x-python",
   "name": "python",
   "nbconvert_exporter": "python",
   "pygments_lexer": "ipython3",
   "version": "3.9.12"
  }
 },
 "nbformat": 4,
 "nbformat_minor": 5
}
