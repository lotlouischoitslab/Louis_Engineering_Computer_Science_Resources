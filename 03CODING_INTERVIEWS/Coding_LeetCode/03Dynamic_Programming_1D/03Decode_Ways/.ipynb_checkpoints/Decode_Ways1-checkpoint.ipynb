{
 "cells": [
  {
   "cell_type": "markdown",
   "id": "2876b795",
   "metadata": {},
   "source": [
    "### https://leetcode.com/problems/decode-ways/"
   ]
  },
  {
   "cell_type": "code",
   "execution_count": null,
   "id": "ccc79698",
   "metadata": {},
   "outputs": [],
   "source": [
    "class Solution:\n",
    "    def numDecodings(self, s: str) -> int:\n",
    "        dp = {len(s):1}\n",
    "        \n",
    "        def dfs(i):\n",
    "            if i in dp:\n",
    "                return dp[i]\n",
    "            if s[i] == '0':\n",
    "                return 0\n",
    "            \n",
    "            res = dfs(i+1) \n",
    "            #if it starts with 1, we know that it is a double digit number\n",
    "            if (i+1 < len(s) and (s[i]=='1' or s[i]=='2' and s[i+1] in '0123456')):\n",
    "                res += dfs(i+2)\n",
    "            \n",
    "            dp[i] = res\n",
    "            return res\n",
    "        return dfs(0)"
   ]
  }
 ],
 "metadata": {
  "kernelspec": {
   "display_name": "Python 3 (ipykernel)",
   "language": "python",
   "name": "python3"
  },
  "language_info": {
   "codemirror_mode": {
    "name": "ipython",
    "version": 3
   },
   "file_extension": ".py",
   "mimetype": "text/x-python",
   "name": "python",
   "nbconvert_exporter": "python",
   "pygments_lexer": "ipython3",
   "version": "3.9.12"
  }
 },
 "nbformat": 4,
 "nbformat_minor": 5
}
