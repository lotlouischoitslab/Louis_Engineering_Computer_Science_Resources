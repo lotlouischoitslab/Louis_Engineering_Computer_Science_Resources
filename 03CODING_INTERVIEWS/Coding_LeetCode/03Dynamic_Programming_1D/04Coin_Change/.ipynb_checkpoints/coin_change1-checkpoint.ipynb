{
 "cells": [
  {
   "cell_type": "markdown",
   "id": "19b26b34",
   "metadata": {},
   "source": [
    "### https://leetcode.com/problems/coin-change/"
   ]
  },
  {
   "cell_type": "code",
   "execution_count": null,
   "id": "1b9d4f60",
   "metadata": {},
   "outputs": [],
   "source": [
    "class Solution:\n",
    "    def coinChange(self, coins: List[int], amount: int) -> int:\n",
    "        dp = [amount+1] * (1+amount)\n",
    "        dp[0] = 0\n",
    "      \n",
    "        for a in range(1,amount+1):\n",
    "            for c in coins:\n",
    "                if a - c >= 0:\n",
    "                    dp[a] = min(dp[a],1+dp[a-c])\n",
    "        \n",
    "            \n",
    "        return dp[amount] if dp[amount] != amount+1 else -1"
   ]
  },
  {
   "cell_type": "markdown",
   "id": "c89abfe6",
   "metadata": {},
   "source": [
    "# Algorithm"
   ]
  },
  {
   "cell_type": "markdown",
   "id": "69070a39",
   "metadata": {},
   "source": [
    "### Recurrence Relation"
   ]
  },
  {
   "cell_type": "code",
   "execution_count": null,
   "id": "a3bffde9",
   "metadata": {},
   "outputs": [],
   "source": [
    "class Solution:\n",
    "    def coinChange(self, coins: List[int], amount: int) -> int:\n",
    "        cache = dict()\n",
    "        return self.mincoins(0,coins,amount,cache)\n",
    "\n",
    "        \n",
    "    def mincoins(self, accumulated,coins,amount,cache):\n",
    "        if accumulated in cache:\n",
    "            return cache[accumulated]\n",
    "        if accumulated > amount:\n",
    "            return -1\n",
    "        if accumulated == amount:\n",
    "            return 0\n",
    "        min_coins = float('inf')\n",
    "        \n",
    "        for i in range(len(coins)):\n",
    "            result = self.mincoins(accumulated+coins[i],coins,amount,cache)\n",
    "            if result != -1:\n",
    "                min_coins = min(min_coins,result+1)\n",
    "                \n",
    "        cache[accumulated] = min_coins\n",
    "        if cache[accumulated] == float('inf'):\n",
    "            return -1\n",
    "        return cache[accumulated]\n",
    "    "
   ]
  },
  {
   "cell_type": "code",
   "execution_count": 5,
   "id": "e7cecfea",
   "metadata": {},
   "outputs": [],
   "source": [
    "def coinChange(coins, amount):\n",
    "    return mincoins(0,0,amount,coins)\n",
    "\n",
    "def mincoins(accumulated,numcoins,n,denominations):\n",
    "    if accumulated > n:\n",
    "        return -1\n",
    "    if accumulated == n:\n",
    "        return 1\n",
    "    min_coins = float('inf')\n",
    "   \n",
    "    for i in range(len(denominations)):\n",
    "        result = mincoins(accumulated+denominations[i],numcoins+1,n,denominations)\n",
    "        if result != -1:\n",
    "            min_coins = min(min_coins,result+1)\n",
    "\n",
    "    return min_coins"
   ]
  },
  {
   "cell_type": "code",
   "execution_count": 6,
   "id": "fa03551c",
   "metadata": {},
   "outputs": [
    {
     "data": {
      "text/plain": [
       "3"
      ]
     },
     "execution_count": 6,
     "metadata": {},
     "output_type": "execute_result"
    }
   ],
   "source": [
    "mylist = [1,2,5]\n",
    "amount = 3\n",
    "\n",
    "coinChange(mylist,amount)"
   ]
  }
 ],
 "metadata": {
  "kernelspec": {
   "display_name": "Python 3 (ipykernel)",
   "language": "python",
   "name": "python3"
  },
  "language_info": {
   "codemirror_mode": {
    "name": "ipython",
    "version": 3
   },
   "file_extension": ".py",
   "mimetype": "text/x-python",
   "name": "python",
   "nbconvert_exporter": "python",
   "pygments_lexer": "ipython3",
   "version": "3.9.12"
  }
 },
 "nbformat": 4,
 "nbformat_minor": 5
}
