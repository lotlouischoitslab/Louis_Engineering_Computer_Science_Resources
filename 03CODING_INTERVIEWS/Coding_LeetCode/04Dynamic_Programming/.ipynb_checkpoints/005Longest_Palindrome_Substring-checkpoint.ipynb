{
 "cells": [
  {
   "cell_type": "markdown",
   "id": "86ac1e9e",
   "metadata": {},
   "source": [
    "### https://leetcode.com/problems/longest-palindromic-substring/"
   ]
  },
  {
   "cell_type": "code",
   "execution_count": null,
   "id": "af0eed64",
   "metadata": {},
   "outputs": [],
   "source": [
    "class Solution:\n",
    "    def longestPalindrome(self, s: str) -> str:\n",
    "        result = 0\n",
    "        temp = ''\n",
    "        for i in range(len(s)):\n",
    "            #odd strings\n",
    "            left,right = i,i\n",
    "            while left >= 0 and right < len(s) and s[left] == s[right]:\n",
    "                if (right-left+1) > result:\n",
    "                    temp = s[left:right+1]\n",
    "                    result = right-left+1\n",
    "                left-=1\n",
    "                right+=1\n",
    "            \n",
    "            #even strings\n",
    "            left,right = i,i+1\n",
    "            while left >= 0 and right < len(s) and s[left] == s[right]:\n",
    "                if (right-left+1) > result:\n",
    "                    temp = s[left:right+1]\n",
    "                    result = right-left+1\n",
    "                left-=1\n",
    "                right+=1\n",
    "        return temp"
   ]
  }
 ],
 "metadata": {
  "kernelspec": {
   "display_name": "Python 3 (ipykernel)",
   "language": "python",
   "name": "python3"
  },
  "language_info": {
   "codemirror_mode": {
    "name": "ipython",
    "version": 3
   },
   "file_extension": ".py",
   "mimetype": "text/x-python",
   "name": "python",
   "nbconvert_exporter": "python",
   "pygments_lexer": "ipython3",
   "version": "3.9.12"
  }
 },
 "nbformat": 4,
 "nbformat_minor": 5
}
