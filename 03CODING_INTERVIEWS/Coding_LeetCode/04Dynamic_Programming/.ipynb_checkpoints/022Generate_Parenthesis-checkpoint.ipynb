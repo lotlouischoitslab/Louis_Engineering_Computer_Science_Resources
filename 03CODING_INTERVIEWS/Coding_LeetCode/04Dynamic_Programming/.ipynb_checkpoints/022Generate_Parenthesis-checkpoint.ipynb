{
 "cells": [
  {
   "cell_type": "markdown",
   "id": "29eacfda",
   "metadata": {},
   "source": [
    "### https://leetcode.com/problems/generate-parentheses/"
   ]
  },
  {
   "cell_type": "code",
   "execution_count": null,
   "id": "429b7e81",
   "metadata": {},
   "outputs": [],
   "source": [
    "class Solution:\n",
    "    def generateParenthesis(self, n: int) -> List[str]:\n",
    "        #we are going to add open parenthesis if open < n\n",
    "        #add closing parenthesis if open > close\n",
    "        #valid iff close == open == n\n",
    "        stack = []\n",
    "        result = []\n",
    "\n",
    "        def backtrack(open,close):\n",
    "            if open == close == n:\n",
    "                result.append(''.join(stack))\n",
    "                return result\n",
    "            if open < n:\n",
    "                stack.append('(')\n",
    "                backtrack(open+1,close)\n",
    "                stack.pop()\n",
    "            if close < open:\n",
    "                stack.append(')')\n",
    "                backtrack(open,close+1)\n",
    "                stack.pop()\n",
    "        backtrack(0,0)\n",
    "        return result"
   ]
  }
 ],
 "metadata": {
  "kernelspec": {
   "display_name": "Python 3 (ipykernel)",
   "language": "python",
   "name": "python3"
  },
  "language_info": {
   "codemirror_mode": {
    "name": "ipython",
    "version": 3
   },
   "file_extension": ".py",
   "mimetype": "text/x-python",
   "name": "python",
   "nbconvert_exporter": "python",
   "pygments_lexer": "ipython3",
   "version": "3.9.12"
  }
 },
 "nbformat": 4,
 "nbformat_minor": 5
}
