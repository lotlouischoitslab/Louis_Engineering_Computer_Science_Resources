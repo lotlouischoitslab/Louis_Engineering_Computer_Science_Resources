{
 "cells": [
  {
   "cell_type": "markdown",
   "id": "9c9001e2",
   "metadata": {},
   "source": [
    "### https://leetcode.com/problems/climbing-stairs/"
   ]
  },
  {
   "cell_type": "code",
   "execution_count": null,
   "id": "a0051b4f",
   "metadata": {},
   "outputs": [],
   "source": [
    "class Solution:\n",
    "    def climbStairs(self, n: int) -> int:\n",
    "        if n == 1:\n",
    "            return n\n",
    "        \n",
    "        dp = [0 for i in range(n)]\n",
    "        dp[0] = 1\n",
    "        dp[1] = 2\n",
    "\n",
    "        for i in range(2,n):\n",
    "            dp[i] = dp[i-2]+dp[i-1]\n",
    "        return dp[-1]"
   ]
  }
 ],
 "metadata": {
  "kernelspec": {
   "display_name": "Python 3 (ipykernel)",
   "language": "python",
   "name": "python3"
  },
  "language_info": {
   "codemirror_mode": {
    "name": "ipython",
    "version": 3
   },
   "file_extension": ".py",
   "mimetype": "text/x-python",
   "name": "python",
   "nbconvert_exporter": "python",
   "pygments_lexer": "ipython3",
   "version": "3.9.12"
  }
 },
 "nbformat": 4,
 "nbformat_minor": 5
}
