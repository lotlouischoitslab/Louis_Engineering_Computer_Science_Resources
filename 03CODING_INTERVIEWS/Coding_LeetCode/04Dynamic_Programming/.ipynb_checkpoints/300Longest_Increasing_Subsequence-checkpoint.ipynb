{
 "cells": [
  {
   "cell_type": "markdown",
   "id": "e28137e3",
   "metadata": {},
   "source": [
    "### https://leetcode.com/problems/longest-increasing-subsequence/"
   ]
  },
  {
   "cell_type": "code",
   "execution_count": null,
   "id": "0ea13fad",
   "metadata": {},
   "outputs": [],
   "source": [
    "class Solution:\n",
    "    def lengthOfLIS(self, nums: List[int]) -> int:\n",
    "        to_ret = [1]*(len(nums)+1)\n",
    "        for i in range(len(nums)-1,-1,-1):\n",
    "            for j in range(i+1,len(nums)):\n",
    "                if nums[i] < nums[j]:\n",
    "                    to_ret[i] = max(to_ret[i],1+to_ret[j])\n",
    "        print(to_ret)\n",
    "        return max(to_ret)"
   ]
  }
 ],
 "metadata": {
  "kernelspec": {
   "display_name": "Python 3 (ipykernel)",
   "language": "python",
   "name": "python3"
  },
  "language_info": {
   "codemirror_mode": {
    "name": "ipython",
    "version": 3
   },
   "file_extension": ".py",
   "mimetype": "text/x-python",
   "name": "python",
   "nbconvert_exporter": "python",
   "pygments_lexer": "ipython3",
   "version": "3.9.12"
  }
 },
 "nbformat": 4,
 "nbformat_minor": 5
}
