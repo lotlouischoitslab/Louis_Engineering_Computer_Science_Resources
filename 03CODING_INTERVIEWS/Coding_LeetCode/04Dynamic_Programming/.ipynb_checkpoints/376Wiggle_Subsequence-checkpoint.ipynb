{
 "cells": [
  {
   "cell_type": "markdown",
   "id": "db686186",
   "metadata": {},
   "source": [
    "### https://leetcode.com/problems/wiggle-subsequence/"
   ]
  },
  {
   "cell_type": "code",
   "execution_count": null,
   "id": "3537fccb",
   "metadata": {},
   "outputs": [],
   "source": [
    "class Solution:\n",
    "    def wiggleMaxLength(self, nums: List[int]) -> int:\n",
    "        lasp = [[0 for j in range(len(nums)+1)]for i in range(len(nums))]\n",
    "        lasn = [[0 for j in range(len(nums)+1)]for i in range(len(nums))]\n",
    "\n",
    "        for j in range(len(nums)-1,-1,-1):\n",
    "            for i in range(j-1,-1,-1):\n",
    "                lasp[i][j] = lasp[i][j+1]\n",
    "                lasn[i][j] = lasn[i][j+1]\n",
    "                if nums[i] < nums[j]:\n",
    "                    lasp[i][j] = max(lasp[i][j+1],1+lasn[j][j+1])\n",
    "                if nums[i] > nums[j]:\n",
    "                    lasn[i][j] = max(lasn[i][j+1],1+lasp[j][j+1])\n",
    "        \n",
    "        l = 0\n",
    "        for k in range(len(nums)):\n",
    "            l = max(l,1+lasp[k][k+1],1+lasn[k][k+1])\n",
    "        return l"
   ]
  }
 ],
 "metadata": {
  "kernelspec": {
   "display_name": "Python 3 (ipykernel)",
   "language": "python",
   "name": "python3"
  },
  "language_info": {
   "codemirror_mode": {
    "name": "ipython",
    "version": 3
   },
   "file_extension": ".py",
   "mimetype": "text/x-python",
   "name": "python",
   "nbconvert_exporter": "python",
   "pygments_lexer": "ipython3",
   "version": "3.9.12"
  }
 },
 "nbformat": 4,
 "nbformat_minor": 5
}
