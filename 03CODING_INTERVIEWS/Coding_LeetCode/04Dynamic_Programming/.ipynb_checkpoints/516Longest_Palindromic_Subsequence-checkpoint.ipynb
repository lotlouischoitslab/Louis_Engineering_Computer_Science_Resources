{
 "cells": [
  {
   "cell_type": "markdown",
   "id": "159db7bb",
   "metadata": {},
   "source": [
    "### https://leetcode.com/problems/longest-palindromic-subsequence/"
   ]
  },
  {
   "cell_type": "code",
   "execution_count": null,
   "id": "d06a4813",
   "metadata": {},
   "outputs": [],
   "source": [
    "class Solution:\n",
    "    def longestPalindromeSubseq(self, s: str) -> int:\n",
    "        n = len(s)\n",
    "        lps = [[0 for j in range(n)] for i in range(n)]\n",
    "        \n",
    "        for i in range(n-1,-1,-1):\n",
    "            lps[i][i]= 1\n",
    "            for j in range(i+1,n):\n",
    "                if s[i] == s[j]:\n",
    "                    lps[i][j] = 2+lps[i+1][j-1]\n",
    "                else:\n",
    "                    lps[i][j] = max(lps[i+1][j],lps[i][j-1])\n",
    "        \n",
    "        return lps[0][n-1]"
   ]
  }
 ],
 "metadata": {
  "kernelspec": {
   "display_name": "Python 3 (ipykernel)",
   "language": "python",
   "name": "python3"
  },
  "language_info": {
   "codemirror_mode": {
    "name": "ipython",
    "version": 3
   },
   "file_extension": ".py",
   "mimetype": "text/x-python",
   "name": "python",
   "nbconvert_exporter": "python",
   "pygments_lexer": "ipython3",
   "version": "3.9.12"
  }
 },
 "nbformat": 4,
 "nbformat_minor": 5
}
