{
 "cells": [
  {
   "cell_type": "markdown",
   "id": "87657e7f",
   "metadata": {},
   "source": [
    "### https://leetcode.com/problems/jump-game/"
   ]
  },
  {
   "cell_type": "code",
   "execution_count": null,
   "id": "1b76824e",
   "metadata": {},
   "outputs": [],
   "source": [
    "class Solution:\n",
    "    def canJump(self, nums: List[int]) -> bool:\n",
    "        n = len(nums)-1\n",
    "        goal = len(nums)-1\n",
    "        for i in range(n-1,-1,-1):\n",
    "            if i + nums[i] >= goal:\n",
    "                goal = i\n",
    "        \n",
    "        if goal > 0:\n",
    "            return False\n",
    "        return True"
   ]
  }
 ],
 "metadata": {
  "kernelspec": {
   "display_name": "Python 3 (ipykernel)",
   "language": "python",
   "name": "python3"
  },
  "language_info": {
   "codemirror_mode": {
    "name": "ipython",
    "version": 3
   },
   "file_extension": ".py",
   "mimetype": "text/x-python",
   "name": "python",
   "nbconvert_exporter": "python",
   "pygments_lexer": "ipython3",
   "version": "3.9.12"
  }
 },
 "nbformat": 4,
 "nbformat_minor": 5
}
