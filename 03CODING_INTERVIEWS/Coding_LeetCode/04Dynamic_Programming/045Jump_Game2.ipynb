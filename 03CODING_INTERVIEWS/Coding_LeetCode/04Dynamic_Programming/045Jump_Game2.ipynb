{
 "cells": [
  {
   "cell_type": "markdown",
   "id": "2fdbfbbf",
   "metadata": {},
   "source": [
    "### https://leetcode.com/problems/jump-game-ii/"
   ]
  },
  {
   "cell_type": "code",
   "execution_count": null,
   "id": "fce0fa00",
   "metadata": {},
   "outputs": [],
   "source": [
    "class Solution:\n",
    "    def jump(self, nums: List[int]) -> int:\n",
    "        n = len(nums)\n",
    "        left,right = 0,0\n",
    "        counter = 0\n",
    "\n",
    "        while right < n-1:\n",
    "            max_distance = 0\n",
    "            for i in range(left,right+1):\n",
    "                max_distance = max(i+nums[i],max_distance)\n",
    "            left = right+1\n",
    "            right = max_distance\n",
    "            counter+=1\n",
    "        return counter"
   ]
  }
 ],
 "metadata": {
  "kernelspec": {
   "display_name": "Python 3 (ipykernel)",
   "language": "python",
   "name": "python3"
  },
  "language_info": {
   "codemirror_mode": {
    "name": "ipython",
    "version": 3
   },
   "file_extension": ".py",
   "mimetype": "text/x-python",
   "name": "python",
   "nbconvert_exporter": "python",
   "pygments_lexer": "ipython3",
   "version": "3.9.12"
  }
 },
 "nbformat": 4,
 "nbformat_minor": 5
}
