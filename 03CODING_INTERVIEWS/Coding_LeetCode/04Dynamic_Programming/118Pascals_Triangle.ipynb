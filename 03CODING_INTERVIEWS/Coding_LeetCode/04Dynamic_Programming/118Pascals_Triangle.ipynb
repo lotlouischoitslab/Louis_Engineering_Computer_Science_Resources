{
 "cells": [
  {
   "cell_type": "markdown",
   "id": "287f2afc",
   "metadata": {},
   "source": [
    "### https://leetcode.com/problems/pascals-triangle/"
   ]
  },
  {
   "cell_type": "code",
   "execution_count": null,
   "id": "8d316dd3",
   "metadata": {},
   "outputs": [],
   "source": [
    "class Solution:\n",
    "    def generate(self, numRows: int) -> List[List[int]]:\n",
    "        n = numRows\n",
    "        louis = []\n",
    "\n",
    "        for i in range(1,n+1):\n",
    "            temp = []\n",
    "            c = 1\n",
    "            for j in range(1,i+1):\n",
    "                temp.append(c)\n",
    "                c = c*(i-j) // j\n",
    "                \n",
    "            louis.append(temp)\n",
    "       \n",
    "        return louis"
   ]
  }
 ],
 "metadata": {
  "kernelspec": {
   "display_name": "Python 3 (ipykernel)",
   "language": "python",
   "name": "python3"
  },
  "language_info": {
   "codemirror_mode": {
    "name": "ipython",
    "version": 3
   },
   "file_extension": ".py",
   "mimetype": "text/x-python",
   "name": "python",
   "nbconvert_exporter": "python",
   "pygments_lexer": "ipython3",
   "version": "3.9.12"
  }
 },
 "nbformat": 4,
 "nbformat_minor": 5
}
