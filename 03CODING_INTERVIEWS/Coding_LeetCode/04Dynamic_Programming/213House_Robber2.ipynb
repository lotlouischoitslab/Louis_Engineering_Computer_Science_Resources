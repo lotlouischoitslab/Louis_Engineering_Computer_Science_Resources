{
 "cells": [
  {
   "cell_type": "markdown",
   "id": "0a00ecdc",
   "metadata": {},
   "source": [
    "### https://leetcode.com/problems/house-robber-ii/"
   ]
  },
  {
   "cell_type": "code",
   "execution_count": 1,
   "id": "28531b04",
   "metadata": {},
   "outputs": [],
   "source": [
    "class Solution:\n",
    "    def rob(self, nums: List[int]) -> int:\n",
    "        no_first = nums[1:]\n",
    "        no_last = nums[:-1]\n",
    "        return max(nums[0],self.helper(no_first),self.helper(no_last))\n",
    "    \n",
    "    def helper(self,array):\n",
    "        n = len(array)\n",
    "        print(n)\n",
    "        if n == 0:\n",
    "            return 0\n",
    "        if n == 1:\n",
    "            return array[0]\n",
    "\n",
    "        dp = [0 for i in range(n)]\n",
    "        dp[0] = array[0]\n",
    "        dp[1] = array[1]\n",
    "\n",
    "        for i in range(2,n):\n",
    "            dp[i] = max(array[i]+dp[i-2],array[i]+dp[i-3],dp[i-1])\n",
    "        return dp[-1]"
   ]
  }
 ],
 "metadata": {
  "kernelspec": {
   "display_name": "Python 3 (ipykernel)",
   "language": "python",
   "name": "python3"
  },
  "language_info": {
   "codemirror_mode": {
    "name": "ipython",
    "version": 3
   },
   "file_extension": ".py",
   "mimetype": "text/x-python",
   "name": "python",
   "nbconvert_exporter": "python",
   "pygments_lexer": "ipython3",
   "version": "3.9.12"
  }
 },
 "nbformat": 4,
 "nbformat_minor": 5
}
