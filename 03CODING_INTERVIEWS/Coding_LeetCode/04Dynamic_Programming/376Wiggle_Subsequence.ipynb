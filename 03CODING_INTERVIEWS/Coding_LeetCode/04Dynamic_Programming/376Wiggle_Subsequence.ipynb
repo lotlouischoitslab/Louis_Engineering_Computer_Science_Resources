{
 "cells": [
  {
   "cell_type": "markdown",
   "id": "db686186",
   "metadata": {},
   "source": [
    "### https://leetcode.com/problems/wiggle-subsequence/"
   ]
  },
  {
   "cell_type": "code",
   "execution_count": null,
   "id": "3537fccb",
   "metadata": {},
   "outputs": [],
   "source": [
    "class Solution:\n",
    "    def wiggleMaxLength(self, nums: List[int]) -> int:\n",
    "        n = len(nums)\n",
    "        lps = [1 for i in range(n)]\n",
    "        lns = [1 for i in range(n)]\n",
    "\n",
    "        for i in range(n-1,-1,-1):\n",
    "            for j in range(i+1,n):\n",
    "                if nums[i] < nums[j]:\n",
    "                    lps[i] = max(lps[i],1+lns[j])\n",
    "                if nums[i] > nums[j]:\n",
    "                    lns[i] = max(lns[i],1+lps[j])\n",
    "        \n",
    "        l = 0\n",
    "        for i in range(n):\n",
    "            l = max(l,lps[i],lns[i])\n",
    "        return l"
   ]
  }
 ],
 "metadata": {
  "kernelspec": {
   "display_name": "Python 3 (ipykernel)",
   "language": "python",
   "name": "python3"
  },
  "language_info": {
   "codemirror_mode": {
    "name": "ipython",
    "version": 3
   },
   "file_extension": ".py",
   "mimetype": "text/x-python",
   "name": "python",
   "nbconvert_exporter": "python",
   "pygments_lexer": "ipython3",
   "version": "3.9.12"
  }
 },
 "nbformat": 4,
 "nbformat_minor": 5
}
