{
 "cells": [
  {
   "cell_type": "markdown",
   "id": "159db7bb",
   "metadata": {},
   "source": [
    "### https://leetcode.com/problems/longest-palindromic-subsequence/"
   ]
  },
  {
   "cell_type": "code",
   "execution_count": null,
   "id": "d06a4813",
   "metadata": {},
   "outputs": [],
   "source": []
  }
 ],
 "metadata": {
  "kernelspec": {
   "display_name": "Python 3 (ipykernel)",
   "language": "python",
   "name": "python3"
  },
  "language_info": {
   "codemirror_mode": {
    "name": "ipython",
    "version": 3
   },
   "file_extension": ".py",
   "mimetype": "text/x-python",
   "name": "python",
   "nbconvert_exporter": "python",
   "pygments_lexer": "ipython3",
   "version": "3.9.12"
  }
 },
 "nbformat": 4,
 "nbformat_minor": 5
}
