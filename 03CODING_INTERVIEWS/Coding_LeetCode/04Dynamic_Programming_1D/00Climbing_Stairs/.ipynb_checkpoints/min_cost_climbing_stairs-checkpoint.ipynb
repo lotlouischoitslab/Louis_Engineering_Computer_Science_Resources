{
 "cells": [
  {
   "cell_type": "markdown",
   "id": "1b37cf0f",
   "metadata": {},
   "source": [
    "### https://leetcode.com/problems/min-cost-climbing-stairs/"
   ]
  },
  {
   "cell_type": "code",
   "execution_count": null,
   "id": "432a199c",
   "metadata": {},
   "outputs": [],
   "source": [
    "class Solution:\n",
    "    def minCostClimbingStairs(self, cost: List[int]) -> int:\n",
    "        # [10,15,20] 0\n",
    "        cost.append(0)\n",
    "        \n",
    "        for i in range(len(cost)-3,-1,-1):\n",
    "            cost[i] = min(cost[i]+cost[i+1],cost[i]+cost[i+2])\n",
    "        \n",
    "        return min(cost[0],cost[1])"
   ]
  }
 ],
 "metadata": {
  "kernelspec": {
   "display_name": "Python 3 (ipykernel)",
   "language": "python",
   "name": "python3"
  },
  "language_info": {
   "codemirror_mode": {
    "name": "ipython",
    "version": 3
   },
   "file_extension": ".py",
   "mimetype": "text/x-python",
   "name": "python",
   "nbconvert_exporter": "python",
   "pygments_lexer": "ipython3",
   "version": "3.9.12"
  }
 },
 "nbformat": 4,
 "nbformat_minor": 5
}
