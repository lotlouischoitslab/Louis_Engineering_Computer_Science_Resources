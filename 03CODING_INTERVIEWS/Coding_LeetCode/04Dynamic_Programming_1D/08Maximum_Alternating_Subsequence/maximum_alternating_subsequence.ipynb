{
 "cells": [
  {
   "cell_type": "markdown",
   "id": "f6776dea",
   "metadata": {},
   "source": [
    "### https://leetcode.com/problems/maximum-alternating-subsequence-sum/"
   ]
  },
  {
   "cell_type": "code",
   "execution_count": null,
   "id": "c1c799a0",
   "metadata": {},
   "outputs": [],
   "source": [
    "class Solution:\n",
    "    def maxAlternatingSum(self, nums: List[int]) -> int:\n",
    "        sumeven,sumodd = 0,0\n",
    "        \n",
    "        for i in range(len(nums)-1,-1,-1):\n",
    "            tempeven = max(sumodd+nums[i],sumeven)\n",
    "            tempodd = max(sumeven-nums[i],sumodd)\n",
    "            sumeven,sumodd = tempeven,tempodd\n",
    "        return sumeven"
   ]
  }
 ],
 "metadata": {
  "kernelspec": {
   "display_name": "Python 3 (ipykernel)",
   "language": "python",
   "name": "python3"
  },
  "language_info": {
   "codemirror_mode": {
    "name": "ipython",
    "version": 3
   },
   "file_extension": ".py",
   "mimetype": "text/x-python",
   "name": "python",
   "nbconvert_exporter": "python",
   "pygments_lexer": "ipython3",
   "version": "3.9.12"
  }
 },
 "nbformat": 4,
 "nbformat_minor": 5
}
