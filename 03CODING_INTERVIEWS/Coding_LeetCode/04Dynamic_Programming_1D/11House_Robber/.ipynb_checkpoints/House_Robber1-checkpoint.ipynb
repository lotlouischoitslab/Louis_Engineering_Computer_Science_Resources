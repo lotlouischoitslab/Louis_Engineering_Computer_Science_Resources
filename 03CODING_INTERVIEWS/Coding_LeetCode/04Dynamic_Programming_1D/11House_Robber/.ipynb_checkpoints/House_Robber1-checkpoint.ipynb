{
 "cells": [
  {
   "cell_type": "markdown",
   "id": "f89e9da5",
   "metadata": {},
   "source": [
    "### https://leetcode.com/problems/house-robber/"
   ]
  },
  {
   "cell_type": "code",
   "execution_count": null,
   "id": "35891570",
   "metadata": {},
   "outputs": [],
   "source": [
    "class Solution:\n",
    "    def rob(self, nums: List[int]) -> int:\n",
    "        rob1,rob2 = 0,0\n",
    "        for n in nums:\n",
    "            temp = max(n+rob1,rob2)\n",
    "            rob1 = rob2\n",
    "            rob2 = temp\n",
    "        return rob2"
   ]
  }
 ],
 "metadata": {
  "kernelspec": {
   "display_name": "Python 3 (ipykernel)",
   "language": "python",
   "name": "python3"
  },
  "language_info": {
   "codemirror_mode": {
    "name": "ipython",
    "version": 3
   },
   "file_extension": ".py",
   "mimetype": "text/x-python",
   "name": "python",
   "nbconvert_exporter": "python",
   "pygments_lexer": "ipython3",
   "version": "3.9.12"
  }
 },
 "nbformat": 4,
 "nbformat_minor": 5
}
