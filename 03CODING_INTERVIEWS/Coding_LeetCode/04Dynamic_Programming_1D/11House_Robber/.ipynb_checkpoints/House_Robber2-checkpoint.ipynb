{
 "cells": [
  {
   "cell_type": "markdown",
   "id": "4ff074fa",
   "metadata": {},
   "source": [
    "### https://leetcode.com/problems/house-robber-ii/"
   ]
  },
  {
   "cell_type": "code",
   "execution_count": null,
   "id": "f98589de",
   "metadata": {},
   "outputs": [],
   "source": [
    "class Solution:\n",
    "    def rob(self, nums: List[int]) -> int:\n",
    "        return max(nums[0],self.helper(nums[1:]),self.helper(nums[:-1]))\n",
    "    \n",
    "    \n",
    "    def helper(self,nums):\n",
    "        rob1,rob2 = 0,0\n",
    "        \n",
    "        for n in nums:\n",
    "            newRob = max(rob1+n,rob2)\n",
    "            rob1 = rob2\n",
    "            rob2 = newRob\n",
    "        \n",
    "        return rob2"
   ]
  }
 ],
 "metadata": {
  "kernelspec": {
   "display_name": "Python 3 (ipykernel)",
   "language": "python",
   "name": "python3"
  },
  "language_info": {
   "codemirror_mode": {
    "name": "ipython",
    "version": 3
   },
   "file_extension": ".py",
   "mimetype": "text/x-python",
   "name": "python",
   "nbconvert_exporter": "python",
   "pygments_lexer": "ipython3",
   "version": "3.9.12"
  }
 },
 "nbformat": 4,
 "nbformat_minor": 5
}
