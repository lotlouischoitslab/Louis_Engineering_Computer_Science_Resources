{
 "cells": [
  {
   "cell_type": "markdown",
   "id": "76ee32b7",
   "metadata": {},
   "source": [
    "### https://leetcode.com/problems/longest-substring-without-repeating-characters/"
   ]
  },
  {
   "cell_type": "code",
   "execution_count": null,
   "id": "04f2e317",
   "metadata": {},
   "outputs": [],
   "source": [
    "class Solution:\n",
    "    def lengthOfLongestSubstring(self, s: str) -> int:\n",
    "        #Sliding window problem\n",
    "        charset = set()\n",
    "        left_ptr = 0\n",
    "        res = 0\n",
    "        \n",
    "        for right in range(len(s)):\n",
    "            while s[right] in charset:\n",
    "                charset.remove(s[left_ptr])\n",
    "                left_ptr +=1\n",
    "            \n",
    "            charset.add(s[right])\n",
    "            res = max(res,right-left_ptr+1)\n",
    "            \n",
    "        return res"
   ]
  }
 ],
 "metadata": {
  "kernelspec": {
   "display_name": "Python 3 (ipykernel)",
   "language": "python",
   "name": "python3"
  },
  "language_info": {
   "codemirror_mode": {
    "name": "ipython",
    "version": 3
   },
   "file_extension": ".py",
   "mimetype": "text/x-python",
   "name": "python",
   "nbconvert_exporter": "python",
   "pygments_lexer": "ipython3",
   "version": "3.9.12"
  }
 },
 "nbformat": 4,
 "nbformat_minor": 5
}
