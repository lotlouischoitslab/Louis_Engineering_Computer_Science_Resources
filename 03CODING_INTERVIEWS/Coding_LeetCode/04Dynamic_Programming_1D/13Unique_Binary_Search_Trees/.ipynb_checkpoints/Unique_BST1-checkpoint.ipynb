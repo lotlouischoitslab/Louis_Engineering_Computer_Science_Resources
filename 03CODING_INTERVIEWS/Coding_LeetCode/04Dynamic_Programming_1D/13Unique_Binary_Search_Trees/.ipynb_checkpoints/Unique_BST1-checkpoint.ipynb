{
 "cells": [
  {
   "cell_type": "markdown",
   "id": "f7bf9983",
   "metadata": {},
   "source": [
    "### https://leetcode.com/problems/unique-binary-search-trees/"
   ]
  },
  {
   "cell_type": "code",
   "execution_count": null,
   "id": "a2730019",
   "metadata": {},
   "outputs": [],
   "source": [
    "class Solution:\n",
    "    def numTrees(self, n: int) -> int:\n",
    "        dp = [0 for i in range(n+1)]\n",
    "        dp[0],dp[1] = 1,1\n",
    "        \n",
    "        for i in range(2,n+1):\n",
    "            for j in range(1,i+1):\n",
    "                dp[i] = dp[i] + dp[i-j]*dp[j-1]\n",
    "                \n",
    "        return dp[n]"
   ]
  }
 ],
 "metadata": {
  "kernelspec": {
   "display_name": "Python 3 (ipykernel)",
   "language": "python",
   "name": "python3"
  },
  "language_info": {
   "codemirror_mode": {
    "name": "ipython",
    "version": 3
   },
   "file_extension": ".py",
   "mimetype": "text/x-python",
   "name": "python",
   "nbconvert_exporter": "python",
   "pygments_lexer": "ipython3",
   "version": "3.9.12"
  }
 },
 "nbformat": 4,
 "nbformat_minor": 5
}
