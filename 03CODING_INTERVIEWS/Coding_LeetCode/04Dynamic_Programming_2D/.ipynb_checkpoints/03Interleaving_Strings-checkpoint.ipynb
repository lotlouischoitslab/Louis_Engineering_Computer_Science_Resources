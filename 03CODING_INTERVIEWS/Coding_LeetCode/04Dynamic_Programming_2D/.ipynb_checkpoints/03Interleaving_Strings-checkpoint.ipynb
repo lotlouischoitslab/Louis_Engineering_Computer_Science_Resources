{
 "cells": [
  {
   "cell_type": "markdown",
   "id": "93d103a0",
   "metadata": {},
   "source": [
    "### https://leetcode.com/problems/interleaving-string/"
   ]
  },
  {
   "cell_type": "markdown",
   "id": "ed32b602",
   "metadata": {},
   "source": [
    "# Algorithm\n",
    "Let m be the length of string s1. Let n be the length of the string s2. \n",
    "\n",
    "### Recursive Approach\n",
    "The time complexity of the recursive approach is \n",
    "\n",
    "$$ O(2^{m+n} ) $$\n",
    "\n",
    "We are going to try using a dictionary to cache our memory"
   ]
  },
  {
   "cell_type": "code",
   "execution_count": 1,
   "id": "fc7c2349",
   "metadata": {},
   "outputs": [],
   "source": [
    "class Solution:\n",
    "    def isInterleave(self, s1: str, s2: str, s3: str) -> bool:\n",
    "        dp = {}\n",
    "        \n",
    "        # k = i + j\n",
    "        def dfs(i,j):\n",
    "            if i == len(s1) and j == len(s2):\n",
    "                return True\n",
    "            if (i,j) in dp:\n",
    "                return dp[(i,j)]\n",
    "            if i < len(s1) and s1[i] == s3[i+j] and dfs(i+1,j):\n",
    "                return True\n",
    "            if j < len(s2) and s2[j] == s3[i+j] and dfs(i,j+1):\n",
    "                return True\n",
    "            dp[(i,j)] = False\n",
    "            return False\n",
    "        \n",
    "        return dfs(0,0)"
   ]
  },
  {
   "cell_type": "markdown",
   "id": "888b0625",
   "metadata": {},
   "source": [
    "### Dynamic Programming Approach\n",
    "\n",
    "The time complexity of this memoization approach is:\n",
    "\n",
    "$$ O(nm) $$"
   ]
  },
  {
   "cell_type": "code",
   "execution_count": 2,
   "id": "f57571f5",
   "metadata": {},
   "outputs": [],
   "source": [
    "class Solution:\n",
    "    def isInterleave(self, s1: str, s2: str, s3: str) -> bool:\n",
    "        if len(s1)+len(s2) != len(s3):\n",
    "            return False\n",
    "        \n",
    "     \n",
    "        dp = [[False]*(len(s2)+1) for i in range(len(s1)+1)]\n",
    "        \n",
    "        dp[len(s1)][len(s2)] = True\n",
    "        \n",
    "        for i in range(len(s1),-1,-1):\n",
    "            for j in range(len(s2),-1,-1):\n",
    "                if i < len(s1) and s1[i] == s3[i+j] and dp[i+1][j]:\n",
    "                    dp[i][j] = True\n",
    "                if j < len(s2) and s2[j] == s3[i+j] and dp[i][j+1]:\n",
    "                    dp[i][j] = True\n",
    "        print(dp)\n",
    "        return dp[0][0]"
   ]
  },
  {
   "cell_type": "markdown",
   "id": "8be84ea4",
   "metadata": {},
   "source": [
    "### Shuffle Function\n",
    "We are trying to shuffle the words **LOUIS** and **SUNGWOOCHO**"
   ]
  },
  {
   "cell_type": "markdown",
   "id": "377dd276",
   "metadata": {},
   "source": [
    "### Recursive Approach"
   ]
  },
  {
   "cell_type": "code",
   "execution_count": 17,
   "id": "79b98a6b",
   "metadata": {},
   "outputs": [],
   "source": [
    "def shuffleiter(s1, s2, s3):\n",
    "    return dfs(0,0,s1,s2,s3,{})\n",
    "\n",
    "def dfs(i,j,s1,s2,s3,dp):\n",
    "    if i == len(s1) and j == len(s2):\n",
    "        return True\n",
    "    if (i,j) in dp:\n",
    "        return dp[(i,j)]\n",
    "    if i < len(s1) and s1[i] == s3[i+j] and dfs(i+1,j,s1,s2,s3,dp):\n",
    "        return True\n",
    "    if j < len(s2) and s2[j] == s3[i+j] and dfs(i,j+1,s1,s2,s3,dp):\n",
    "        return True\n",
    "    dp[(i,j)] = False\n",
    "    return False"
   ]
  },
  {
   "cell_type": "code",
   "execution_count": 18,
   "id": "7c271b3c",
   "metadata": {},
   "outputs": [
    {
     "name": "stdout",
     "output_type": "stream",
     "text": [
      "True\n",
      "True\n",
      "True\n",
      "True\n",
      "True\n",
      "True\n"
     ]
    }
   ],
   "source": [
    "l1 = 'LOUIS'\n",
    "l2 = 'SUNGWOOCHO'\n",
    "\n",
    "louis_combo = ['LOUISSUNGWOOCHO','SUNGWOOLOUISCHO','SUNGWOOCHOLOUIS',\n",
    "              'LSUONUGIWOOSCHO','LSOUNUGWIOOCSHO','LSUNOGWUOOCIHOS']\n",
    "for i in louis_combo:\n",
    "    check_l = shuffleiter(l1,l2,i)\n",
    "    print(check_l)"
   ]
  },
  {
   "cell_type": "markdown",
   "id": "b7a548fe",
   "metadata": {},
   "source": [
    "### Dynamic Programming Approach"
   ]
  },
  {
   "cell_type": "code",
   "execution_count": 4,
   "id": "a6f2404e",
   "metadata": {},
   "outputs": [],
   "source": [
    "def shuffle(s1, s2, s3):\n",
    "    if len(s1)+len(s2) != len(s3):\n",
    "        return False\n",
    "\n",
    "\n",
    "    dp = [[False]*(len(s2)+1) for i in range(len(s1)+1)]\n",
    "\n",
    "    dp[len(s1)][len(s2)] = True\n",
    "\n",
    "    for i in range(len(s1),-1,-1):\n",
    "        for j in range(len(s2),-1,-1):\n",
    "            if i < len(s1) and s1[i] == s3[i+j] and dp[i+1][j]:\n",
    "                dp[i][j] = True\n",
    "            if j < len(s2) and s2[j] == s3[i+j] and dp[i][j+1]:\n",
    "                dp[i][j] = True\n",
    "    \n",
    "    return dp[0][0],dp"
   ]
  },
  {
   "cell_type": "code",
   "execution_count": 7,
   "id": "d21eed14",
   "metadata": {},
   "outputs": [
    {
     "name": "stdout",
     "output_type": "stream",
     "text": [
      "True\n",
      "True\n",
      "True\n",
      "True\n",
      "True\n",
      "True\n"
     ]
    }
   ],
   "source": [
    "l1 = 'LOUIS'\n",
    "l2 = 'SUNGWOOCHO'\n",
    "\n",
    "louis_combo = ['LOUISSUNGWOOCHO','SUNGWOOLOUISCHO','SUNGWOOCHOLOUIS',\n",
    "              'LSUONUGIWOOSCHO','LSOUNUGWIOOCSHO','LSUNOGWUOOCIHOS']\n",
    "for i in louis_combo:\n",
    "    check_l,m = shuffle(l1,l2,i)\n",
    "    print(check_l)"
   ]
  },
  {
   "cell_type": "code",
   "execution_count": 11,
   "id": "cbcdbe87",
   "metadata": {},
   "outputs": [
    {
     "name": "stdout",
     "output_type": "stream",
     "text": [
      "True\n"
     ]
    }
   ],
   "source": [
    "s1 = 'aab'\n",
    "s2 = 'axy'\n",
    "s3 = 'aaxaby'\n",
    "s,m = shuffle(s1,s2,s3)\n",
    "print(s)"
   ]
  },
  {
   "cell_type": "code",
   "execution_count": 12,
   "id": "df0e9dad",
   "metadata": {},
   "outputs": [
    {
     "name": "stdout",
     "output_type": "stream",
     "text": [
      "[[True, True, False, False], [True, True, True, False], [False, False, True, False], [False, False, True, True]]\n"
     ]
    }
   ],
   "source": [
    "print(m)"
   ]
  },
  {
   "cell_type": "code",
   "execution_count": null,
   "id": "2cb3117f",
   "metadata": {},
   "outputs": [],
   "source": []
  }
 ],
 "metadata": {
  "kernelspec": {
   "display_name": "Python 3 (ipykernel)",
   "language": "python",
   "name": "python3"
  },
  "language_info": {
   "codemirror_mode": {
    "name": "ipython",
    "version": 3
   },
   "file_extension": ".py",
   "mimetype": "text/x-python",
   "name": "python",
   "nbconvert_exporter": "python",
   "pygments_lexer": "ipython3",
   "version": "3.9.12"
  }
 },
 "nbformat": 4,
 "nbformat_minor": 5
}
