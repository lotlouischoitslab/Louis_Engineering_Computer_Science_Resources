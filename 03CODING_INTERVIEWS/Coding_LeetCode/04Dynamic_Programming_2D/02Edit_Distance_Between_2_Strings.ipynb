{
 "cells": [
  {
   "cell_type": "markdown",
   "id": "f9dae55a",
   "metadata": {},
   "source": [
    "### https://leetcode.com/problems/edit-distance/"
   ]
  },
  {
   "cell_type": "code",
   "execution_count": null,
   "id": "d742cd71",
   "metadata": {},
   "outputs": [],
   "source": [
    "class Solution:\n",
    "    def minDistance(self, word1: str, word2: str) -> int:\n",
    "        #Don't forget to add the empty string part as well\n",
    "        rows = len(word1)+1\n",
    "        cols = len(word2)+1\n",
    "        M = [[0 for j in range(cols+1)] for i in range(rows+1)]\n",
    "            \n",
    "        for i in range(rows):\n",
    "            M[i][0] = i\n",
    "\n",
    "        for j in range(cols):\n",
    "            M[0][j] = j\n",
    "\n",
    "        for i in range(1,rows):\n",
    "            for j in range(1,cols):\n",
    "                if word1[i-1] == word2[j-1]:\n",
    "                    M[i][j] = M[i-1][j-1]\n",
    "                else:\n",
    "                    M[i][j] = 1 + min(M[i-1][j],M[i-1][j-1],M[i][j-1])\n",
    "\n",
    "        return M[rows-1][cols-1]"
   ]
  }
 ],
 "metadata": {
  "kernelspec": {
   "display_name": "Python 3 (ipykernel)",
   "language": "python",
   "name": "python3"
  },
  "language_info": {
   "codemirror_mode": {
    "name": "ipython",
    "version": 3
   },
   "file_extension": ".py",
   "mimetype": "text/x-python",
   "name": "python",
   "nbconvert_exporter": "python",
   "pygments_lexer": "ipython3",
   "version": "3.9.12"
  }
 },
 "nbformat": 4,
 "nbformat_minor": 5
}
