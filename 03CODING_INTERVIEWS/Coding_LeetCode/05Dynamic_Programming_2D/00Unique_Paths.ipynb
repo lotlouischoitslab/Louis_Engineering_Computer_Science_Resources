{
 "cells": [
  {
   "cell_type": "markdown",
   "id": "63e34841",
   "metadata": {},
   "source": [
    "### https://leetcode.com/problems/unique-paths/"
   ]
  },
  {
   "cell_type": "code",
   "execution_count": null,
   "id": "bcab4b4e",
   "metadata": {},
   "outputs": [],
   "source": [
    "class Solution:\n",
    "    def uniquePaths(self, m: int, n: int) -> int:\n",
    "        row = [1]*n\n",
    "        \n",
    "        for i in range(m-1):\n",
    "            newrow = [1]*n\n",
    "            for j in range(n-2,-1,-1):\n",
    "                newrow[j] = newrow[j+1] + row[j]\n",
    "            row = newrow\n",
    "            \n",
    "        return row[0]"
   ]
  }
 ],
 "metadata": {
  "kernelspec": {
   "display_name": "Python 3 (ipykernel)",
   "language": "python",
   "name": "python3"
  },
  "language_info": {
   "codemirror_mode": {
    "name": "ipython",
    "version": 3
   },
   "file_extension": ".py",
   "mimetype": "text/x-python",
   "name": "python",
   "nbconvert_exporter": "python",
   "pygments_lexer": "ipython3",
   "version": "3.9.12"
  }
 },
 "nbformat": 4,
 "nbformat_minor": 5
}
