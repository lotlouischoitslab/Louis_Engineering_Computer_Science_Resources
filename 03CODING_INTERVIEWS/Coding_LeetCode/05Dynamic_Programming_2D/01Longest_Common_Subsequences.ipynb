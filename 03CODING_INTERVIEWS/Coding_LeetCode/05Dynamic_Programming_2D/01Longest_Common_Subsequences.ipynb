{
 "cells": [
  {
   "cell_type": "markdown",
   "id": "59c77652",
   "metadata": {},
   "source": [
    "### https://leetcode.com/problems/longest-common-subsequence/"
   ]
  },
  {
   "cell_type": "code",
   "execution_count": null,
   "id": "721dd6ef",
   "metadata": {},
   "outputs": [],
   "source": [
    "class Solution:\n",
    "    def longestCommonSubsequence(self, text1: str, text2: str) -> int:\n",
    "        dp = [[0 for j in range(len(text2)+1)] for i in range(len(text1)+1)]\n",
    "        \n",
    "        for i in range(len(text1)-1,-1,-1):\n",
    "            for j in range(len(text2)-1,-1,-1):\n",
    "                if text1[i] == text2[j]:\n",
    "                    dp[i][j] = 1 + dp[i+1][j+1]\n",
    "                else:\n",
    "                    dp[i][j] = max(dp[i][j+1],dp[i+1][j])\n",
    "        \n",
    "        return dp[0][0]"
   ]
  }
 ],
 "metadata": {
  "kernelspec": {
   "display_name": "Python 3 (ipykernel)",
   "language": "python",
   "name": "python3"
  },
  "language_info": {
   "codemirror_mode": {
    "name": "ipython",
    "version": 3
   },
   "file_extension": ".py",
   "mimetype": "text/x-python",
   "name": "python",
   "nbconvert_exporter": "python",
   "pygments_lexer": "ipython3",
   "version": "3.9.12"
  }
 },
 "nbformat": 4,
 "nbformat_minor": 5
}
