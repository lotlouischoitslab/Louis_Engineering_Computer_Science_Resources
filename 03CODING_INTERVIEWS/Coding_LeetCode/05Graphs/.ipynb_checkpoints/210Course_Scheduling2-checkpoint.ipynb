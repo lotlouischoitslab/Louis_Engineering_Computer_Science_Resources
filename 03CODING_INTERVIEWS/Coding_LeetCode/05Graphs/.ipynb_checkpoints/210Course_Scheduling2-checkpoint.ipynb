{
 "cells": [
  {
   "cell_type": "markdown",
   "id": "9c44cfa7",
   "metadata": {},
   "source": [
    "### https://leetcode.com/problems/course-schedule-ii/"
   ]
  },
  {
   "cell_type": "code",
   "execution_count": null,
   "id": "47b59f3e",
   "metadata": {},
   "outputs": [],
   "source": [
    "class Solution:\n",
    "    def findOrder(self, numCourses: int, prerequisites: List[List[int]]) -> List[int]:\n",
    "        graph = {i:[] for i in range(numCourses)}\n",
    "\n",
    "        for course,pre in prerequisites:\n",
    "            graph[course].append(pre)\n",
    "        \n",
    "        output = []\n",
    "        visit,cycle = set(), set()\n",
    "\n",
    "        def dfs(course):\n",
    "            if course in cycle:\n",
    "                return False\n",
    "            if course in visit:\n",
    "                return True\n",
    "            cycle.add(course)\n",
    "            for pre in graph[course]:\n",
    "                if not dfs(pre):\n",
    "                    return False\n",
    "            \n",
    "            cycle.remove(course)\n",
    "            visit.add(course)\n",
    "            output.append(course)\n",
    "            return True\n",
    "            \n",
    "        for c in range(numCourses):\n",
    "            if not dfs(c):\n",
    "                return []\n",
    "        return output"
   ]
  }
 ],
 "metadata": {
  "kernelspec": {
   "display_name": "Python 3 (ipykernel)",
   "language": "python",
   "name": "python3"
  },
  "language_info": {
   "codemirror_mode": {
    "name": "ipython",
    "version": 3
   },
   "file_extension": ".py",
   "mimetype": "text/x-python",
   "name": "python",
   "nbconvert_exporter": "python",
   "pygments_lexer": "ipython3",
   "version": "3.9.13"
  }
 },
 "nbformat": 4,
 "nbformat_minor": 5
}
