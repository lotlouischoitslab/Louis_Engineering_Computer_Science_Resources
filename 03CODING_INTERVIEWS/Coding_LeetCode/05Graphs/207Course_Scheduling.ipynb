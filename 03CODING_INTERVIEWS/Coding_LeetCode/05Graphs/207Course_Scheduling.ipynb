{
 "cells": [
  {
   "cell_type": "markdown",
   "id": "b757dbfe",
   "metadata": {},
   "source": [
    "### https://leetcode.com/problems/course-schedule/"
   ]
  },
  {
   "cell_type": "code",
   "execution_count": null,
   "id": "d46f0006",
   "metadata": {},
   "outputs": [],
   "source": [
    "class Solution:\n",
    "    def canFinish(self, numCourses: int, prerequisites: List[List[int]]) -> bool:\n",
    "        graph = {i:[]for i in range(numCourses)}\n",
    "        for course,pre in prerequisites:\n",
    "            graph[course].append(pre)\n",
    "        \n",
    "        visited = set()\n",
    "        def dfs(course):\n",
    "            if course in visited:\n",
    "                return False\n",
    "            if graph[course] == []:\n",
    "                return True\n",
    "            visited.add(course)\n",
    "            for pre in graph[course]:\n",
    "                if not dfs(pre):\n",
    "                    return False\n",
    "            visited.remove(course)\n",
    "            graph[course] = []\n",
    "            return True\n",
    "\n",
    "        for course in range(numCourses):\n",
    "            if not dfs(course):\n",
    "                return False\n",
    "        return True"
   ]
  }
 ],
 "metadata": {
  "kernelspec": {
   "display_name": "Python 3 (ipykernel)",
   "language": "python",
   "name": "python3"
  },
  "language_info": {
   "codemirror_mode": {
    "name": "ipython",
    "version": 3
   },
   "file_extension": ".py",
   "mimetype": "text/x-python",
   "name": "python",
   "nbconvert_exporter": "python",
   "pygments_lexer": "ipython3",
   "version": "3.9.13"
  }
 },
 "nbformat": 4,
 "nbformat_minor": 5
}
