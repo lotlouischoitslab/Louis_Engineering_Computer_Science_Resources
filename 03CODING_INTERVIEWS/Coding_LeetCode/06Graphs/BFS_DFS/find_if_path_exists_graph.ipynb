{
 "cells": [
  {
   "cell_type": "markdown",
   "id": "076d5555",
   "metadata": {},
   "source": [
    "## https://leetcode.com/problems/find-if-path-exists-in-graph/"
   ]
  },
  {
   "cell_type": "code",
   "execution_count": null,
   "id": "e7548e3b",
   "metadata": {},
   "outputs": [],
   "source": [
    "#DFS Approach\n",
    "class Solution:\n",
    "    def validPath(self, n: int, edges: List[List[int]], source: int, destination: int) -> bool:\n",
    "        adjacency_list = [[]for i in range(n)] #declare 2d array/matrix\n",
    "        for edge in edges:\n",
    "            adjacency_list[edge[1]].append(edge[0])\n",
    "            adjacency_list[edge[0]].append(edge[1])\n",
    "          \n",
    "        to_traverse = []\n",
    "        visited = set()\n",
    "        to_traverse.append(source)\n",
    "        while (len(to_traverse) != 0):\n",
    "            traversed = to_traverse[-1]\n",
    "            if traversed == destination:\n",
    "                return True\n",
    "            \n",
    "            visited.add(traversed)\n",
    "            to_traverse.pop()\n",
    "            neighbors = adjacency_list[traversed]\n",
    "            for i in range(len(neighbors)):\n",
    "                if neighbors[i] not in visited:\n",
    "                    to_traverse.append(neighbors[i])\n",
    "       \n",
    "        return False"
   ]
  },
  {
   "cell_type": "code",
   "execution_count": null,
   "id": "95d59a4a",
   "metadata": {},
   "outputs": [],
   "source": [
    "#BFS Approach\n",
    "class Solution:\n",
    "    def validPath(self, n: int, edges: List[List[int]], source: int, destination: int) -> bool:\n",
    "        adjacency_list = [[]for i in range(n)] #declare 2d array/matrix\n",
    "        for edge in edges:\n",
    "            adjacency_list[edge[0]].append(edge[1])\n",
    "            adjacency_list[edge[1]].append(edge[0])\n",
    "        \n",
    "        to_traverse = [] #queue\n",
    "        visited = set()\n",
    "        to_traverse.append(source)\n",
    "        \n",
    "        while len(to_traverse) != 0:\n",
    "            traversed = to_traverse[0]\n",
    "            to_traverse.pop(0)\n",
    "            if traversed == destination:\n",
    "                return True\n",
    "            \n",
    "            visited.add(traversed)\n",
    "            neighbors = adjacency_list[traversed]\n",
    "            for i in range(len(neighbors)):\n",
    "                if neighbors[i] not in visited:\n",
    "                    to_traverse.append(neighbors[i])\n",
    "            \n",
    "            \n",
    "        return False"
   ]
  },
  {
   "cell_type": "markdown",
   "id": "fc8130a4",
   "metadata": {},
   "source": [
    "# Algorithm\n",
    "\n",
    "#### Depth First Search Approach:\n",
    "#We will need to traverse as many nodes as possible starting from the source node until we reach the destination node. In the worst-case, we traverse every node in the graph and add them to our visited set prior to visiting our destination node and terminating the traversal. In the best-case scenario, the graph solely consists of two nodes: the source node and the destination. We're guaranteed to reach the destination node in one while loop iteration since the destination node is the sole neighbor node of the source node. Note that we don't really care which nodes we visit in our path between the source vertex and the destination vertex. We only care that a valid path inded exists between them, so the order in which we traverse the neighbor nodes doesn't mattter since our goal is to try traversing any of them that will lead us to a valid path to the destination vertex. \n",
    "\n",
    "#Algorithm: \n",
    "#1. Create an adjacency list and initialize as a 2d matrix where the first dimension represents the vertex (0-based) and the second dimension consists of a list whose entries are the neighbor nodes of the vertex in the first dimension. Let's also create a stack of nodes that are being considered for our path and initialize it to a stack containing solely the source vertex since we know that the source vertex must be the very first vertex in our path. Lastly, let's create a visited set. We'll initialize it to empty set at the very start. \n",
    "\n",
    "#2. Next, go through each edge in the edges list and consider the pair of vertices in the edge as neighbors of one another. This means that edge[0] will be the neighbor of edge[1], so it should be appended to the neighbor listof edge[1] and vice versa. \n",
    "\n",
    "#3. As long as the stack isn't empty, store the top element of the stack and then pop from it. (Check if the vertex we popped off from the stackis the destination vertex. If so, return true). Otherwise, check if the vertex we popped off has already been visited. If so, pop off the next element from the stack and repeat the process. If not, add it the stack to our visited set. Then, retrieve its adjacent nodes from the adjacency list.\n",
    "\n",
    "#4. Traverse each of the adjacency nodes and push them to the stack, if they have not already been visited.  \n",
    "\n",
    "#Runtime Analysis: \n",
    "#O(V + E) In the worst-case, we visit every node while traversing from the source vertex to the destination value. We have to loop through each of our edges in order to add the pair of vertices comprising the edge as neighbors of one another in the adjacency list, which requires O(1) time with constant time extra work to append to the list of neighbors. E = length of edges. In total, the first for loop requires O(E) time. Then, we pop from the stack so long as it is not empty, and the stack will hold up to V entries where V is the number of vertices in the graph and is equal to n. The for loop inside the while will have a cumulative sum of at most E iterations since it will have to iterate through all of the node's neighbors for each of the vertices. \n",
    "#The edge connections inform us the number of the node's neighbors we have not already visited, which will be O(E), so this is what we'll be adding to our runtime for having to fully traverse each of the nodes: O(V). Therefore, our overall runtime for traversing all vertices and edges in the graph in the worst-case is O(V + E)\n",
    "\n",
    "#Space Complexity: We have a visited set, which will store at most V elements, so the space required for the visited set is O(V). We also require memory to store the adjacency list. For every vertex, we have a list of neighbors. We know that the cumulative number of neighbors all vertices can have is E. In other words, the sum of the lists of neighbors for all vertices will sum to E. So, the space required for the adjacency list of O(V + E). The stack of vertices we need to consider for the path will contain up to V entries, so the space requires for it is O(V). The size of the adjacency list dominates the space omplexity analysis, space complexity is O(V + E). \n",
    "\n",
    "\n",
    "\n",
    "#### Breadth-First Search Approach: \n",
    "#There are two general use cases for breadth-first search: traverse every node in the graph or find the shorted path between two vertices in a graph with positive and equally-weighted, edges. We will employ BFS for the first use case. In the worst-case, the destination node lies at a max distance from the source vertex compared to every other node in the graph. BFS is a level-order traversal so it divides the graph into layers starting from the source node at the 0th layer and going to the destination node. If the destination vertex were in the very first path and was a neighbor of the source vertex (there's a directed edge that connects them), we will achieve best-case complexity for time and space since we'll reach the destination vertex in only one while loop itteration (if we were to opt for the iterative approach). BFS is pretty similar to DFS with one very important difference: we incorporate a queue instead of a stack, which maintains FIFO ordering. This means that the very first vertices that are pushed to the queue are the same first vertices that are popped from the queue.  In this way, we will add every node in a particular level of the graph to the queue before moving on to the next level. Also, the very first path popped from the queue where the neighbor node of the very last node visited (i.e the very last entry of the path list) is the destination vertex will be the shortest path from the source to destination vertices. When the very first vertex that's popped from the queue is the destination vertex, we are done and can return true.\n",
    "\n",
    "#Algorithm:\n",
    "#1. Declare and initialize an all-zero 2d adjacency list. The first dimension will represent each of the vertex in the graph and the second dimension will represent a list of the neighbors nodes to the vertex we index into the first dimension. Go through each edge in the list of edges. For each edge, we want to update the adjacenct node to edge[0] to be the edge[1] and the adjacent node to edge[1] to be edge[0]. So, we want to append the list of neighbor nodes corresponding to the vertex edge[0] the neighbor node edge[1] and vice versa. \n",
    "\n",
    "#2. Declare and initialize the queue. We know our queue will store vertices that have not yet been visited. Push to the queue the source node. \n",
    "\n",
    "#3. As long as the queue isn't empty (while loop condition), pop the front path from the queue (which was the very first element added in FIFO ordering) and retain it in temporary variable. Add this vertex popped from the queue to the visited set. If it is the destination vertex, return True.  Go through each of the neighbor nodes of this visited node (last entry from path list). If the neighbor node has already been visited (perform a constant time lookup from the visited set), skip it. Otherwise, push this neighbor node to the queue.\n",
    "\n",
    "#Runtime Analysis: In the worst case, as we determined above, the destination vertex lies at a max distance from the source node. This will require us not just to visit every vertex but to also traverse every edge in the graph. Let's say that V is the number of vertices in the graph and E is the number of edges in the graph. So, the worst case time complexity would be O(V + E). At the start, we have to loop through each of our edges and update our adjacency list. Appending to a list of neighbor nodes can be done in O(1) time, so the work inside the for loop is constant. However, we loop through each of the edges, which requires O(E) time. Next, we have to pop from the queue as long as it isn't empty. The queue will hold up to a max of V elements (since we check ahead of time that the neighbor node has not been visited). This is the upper limit of the number of iterations of the while loop. Within the while loop, we also have to go through each of the neighbor nodes for each of the vertices, which in total will require E number of iterations (since we're essentially going through each of the edge connections). The worst case complexity from this outer while loop where we pop from the queue will be O(V + E). \n",
    "\n",
    "#Space Complexity: As we determined above in the runtime analysis, the max size of the queue will be V since we hold up to V paths (where the neighbor node of the very last node visited in the path is a unique node that has not yet been visited itself). We also maintain a visited set, which can only hold unique elements. So, it can store up to V vertices in the graph since each of these V vertices are unique. So, we require O(V) space for the queue and O(V) space for the visited set. We stil need to consider the memory footprint for the adjacency list. For each vertex (or index into the first dimension) of our adjacency list, we have a list of neighbor nodes and the max number of neighbor nodes we can have for eveyry vertex is 2*E (since the edges are bi-directional). So, the worst-case memory consumption overall is dominated by the adjacency list: O(V + 2*E), which is O(V + E). "
   ]
  },
  {
   "cell_type": "code",
   "execution_count": null,
   "id": "a09aa5eb",
   "metadata": {},
   "outputs": [],
   "source": []
  }
 ],
 "metadata": {
  "kernelspec": {
   "display_name": "Python 3 (ipykernel)",
   "language": "python",
   "name": "python3"
  },
  "language_info": {
   "codemirror_mode": {
    "name": "ipython",
    "version": 3
   },
   "file_extension": ".py",
   "mimetype": "text/x-python",
   "name": "python",
   "nbconvert_exporter": "python",
   "pygments_lexer": "ipython3",
   "version": "3.9.12"
  }
 },
 "nbformat": 4,
 "nbformat_minor": 5
}
