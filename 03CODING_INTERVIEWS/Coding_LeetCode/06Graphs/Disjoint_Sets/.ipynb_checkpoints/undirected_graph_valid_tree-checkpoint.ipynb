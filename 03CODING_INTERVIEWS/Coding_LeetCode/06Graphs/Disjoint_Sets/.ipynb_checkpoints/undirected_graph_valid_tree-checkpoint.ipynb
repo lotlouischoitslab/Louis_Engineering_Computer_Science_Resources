{
 "cells": [
  {
   "cell_type": "markdown",
   "id": "16ec4585",
   "metadata": {},
   "source": [
    "## https://www.goodtecher.com/leetcode-323-number-of-connected-components-in-an-undirected-graph/"
   ]
  },
  {
   "cell_type": "code",
   "execution_count": null,
   "id": "1179d2d0",
   "metadata": {},
   "outputs": [],
   "source": [
    "class Solution:\n",
    "    def countComponents(self, n, edges):\n",
    "        def find(vertex):\n",
    "            if vertex == root[vertex]:\n",
    "                return vertex\n",
    "            root[vertex] = find(root[vertex],root)\n",
    "            return root[vertex]\n",
    "        \n",
    "        def shouldUnion(vertex1,vertex2,root,rank):\n",
    "            root1 = find(vertex1,root)\n",
    "            root2 = find(vertex2,root)\n",
    "            \n",
    "            if root1 == root2:\n",
    "                return False\n",
    "            \n",
    "            if rank[root1] > rank[root2]:\n",
    "                root[root2] = root1\n",
    "            elif rank[root2] > rank[root1]:\n",
    "                root[root1] = root2\n",
    "            else:\n",
    "                root[root2] = root1\n",
    "                rank[root1] +=1\n",
    "            return True\n",
    "        \n",
    "        connected_components = n\n",
    "        root = [0 for x in range(n)]\n",
    "        rank = [1 for x in range(n)]\n",
    "        \n",
    "        for i in range(n):\n",
    "            root[i] = i\n",
    "        \n",
    "        for elem in edges:\n",
    "            connected_components -= shouldUnion(elem[0],elem[1],root,rank)\n",
    "        \n",
    "        return connected_components"
   ]
  },
  {
   "cell_type": "markdown",
   "id": "7f232e9c",
   "metadata": {},
   "source": [
    "The number of connected components of our graph is the number of disjoint sets we have at the end (i.e. the number of root nodes left). We have two approaches for computing the number of distinct root nodes (one is better than the other): after the for loop that goes through each of the edges and calls the union function in order to establish linkages between the two vertices comprising the edge, we will perform a single-pass through the array root and count the number of roots, which is the number of times that the parent node of a vertex is equal to the vertex itself. This will technically add O(N) to the runtime where n is the number of nodes (first parameter), but our runtime is dominated by the loop that goes through each of the edges, which is O(n*alpha(n)). Our second approach will start with n distinct nodes because each of the nodes will be in their own distinct sets, and we'll decrement the number of distinct nodes everytime we try to merge(union) two vertices of distinct sets into the same set. However, if the root nodes of the vertices are the same prior to performing union operation, we won't decrement the number of distinct root nodes by 1. "
   ]
  },
  {
   "cell_type": "code",
   "execution_count": null,
   "id": "a601e920",
   "metadata": {},
   "outputs": [],
   "source": []
  }
 ],
 "metadata": {
  "kernelspec": {
   "display_name": "Python 3 (ipykernel)",
   "language": "python",
   "name": "python3"
  },
  "language_info": {
   "codemirror_mode": {
    "name": "ipython",
    "version": 3
   },
   "file_extension": ".py",
   "mimetype": "text/x-python",
   "name": "python",
   "nbconvert_exporter": "python",
   "pygments_lexer": "ipython3",
   "version": "3.9.12"
  }
 },
 "nbformat": 4,
 "nbformat_minor": 5
}
