{
 "cells": [
  {
   "cell_type": "markdown",
   "id": "2a8563f9",
   "metadata": {},
   "source": [
    "### https://leetcode.com/problems/redundant-connection/"
   ]
  },
  {
   "cell_type": "code",
   "execution_count": null,
   "id": "0cbf5984",
   "metadata": {},
   "outputs": [],
   "source": [
    "class Solution:\n",
    "    def findRedundantConnection(self, edges: List[List[int]]) -> List[int]:\n",
    "        parent = [i for i in range(len(edges)+1)]\n",
    "        rank = [1 for i in range(len(edges)+1)]\n",
    "        \n",
    "        def find(n):\n",
    "            p = parent[n]\n",
    "            #Path compression\n",
    "            while p != parent[p]:\n",
    "                parent[p] = parent[parent[p]]\n",
    "                p = parent[p]\n",
    "            return p\n",
    "        \n",
    "        def union(n1,n2):\n",
    "            p1,p2 = find(n1),find(n2)\n",
    "            if p1 == p2:\n",
    "                return False\n",
    "            if rank[p1] > rank[p2]:\n",
    "                parent[p2] = p1\n",
    "                rank[p1]+=rank[p2]\n",
    "            else:\n",
    "                parent[p1] = p2\n",
    "                rank[p2] += rank[p1]\n",
    "            return True\n",
    "        for n1,n2 in edges:\n",
    "            if not union(n1,n2):\n",
    "                return [n1,n2]\n",
    "        "
   ]
  }
 ],
 "metadata": {
  "kernelspec": {
   "display_name": "Python 3 (ipykernel)",
   "language": "python",
   "name": "python3"
  },
  "language_info": {
   "codemirror_mode": {
    "name": "ipython",
    "version": 3
   },
   "file_extension": ".py",
   "mimetype": "text/x-python",
   "name": "python",
   "nbconvert_exporter": "python",
   "pygments_lexer": "ipython3",
   "version": "3.9.12"
  }
 },
 "nbformat": 4,
 "nbformat_minor": 5
}
