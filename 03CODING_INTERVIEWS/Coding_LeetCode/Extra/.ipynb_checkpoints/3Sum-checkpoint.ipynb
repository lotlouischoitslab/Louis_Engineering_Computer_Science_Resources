{
 "cells": [
  {
   "cell_type": "markdown",
   "id": "2bb5ceda",
   "metadata": {},
   "source": [
    "### https://leetcode.com/problems/3sum/"
   ]
  },
  {
   "cell_type": "code",
   "execution_count": null,
   "id": "bcc6173c",
   "metadata": {},
   "outputs": [],
   "source": [
    "class Solution:\n",
    "    def threeSum(self, nums: List[int]) -> List[List[int]]:\n",
    "        if len(nums) < 3:\n",
    "            return []\n",
    "\n",
    "        nums = sorted(nums)\n",
    "        triplets = []\n",
    "        for i in range(len(nums)-2):\n",
    "            lower = i+1\n",
    "            upper = len(nums)-1\n",
    "            while lower < upper:\n",
    "                s = nums[i]+nums[lower]+nums[upper]\n",
    "                if s == 0:\n",
    "                    triplets.append((nums[i],nums[lower],nums[upper]))\n",
    "                    lower+=1\n",
    "                elif s < 0:\n",
    "                    lower+=1\n",
    "                else:\n",
    "                    upper-=1\n",
    "                \n",
    "        return (list(set(triplets)))"
   ]
  }
 ],
 "metadata": {
  "kernelspec": {
   "display_name": "Python 3 (ipykernel)",
   "language": "python",
   "name": "python3"
  },
  "language_info": {
   "codemirror_mode": {
    "name": "ipython",
    "version": 3
   },
   "file_extension": ".py",
   "mimetype": "text/x-python",
   "name": "python",
   "nbconvert_exporter": "python",
   "pygments_lexer": "ipython3",
   "version": "3.9.13"
  }
 },
 "nbformat": 4,
 "nbformat_minor": 5
}
