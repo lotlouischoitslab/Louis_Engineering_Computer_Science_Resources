{
 "cells": [
  {
   "cell_type": "markdown",
   "id": "d661ea09",
   "metadata": {},
   "source": [
    "### https://leetcode.com/problems/remove-duplicates-from-sorted-array/submissions/"
   ]
  },
  {
   "cell_type": "code",
   "execution_count": null,
   "id": "17de5e50",
   "metadata": {},
   "outputs": [],
   "source": [
    "class Solution:\n",
    "    def removeDuplicates(self, nums: List[int]) -> int:\n",
    "        count = 0\n",
    "        for i in range(len(nums)-1):\n",
    "            if nums[i] == nums[i+1]:\n",
    "                continue\n",
    "            \n",
    "            nums[count] = nums[i]\n",
    "            count +=1\n",
    "        nums[count] = nums[len(nums)-1]\n",
    "        count +=1\n",
    "                \n",
    "        return count"
   ]
  }
 ],
 "metadata": {
  "kernelspec": {
   "display_name": "Python 3 (ipykernel)",
   "language": "python",
   "name": "python3"
  },
  "language_info": {
   "codemirror_mode": {
    "name": "ipython",
    "version": 3
   },
   "file_extension": ".py",
   "mimetype": "text/x-python",
   "name": "python",
   "nbconvert_exporter": "python",
   "pygments_lexer": "ipython3",
   "version": "3.9.12"
  }
 },
 "nbformat": 4,
 "nbformat_minor": 5
}
