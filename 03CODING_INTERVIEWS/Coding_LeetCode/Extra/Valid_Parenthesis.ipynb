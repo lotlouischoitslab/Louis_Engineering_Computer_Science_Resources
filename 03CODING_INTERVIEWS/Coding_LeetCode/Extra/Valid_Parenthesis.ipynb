{
 "cells": [
  {
   "cell_type": "markdown",
   "id": "57e29628",
   "metadata": {},
   "source": [
    "### https://leetcode.com/problems/valid-parentheses/submissions/"
   ]
  },
  {
   "cell_type": "code",
   "execution_count": null,
   "id": "07b95045",
   "metadata": {},
   "outputs": [],
   "source": [
    "class Solution:\n",
    "    def isValid(self, s: str) -> bool:\n",
    "        stack = []\n",
    "        for char in s:\n",
    "            if char in ['(','{','[']:\n",
    "                stack.append(char)\n",
    "            else:\n",
    "                if len(stack) == 0:\n",
    "                    return False\n",
    "                current = stack.pop()\n",
    "                if current == '(' and char != ')':\n",
    "                    return False\n",
    "                if current == '{' and char != '}':\n",
    "                    return False\n",
    "                if current == '[' and char != ']':\n",
    "                    return False\n",
    "            \n",
    "        if len(stack) != 0:\n",
    "            return False\n",
    "        return True\n",
    "               \n",
    "        "
   ]
  }
 ],
 "metadata": {
  "kernelspec": {
   "display_name": "Python 3 (ipykernel)",
   "language": "python",
   "name": "python3"
  },
  "language_info": {
   "codemirror_mode": {
    "name": "ipython",
    "version": 3
   },
   "file_extension": ".py",
   "mimetype": "text/x-python",
   "name": "python",
   "nbconvert_exporter": "python",
   "pygments_lexer": "ipython3",
   "version": "3.9.12"
  }
 },
 "nbformat": 4,
 "nbformat_minor": 5
}
