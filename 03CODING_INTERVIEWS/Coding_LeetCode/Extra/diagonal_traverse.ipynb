{
 "cells": [
  {
   "cell_type": "code",
   "execution_count": 1,
   "id": "967e9bae",
   "metadata": {},
   "outputs": [],
   "source": [
    "def findDiagonalOrder(matrix):    \n",
    "    m = len(matrix) #rows\n",
    "    n = len(matrix[0]) #cols\n",
    "    \n",
    "    result = [] #the list I want to return\n",
    "    \n",
    "    #if col index % 2 == 0 left to right forward traverse\n",
    "    #else if col index % 2 != 0 right to left backward traverse\n",
    "    \n",
    "    row = 0 #starting row index\n",
    "    col = 0 #starint col index\n",
    "    up = True #uptrend \n",
    "    \n",
    "    for i in range(m*n): #traverse the entire size\n",
    "        result.append(matrix[row][col]) #first let's get that specific element\n",
    "        \n",
    "        if up: #check if it is up the diagonal\n",
    "            if col == n - 1: #if last column\n",
    "                row += 1 #increment the temp row index\n",
    "                up = not up #change the state to NOT of that condition\n",
    "            elif row == 0: #if it is the first row\n",
    "                col += 1 #increment the column\n",
    "                up = not up #change the state of that condition\n",
    "            else:\n",
    "                row -= 1 #otherwise decrement the row\n",
    "                col += 1 #increase the column\n",
    "         \n",
    "        #now we are going to check if it is down the diagonal\n",
    "        else:\n",
    "            if row == m - 1: #if we are at the last row\n",
    "                col += 1 #increment the col\n",
    "                up = not up #change the state to NOT of that\n",
    "            elif col == 0: #if we are in the first col\n",
    "                row += 1 #increment the row index\n",
    "                up = not up #change the state to NOT of that condition\n",
    "            else: #otherwise\n",
    "                row += 1 #keep incrementing the row\n",
    "                col -= 1 #keep decrementing the column\n",
    "            \n",
    "    return result #return result"
   ]
  },
  {
   "cell_type": "markdown",
   "id": "f99f9c71",
   "metadata": {},
   "source": [
    "## https://leetcode.com/problems/diagonal-traverse/"
   ]
  },
  {
   "cell_type": "code",
   "execution_count": 2,
   "id": "c66c95d3",
   "metadata": {},
   "outputs": [
    {
     "name": "stdout",
     "output_type": "stream",
     "text": [
      "[1, 2, 4, 7, 5, 3, 6, 8, 9]\n"
     ]
    }
   ],
   "source": [
    "#Input\n",
    "mat = [[1,2,3],[4,5,6],[7,8,9]]\n",
    "\n",
    "#Output\n",
    "#[1,2,4,7,5,3,6,8,9]\n",
    "\n",
    "out = findDiagonalOrder(mat)\n",
    "print(out)"
   ]
  },
  {
   "cell_type": "code",
   "execution_count": 3,
   "id": "9bd6e597",
   "metadata": {},
   "outputs": [
    {
     "name": "stdout",
     "output_type": "stream",
     "text": [
      "[1, 2, 3, 4]\n"
     ]
    }
   ],
   "source": [
    "#Input\n",
    "mat = [[1,2],[3,4]]\n",
    "\n",
    "#Output\n",
    "#[1,2,3,4]\n",
    "\n",
    "out = findDiagonalOrder(mat)\n",
    "print(out)"
   ]
  },
  {
   "cell_type": "code",
   "execution_count": null,
   "id": "eb179fac",
   "metadata": {},
   "outputs": [],
   "source": [
    "#Time complexity is O(mn)\n",
    "#Space complexity is O(1) because we don't use any additional data structures constant memory usage"
   ]
  }
 ],
 "metadata": {
  "kernelspec": {
   "display_name": "Python 3 (ipykernel)",
   "language": "python",
   "name": "python3"
  },
  "language_info": {
   "codemirror_mode": {
    "name": "ipython",
    "version": 3
   },
   "file_extension": ".py",
   "mimetype": "text/x-python",
   "name": "python",
   "nbconvert_exporter": "python",
   "pygments_lexer": "ipython3",
   "version": "3.9.12"
  }
 },
 "nbformat": 4,
 "nbformat_minor": 5
}
