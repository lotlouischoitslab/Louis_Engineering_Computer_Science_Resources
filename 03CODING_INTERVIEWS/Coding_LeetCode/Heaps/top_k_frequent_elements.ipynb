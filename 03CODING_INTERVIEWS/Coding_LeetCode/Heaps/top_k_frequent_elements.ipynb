{
 "cells": [
  {
   "cell_type": "markdown",
   "id": "47d639f0",
   "metadata": {},
   "source": [
    "### https://leetcode.com/problems/top-k-frequent-elements/"
   ]
  },
  {
   "cell_type": "code",
   "execution_count": null,
   "id": "cb4bce64",
   "metadata": {},
   "outputs": [],
   "source": [
    "from collections import Counter\n",
    "class Solution:\n",
    "    def topKFrequent(self, nums: List[int], k: int) -> List[int]:\n",
    "        c = Counter(nums)\n",
    "        c = sorted(c,key=lambda x:c[x],reverse=True)\n",
    "        \n",
    "        return c[:k]"
   ]
  },
  {
   "cell_type": "code",
   "execution_count": null,
   "id": "5a120184",
   "metadata": {},
   "outputs": [],
   "source": [
    "from collections import Counter\n",
    "class Solution:\n",
    "    def topKFrequent(self, nums: List[int], k: int) -> List[int]:\n",
    "        if not nums:\n",
    "            return []\n",
    "        if len(nums) == k:\n",
    "            return nums\n",
    "        \n",
    "        #Counter creates frequency dictionary\n",
    "        count = Counter(nums)\n",
    "        return heapq.nlargest(k,count.keys(),key=count.get) \n",
    "    #number of elemnets, elements you want to iterate through\n",
    "            \n",
    "# Runtime: O(nlogk)\n",
    "# Space Complexity: O(n)"
   ]
  }
 ],
 "metadata": {
  "kernelspec": {
   "display_name": "Python 3 (ipykernel)",
   "language": "python",
   "name": "python3"
  },
  "language_info": {
   "codemirror_mode": {
    "name": "ipython",
    "version": 3
   },
   "file_extension": ".py",
   "mimetype": "text/x-python",
   "name": "python",
   "nbconvert_exporter": "python",
   "pygments_lexer": "ipython3",
   "version": "3.9.12"
  }
 },
 "nbformat": 4,
 "nbformat_minor": 5
}
