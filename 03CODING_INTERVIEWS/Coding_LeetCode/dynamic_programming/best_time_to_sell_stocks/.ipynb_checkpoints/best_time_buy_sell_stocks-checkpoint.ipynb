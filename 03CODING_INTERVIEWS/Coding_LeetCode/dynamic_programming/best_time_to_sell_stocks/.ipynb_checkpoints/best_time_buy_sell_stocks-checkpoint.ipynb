{
 "cells": [
  {
   "cell_type": "markdown",
   "id": "ed8835ec",
   "metadata": {},
   "source": [
    "# Algorithm\n",
    "Kadane's Algorithm: This algorithm is the solution to the maximum sum subarray problem where out of all subarrays of an input list, we need to find the subarray where all the entries in the subarray sums to a max value. It's technically considered a dynamic programming problem because it utilizes an optimal substructure - a subarray may end at the previous position in current if the current number exceeds the current running total, thereby making the current number the start of a new subarray.  "
   ]
  },
  {
   "cell_type": "code",
   "execution_count": 2,
   "id": "7dde7ec9",
   "metadata": {},
   "outputs": [],
   "source": [
    "class Solution:\n",
    "    def maxProfit(self,prices):\n",
    "        min_profit = float('inf')\n",
    "        max_profit = 0\n",
    "        for i in range(len(prices)):\n",
    "            if prices[i] < min_profit:\n",
    "                min_profit = prices[i]\n",
    "            elif prices[i] - min_profit > max_profit:\n",
    "                max_profit = prices[i] - min_profit\n",
    "        return max_profit"
   ]
  },
  {
   "cell_type": "code",
   "execution_count": null,
   "id": "19202473",
   "metadata": {},
   "outputs": [],
   "source": []
  }
 ],
 "metadata": {
  "kernelspec": {
   "display_name": "Python 3 (ipykernel)",
   "language": "python",
   "name": "python3"
  },
  "language_info": {
   "codemirror_mode": {
    "name": "ipython",
    "version": 3
   },
   "file_extension": ".py",
   "mimetype": "text/x-python",
   "name": "python",
   "nbconvert_exporter": "python",
   "pygments_lexer": "ipython3",
   "version": "3.9.12"
  }
 },
 "nbformat": 4,
 "nbformat_minor": 5
}
