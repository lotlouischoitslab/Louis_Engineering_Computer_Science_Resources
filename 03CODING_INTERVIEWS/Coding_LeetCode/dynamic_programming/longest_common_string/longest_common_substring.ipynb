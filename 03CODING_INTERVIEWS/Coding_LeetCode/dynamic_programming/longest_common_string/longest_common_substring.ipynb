{
 "cells": [
  {
   "cell_type": "markdown",
   "id": "ee98eb50",
   "metadata": {},
   "source": [
    "### https://leetcode.com/problems/longest-common-subsequence/"
   ]
  },
  {
   "cell_type": "code",
   "execution_count": null,
   "id": "7e343175",
   "metadata": {},
   "outputs": [],
   "source": [
    "#Top-Down Approach: Memoization\n",
    "# class Solution:\n",
    "#     def longestCommonSubsequence(self, text1: str, text2: str) -> int:\n",
    "#         subsequences = {}\n",
    "#         def dp(text1,text2, idx1, idx2,subsequences):\n",
    "#             if (idx1 == len(text1) or idx2 == len(text2)):\n",
    "#                 return 0\n",
    "            \n",
    "#             if text1[idx1] == text2[idx2]:\n",
    "#                 if((idx1+1,idx2+1) not in subsequences):\n",
    "#                     subsequences[(idx1+1,idx2+1)] = dp(text1,text2,idx1+1,idx2+1,subsequences)\n",
    "                    \n",
    "#                 return 1 + subsequences[(idx1+1,idx2+1)]\n",
    "#             else:\n",
    "#                 if ((idx1+1,idx2) not in subsequences):\n",
    "#                     subsequences[(idx1+1,idx2)] = dp(text1,text2,idx1+1,idx2,subsequences)\n",
    "                \n",
    "#                 if ((idx1,idx2+1) not in subsequences):\n",
    "#                     subsequences[(idx1,idx2+1)] = dp(text1,text2,idx1,idx2+1,subsequences)\n",
    "                    \n",
    "#                 return max(subsequences[(idx1+1,idx2)],subsequences[(idx1,idx2+1)]) \n",
    "            \n",
    "#         return dp(text1,text2,0,0,subsequences)\n",
    "\n",
    "#Tabulation Approach (Optimized Bottom-Up Approach)\n",
    "class Solution: \n",
    "    def longestCommonSubsequence(self, text1: str, text2: str) -> int:\n",
    "        next_row = [0]*(len(text2) + 1)\n",
    "        curr_row = [0]*(len(text2) + 1)\n",
    "        for ptr1 in range(len(text1)-1,-1,-1):\n",
    "            for ptr2 in range(len(text2)-1,-1,-1):\n",
    "                if text1[ptr1] == text2[ptr2]:\n",
    "                    curr_row[ptr2] = 1 + next_row[ptr2+1]\n",
    "                else:\n",
    "                    curr_row[ptr2] = max(next_row[ptr2],curr_row[ptr2+1])\n",
    "\n",
    "            next_row,curr_row = curr_row,next_row\n",
    "         \n",
    "        return next_row[0]\n",
    "        \n",
    "#Don't worry about the cache @lru_cache(maxsize=None\n",
    "#Top-Down (Memoization Approach):\n",
    "#State Variable: idx1 and idx2. idx1 is a pointer to text1 and represents the start of the substring\n",
    "#of text1. idx2 is a pointer to text2 and represents the starting index of the text2 substring (i.e we will be comparing the characters at position idx1 and idx2 in text1 and text2 respectively).\n",
    "\n",
    "#1. A function or data structure (array) that computes/holds the answer to the problem for every state. \n",
    "#In the case of the top-down approach, we will have a function dp that computes the length of the longest common subsequence corresponding to the substring of text1 starting at idx1 and the substring of text2 starting idx2. To prevent re-calculating of results and re-use of the recurrence relation, we will implement a cache to store intermediate results of the recursive function calls so that if a duplicate recursive call were made with the same inputs as one of the previous recursive calls, we can perform a hashmap lookup and constant time and retrieve the length of the common substring corresponding to that particular idx1 and idx2 inputs. \n",
    "\n",
    "#In the case of the bottom-up approach, we will have a 2D array dp that stores the longest common subsequence at index idx1 in the first dimension and index in the second dimension, representing the starting index of the substring of text1 and the starting index of a substring of text2, respectively. We will have to iterate backwards since we will need the results of future subproblems ahead of time since we cannot wait on the recursive calls to be executed in LIFO order once the base case is reached as in the case of the top-down approach. ALso, notice that when converting between the top-down approach and bottom-up approach, all our dp recursive function calls will be translated into array lookups with the same exact indices. Since in most cases, we need to know the longest substring with either the idx1 being incremented or idx2 being incremented or both, we will need to knwo that future subproblem's result immediately, hence the need to work our way backwards. Notice that the 2D array will have size of the length of text1 in the first dimension and text2 length in the second dimension. \n",
    "\n",
    "#2 Recurrence relation to transition between states. \n",
    "#If there is a match between the characters at idx1 and idx2 for text1 and text2 respectively, then we know that the length of our longest common subsequence just increased by 1. So, we will add 1 to the result of our remaining subproblem. Since we found a match between the characters at the two pointersL idx1 and idx2, we can increment them both by 1 so we don't re-considier the same exact characters for future recursive calls because this character has already contributed to the longest common subsequence. If we don't find a match between both characters, we have to consider two possibilities: either we increment idx1 and leave idx2 the same for future recursive call or we increment idx2 and leave idx1 the same for another recursive call. In the former case, this will consider the substring text1 starting after the current character at index 1. In the latter case, this will consider the substring of text2 starting after the current character at index 2.  We consider the substrings for each of the string separately in two different result. Since we want the length of the longest common subsequence, we return the max of the return values of both recursive calls. Notice that our hashmap maps from a tuple as a key to an integer as a value. We use a tuple as a key since our DP problem is two-dimensional. We need a pointer to text1 as one of our key elements and a pointer to text2 as the second key element. The value represents the length of the longest common substring corresponding to the substring of text1 starting at idx1 and the substring of text2 starting at idx2 (both of which compromise the tuple elements).\n",
    "\n",
    "#3. Base case to stop recursion. \n",
    "#If we have reached the end of text1 or the end of text2, stop and return 0 since when we have empty string, we cannot form a subsequence with another string with it. This occurs when the pointer to text1 or idx1 reaches text1 length. Likewise, when the pointer to text2, or idx2, reaches text2 length, or the end of that string.\n",
    "\n",
    "#Runtime Analysis: Our runtime for DP questions will take into account the number of subproblems and the work required to solve the subproblem. Let's take M to be the length of text1 and N to be the length of text2. Then, the value for M will range from 0 to text1 length - 1. Likewise, the values for N will range from - to text2 length - 1. For each of these unique values of M, we will have a value of N in this range for a grand total of M* N subproblems. The work required to solve each subproblem will be constant since we simply perform a cache lookup or make a recursive call in the case of the top-down approach or perform an array lookup in the case of the botom-up approach. We can see this in the body of the recursive function or the body of the nested loop, respectively. Therefore, our runtime is O(M*N).\n",
    "\n",
    "#Space Complexity: This will be proportional to runtime. We will make a recursive call for each of our subproblems. We determined above that our total number of subproblems is M*N, so our recursion stack will accumulate this amount of recursive calls until we hit the base case and then resolve each of these function calls in LIFO order. In the case of the bottom-up approach, our array DP will have a size of text1 length in the first dimension and text2 length in the second dimension, so the overall size of our auxiliary data structure will be O(M*N). Therefore, all in all, our memory usage is O(M*N). In the worst case, we will find no matches between any of the characters at idx1 and idx2, so we will need to make M * N unique recursive calls where our cache will likely not immediately have a value ready in order for the recursive call to be immediately resolved. \n",
    "\n",
    "#Optimized Bottom-Up Approach:\n",
    "#We can reduce the space complexity down to O(N) where N is the length of text2 and its values range from 0 to text2 length. Notice from our implementation that we only ever need the length of the longest common subsequence for the very next row of the 2d array dp (i.e, from the previous iteration of the outer loop, or ptr1 + 1). Remember that we are iterating our way backwards so that we can start from the base cases and have the result of the subproblems immediately available so that we can figure out the result of our current problem (which may indeed be the subproblem of another problem). We can store these length of the longest common subsequence for the next row in a 1d array which I will call next_row. It will be initialized to all 0's and hold text2 length + 1 entries since we know when we hit the base case of either ptr1 == next1 length or ptr2 == text2 length return 0. We will need another 1d array to store the length of the longest common subsequence for subsequence strings in text2 for the same text1 string. In terms of code, we will need  1d array for the following segment: dp[ptr1][ptr2+1] which will be converted into curr_row[ptr2+1] for our optimized approach. Therefore, anytime we see dp[ptr1_1], we will translate this into next_row, and anytime we see dp[ptr1], we will translate this into curr_row. All in all, we have two 1d arrays of size text2 length + 1, so our overall memory usage is O(2N). We ignore constants and coefficients in our Big-O notation, so this can be simplifies down to O(N). We can improve space complexity even more by iterating through the length of the longer string between test1 and test2 in the outer loop and iterating through the length of the shorter string between text1 and text2 in the inner loop. This way, we can set the size of next row and current row to be the shorter string size + 1, which may be a significant improvement to our memory usage if text2 is significantly shorter than text1. With this optimization, our overall memory usage for the two auxiliary data structures would be O(min(M,N))."
   ]
  }
 ],
 "metadata": {
  "kernelspec": {
   "display_name": "Python 3 (ipykernel)",
   "language": "python",
   "name": "python3"
  },
  "language_info": {
   "codemirror_mode": {
    "name": "ipython",
    "version": 3
   },
   "file_extension": ".py",
   "mimetype": "text/x-python",
   "name": "python",
   "nbconvert_exporter": "python",
   "pygments_lexer": "ipython3",
   "version": "3.9.12"
  }
 },
 "nbformat": 4,
 "nbformat_minor": 5
}
