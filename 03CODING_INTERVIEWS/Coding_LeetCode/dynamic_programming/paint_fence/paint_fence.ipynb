{
 "cells": [
  {
   "cell_type": "markdown",
   "id": "9d884bc0",
   "metadata": {},
   "source": [
    "# Algorithm\n",
    "Counting DP Problems: These problems typically ask us the number of distinct ways to do something. They usually involve addition or multiplication in the recurrence relation and a non-zero return value from the base cases. \n",
    "\n",
    "We are tasked with computing the total number of distinct ways to point this fence. \n",
    "\n",
    "State Variables: What is the minimum piece of information needed for any scenario?\n",
    "p represents the current fence post. We will label each of our fence posts starting from index 0 for our first fence post, so the indices will range from 0 to n-1. This state variable will help us identify when we hit the base case, or otherwise our recursion would continue on forever until we have ran out of stack memory.\n",
    "\n",
    "Top-Down (Memoization) Approach:\n",
    "1. A function or data structure to compute/hold the answer to the problem every time. We will implement a recursive function dp to compute the number of distinct ways to paint the fence up to fence post p. This means that when p = n-1, what our function dp will return will be the number of distinct ways to point the entire fence. Every post must be painted exactly one color and three or more consecutive posts may not be pointed with the same color. This means that for the very first fence post there are k distinct ways to point it since there are k different colors. For the second fence post, there are k* k distinct ways to point up it since there are k different colors we can point the first fence post and k-1 different colors to paint the second fence post without violating the rule that three or more consecutive posts cannot have the same color. We haven't reached three fence posts yet to worry about this rule. Starting from the third fence post, there will be exactly k different colors we can paint each of the fence posts. This is because if the two preceding fence posts are pointed with the same color, we must exclude that possibility for our current fence post. So, to the number of distinct ways to paint up to and including the third fence post is k* k * (k-1). From here, we will keep multiplying k - 1 for the number of distinct ways to paint each of the future fence posts. We will memoize our intermediate results so that we can reduce our branching factor of 2 for duplicate inputs. If we've already encountered the same input, there is no point in re-computing our result and making use of our recurrence relation again just to branch our to more recursive calls instead. Instead, we can save our results in a cache so that when we encounter duplicate inputs, we can perfrom a constant-time lookup in our cache and immediately resolve our current recursive call so that it can be immediately popped from our recursion stack. \n",
    "\n",
    "2. A recurrence relation to transition between states. \n",
    "We only know what our current fence post is. We don't have any information on what we colored the previous fence post or what we colored its previous fence post. All we know that if our previous fence post shares the same color as its previous post, we should not color our current fence post with the same color. So, we can figure out the number of distinct ways to paint the fence up to and including post p - 1 by calling dp on this state. We can likewise do the same for fence post p - 2. So, we know the number of distinct ways to paint up to and including the previous fence post and the number of distinct ways to point up to and including its previous fence post. We know that we either cannot point the current fence post and the previos fence post the same color or the current fence post and the previous post of the previous post the same color (or two fence posts behind our current one). Let's start with the current and the previous fence post. We know the number of distinct ways to point up and including the previous fence post. Each of these distinct ways will result in the same color for the previous fence post. So, if we don't want our current fence post to share the same color as the previous fence post, then to each distinct way there is to point up to and including the previous fence post, we have k-1 distinct ways to paint our current fence post. Mathematically, our expression would be dp[p-1]* (k-1). We likewise have a similar expression for when our current fence post can't share the same color of the past two posts before it. Mathematically, our expression would be dp(p-2) * (k-1). All we have left to do is figure out how to combine our two expressions. We want the total number of distinct ways to paint the fence up to and including the current fence, so we have to include these two different options for which fence post may not share the same color as another fence post. Our recurrence relation is dp(p-1) * (k-1) + dp(p-2) * (k-1).\n",
    "\n",
    "3. Base case to stop recursion\n",
    "as we talked about above, when we are deciding on the number of distinct ways to paint up to and including the first fence post, we have only k distinct ways, so when p = 0, return k. For painting up to and including the first two fence posts, the number of distinct ways is k^2, so when p =1, return k^2. \n",
    "\n",
    "Bottom-Up (Tabulation) Approach:\n",
    "We will maintain a 1d array dp, which will retain the number of distinct ways to point the fence post p where p is this array dp. Notice from the top-down approach that we initially called our function dp on the state n-1 and then waited until the base case was hit in order to resolve our recursive calls. In other words, we cannot find an answer for our current problem until we retrieve our subproblem results. In the case of the bottom-up approach, we don't have the luxury waiting until the base case is hit because our implementation is iterative. So, we will need to work our way until the state n-1 starting from the base cases. Therefore, we will initialize dp[0] to k and dp[1] to k^2 for n>=2. We will iterate forward starting from p = 2, until n-1. Our recurrence relation will be exact same from the top-down approach, but instead we will translate all recursive calls of our dp function into array lookups from dp. At the very end, we will return dp[n-1]. \n",
    "\n",
    "Runtime Analysis: The runtime analysis and space complexity analysis are the same for both bottom-up and top-down implementations. We have that makes a forward pass through the array starting from index 2 and going all the way up to index n-1. An upper bound on the number of iterations is n where n is the number of fence posts. Since this for loop dominates the time complexity, our overall runtime is O(n).\n",
    "\n",
    "Space Complexity: We maintain a single 1d list dp, which can store n entries. This is the only auxillary data structure we incorporate in our bottom approach implementation. Therefore, our overall memory usage is O(n). We can optimize this further with state reductions with space complexity. \n",
    "\n",
    "Remember that space reductions for space complexity apply to only bottom-up implementations. Whereas, improvements in time complexity by reducing the number of state variables typically apply to both bottom-up and top-down implmentations. \n",
    "\n",
    "State Reduction for Space Complexity:\n",
    "Notice that at any moment of time, we don't really need a full 1d array dp. In order to figure out the result for our current problem i, we need the answers to subproblems i-1 and i-2. So, we will store these subproblem results in two separate variables. one_back_post and two_back post, respectively. We will need to update this iteration to iteration. We know that in the very next iteration, the previous post will become the current post and its previous post (two posts before the previous iteration's current post) will become the previous next (from the previous iteration as well). This means that on our current iteration, we will update one_back_post to take on the result of our recurrence relation since this will become the previous post anyways in the very next iteration. The two_back post will be updated to become the one_back_post for the very next iteration. \n",
    "\n",
    "Space Complexity: We maintain two variables, which require constant space. Therefore, our overall memory consumption for the bottom-up implementation with state reduction for space complexity becomes O(1). "
   ]
  },
  {
   "cell_type": "code",
   "execution_count": 2,
   "id": "b59ed18a",
   "metadata": {},
   "outputs": [],
   "source": [
    "#Memoization\n",
    "class Solution(object):\n",
    "    def dp(self,p,cache,n,k):\n",
    "        if p <= 1:\n",
    "            return k**(p+1)\n",
    "        if p in cache:\n",
    "            return cache[p]\n",
    "        cache[p]= (k-1) * self.dp(p-1,cache,n,k) + (k-1) * self.dp(p-2,cache,n,k)\n",
    "        return cache[p]\n",
    "    def numWays(self, n, k):\n",
    "        cache = dict()\n",
    "        return self.dp(n-1,cache,n,k)"
   ]
  },
  {
   "cell_type": "code",
   "execution_count": 4,
   "id": "3eff842a",
   "metadata": {},
   "outputs": [],
   "source": [
    "#Tabulation\n",
    "class Solution(object):\n",
    "    def numWays(self, n, k):\n",
    "        if n <=1:\n",
    "            return k**n\n",
    "        dp = [0 for i in range(n)]\n",
    "        dp[0] = k\n",
    "        dp[1] = k**2\n",
    "        for p in range(2,n):\n",
    "            dp[p] = dp[p-1] * (k-1) + dp[p-2] * (k-1)\n",
    "        return dp[n-1]"
   ]
  },
  {
   "cell_type": "code",
   "execution_count": 5,
   "id": "7a1a21f9",
   "metadata": {},
   "outputs": [],
   "source": [
    "#Tabulation State Reduction\n",
    "class Solution(object):\n",
    "    def numWays(self, n, k):\n",
    "        if n <= 1:\n",
    "            return k**n\n",
    "        one_back_post = k**2\n",
    "        two_back_post = k\n",
    "        for i in range(2,n):\n",
    "            temp = one_back_post\n",
    "            one_back_post = one_back_post*(k-1) + two_back_post*(k-1)\n",
    "            two_back_post = temp \n",
    "        return one_back_post"
   ]
  },
  {
   "cell_type": "code",
   "execution_count": null,
   "id": "e9ba43c8",
   "metadata": {},
   "outputs": [],
   "source": []
  }
 ],
 "metadata": {
  "kernelspec": {
   "display_name": "Python 3 (ipykernel)",
   "language": "python",
   "name": "python3"
  },
  "language_info": {
   "codemirror_mode": {
    "name": "ipython",
    "version": 3
   },
   "file_extension": ".py",
   "mimetype": "text/x-python",
   "name": "python",
   "nbconvert_exporter": "python",
   "pygments_lexer": "ipython3",
   "version": "3.9.12"
  }
 },
 "nbformat": 4,
 "nbformat_minor": 5
}
