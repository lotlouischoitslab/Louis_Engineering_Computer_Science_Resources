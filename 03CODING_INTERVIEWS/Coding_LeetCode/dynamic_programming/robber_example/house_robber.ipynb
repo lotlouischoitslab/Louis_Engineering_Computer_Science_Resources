{
 "cells": [
  {
   "cell_type": "markdown",
   "id": "f65b959c",
   "metadata": {},
   "source": [
    "### https://leetcode.com/problems/house-robber/"
   ]
  },
  {
   "cell_type": "markdown",
   "id": "a74ce5d3",
   "metadata": {},
   "source": [
    "## Refer to this video because I had solution to the Top Down Approach\n",
    "### https://www.youtube.com/watch?v=73r3KWiEvyk"
   ]
  },
  {
   "cell_type": "code",
   "execution_count": null,
   "id": "185a2d76",
   "metadata": {},
   "outputs": [],
   "source": [
    "# ###Try Different Solution\n",
    "# #Top Down Solution\n",
    "# class Solution:\n",
    "#     def rob(self, nums: List[int]) -> int:\n",
    "#         def dp(index):\n",
    "            \n",
    "#             if index == 0:\n",
    "#                 return nums[0]\n",
    "            \n",
    "#             if index == 1:\n",
    "#                 return max(nums[0],nums[1])\n",
    "            \n",
    "#             if index not in memo:\n",
    "#                 memo[index] = max(dp(index - 1), dp(index - 2) + nums[index])\n",
    "                \n",
    "#             return memo[index]\n",
    "                \n",
    "#         memo = {}\n",
    "#         return dp(len(memo)-1)"
   ]
  },
  {
   "cell_type": "code",
   "execution_count": null,
   "id": "b812e02c",
   "metadata": {},
   "outputs": [],
   "source": [
    "#Bottom-Up Solution\n",
    "#Tabulation Approach with Array\n",
    "class Solution:\n",
    "    def rob(self, nums: List[int]) -> int:\n",
    "        if len(nums) == 1:\n",
    "            return nums[0]\n",
    "        dp = [0] * len(nums)\n",
    "        dp[0] = nums[0]\n",
    "        dp[1] = max(nums[0],nums[1])\n",
    "        \n",
    "        for i in range(2,len(nums)):\n",
    "            dp[i] = max(dp[i-1], dp[i-2] + nums[i])\n",
    "            \n",
    "        return dp[len(nums) - 1]"
   ]
  },
  {
   "cell_type": "code",
   "execution_count": null,
   "id": "f6fd00d6",
   "metadata": {},
   "outputs": [],
   "source": [
    "#Bottom-Up Solution\n",
    "#Tabulation Approach without Array\n",
    "class Solution:\n",
    "    def rob(self, nums: List[int]) -> int:\n",
    "        if len(nums) == 1:\n",
    "            return nums[0]\n",
    "        \n",
    "        prevprevmax = nums[0]\n",
    "        prevmax = max(nums[0],nums[1])\n",
    "        \n",
    "        for i in range(2,len(nums)):\n",
    "            temp = prevmax\n",
    "            prevmax = max(prevmax,prevprevmax + nums[i])\n",
    "            prevprevmax = temp\n",
    "            \n",
    "        return prevmax"
   ]
  },
  {
   "cell_type": "code",
   "execution_count": null,
   "id": "7f6b7a88",
   "metadata": {},
   "outputs": [],
   "source": [
    "#Dynamic Programming Approach:\n",
    "#State variable: i representing the index of the house 0 to len(nums) - 1\n",
    "#1. A function/data structure to compute/hold the answer to every state\n",
    "#For top down approach (memoization) let's define function dp that will calculate the \n",
    "#maximum amout of money we can rob up to house index i. \n",
    "#For bottom-up approach (tabulation), let's define an array dp that will store the maximum amount of money that we can rob up to house index i at index i of the array. \n",
    "#2. A recurrence relation to transition between states\n",
    "# At index i, we have the choice to rob either the current house at index i or the previous house at index i - 1. If we decide to rob the previous house, the maximum amount of money we would make up to index i by robbing would be the maximum amount of money we already made for robbing up to the house at index i - 1. dp(i-1) or dp[i-1]. If we decide to rob the current house (meaning we cannot rob the previous one), the maximum amount of money would make up to index i by robbing would be the maximum amount of money we made from robbing up to two houses ago plus the amount of money we would make for robbing the current house: dp(i-2) + nums[i] or dp[i - 2] + nums[i]. So, what we will do? Rob the house that makes us the maximum money. We want max of dp(i - 1, dp(i - 2) + nums[i]).\n",
    "#3. Base case to stop recursion\n",
    "#If we rob up to index 0, we only rob one house, so to make the most money, we would need to rob the house at index 0, so the maximum amount of money we would make would be nums[0].\n",
    "#If we rob up to index 1, we could rob up to the house at index 1 (second house). However we could only rob one of the two adjacent homes, so we would choose to rob the house at either index 0 or 1 that makes us the most money: max(nums[0],nums[1]).\n",
    "\n",
    "#Runtime Analysis: O(N) where N represents the size of nums (number of homes to rob). We begin our recursion at the largest problem and then break it down to the smallest overlapping subproblem of robbing up to the index 0 house or the index 1 house with caching of results in between. We don't have to recalculate our results since we first do a lookup in our hashtable or in the  case of bottom-up, we must already have the results from previous homes stored in the array, so we simply have to calculate the results for input N through 0. The amount of work we do in each recursive step is O(1) and we have N such invocations so O(N).\n",
    "\n",
    "#Space Complexity: O(N) We use auxillary data structure: either a hash map or array to store our intermediate results for constant lookup speed. In other words, we sacrifice space for a much better runtime. We will need to store the maximum amount of money we can make for robbing up to each of the indicies constituting N homes (meaning our data structures have size N), so O(N). So our overall memory usage is O(N).\n",
    "\n",
    "#Reduce space complexity with Tabulation without array.\n",
    "#We will maintain a variable for the previous house max and its previous house's max. Let's call this\n",
    "#prev_max and prevprev_max, respectively. Notice that in the tabulation approach with an array the only\n",
    "#smallest index we ever needed access to was i - 2. We also had to access index i - 1 and index . All\n",
    "#incides before i - 3 were off the table and thus we can \"lose\" those values. So, let's get rid of our array, and represent the \n",
    "#array value at index i - 2 with the  prevprev_max and the array value at index i - 1 with prev_max. \n",
    "#Then every iteration, we can change prevprev_max to store the array value for what was index i - 1 and has now turned into i in the very next iteration. Likewise we can change\n",
    "#prev_max to store, from our approach above, the new value for what was index i and now on the very next iteration is index i + 1. In other words, prevprev_max will take on the value of prev_max and prev_max will \n",
    "#take on the result from our recurrence relation at every iteration of our for loop. At the very end, return the value of prev_max. \n",
    "\n",
    "#Space Complexity: O(1) We don't use anymore auxiliary data structure, and only maintain pointers for prevprev_max and prev_max. Our overall memory usage is constant. "
   ]
  }
 ],
 "metadata": {
  "kernelspec": {
   "display_name": "Python 3 (ipykernel)",
   "language": "python",
   "name": "python3"
  },
  "language_info": {
   "codemirror_mode": {
    "name": "ipython",
    "version": 3
   },
   "file_extension": ".py",
   "mimetype": "text/x-python",
   "name": "python",
   "nbconvert_exporter": "python",
   "pygments_lexer": "ipython3",
   "version": "3.9.12"
  }
 },
 "nbformat": 4,
 "nbformat_minor": 5
}
