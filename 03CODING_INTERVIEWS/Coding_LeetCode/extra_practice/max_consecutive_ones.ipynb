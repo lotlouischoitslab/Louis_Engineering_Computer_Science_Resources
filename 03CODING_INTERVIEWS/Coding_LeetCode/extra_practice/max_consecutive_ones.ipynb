{
 "cells": [
  {
   "cell_type": "markdown",
   "id": "12a31f7a",
   "metadata": {},
   "source": [
    "### https://leetcode.com/problems/max-consecutive-ones/"
   ]
  },
  {
   "cell_type": "code",
   "execution_count": 9,
   "id": "d6cb84af",
   "metadata": {},
   "outputs": [],
   "source": [
    "def findMaxConsecutive(nums):\n",
    "    max = 0 #current max\n",
    "    potential_max = 0 #we have encountered longer sequence of ones\n",
    "    for n in nums:\n",
    "        #we want to check if n is equal to 0 and the potential max is greater than max\n",
    "        if n == 0:\n",
    "            if potential_max > max:\n",
    "                max = potential_max #set the current max to the potential max\n",
    "            potential_max = 0 #reset the potential max\n",
    "        else: #otherwise keep incrementing the potential max\n",
    "            potential_max +=1 \n",
    "\n",
    "    if(potential_max > max): #last but not least check if the potential max is greater than current max\n",
    "        max = potential_max #replace your current max with the potential max\n",
    "    return max #return the max"
   ]
  },
  {
   "cell_type": "code",
   "execution_count": 1,
   "id": "20e904c1",
   "metadata": {},
   "outputs": [],
   "source": [
    "def findMaxConsecutive(nums):\n",
    "    count = 0 #current idx\n",
    "    potential_max = 0 #we have encountered longer sequence of ones\n",
    "    for n in nums:\n",
    "        if n == 1: #if n is equal to one\n",
    "            count += 1 #increment the counter variable\n",
    "        else: #otherwise get the max of count or the potential max\n",
    "            potential_max = max(count,potential_max)\n",
    "            count = 0 #reset the counter variable\n",
    "    return max(potential_max,count) #return the max of potential max and counter"
   ]
  },
  {
   "cell_type": "code",
   "execution_count": 1,
   "id": "58f678fc",
   "metadata": {},
   "outputs": [],
   "source": [
    "#Two pointer approach\n",
    "#Algorithm: Maintain a fast pointer and a slow pointer\n",
    "#1. Have the fast pointer go through each index or num\n",
    "#2. The slow pointer will lag behind the fast pointer\n",
    "#3. As long as we have the continuous sequence of ones, the slow pointer will remain at \n",
    "#the start of the sequence. \n",
    "#4. When we encounter a 0, the potential max from our previous \n",
    "#algorithm will be the difference between the fast pointer index and the slow\n",
    "#pointer's index.\n",
    "#Compare it to the current max and set the current max accordingly. Set the slow pointer to the \n",
    "#fast pointer. \n",
    "#5. At the very end, after we have fully traversed the array, we may still encounter the last \n",
    "#element of the array as a 0. In this case repeat step 4\n",
    "#Runtime is O(N) where N is the size of nums. Disadvantage is that both slow pointer and the fast pointer\n",
    "#traverse the array, the fast pointer will increment by one every iteration. Slow pointer will increment\n",
    "#in chunks on some iterations (not all of them like the fast pointers). O(2N) since we have 2 pointers\n",
    "#traversing the array. However we ignore the coefficients in the big O expressions so O(N). \n",
    "#Space Complexity: We slowly maintain the slow pointer and the fast pointer which are the indices and a max\n",
    "#which require constant memory usage. We have not allocated any additional data structures.\n",
    "\n",
    "def findMaxConsecutive(nums):\n",
    "    #slow represents the start of the contiguous sequence of ones\n",
    "    slow = 0\n",
    "    max = 0\n",
    "    for fast in range(len(nums)):\n",
    "        if(nums[fast]==0):\n",
    "            size = fast - slow\n",
    "            if size > max:\n",
    "                max = size\n",
    "            \n",
    "            #We assume the sequence of ones starts after the zero we encountered\n",
    "            slow = fast + 1\n",
    "    size = fast - size\n",
    "    if size > max:\n",
    "        max = size\n",
    "    return max"
   ]
  },
  {
   "cell_type": "code",
   "execution_count": 2,
   "id": "3d27ce3e",
   "metadata": {},
   "outputs": [
    {
     "data": {
      "text/plain": [
       "3"
      ]
     },
     "execution_count": 2,
     "metadata": {},
     "output_type": "execute_result"
    }
   ],
   "source": [
    "#Approch: Reset max at 0\n",
    "#Algorithm:\n",
    "#1. Go through each number in nums\n",
    "#2. Declare a potential max when we see a 1. Increment by 1 as long as you are seeing 1\n",
    "#3. IF we encounter a 0 and the potential max is greater than the current max, replace the current\n",
    "#max with the potential max. Reset the potential max to 0.\n",
    "\n",
    "#Runtime: O(N) where N is the size off the nums since we traverse the array only once. Every time \n",
    "# we simply check if the number is 0 or 1\n",
    "#Space complexity: O(1) we only need to maintain a max and a potential max everytime we are encountering a 1\n",
    "#both of which require constant memory usage\n",
    "\n",
    "nums = [1,1,0,1,1,1]\n",
    "findMaxConsecutive(nums)"
   ]
  },
  {
   "cell_type": "code",
   "execution_count": null,
   "id": "977b3488",
   "metadata": {},
   "outputs": [],
   "source": []
  }
 ],
 "metadata": {
  "kernelspec": {
   "display_name": "Python 3 (ipykernel)",
   "language": "python",
   "name": "python3"
  },
  "language_info": {
   "codemirror_mode": {
    "name": "ipython",
    "version": 3
   },
   "file_extension": ".py",
   "mimetype": "text/x-python",
   "name": "python",
   "nbconvert_exporter": "python",
   "pygments_lexer": "ipython3",
   "version": "3.9.12"
  }
 },
 "nbformat": 4,
 "nbformat_minor": 5
}
