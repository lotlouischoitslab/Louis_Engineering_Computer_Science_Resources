{
 "cells": [
  {
   "cell_type": "markdown",
   "id": "3d807335",
   "metadata": {},
   "source": [
    "### https://leetcode.com/problems/all-paths-from-source-to-target/"
   ]
  },
  {
   "cell_type": "code",
   "execution_count": 1,
   "id": "8a208e35",
   "metadata": {},
   "outputs": [],
   "source": [
    "#DFS Approach\n",
    "class Solution:\n",
    "    def allPathsSourceTarget(self, graph):\n",
    "        all_paths = []\n",
    "        potential_paths = []\n",
    "        source_path = [0]\n",
    "        potential_paths.append(source_path)\n",
    "        while len(potential_paths) != 0:\n",
    "            path = potential_paths[-1] #top\n",
    "            potential_paths.pop(-1)\n",
    "            if path[len(path)-1] == len(graph)-1:\n",
    "                all_paths.append(path)\n",
    "            else:\n",
    "                edge_endpoints = graph[path[len(path)-1]]\n",
    "                for i in range(len(edge_endpoints)):\n",
    "                    copy = path.copy()\n",
    "                    copy.append(edge_endpoints[i])\n",
    "                    potential_paths.append(copy)\n",
    "        return all_paths"
   ]
  },
  {
   "cell_type": "code",
   "execution_count": null,
   "id": "a0b65928",
   "metadata": {},
   "outputs": [],
   "source": [
    "#BFS Approach\n",
    "class Solution:\n",
    "    def allPathsSourceTarget(self, graph: List[List[int]]) -> List[List[int]]:\n",
    "        all_paths = []\n",
    "        potential_paths = [] #queue\n",
    "        source_path = [0] #source node\n",
    "        potential_paths.append(source_path)\n",
    "        \n",
    "        while len(potential_paths) != 0:\n",
    "            path = potential_paths[0]\n",
    "            potential_paths.pop(0)\n",
    "            if path[len(path)-1] == len(graph) - 1:\n",
    "                all_paths.append(path)\n",
    "            else:\n",
    "                adjacent = graph[path[len(path)-1]]\n",
    "                for i in range(len(adjacent)):\n",
    "                    copy = path.copy()\n",
    "                    copy.append(adjacent[i])\n",
    "                    potential_paths.append(copy)\n",
    "        \n",
    "        return all_paths"
   ]
  },
  {
   "cell_type": "markdown",
   "id": "3545e05f",
   "metadata": {},
   "source": [
    "# Algorithm\n",
    "#### Depth First Search Approach:\n",
    "#We need to traverse every path between node 0 (the source vertex) and node n - 1 (the destination vertex), so our immediate intuition for the traversal of all paths between two nodes is DFS. We need to return a 2d matrix of paths where each of the lists in the second dimension represents each path. However, since this return value is required, the 2d matrix is not an auxiliary data structure and won't be taken into consideration for space usage. Our graph is a directed acyclic graph, so we don't have to worry about any cycles, meaning that we don't need a visited set. Instead we can just look to the very last node in the path as the very last node we visited in that corresponding traversal. Technically, there shouldn't be a directed edge from the node we're currently visiting in the traversal to the previous node (since the edges aren't bi-directional). The 2d matrix graph will give us the directed edges incident from the vertex, which is an index into the first dimension of the 2d matrix. The node this directed edge will lead to won't have another directed edge incident from it to the previous node in the traversal as the graph is guaranteed to be a DAG. Also, they are no self nodes, so there no directed edges from a vertex to itself, leading to an infinite loop within the cycle and the need to add the current vertex to the visited set. The only data structure we will maintain is a stack containing potential paths that 1). may already be a valid path from node 0 (source vertex) to node n - 1 (destination vertex) in which case we append it to the result list that we need to return, 2) may be a partial valid path from node 0 to another node that is connected to node n - 1 (destination vertex), or 3) may be an invalid path altogether that we may only be able to uncover once we finish popping all paths from the stack and find no possible paths from the source to destination vertex. This last case may occur if there are at least two connected components in the graph and node 0 is in a separate component that node n - 1. \n",
    "\n",
    "#Assumption: For a fully-connected graph, there should be a path from the source vertex to the destination vertex since the graph is directed, meaning that the edges are not bi-directional and following the edge connection from one node acan only lead to another and not back, and acyclic, meaning that already visited nodes in the traversal are not re-visited. \n",
    "#Proof for if a graph is fully-connected and directed acyclic, then there exists a path from the source to destination vertex.\n",
    "\n",
    "#Algorithm Explanation:\n",
    "#1. The 2d graph matrix is already an adjacency list, so we will use this instead of declaring or initializing anything. However, we need to declare and initialize and empty 2d matrix for storing all possible paths from node 0 to n - 1 which we will return.\n",
    "\n",
    "#2. Declare a stack of a list of ints and initialize it to a list containing solely the source node (or node 0).\n",
    "\n",
    "#3. As long as the stack isn't empty, retain the top path from the stack and pop from it (since a stack maintains LIFO order, the path we pop is the path that we most recently added to it). Retrieve the list from the 2d matrix graph that corresponds to the very last node in the path, which is the very last vertex that we had visited in that corresponding traversal. If however, the very last vertex we had visited in this traversal is the destination vertex, continue on to the next iteration and repeat the process once again. This list represents all the nodes to which there is a directed edge incident to it from the vertex we use to index into it in the first dimension. Append each of these list entries to a copy of the path we had popped from the top of the stack and push it back into the stack. \n",
    "\n",
    "#Note that n = len(graph) so len(graph)-1 is the destination vertex\n",
    "\n",
    "#Runtime Analysis: We must take the following observation: if we have a graph with only nodes (node 0 and node 1 where node 0 is the source vertex and node 1 is the destination vertex), then there is only a single path that connects the source to the destination vertex. IF we add a node, then there are two paths that connect the source to destination vertex, one directed edge incident from the source vertex and directed towards the destination vertex and another path is bridged by the new node added to the graph. If we add another node to the graph, then there are four paths that connect the source to the destination vertex. Therefore, everytime we add a new node to the graph, the number of paths from the source to destination doubles starting from a single path with only two vertices in the graph. Since we only need to consider the subset of vertices that exclude the source node and destination vertex as they both are required to be part of the path  and are common to every path, the number of paths will increase exponentially for every node added by a base of 2. So, the number of paths, at maximum, from the starting node to the ending node for a graph with N nodes the summation from i = 0 to N - 2 of 2^i = 2^(N - 1) - 1 based on the geomtric series summation definition. For each path, we have some extra work for copying the path (N - 2 intermediate nodes between the sources and destination vertex that not all paths will share in common), so it takes O(N) time to build a path (after copying the path with previous vertex in the traversal, appending to the path, and pushing it to the stack). Therefore the overall runtime is O(2^V * V). This is a loose upper bound since we have overlap ongoing paths. \n",
    "\n",
    "#Space Complexity: The space complexity will be proportional to the runtime. We have 2^(N - 1) - 1 paths at max between the source and destination node in a DAG as we determined above in our runtime analysis. We will need to store up to this many paths in our stack. Also, we incur an extra O(V) space for each path since they will have to store V - 2 intermediate nodes at maximum. So, each path can contain up to V nodes including the source and destination node if the path is valid. Therefore our overall memory consumption would be space required for the stack, or O(2^V * V). \n",
    "\n",
    "#Space, Usage, Consumption, Footprint\n",
    "\n",
    "#### Breadth First Search Approach:\n",
    "#N is the number of vertices which is graph size as the vertex is the index into the first dimension so the number of vertices would be the size of the first dimension. N - 1 would be the destination vertex as given to us from the problem statement, so graph size - 1 is the destination vertex. \n",
    "#There are two general use cases for BFS: traverse every node in the graph or find the shortest path between two vertices in a graph with positive, equally-weighted edges. We will employ BFS for this second use case, excpet we won't stop at finding just the shortest path, but all paths between a pair of vertices (source and target vertx). We know that the source vertex is node 0 and the destination vertex is node n - 1. We need to return a 2d list of all paths, but since this is required as a return value, it's not considered an auxiliary data structure abd won't be taken into consideration for the space complexity. Our graph is a directed acyclic graph, meaning that we won't revisit any nodes in a full traversal of it. We don't have any cycles (acyclic), and the node that led to us can't be re-visited since the edges aren't bi-directional, so we don't need to maintain a visited set. Instead, we only need to compare about the very last node in the path, which when it's in the stack is the neighbor of the very last visited node. The 2d matrix graph is an adjacency list where we can provide it a vertex as an index into the first dimension and retireve a list of all nodes with a directed edge incident to it where the vertex used as an index into the first dimension points to each of its adjacent nodes. We are also told in the problem statement that there are no self loops as implied by the fact that the graph is a DAG (Directed Acyclic Graph, so there won't be an infinite loop within the cycle and nor the need for a visited set). The only data structure we'll maintain will be a queue of potential paths containing the following: a valid path from the source node to the destination node where the neighbor of the very last node in the path was the destination vertex, so once we pop from the queue and see that the very last node in the path list is the destination node, we can append this path to the list of all paths that we will need to return. We can also have a valid path from the source node to some node that is connected to the destination vertex (meaning they're likely in the same connected component), so there is a path between the neighbor of the very last visited node (i.e the last entry of the path list) and the destination vertex. Lastly, our queue can contain an invalid path from the source node to some node that isn't connected to the destination vertex (likely becasue they are in separate connected components). This last case will occur when are at least two connected components where the connected component consisting node 0 is different than the connected component containing node n - 1. \n",
    "\n",
    "#Algorithm Explanation\n",
    "#1. We're passed in a 2d matrix graph as input, which is our adjacency list, so we don't have to declare or initialize one ourselves. However, we should declare and initialize an empty 2d matrix data structure for all paths to return from the function allPathsSourceTarget. \n",
    "#2. Create a queue of a list of ints to store all the potential paths. Push to this queue a list containing solely the source node. \n",
    "#3. As long as the queue isn't empty (while loop condition), pop the front path from the queue (i.e the first path added to the queue since the queue maintains FIFO ordering), and retain it in a temporary variable. \n",
    "\n",
    "#4. The very last entry of the path list is the node we visit, so we can use this as an index into the first dimension of our adjacency list graph in order to retrive the list of vertices to which there is a directed edge incident to them originating from the vertex we had used as an index into the first dimension of the 2d matrix graph. Go through each of these adjacenct nodes and append them to a copy of the path list we had popped from the queue. Push this new  copy with the adjacent node back into the queue. \n",
    "\n",
    "\n",
    "#Runtime Analysis: O(2^V * V)\n",
    "#Let's make the following observation for a DAG: if we have a graph with only two nodes (where the source node is 0 and the destination node is n - 1 = 1), there is only a single path that connects the source to the destination vertex. If we increase the number of nodes in the graph by 1, then there are two paths that connect the source to the destination vertex. First there is a direct edge between the source and the destination vertex. Second, the new node we add bridges the connection between the source and the destination vertex in such a way that the path starts from the source node goes through the new node we're adding to the graph and culminates at the destination vertex. If we were to increase the number of nodes in the graph by one from here such that we have 4 total vertices in the graph, then there are four paths that connect the source to destination vertex. So, as the number of vertices increase by 1, the number of paths beween the source and destination vertex double. Also consider that the source and destination vertex are common to every path between the source and destination vertex (as they must be the first and last nodes of such paths). Therefore, the only vertices we need to consider are the subset of vertices that exclude the source and the destination vertex. So the number of paths, at maximum, starting from the source node and going to the destination vertex will be the summation from i = 0 to i = N - 2 of 2^i . This branching factor of 2^i comes from the fact that the number of paths between the source and destination vertex double as the number of vertices in the graph increase by 1. Also, notice that when N = 2, the summation is equal to 1 as we expected above. The summation from i = 0 to N - 2 is equal to 2^(N - 1) - 1. We take the number of paths maximum between the starting and destination vertex and multiply it by the cost to build a path. To build a path, we have to copy the path we pop from the queue, append the neighbor node of the very last vertex we had just visited, and then push this path to the queue. This overall requires O(V) time since the cost to copy the path dominates the runtime for this extra work involved for processing each path. Therefore the overall runtime is O(2^V * V) as an upper bound. \n",
    "\n",
    "#Space Complexity: O(2^V * V)\n",
    "#The space complexity is proportional to the runtime, so it is also O(2^V * V) Note that the 2d matrix list of all paths that we must return from the function is required as the return value. Therefore, the only auxiliary data structure we must consider for memory consumption is our queue. We know the number of paths at maximum between our source and destination vertex is 2^(V - 1) - 1 from above. This is the max number of elements our queue must store. We multiply this by the space required to store a path each path in the queue, which is O(V). Therefore, the overall memory usage of this queue is the number of paths at maximum that our queue will store multiplied by the space required for each path, which yields O(2^V * V). "
   ]
  },
  {
   "cell_type": "code",
   "execution_count": null,
   "id": "8564efd6",
   "metadata": {},
   "outputs": [],
   "source": []
  }
 ],
 "metadata": {
  "kernelspec": {
   "display_name": "Python 3 (ipykernel)",
   "language": "python",
   "name": "python3"
  },
  "language_info": {
   "codemirror_mode": {
    "name": "ipython",
    "version": 3
   },
   "file_extension": ".py",
   "mimetype": "text/x-python",
   "name": "python",
   "nbconvert_exporter": "python",
   "pygments_lexer": "ipython3",
   "version": "3.9.12"
  }
 },
 "nbformat": 4,
 "nbformat_minor": 5
}
