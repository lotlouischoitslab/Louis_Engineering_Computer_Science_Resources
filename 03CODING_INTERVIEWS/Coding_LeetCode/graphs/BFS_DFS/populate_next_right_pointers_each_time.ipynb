{
 "cells": [
  {
   "cell_type": "markdown",
   "id": "72cae4be",
   "metadata": {},
   "source": [
    "#### https://leetcode.com/problems/populating-next-right-pointers-in-each-node/"
   ]
  },
  {
   "cell_type": "code",
   "execution_count": null,
   "id": "c0f1f3b4",
   "metadata": {},
   "outputs": [],
   "source": [
    "# Definition for a Node.\n",
    "class Node:\n",
    "    def __init__(self, val: int = 0, left: 'Node' = None, right: 'Node' = None, next: 'Node' = None):\n",
    "        self.val = val\n",
    "        self.left = left\n",
    "        self.right = right\n",
    "        self.next = next\n",
    "\n",
    "class Solution:\n",
    "    def connect(self, root: 'Optional[Node]') -> 'Optional[Node]':\n",
    "        if root == None:\n",
    "            return root\n",
    "        \n",
    "        to_traverse = [] #queue\n",
    "        to_traverse.append(root)\n",
    "        level = 0\n",
    "        \n",
    "        while len(to_traverse) != 0:\n",
    "            curr = to_traverse[0]\n",
    "            to_traverse.pop(0)\n",
    "            for i in range((2**level) - 1):\n",
    "                curr.next = to_traverse[0]\n",
    "                to_traverse.pop(0)\n",
    "                if (curr.left != None and curr.right != None):\n",
    "                    to_traverse.append(curr.left)\n",
    "                    to_traverse.append(curr.right)\n",
    "                curr = curr.next\n",
    "                \n",
    "            curr.next = None\n",
    "            if (curr.left != None and curr.right != None):\n",
    "                to_traverse.append(curr.left)\n",
    "                to_traverse.append(curr.right)\n",
    "            level += 1\n",
    "            \n",
    "        return root"
   ]
  },
  {
   "cell_type": "markdown",
   "id": "1b09025d",
   "metadata": {},
   "source": [
    "# Algorithm:\n",
    "#### Breadth-First-Search Approach:\n",
    "#We will take advantage of the first general use case for Breadth First Search, that is, to traverse every node in the graph, or in our case, this perfect binary tree. Our goal is to populate all of the right pointers for each of the nodes in our perfect binary tree. Each of these next pointers will need to point to the next right node, so this is our key hint to use level-order traversal. As in any BFS approach, we will maintain a queue as an auxiliary data structure. Notice that we don't need a visited set since a binary tree is a directed acyclic graph. This means that a binary tree doesn't have any cycles nor self loops and all edges are bi-directional, so we will not re-visit any nodes that have already been visited (notice that visited is our terminalogy for any node that has been popped from the queue). We know that as we traverse all the nodes in a particular level of our binary tree, we will push to the queue their left subtree and right subtree nodes. How do we know when to stop traversing a particular level? This is based on number of nodes in a particular level of the perfect binary tree which is exponential based on the level. Notice that level 0 in a perfect binary tree has one node. Level 1 in a perfect binary tree has 2 nodes. Level 2 in a perfect binary tree has 4 nodes. So as the levels in the perfect binary tree are increasing the number of nodes in that specific level are doubling. So, the number of nodes based on the level in a perfect binary tree is 2^level. This is important because we need to finish processing a level fully before moving onto the next level (so all 2^level of its nodes). If we were to continue poppring from the queue so lons as it won't be empty, we won't stop on any specific level. instead, we'll traverse the entire tree. We need to know when the number of nodes in a level of the perfect binary tree so that when we reach the very last node in that level, we set its next pointer to None instead of having point to the first node in the very next level. So, what we can do instead is pop from the queue 2^level times, each time adding its left subtree and right subtree nodes back into the queue and maintain a current node pointer. Also, let's note this sanity check, if the entire tree is null, there are no next pointers to populate in the first place so just return None. \n",
    "\n",
    "#Algorithm Explanation:\n",
    "#1. Create a queue of Node objects, and we push to this queue the root node that's passed in as input to this function connect. This is the very first node in level 0 of the tree. Also, maintain a variable level, which will be incremented by 1 at the end of each outer while loop iteration.\n",
    "#2. As long as the queue isn't empty (this will only be necessary once we finish processing the very last level since the left subtree and right subtree of a lead node is None, so we won't push anything back into the queue, leaving it as empty), first assign the current node to the very first node in the level (we should retrieve this node by popping from the queue). \n",
    "#3. Then, in a for loop with 2^level iterations, assign the next pointer of the  current node to be the very next Node pointer popped from the queue. If the queue is every empty, first check that it is empty before popping from it and the nassign the next pointer of the current node to be None. Push back into the queue the left subtree node and right subtree node of the current node, so current node left first and then current node right next. However, if the left subtree node is None, don't push it to the queue. If the right subtree node is also None, don't push it to the queue. This should both happen concurrently since our binary tree is perfect, meaning that eveyr node has both its left and irhgt child and every leaf node lies along the same level in the perfect binary tree. Before moving onto the next inner for loop iteration, update the current node to be equal to its next pointer. After the inner for loop, set the next pointer of the curr node to None. This represent the very last node in the level. Push the left subtree node and right subtree node of the very last node of the level back into the queue.\n",
    "\n",
    "#Runtime Analysis: We have both an outer while loop and inner for loop. The outer while loop will run for H iterations where H is the height of the perfect binary tree. The inner for loop will run for a total of N iterations across all H outer while loop iterations. So, the sum of the total number of inner for loop iterations will be N where N is the number of nodes in the perfect binary tree. Also, note that our Breadth-First Search algorithm is a full traversal of the perfect binary tree, meaning that it will check every node in the tree and then update its next pointer for that corresponding node. Therefore, the overall runtime of this algorithm will be O(N). \n",
    "\n",
    "#Space Complexity: The only auxillary data structure we'll need to consider for memory consumprtion is the queue. We could simply say that an upper limit on the number of nodes the queue will need to hold is N since it can't store more the number of nodes that are available. However, we can get more precise than this. We know that for every node in the previous level, it will have two child nodes in the very next level (as long as the previous level isn't very last one in the tree), which are the left subtree node and the right subtree node. So, if we have 4 nodes in the second last level of the perfect binry tree and 8 nodes in the very last level of the perfect binary tree, and we popped 0 nodes from the queue up until that point, we will have 4 nodes in the queue. Once we pop a node from the queue, we lose that node but gain both of its children, so we'll have 5 nodes in the queue. Popping another node from the queue, we will have 6 nodes after pushing its children to the queue. Popping the third node of the previous level and pushing its children, we'll have 7 nodes left in the queue. Finally popping the very last node in the previous level and pushing its children, we'll have 8 nodes left in the queue, which is the number of nodes in the current level. So, the max number of nodes the queue will need to hold is the number of nodes in any particular level of the perfect binary tree, which is 2^level. On the very last level, this would be 2^H. So, the overall memory usage for this queue is O(2^H). Note that the last level of a perfect binary tree contains N / 2 nodes, so we could also say that an upper limit on the memory usage is O(N). \n",
    "\n",
    "\n",
    "#Height of Binary Tree: number of edges present in the longest path\n",
    "#Depth of a node: Number of edges present in path from root node to that node\n",
    "\n"
   ]
  },
  {
   "cell_type": "code",
   "execution_count": null,
   "id": "5689dfad",
   "metadata": {},
   "outputs": [],
   "source": []
  }
 ],
 "metadata": {
  "kernelspec": {
   "display_name": "Python 3 (ipykernel)",
   "language": "python",
   "name": "python3"
  },
  "language_info": {
   "codemirror_mode": {
    "name": "ipython",
    "version": 3
   },
   "file_extension": ".py",
   "mimetype": "text/x-python",
   "name": "python",
   "nbconvert_exporter": "python",
   "pygments_lexer": "ipython3",
   "version": "3.9.12"
  }
 },
 "nbformat": 4,
 "nbformat_minor": 5
}
