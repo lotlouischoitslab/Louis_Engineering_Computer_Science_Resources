{
 "cells": [
  {
   "cell_type": "markdown",
   "id": "68cb0f59",
   "metadata": {},
   "source": [
    "# https://leetcode.com/problems/number-of-provinces/"
   ]
  },
  {
   "cell_type": "code",
   "execution_count": null,
   "id": "09c727d4",
   "metadata": {},
   "outputs": [],
   "source": [
    "class Solution:\n",
    "    def find(self, vertex, root):\n",
    "        if vertex == root[vertex]:\n",
    "            return vertex\n",
    "        root[vertex] = self.find(root[vertex],root)\n",
    "        return root[vertex]\n",
    "    \n",
    "    def should_union(self,i,j,root,rank):\n",
    "        iroot = self.find(i,root)\n",
    "        jroot = self.find(j,root)\n",
    "        if (iroot != jroot):\n",
    "            if (rank[iroot] > rank[jroot]):\n",
    "                root[jroot] = iroot\n",
    "            elif rank[iroot] < rank[jroot]:\n",
    "                root[iroot] = jroot\n",
    "            else:\n",
    "                root[jroot] = iroot\n",
    "                rank[iroot] += 1  \n",
    "            return 1\n",
    "        return 0\n",
    "            \n",
    "        \n",
    "    def findCircleNum(self, isConnected: List[List[int]]) -> int:\n",
    "        root = [0 for x in range(len(isConnected))]\n",
    "        rank = [1 for x in range(len(isConnected))]\n",
    "        for i in range(len(isConnected)):\n",
    "            root[i] = i\n",
    "            \n",
    "        provinces = len(isConnected)\n",
    "        \n",
    "        for i in range(len(isConnected)):\n",
    "            for j in range(i+1,len(isConnected)):\n",
    "                if(isConnected[i][j]) == 1:\n",
    "                    provinces -= self.should_union(i,j,root,rank)\n",
    "            \n",
    "        return provinces \n",
    "    \n",
    "\n",
    "# Disjoint Set Approach:\n",
    "\n",
    "# Initialize root and rank array inside findCircleNum. The root array will maintain the root nodes for each of the vertices (referenced by index). The rank array will maintain the heights of the trees representative of the sets rooted at the root node of the current vertex. Since initially, all of the n city nodes are in their own distinct sets and have no connections with one another, they will be the root nodes of their own sets, so we populate the root array with entries corresponding to their own indicies. For the rank array, the trees that represent each of the disjoint sets will only contain a single node, so the heights of these trees will be 1 and each of the city nodes will be of rank 1. Therefore, each entry in the rank array will be initialized to 1. \n",
    "\n",
    "#find function (helper): We will use a path compression along with our union by rank approach. The path compression approach only concerns the find function. Our find function will be recursive, which requires a base case and a recurrence relation. We will hit our base case when we discover that the parent node of the current vertex is the vertex itself, meaning that root[vertex] == vertex. This is the definition of the root node, so we'll return this root vertex. Otherwise, we will need to recurse on the parent of the  current vertex. We know that our find function will ultimately return the root node of all traversed nodes, so we can set the root node of all these traverse nodes that we pass as an argument to our recursive function to the base case return value, while will comprise our recurrence relation. \n",
    "\n",
    "# union function (helper): Here, we will use our union by rank approach. First call find on the vertex i and then on vertex j to retrieve each of their respective root nodes. If both of their root nodes are already equal, we are done. The goal was to update one of their root nodes depending on rank so that they are both the same, but if they are already equal, there is nothing left to update. Otherwise, if the rank of the root node i is greater than the rank of the root node for vertex j, meaning that the tree represents the set rooted at the root of i has a heaight that's greater than the tree that represents set rooted at the root of j, then update the root of the vertex y's root to now be the root of vertex x, meaning that the height of the tree representing the merged set is minimized. Do the opposite for when the rank of the root node for i is less than the rank of the root node for vertex j. If both ranks are equal, it doesn't matter which root node we update so lonf as we set increment the rank of the root node of the new merged set. So, if we were to update the root of vertex j's root to be vertex to be vertex i's root. Then we should increment the rank of vertex i's root since the tree that represents the set rooted at vertex i's root increments in height by 1.\n",
    "\n",
    "# findCircleNum: We'll need a nested for loop to iterate through the upper right triangle of the matrix of isConnected entries. In the outer loop, we'll iterate through all the rows of the 2d vector. In the inner loop, we'll start iterating from one past the loop index of the outer loop since we know that when city i and city j are the same, they must be connected, but that is already encompassed by the fact that each of these city nodes belonged to their own disjoint sets initially. Inside the body of the nested loop, we'll call our union function. After the nested for loop, we'll convert our array root into a set and return the size of the set so that we can return the number of distinct roots, when represents the number of distinct sets and thus the number of provinces.\n",
    "\n",
    "#Runtime Analysis: The runtime of our find function is O(alpha(N)) on average where alpha is the Inverse Ackermann function. In principle, we assume it's constant, but in reality, it's an O(1) operation in the average case. The runtime of the find function dominates the runtime of our union function since we make two find calls for the root nodes of the two vertices whose sets we want to merge. The other operations involve equaity checks and array accessing, which are constant time operations, so the runtime of the union function is O(alpha(N)) on average. We have two nested for loops, which fully traverse the rows of the matrix isConnected and traverse some of the columns of the matrix with the total number of columns of the 2d vector isConnected as an upperbound, so the upper bound in the runtime of the nested for loops and union function calls is O(N^2 * alpha(N)). After the for loop. we have a choice to iterate through the array root which requires O(N) time to traverse the array root since we will have to check to see if the parent node of each vertex is equal to the vertex itself meaning that the vertex is a root node, but still the nested for loop runtime and the extra work involved for the union function calls dominate the overall runtime. Another choice we have is to begin with n provinces (number of city nodes) and decrement the number of provinces everytime we try to union city nodes that do not already belong to the same set (i.e their root nodes are different). This can be done in constant time (decrementing a pointer) and only needs the return value of the shouldUnion function, so there is no extra work to be done with this optimization in the nested for loops.\n",
    "\n",
    "#Space Complexity: O(2N) to store an array of N elements for each of root and rank. We also have recursion stack memory, which is technically proportional to the runtime of the find function. O(alpha(N)). We also need an auxiallary data structure (a stackO to store unique root nodes, which in the worst case requires O(N) space if all the root nodes are distinct. O(N) dominates the space complexity, and so the overall memory usage is O(N). \n"
   ]
  }
 ],
 "metadata": {
  "kernelspec": {
   "display_name": "Python 3 (ipykernel)",
   "language": "python",
   "name": "python3"
  },
  "language_info": {
   "codemirror_mode": {
    "name": "ipython",
    "version": 3
   },
   "file_extension": ".py",
   "mimetype": "text/x-python",
   "name": "python",
   "nbconvert_exporter": "python",
   "pygments_lexer": "ipython3",
   "version": "3.9.12"
  }
 },
 "nbformat": 4,
 "nbformat_minor": 5
}
