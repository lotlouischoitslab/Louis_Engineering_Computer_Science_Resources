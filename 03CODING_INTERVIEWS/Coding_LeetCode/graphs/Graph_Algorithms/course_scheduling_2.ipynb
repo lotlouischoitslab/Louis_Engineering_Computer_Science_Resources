{
 "cells": [
  {
   "cell_type": "markdown",
   "id": "f836da35",
   "metadata": {},
   "source": [
    "## https://leetcode.com/problems/course-schedule-ii/"
   ]
  },
  {
   "cell_type": "markdown",
   "id": "c8d91472",
   "metadata": {},
   "source": [
    "# Algorithm:\n",
    "#### Kahn's Algorithm for Topological Sorting:\n",
    "\n",
    "The purpose of Kahn's Algorithm for Topological Sorting is to arange vertices in the graph in order while preserving the prerequisite relationships between them. The goal is to create a course planner based on predecessor relationships in the graph or return an empty array upon encountering cycles in the graph. This is not the only reason we should return an empty array. In general, we should return an empty array if we cannot create a course planner involving all courses/vertices in the grpah, so another possibility may simply be the graph isn't fully-connected (there exists at least one pair of vertices in the graph for which there isn't a path between them).\n",
    "\n",
    "#### Algorithm Explanation:\n",
    "\n",
    "\n",
    "1. Declare and initialize an adjacency list based on the prerequisite connection found in the input 2d matrix. The adjacency list should have a size of numCourses in the first dimension. Go through each of the list entries in the 2d matrix of prerequisites, and for each, push to the list the vertex to which there is a directed edge incident to it from the prerequisite course used as index into the first dimension of the adjacency list. Next, create a queue that will enforce the order of the prerequisite node we'll be visiting next. With an adjacency list, we'll iterate through all of the courses that have the course popped from the queue as a prerequisite. So, we will consider the vertices to which there is an incoming edge incident to it from the prerequisite course popped from the queue. Once we consider all of the adjacent nodes of the prerequisite course, it will be considered visited. Finally, create a list for in-degrees of each of the vertices, which will store the number of directed edges incident to a particular vertex.\n",
    "\n",
    "2. Construct a output list, which is the order in the graph that preserves the prerequisite relationships among the nodes. Notice that this list is required of the return type. Therefore, it won't be considered toward the memory usage of this algorithm.\n",
    "\n",
    "3. Go through the list of in-degrees, and for the vertex with an in-degree of 0 (the source vertex), push it to the queue. \n",
    "\n",
    "4. As long as the queue isn't empty, pop from it and return the prerequisite course that was popped. Retrieve the list of adjacent nodes for the prerequisite course. So, these the courses for which the prerequisite coure that we popped from the queue has a directed edge incident from it to each of these vertices in the list. \n",
    "\n",
    "5. For each of the list entries, decrement their in degrees by 1 by using the vertex as an index into the 1d list of in-degrees and then decrementing that element. \n",
    "\n",
    "6. After decrementing, if any of the in-degrees become 0, push that respective vertex into the queue and repeat steps 4 and 5.\n",
    "\n",
    "7. Only return the ouput list if it's size is equal to numCourses. Otherwise, return an empty list.\n",
    "\n",
    "Let V represent the number of vertices in a graph, and E represent the number of edges in the graph. V = numCourses and E prerequisite size\n",
    "\n",
    "Runtime Analysis: O(E) to go through each of the prerequisites and add the corresponding adefe connections to the adjacency list. Each of the list entries of the 2d matrix of prerequisites represent a directed edge in the graph. Next, we visit each prerequisite course with an in-degree of 0 by popping it from the queue and then decrement the in-degrees of each of its dependent courses (vertices to which there is a directed edge incident from the prerequisite course to the dependent course). In the worst-case scenario, we will have to traverse every edge connection to decrement the dependent vertex;s indegree for each respective course, and all prerequisite courses will be visited. So, the overall runtime for this algorithm is O(E + V + E), which can be simplified down to O(V + 2E). We ignore coefficients in our Big-O expressions, so this is asymptotically equivalent to O(V+E).\n",
    "\n",
    "Space Complexity: The queue will store a max of V vertices since each course will be considered will reach an in-degree of 0 only once before being popped from the queue and consider visited. So, the queue's memory consumption is O(V). The adjacency list will store all of the directed edge connections where the prerequisite node is an index into the first dimension of the adjacency list and the dependent course is added to the list representing the incoming edge connection in the graph. Since we loop through the 2s matrix of prerequisites in order to establish the edge connections, the sum of the sizes of the list in the adjacency list will total E, so the space required for the adjacency list is O(E). The list of in-degrees will store the in-degrees for each of the vertices, so its memory footprint is limited to O(V). Therefore, the overall memory is O(V + E)\n",
    "\n"
   ]
  },
  {
   "cell_type": "code",
   "execution_count": null,
   "id": "367bc79b",
   "metadata": {},
   "outputs": [],
   "source": [
    "class Solution:\n",
    "    def findOrder(self, numCourses: int, prerequisites: List[List[int]]) -> List[int]:\n",
    "        course_order = []\n",
    "        to_visit=[] #queue\n",
    "        in_degrees = [0 for i in range(numCourses)]\n",
    "        adjacency_list = [[]for i in range(numCourses)]\n",
    "        for pre in prerequisites:\n",
    "            adjacency_list[pre[1]].append(pre[0])\n",
    "            in_degrees[pre[0]] +=1\n",
    "        \n",
    "        for i in range(len(in_degrees)):\n",
    "            if in_degrees[i] == 0:\n",
    "                to_visit.append(i)\n",
    "                \n",
    "        \n",
    "        while(len(to_visit)!=0):\n",
    "            visited = to_visit[0]\n",
    "            course_order.append(visited)\n",
    "            to_visit.pop(0)\n",
    "            adjacent_nodes = adjacency_list[visited]\n",
    "            for i in range(len(adjacent_nodes)):\n",
    "                in_degrees[adjacent_nodes[i]] -=1\n",
    "                if in_degrees[adjacent_nodes[i]] == 0:\n",
    "                    to_visit.append(adjacent_nodes[i])\n",
    "                    \n",
    "        if len(course_order) == numCourses:\n",
    "            return course_order\n",
    "        \n",
    "        return []"
   ]
  }
 ],
 "metadata": {
  "kernelspec": {
   "display_name": "Python 3 (ipykernel)",
   "language": "python",
   "name": "python3"
  },
  "language_info": {
   "codemirror_mode": {
    "name": "ipython",
    "version": 3
   },
   "file_extension": ".py",
   "mimetype": "text/x-python",
   "name": "python",
   "nbconvert_exporter": "python",
   "pygments_lexer": "ipython3",
   "version": "3.9.12"
  }
 },
 "nbformat": 4,
 "nbformat_minor": 5
}
