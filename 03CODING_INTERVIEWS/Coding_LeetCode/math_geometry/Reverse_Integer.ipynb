{
 "cells": [
  {
   "cell_type": "markdown",
   "id": "8d2e6bca",
   "metadata": {},
   "source": [
    "### https://leetcode.com/problems/reverse-integer"
   ]
  },
  {
   "cell_type": "code",
   "execution_count": 26,
   "id": "5126111f",
   "metadata": {},
   "outputs": [],
   "source": [
    "class Solution:\n",
    "    def reverse(self, x: int) -> int:\n",
    "        if abs(x / 10) < 1:\n",
    "            return x\n",
    "        if x >= 0:\n",
    "            return self.helper(x)\n",
    "        \n",
    "        return -self.helper(abs(x))\n",
    "        \n",
    "    def helper(self,nums):\n",
    "        temp1 = nums % 10\n",
    "        temp2 = nums // 10\n",
    "        res = 0\n",
    "        \n",
    "        while temp2 > 0:\n",
    "            res = temp1*10 + temp2%10\n",
    "            temp2 = temp2 // 10\n",
    "            temp1 = res\n",
    "            \n",
    "        if res > (2**31 - 1) or res < -2**31:\n",
    "            return 0\n",
    "        return res"
   ]
  },
  {
   "cell_type": "code",
   "execution_count": null,
   "id": "f8951e57",
   "metadata": {},
   "outputs": [],
   "source": []
  }
 ],
 "metadata": {
  "kernelspec": {
   "display_name": "Python 3 (ipykernel)",
   "language": "python",
   "name": "python3"
  },
  "language_info": {
   "codemirror_mode": {
    "name": "ipython",
    "version": 3
   },
   "file_extension": ".py",
   "mimetype": "text/x-python",
   "name": "python",
   "nbconvert_exporter": "python",
   "pygments_lexer": "ipython3",
   "version": "3.9.12"
  }
 },
 "nbformat": 4,
 "nbformat_minor": 5
}
