{
 "cells": [
  {
   "cell_type": "code",
   "execution_count": 1,
   "id": "cd1db936",
   "metadata": {},
   "outputs": [],
   "source": [
    "def reverseString(s):\n",
    "    return s[::-1]"
   ]
  },
  {
   "cell_type": "code",
   "execution_count": 2,
   "id": "5fa6b49f",
   "metadata": {},
   "outputs": [
    {
     "data": {
      "text/plain": [
       "['s', 'i', 'u', 'o', 'L']"
      ]
     },
     "execution_count": 2,
     "metadata": {},
     "output_type": "execute_result"
    }
   ],
   "source": [
    "a = ['L','o','u','i','s']\n",
    "reverseString(a)"
   ]
  },
  {
   "cell_type": "code",
   "execution_count": 5,
   "id": "c5f44423",
   "metadata": {},
   "outputs": [
    {
     "data": {
      "text/plain": [
       "['s', 'i', 'u', 'o', 'L']"
      ]
     },
     "execution_count": 5,
     "metadata": {},
     "output_type": "execute_result"
    }
   ],
   "source": [
    "a[:] = a[::-1]\n",
    "a"
   ]
  },
  {
   "cell_type": "markdown",
   "id": "46cde75a",
   "metadata": {},
   "source": [
    "### https://leetcode.com/problems/reverse-string/submissions/"
   ]
  },
  {
   "cell_type": "code",
   "execution_count": null,
   "id": "983af590",
   "metadata": {},
   "outputs": [],
   "source": []
  }
 ],
 "metadata": {
  "kernelspec": {
   "display_name": "Python 3 (ipykernel)",
   "language": "python",
   "name": "python3"
  },
  "language_info": {
   "codemirror_mode": {
    "name": "ipython",
    "version": 3
   },
   "file_extension": ".py",
   "mimetype": "text/x-python",
   "name": "python",
   "nbconvert_exporter": "python",
   "pygments_lexer": "ipython3",
   "version": "3.9.12"
  }
 },
 "nbformat": 4,
 "nbformat_minor": 5
}
