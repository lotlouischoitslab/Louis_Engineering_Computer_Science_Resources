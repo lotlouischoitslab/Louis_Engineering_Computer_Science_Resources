{
 "cells": [
  {
   "cell_type": "markdown",
   "id": "1ac43f18",
   "metadata": {},
   "source": [
    "### https://leetcode.com/problems/remove-duplicates-from-sorted-list"
   ]
  },
  {
   "cell_type": "code",
   "execution_count": null,
   "id": "f5377a71",
   "metadata": {},
   "outputs": [],
   "source": [
    "# Definition for singly-linked list.\n",
    "# class ListNode:\n",
    "#     def __init__(self, val=0, next=None):\n",
    "#         self.val = val\n",
    "#         self.next = next\n",
    "class Solution:\n",
    "    def deleteDuplicates(self, head: Optional[ListNode]) -> Optional[ListNode]:\n",
    "        current = head\n",
    "        to_ret = []\n",
    "        \n",
    "        while current:\n",
    "            to_ret.append(current.val)\n",
    "            current = current.next\n",
    "        \n",
    "        d = {}\n",
    "        for i in to_ret:\n",
    "            if i not in d:\n",
    "                d[int(i)] = 1\n",
    "            else:\n",
    "                d[int(i)] +=1\n",
    "        \n",
    "        renewed = []\n",
    "        print(d)\n",
    "        \n",
    "        for key in d.keys():\n",
    "            renewed.append(key)\n",
    "        if len(renewed) < 1:\n",
    "            return None\n",
    "        \n",
    "        new_node = ListNode(renewed[0])\n",
    "        head = new_node\n",
    "        idx = 1\n",
    "        while idx < len(renewed):\n",
    "            new_node.next = ListNode(renewed[idx])\n",
    "            new_node = new_node.next\n",
    "            idx +=1\n",
    "        return head"
   ]
  }
 ],
 "metadata": {
  "kernelspec": {
   "display_name": "Python 3 (ipykernel)",
   "language": "python",
   "name": "python3"
  },
  "language_info": {
   "codemirror_mode": {
    "name": "ipython",
    "version": 3
   },
   "file_extension": ".py",
   "mimetype": "text/x-python",
   "name": "python",
   "nbconvert_exporter": "python",
   "pygments_lexer": "ipython3",
   "version": "3.9.12"
  }
 },
 "nbformat": 4,
 "nbformat_minor": 5
}
