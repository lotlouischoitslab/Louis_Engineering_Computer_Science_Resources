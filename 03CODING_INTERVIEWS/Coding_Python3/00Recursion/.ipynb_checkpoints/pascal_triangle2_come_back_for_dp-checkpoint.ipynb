{
 "cells": [
  {
   "cell_type": "markdown",
   "id": "3e97f476",
   "metadata": {},
   "source": [
    "### https://leetcode.com/problems/pascals-triangle-ii/submissions/"
   ]
  },
  {
   "cell_type": "code",
   "execution_count": 4,
   "id": "4f1481a0",
   "metadata": {},
   "outputs": [],
   "source": [
    "def findval(self,row,col):\n",
    "    if row == 0 or col == 0 or col == row:\n",
    "        return 1\n",
    "\n",
    "    return self.findval(row - 1, col - 1) + self.findval(row - 1, col)\n",
    "\n",
    "def getRow(self, rowIndex):\n",
    "    nums = [0] * (rowIndex + 1) \n",
    "    for col in range(rowIndex + 1):\n",
    "        nums[col] = self.findval(rowIndex,col)\n",
    "    return nums"
   ]
  },
  {
   "cell_type": "code",
   "execution_count": 5,
   "id": "189b4d0d",
   "metadata": {},
   "outputs": [],
   "source": [
    "#f(5,4) = f(4,3) + f(4,4) = f(i-1,j-1) + f(i-1,j)\n",
    "#[f(5,1), f(5,2), f(5,3), f(5,4), f(5,5)]\n",
    "#size of vector will be row index + 1\n",
    "#Create one helper function called findval. It will accept a row index and a \n",
    "#column index and will be a recursive function.\n",
    "\n",
    "#Brute-Force Approach involving Recursion:\n",
    "\n",
    "#Base Case: We reach wehn the base case when the element in Pascal's Triangle has \n",
    "#a value of one. i.e the first element and last element of every row.\n",
    "#At any point if the column index is equal to 0 or the column index is equal to \n",
    "#row index, then we have reached out base case. \n",
    "\n",
    "#Recurrence Relation: What is the relationship between the problem and the sub-problem?\n",
    "#The problem is that we find the values of all elements in a row. We can break\n",
    "#this down into the subproblem of finding individual elements in all rows needed for \n",
    "#recursion. Our recurrence relation is f(i,j) = f(i - 1, j - 1) + f(i - 1, j) where 1 \n",
    "#represents the row index and j represents the column index.\n",
    "\n",
    "#Runtime Complexity: O((rowIndex + 1)^N) where N would technically represent max rowIndex\n",
    "#Space Complexity: O(5^N)\n",
    "\n",
    "\n",
    "#Technically this should be the runtime\n",
    "#Runtime: O(2^k) where k = rowIndex + 1, so it is the row that we reach.\n",
    "#"
   ]
  },
  {
   "cell_type": "code",
   "execution_count": 6,
   "id": "b5ce1f52",
   "metadata": {},
   "outputs": [
    {
     "data": {
      "text/plain": [
       "[0, 0, 0, 0, 0]"
      ]
     },
     "execution_count": 6,
     "metadata": {},
     "output_type": "execute_result"
    }
   ],
   "source": [
    "nums = [0] *5\n",
    "nums"
   ]
  },
  {
   "cell_type": "code",
   "execution_count": null,
   "id": "460335a0",
   "metadata": {},
   "outputs": [],
   "source": []
  }
 ],
 "metadata": {
  "kernelspec": {
   "display_name": "Python 3 (ipykernel)",
   "language": "python",
   "name": "python3"
  },
  "language_info": {
   "codemirror_mode": {
    "name": "ipython",
    "version": 3
   },
   "file_extension": ".py",
   "mimetype": "text/x-python",
   "name": "python",
   "nbconvert_exporter": "python",
   "pygments_lexer": "ipython3",
   "version": "3.9.12"
  }
 },
 "nbformat": 4,
 "nbformat_minor": 5
}
