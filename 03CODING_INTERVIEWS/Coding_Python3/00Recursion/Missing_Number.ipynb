{
 "cells": [
  {
   "cell_type": "markdown",
   "id": "0bc81757",
   "metadata": {},
   "source": [
    "### https://leetcode.com/problems/missing-number/"
   ]
  },
  {
   "cell_type": "code",
   "execution_count": null,
   "id": "6263621a",
   "metadata": {},
   "outputs": [],
   "source": [
    "class Solution:\n",
    "    def missingNumber(self, nums: List[int]) -> int:\n",
    "        louis_array = self.mergesort(nums)\n",
    "        louis_range = len(louis_array)\n",
    "        print(louis_array)\n",
    "        counter = 0\n",
    "        for i in range(louis_range):\n",
    "            if louis_array[i] != counter:\n",
    "                return counter\n",
    "            counter+=1\n",
    "        \n",
    "        if louis_range != louis_array[len(louis_array)-1]:\n",
    "            return louis_range\n",
    "        return counter\n",
    "        \n",
    "    def mergesort(self,array):\n",
    "        if len(array) <= 1:\n",
    "            return array\n",
    "        \n",
    "        mid = len(array) //2\n",
    "        left = array[:mid]\n",
    "        right = array[mid:]\n",
    "        \n",
    "        left = self.mergesort(left)\n",
    "        right = self.mergesort(right)\n",
    "        \n",
    "        return self.merge(left,right)\n",
    "    \n",
    "    \n",
    "    def merge(self,left,right):\n",
    "        to_ret = []\n",
    "        left_idx,right_idx = 0,0\n",
    "        \n",
    "        left_len,right_len = len(left),len(right)\n",
    "        \n",
    "        while left_idx < left_len and right_idx < right_len:\n",
    "            if left[left_idx] <= right[right_idx]:\n",
    "                to_ret.append(left[left_idx])\n",
    "                left_idx +=1\n",
    "            else:\n",
    "                to_ret.append(right[right_idx])\n",
    "                right_idx+=1\n",
    "                \n",
    "        while left_idx < left_len:\n",
    "            to_ret.append(left[left_idx])\n",
    "            left_idx+=1\n",
    "        \n",
    "        while right_idx < right_len:\n",
    "            to_ret.append(right[right_idx])\n",
    "            right_idx +=1\n",
    "            \n",
    "        return to_ret"
   ]
  }
 ],
 "metadata": {
  "kernelspec": {
   "display_name": "Python 3 (ipykernel)",
   "language": "python",
   "name": "python3"
  },
  "language_info": {
   "codemirror_mode": {
    "name": "ipython",
    "version": 3
   },
   "file_extension": ".py",
   "mimetype": "text/x-python",
   "name": "python",
   "nbconvert_exporter": "python",
   "pygments_lexer": "ipython3",
   "version": "3.9.12"
  }
 },
 "nbformat": 4,
 "nbformat_minor": 5
}
