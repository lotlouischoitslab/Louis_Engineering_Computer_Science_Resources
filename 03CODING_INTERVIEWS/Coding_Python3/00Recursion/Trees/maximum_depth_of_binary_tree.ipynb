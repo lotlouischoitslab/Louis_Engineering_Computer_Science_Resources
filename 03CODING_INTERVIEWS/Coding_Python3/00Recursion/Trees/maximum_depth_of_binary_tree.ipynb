{
 "cells": [
  {
   "cell_type": "markdown",
   "id": "c7394e3d",
   "metadata": {},
   "source": [
    "### https://leetcode.com/problems/maximum-depth-of-binary-tree/"
   ]
  },
  {
   "cell_type": "markdown",
   "id": "b1713b1b",
   "metadata": {},
   "source": [
    "### https://www.youtube.com/watch?v=hTM3phVI6YQ"
   ]
  },
  {
   "cell_type": "code",
   "execution_count": 3,
   "id": "a0470bb7",
   "metadata": {},
   "outputs": [],
   "source": [
    "# Definition for a binary tree node.\n",
    "class TreeNode:\n",
    "    def __init__(self, val=0, left=None, right=None):\n",
    "        self.val = val\n",
    "        self.left = left\n",
    "        self.right = right\n",
    "\n",
    "def maxDepth(root):\n",
    "    if root == None:\n",
    "        return 0\n",
    "    if root.right == None and root.left == None:\n",
    "        return 1 \n",
    "    left_depth = 1 + self.maxDepth(root.left)\n",
    "    right_depth = 1 + self.maxDepth(root.right)\n",
    "    return max(left_depth,right_depth)\n",
    "\n",
    "#Brute Force: Recursion Approach\n",
    "#In order to cover every path, we need to recursive both left subtree\n",
    "#and the right subtree if both or either one exists.\n",
    "#from any node not just the leaf node. LEt's create a recursive helper function that will take in the depth as the second parameter so that when we hit the base case, we'll directly return it. \n",
    "\n",
    "#Base Case: When we hit a leaf node (i.e there are no children). We can\n",
    "#now compute the depth, which is the number of nodes in that particuallr path which is the number of nodes in that particular path to reach this leaf node. When we hit this base case, just return 1 to account for the leaf node. Whatever recursive call lead to this base c ase will be the very last one for this path, so we can return from it and backtrack to the original caller. Another base case to consider is what if the root is null. A root tree or a 0 node tree has no depth so we need to return 0.   \n",
    "\n",
    "#Recurrence Relation: What is the relationship between the result of the problem and the result of the subproblem? Our problem is that we would like to compute the depth of the tree along a certain path rooted at the very initial root node. Our subproblem would be computing the depth from the right or left subtree along the same path. This will in effect reduce the depth of the subtree by one making our problem smaller. As we break it down into smaller subtrees, we know that the depth will increase by 1. So, we will call maxDepth on the left subtree of the current root and the right subree of the current root and then add one to the result to indicate that our current depth calculation is increasing by one as a result of moving on to the next level in the tree. All we will guarantee for every single node is that we will find the max of the depths between its right subtree and its left subtree. \n",
    "\n",
    "#Algorithm:\n",
    "#Call maxdepth on the left subtree. This gives us the max depth of the left subtree. Call maxdepth on the right subtree. This gives us the max depth of that right subtree. Return the max of these two depths with a 1 added for my current node. \n",
    "\n",
    "#Runtime Analysis:Notice that we do a full traversal of the binary tree. So in the best case, general, and worst case scenarios, our runtime is O(N) where N is the number of nodes in the binary tree. If we were to have a perfect tree, we have to visit every node. If we have a stick, we still have to visit every node or whatever geometry of the tree looks like.\n",
    "\n",
    "#Space Complexity: Overall memory usage is O(N). In the worst case scenario, the geometry of our tree is a stick, so our recursion stack will contain the recursive calls of all nodes, so it will contain N recursive calls and then execute in LIFO order while backtracking once we hit the base case. In the best case scenario, we have a perfect binary tree, which we know to have a height of logN, so the moment that we finish with a path in the binary tree, some nodes will be popped off from the recursion stack as we take in more recursive calls that constitute another path and so on... "
   ]
  },
  {
   "cell_type": "code",
   "execution_count": null,
   "id": "d64c22b7",
   "metadata": {},
   "outputs": [],
   "source": []
  }
 ],
 "metadata": {
  "kernelspec": {
   "display_name": "Python 3 (ipykernel)",
   "language": "python",
   "name": "python3"
  },
  "language_info": {
   "codemirror_mode": {
    "name": "ipython",
    "version": 3
   },
   "file_extension": ".py",
   "mimetype": "text/x-python",
   "name": "python",
   "nbconvert_exporter": "python",
   "pygments_lexer": "ipython3",
   "version": "3.9.12"
  }
 },
 "nbformat": 4,
 "nbformat_minor": 5
}
