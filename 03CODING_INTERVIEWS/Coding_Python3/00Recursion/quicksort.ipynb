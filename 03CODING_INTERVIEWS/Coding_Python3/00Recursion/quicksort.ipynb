{
 "cells": [
  {
   "cell_type": "code",
   "execution_count": 2,
   "id": "105b6e20",
   "metadata": {},
   "outputs": [
    {
     "name": "stdout",
     "output_type": "stream",
     "text": [
      "[1, 2, 3, 4, 5]\n",
      "[1, 2, 2, 4, 4, 5, 6, 6, 7, 8]\n"
     ]
    }
   ],
   "source": [
    "# Python program for implementation of Quicksort Sort\n",
    " \n",
    "# This implementation utilizes pivot as the last element in the nums list\n",
    "# It has a pointer to keep track of the elements smaller than the pivot\n",
    "# At the very end of partition() function, the pointer is swapped with the pivot\n",
    "# to come up with a \"sorted\" nums relative to the pivot\n",
    "\n",
    "def partition(l, r, nums):\n",
    "    # Last element will be the pivot and the first element the pointer\n",
    "    pivot, ptr = nums[r], l\n",
    "    for i in range(l, r):\n",
    "        if nums[i] <= pivot:\n",
    "            # Swapping values smaller than the pivot to the front\n",
    "            nums[i], nums[ptr] = nums[ptr], nums[i]\n",
    "            ptr += 1\n",
    "    # Finally swapping the last element with the pointer indexed number\n",
    "    nums[ptr], nums[r] = nums[r], nums[ptr]\n",
    "    return ptr\n",
    " \n",
    "# With quicksort() function, we will be utilizing the above code to obtain the pointer\n",
    "# at which the left values are all smaller than the number at pointer index and vice versa\n",
    "# for the right values.\n",
    " \n",
    "def quicksort(l, r, nums):\n",
    "    if len(nums) == 1:  # Terminating Condition for recursion. VERY IMPORTANT!\n",
    "        return nums\n",
    "    if l < r:\n",
    "        pi = partition(l, r, nums)\n",
    "        quicksort(l, pi-1, nums)  # Recursively sorting the left values\n",
    "        quicksort(pi+1, r, nums)  # Recursively sorting the right values\n",
    "    return nums\n",
    "  \n",
    "example = [4, 5, 1, 2, 3]\n",
    "result = [1, 2, 3, 4, 5]\n",
    "print(quicksort(0, len(example)-1, example))\n",
    " \n",
    "example = [2, 5, 6, 1, 4, 6, 2, 4, 7, 8]\n",
    "result = [1, 2, 2, 4, 4, 5, 6, 6, 7, 8]\n",
    "# As you can see, it works for duplicates too\n",
    "print(quicksort(0, len(example)-1, example))"
   ]
  },
  {
   "cell_type": "markdown",
   "id": "421089a9",
   "metadata": {},
   "source": [
    "Runtime Analysis: In the worst case scenario, the runtime is O(N^2) where N is the length of the input of the list. \n",
    "Best/Average Scenario, the runtime is O(NlogN). Every recursive invocation of the quicksort function, we will choose a pivot value and partition the array based on the pivot value. So, the runtime depends on both the amount of time it takes to partition the array nad the amount of times we need to partition. Partitioning the array requires us to traverse every element of the array, checking to see that every entry to the left of the pivot is less than the pivot and every entry to the right of the pivot is greater than or equal to the pivot. Therefore, the runtime of partitioning is O(N). Next, we need to consider the number of lines we partition. In the worst case, the array is sorted in descending order and we choose the first entry of the array passed into our recursive sort function as the pivot as an example. During the partitioning process, we will need to compare every entry to the right of the first element to the first element itself, and since they are all less in value, we will need to move them to the left of the pivot (i.e the first element initially of the list/sublist). We will need to repear this partitioning process N times, and each partition takes O(N), so the overall runtime would be O(N^2). In the best-case scenario, the array is already sorted in ascending/descending order and we choose the meidan value as the pivot. So, during the partitioning process, we would divide the list into 2 equal-sized sublists. This would form a perfect binary tree, which we know to have a height of logN. So we perform logN partitions with each partition taking O(N) time, so the overall runtime complexity in this case would be O(NlogN)."
   ]
  },
  {
   "cell_type": "code",
   "execution_count": null,
   "id": "08144e90",
   "metadata": {},
   "outputs": [],
   "source": []
  }
 ],
 "metadata": {
  "kernelspec": {
   "display_name": "Python 3 (ipykernel)",
   "language": "python",
   "name": "python3"
  },
  "language_info": {
   "codemirror_mode": {
    "name": "ipython",
    "version": 3
   },
   "file_extension": ".py",
   "mimetype": "text/x-python",
   "name": "python",
   "nbconvert_exporter": "python",
   "pygments_lexer": "ipython3",
   "version": "3.9.12"
  }
 },
 "nbformat": 4,
 "nbformat_minor": 5
}
