{
 "cells": [
  {
   "cell_type": "code",
   "execution_count": 1,
   "id": "eb425bf0",
   "metadata": {},
   "outputs": [],
   "source": [
    "def reverse_string(name):\n",
    "    if name == \"\":\n",
    "        return name\n",
    "    return name[len(name)-1] + reverse_string(name[0:len(name)-1])"
   ]
  },
  {
   "cell_type": "code",
   "execution_count": 33,
   "id": "6f88f2a2",
   "metadata": {},
   "outputs": [],
   "source": [
    "def reverseString(num):\n",
    "    def utility(left, right):\n",
    "        if left < right:\n",
    "            num[left], num[right] = num[right], num[left]\n",
    "            utility(left + 1, right - 1)\n",
    "            print(num)\n",
    "    utility(0,len(num)-1) "
   ]
  },
  {
   "cell_type": "code",
   "execution_count": 34,
   "id": "9ef5910a",
   "metadata": {},
   "outputs": [
    {
     "ename": "NameError",
     "evalue": "name 'reverse_string' is not defined",
     "output_type": "error",
     "traceback": [
      "\u001b[1;31m---------------------------------------------------------------------------\u001b[0m",
      "\u001b[1;31mNameError\u001b[0m                                 Traceback (most recent call last)",
      "Input \u001b[1;32mIn [34]\u001b[0m, in \u001b[0;36m<cell line: 2>\u001b[1;34m()\u001b[0m\n\u001b[0;32m      1\u001b[0m a \u001b[38;5;241m=\u001b[39m \u001b[38;5;124m'\u001b[39m\u001b[38;5;124mLouis\u001b[39m\u001b[38;5;124m'\u001b[39m\n\u001b[1;32m----> 2\u001b[0m \u001b[43mreverse_string\u001b[49m(a)\n",
      "\u001b[1;31mNameError\u001b[0m: name 'reverse_string' is not defined"
     ]
    }
   ],
   "source": [
    "a = 'Louis'\n",
    "reverse_string(a)"
   ]
  },
  {
   "cell_type": "code",
   "execution_count": 35,
   "id": "a5725ba2",
   "metadata": {},
   "outputs": [
    {
     "name": "stdout",
     "output_type": "stream",
     "text": [
      "['o', 'o', 'w', 'g', 'n', 'u', 'S']\n",
      "['o', 'o', 'w', 'g', 'n', 'u', 'S']\n",
      "['o', 'o', 'w', 'g', 'n', 'u', 'S']\n"
     ]
    }
   ],
   "source": [
    "a = ['S','u','n','g','w','o','o']\n",
    "reverseString(a)"
   ]
  },
  {
   "cell_type": "code",
   "execution_count": 62,
   "id": "102f6fd3",
   "metadata": {},
   "outputs": [],
   "source": [
    "import math\n",
    "\n",
    "def reverse_int(num):\n",
    "    def rec(num, tens):\n",
    "        if num < 10:\n",
    "            return num        \n",
    "        else:\n",
    "            return num % 10 * tens + rec(num // 10, tens // 10)\n",
    "    return rec(num, 10 ** int(math.log10(num)))"
   ]
  },
  {
   "cell_type": "code",
   "execution_count": 63,
   "id": "d8d89618",
   "metadata": {},
   "outputs": [
    {
     "data": {
      "text/plain": [
       "54321"
      ]
     },
     "execution_count": 63,
     "metadata": {},
     "output_type": "execute_result"
    }
   ],
   "source": [
    "a = 12345\n",
    "reverse_int(a)"
   ]
  },
  {
   "cell_type": "code",
   "execution_count": null,
   "id": "4c12f45a",
   "metadata": {},
   "outputs": [],
   "source": []
  }
 ],
 "metadata": {
  "kernelspec": {
   "display_name": "Python 3 (ipykernel)",
   "language": "python",
   "name": "python3"
  },
  "language_info": {
   "codemirror_mode": {
    "name": "ipython",
    "version": 3
   },
   "file_extension": ".py",
   "mimetype": "text/x-python",
   "name": "python",
   "nbconvert_exporter": "python",
   "pygments_lexer": "ipython3",
   "version": "3.9.12"
  }
 },
 "nbformat": 4,
 "nbformat_minor": 5
}
