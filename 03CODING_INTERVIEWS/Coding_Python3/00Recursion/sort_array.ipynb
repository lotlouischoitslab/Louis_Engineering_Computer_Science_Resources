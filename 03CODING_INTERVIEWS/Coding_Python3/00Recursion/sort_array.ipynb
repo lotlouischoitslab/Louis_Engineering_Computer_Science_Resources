{
 "cells": [
  {
   "cell_type": "markdown",
   "id": "839258a2",
   "metadata": {},
   "source": [
    "### https://leetcode.com/problems/sort-an-array/"
   ]
  },
  {
   "cell_type": "code",
   "execution_count": null,
   "id": "897d018e",
   "metadata": {},
   "outputs": [],
   "source": [
    "def sortArray(self, nums: List[int]) -> List[int]:\n",
    "    def merge(left,right):\n",
    "        merged = [0] * (len(left) + len(right))\n",
    "        left_ptr = 0\n",
    "        right_ptr = 0\n",
    "        for i in range(len(merged)):\n",
    "            if (left_ptr >= len(left)):\n",
    "                merged[i] = right[right_ptr]\n",
    "                right_ptr +=1\n",
    "            elif right_ptr >= len(right):\n",
    "                merged[i] = left[left_ptr]\n",
    "                left_ptr +=1 \n",
    "            elif left[left_ptr] < right[right_ptr]:\n",
    "                merged[i] = left[left_ptr]\n",
    "                left_ptr += 1\n",
    "            else:\n",
    "                merged[i] = right[right_ptr]\n",
    "                right_ptr += 1\n",
    "        return merged\n",
    "\n",
    "    #Base Case\n",
    "    if (len(nums) <= 1):\n",
    "        return nums\n",
    "\n",
    "    midpoint = len(nums) // 2 #midpoint of the array\n",
    "    left = (nums[0:midpoint]) #left slice\n",
    "    right = (nums[midpoint:len(nums)]) #right slice\n",
    "\n",
    "    sorted_left = self.sortArray(left)\n",
    "    sorted_right = self.sortArray(right)\n",
    "\n",
    "    #some merging step as what is done in the top-down approach\n",
    "    return merge(sorted_left,sorted_right)\n",
    "       \n",
    "#Bottom-Up Approach:\n",
    "#In any divide-and-conquer algorithm, we will have 3 steps: divide, conquer, and combine\n",
    "#Idea: IN the divide step, we will first divide the input list of size N into N lists of size 1. This is the smallest subproblem where we can begin the conquer step, which would be solving the subproblem by sorting the vector. A vector of size 1 is already sorted so we are finished with the conquer step. Now we merge two of these size 1 vectors. We have N such size lists so we have N/2 merges to obtain N/2 size 2 lists. We should insert these elements into ascending order when merging two of these lists together to take care of the conquer step. This merging will also take care of the combine step by ensuring that the result of the subproblem (the merged sublists) are already sorted to create a sorted list of a size twich the size of one of the sublists. Remember that the base case for recursion occurs when the size of the list is 1 or 0 (since we can be given an empty list). \n",
    "\n",
    "#Recurrence Relation: What is the relationship between the result of the problem and the result of the subproblem? We are breaking down the list in half every recursive invocation, so we are splitting our problem in half until we reach the base case of N lists of size 1. The result of our subproblem will be a sorted sublist. So for every problem, we have two such subproblems so we can combine their results or the two sorted sublists to get a merged list containing all the elements of the two sublists. \n",
    "\n",
    "#Runtime Analysis: O(NlogN) where N is the size of the input vector. Our divide step is O(N) since we break down the vector of size N into N vectors of size 1, so this involves the midpoint of the list O(1) time and then splitting this unsorted vector based on the midpoint. We repeat this process N times, which would then be N * O(1). Which would be O(N). Our combine/conquer step will be done in O(NlogN) time. So, this involves merging two sorted sublists together, which takes O(N) time. Notice that the merging and dividing step can be modelled by a recursion tree since in the dividing step, in the body of the recursion function we will need two recursive calls (one for each sublist), so we will have a branching of two for the recursion tree. So the height of the recursion tree is O(logN) every level of the recursion tree, we have to merge N elements together but in their separate sublists (2 sublists at a time). So the overall runtime is O(NlogN).\n",
    "\n",
    "#Space Complexity: We need O(N) space for additional auxiliary data structure. As we merge two sublists together, we will need a buffer array to store the contents of the merged sublists, and then on the next merge step, we get rid of the sublists (they exist in stack memory so it's done automatically) since they are merged into a larger list. Also, as we reach N size-1 arrays in the divide step, we will need space to store the contents which are auxillary data structures themselves. So for both the combine and divide step, we require O(N) overall memory usage. "
   ]
  }
 ],
 "metadata": {
  "kernelspec": {
   "display_name": "Python 3 (ipykernel)",
   "language": "python",
   "name": "python3"
  },
  "language_info": {
   "codemirror_mode": {
    "name": "ipython",
    "version": 3
   },
   "file_extension": ".py",
   "mimetype": "text/x-python",
   "name": "python",
   "nbconvert_exporter": "python",
   "pygments_lexer": "ipython3",
   "version": "3.9.12"
  }
 },
 "nbformat": 4,
 "nbformat_minor": 5
}
