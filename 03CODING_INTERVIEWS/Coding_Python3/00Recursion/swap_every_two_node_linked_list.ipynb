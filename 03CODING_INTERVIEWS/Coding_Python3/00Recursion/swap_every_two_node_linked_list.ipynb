{
 "cells": [
  {
   "cell_type": "code",
   "execution_count": 7,
   "id": "33e151cd",
   "metadata": {},
   "outputs": [],
   "source": [
    "class ListNode:\n",
    "    def __init__(self, val=0, next=None):\n",
    "        self.val = val\n",
    "        self.next = next"
   ]
  },
  {
   "cell_type": "code",
   "execution_count": 8,
   "id": "7753c66c",
   "metadata": {},
   "outputs": [],
   "source": [
    "def swapPairs(head):\n",
    "    if not head or not head.next:\n",
    "        return head\n",
    "\n",
    "    temp = head.next\n",
    "    head.next = head.next.next\n",
    "    temp.next = head\n",
    "    head = temp\n",
    "    head.next.next = self.swapPairs(head.next.next)\n",
    "    return head\n",
    "\n",
    "#Runtime O(N)\n",
    "#Space complexity: O(N) because we need to go up to the last case"
   ]
  },
  {
   "cell_type": "code",
   "execution_count": 9,
   "id": "b61fbfa9",
   "metadata": {},
   "outputs": [],
   "source": [
    "def swapPairs(head):\n",
    "    curr = head\n",
    "    sentinal = ListNode(-1)\n",
    "    sentinal.next = head\n",
    "    prev = sentinal\n",
    "    \n",
    "    while curr is not None and curr.next is not None:\n",
    "        temp = curr.next\n",
    "        curr.next = curr.next.next\n",
    "        temp.next = curr\n",
    "        curr = temp\n",
    "        prev.next = curr\n",
    "        prev = curr.next\n",
    "        curr = curr.next.next\n",
    "        \n",
    "    return sentinal.next\n",
    "\n",
    "#Iterative Approach: Very similar to the iterative approach\n",
    "#Count for the fact we have previous node in the middle of the list whose next\n",
    "#nodes do not get updated when swapped. In the recurrence relation, this gets accounted for\n",
    "#because we set the head next next to the future consecutive adjacent swap pair linked list.\n",
    "#Iteratively, we have a curr pointer that traverses full linked list nodes at a time after the\n",
    "#swapping. However we cannot wait on the future part of the linked list to be swapped. We must\n",
    "#swap our part now and move onto the future part and swap it. \n",
    "\n",
    "#The body of our function will now be enclosed in a while loop. We will add a sentinal node or \n",
    "#pseudo-node that acts as the head of the new fake list where sentinal next is the real part of the \n",
    "#linked list. By using the sentinal node, we do not need to worry specially handle the case\n",
    "#of the linked list where we do not have a previous pointer to it. The sentinal node actas as the head's\n",
    "#previous pointer before reversing. \n",
    "\n",
    "#The code is very much the exact same. Now we have to adjust for the previous pointer's next node.\n",
    "#Every iteration of the while loop, after the two nodes have been swapped, we will set the previous\n",
    "#pointer's next (the previous pointer was likely set on the last iteration) to point to the current node.\n",
    "#the new first node after swapping. After we can set the previous pointer to the second node after swapping\n",
    "#because this will be the previous node of the next  consecutive pair of the adjacent nodes\n",
    "#At the very end, not that we did not motify the linked list with the head as the head node. We modified the\n",
    "#linked list with sentinal as the head node. However, the sentinal node is a fake node. After the sentinal node,\n",
    "#we have the real part of the list so make sure to return sentinal next.\n",
    "\n",
    "#Runtime O(N)\n",
    "#Space complexity: O(1)"
   ]
  },
  {
   "cell_type": "code",
   "execution_count": null,
   "id": "210f294d",
   "metadata": {},
   "outputs": [],
   "source": []
  }
 ],
 "metadata": {
  "kernelspec": {
   "display_name": "Python 3 (ipykernel)",
   "language": "python",
   "name": "python3"
  },
  "language_info": {
   "codemirror_mode": {
    "name": "ipython",
    "version": 3
   },
   "file_extension": ".py",
   "mimetype": "text/x-python",
   "name": "python",
   "nbconvert_exporter": "python",
   "pygments_lexer": "ipython3",
   "version": "3.9.12"
  }
 },
 "nbformat": 4,
 "nbformat_minor": 5
}
