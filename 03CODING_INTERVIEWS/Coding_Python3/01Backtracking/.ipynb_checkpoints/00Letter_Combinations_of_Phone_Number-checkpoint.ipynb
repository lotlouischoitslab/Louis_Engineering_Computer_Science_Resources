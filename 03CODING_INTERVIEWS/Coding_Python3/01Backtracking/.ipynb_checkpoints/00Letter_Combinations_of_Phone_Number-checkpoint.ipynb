{
 "cells": [
  {
   "cell_type": "markdown",
   "id": "a9ad6f45",
   "metadata": {},
   "source": [
    "### https://leetcode.com/problems/letter-combinations-of-a-phone-number/"
   ]
  },
  {
   "cell_type": "markdown",
   "id": "05a9c2ce",
   "metadata": {},
   "source": [
    "# Algorithm\n",
    "\n",
    "$$Time Complexity: O(n4^n)$$"
   ]
  },
  {
   "cell_type": "code",
   "execution_count": null,
   "id": "2d61d5d5",
   "metadata": {},
   "outputs": [],
   "source": [
    "class Solution:\n",
    "    def letterCombinations(self, digits: str) -> List[str]:\n",
    "        res = []\n",
    "        digitsToChar = {\n",
    "            '2':'abc',\n",
    "            '3':'def',\n",
    "            '4':'ghi',\n",
    "            '5':'jkl',\n",
    "            '6':'mno',\n",
    "            '7':'qprs',\n",
    "            '8':'tuv',\n",
    "            '9':'wxyz'\n",
    "        }\n",
    "        \n",
    "        def backtrack(i,currStr):\n",
    "            if len(currStr) == len(digits):\n",
    "                res.append(currStr)\n",
    "                return\n",
    "            \n",
    "            for c in digitsToChar[digits[i]]: \n",
    "                backtrack(i+1,currStr+c)\n",
    "            \n",
    "        if digits:\n",
    "            backtrack(0,'')\n",
    "        return res"
   ]
  }
 ],
 "metadata": {
  "kernelspec": {
   "display_name": "Python 3 (ipykernel)",
   "language": "python",
   "name": "python3"
  },
  "language_info": {
   "codemirror_mode": {
    "name": "ipython",
    "version": 3
   },
   "file_extension": ".py",
   "mimetype": "text/x-python",
   "name": "python",
   "nbconvert_exporter": "python",
   "pygments_lexer": "ipython3",
   "version": "3.9.12"
  }
 },
 "nbformat": 4,
 "nbformat_minor": 5
}
