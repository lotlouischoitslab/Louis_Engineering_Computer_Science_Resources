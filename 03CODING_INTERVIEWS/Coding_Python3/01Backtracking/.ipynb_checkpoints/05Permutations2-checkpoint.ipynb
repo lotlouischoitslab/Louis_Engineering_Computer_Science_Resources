{
 "cells": [
  {
   "cell_type": "markdown",
   "id": "26d7a315",
   "metadata": {},
   "source": [
    "### https://leetcode.com/problems/permutations-ii/"
   ]
  },
  {
   "cell_type": "code",
   "execution_count": null,
   "id": "9fd55794",
   "metadata": {},
   "outputs": [],
   "source": [
    "class Solution:\n",
    "    def permuteUnique(self, nums: List[int]) -> List[List[int]]:\n",
    "        res = []\n",
    "        perm = []\n",
    "        count = {n:0 for n in nums}\n",
    "        for n in nums:\n",
    "            count[n] +=1\n",
    "        \n",
    "        def dfs():\n",
    "            if len(perm) == len(nums):\n",
    "                res.append(perm.copy())\n",
    "                return\n",
    "            \n",
    "            for n in count:\n",
    "                if count[n] > 0:\n",
    "                    perm.append(n)\n",
    "                    count[n]-=1\n",
    "                    \n",
    "                    dfs()\n",
    "                    \n",
    "                    count[n] +=1\n",
    "                    perm.pop()\n",
    "                    \n",
    "        dfs()\n",
    "        return res"
   ]
  }
 ],
 "metadata": {
  "kernelspec": {
   "display_name": "Python 3 (ipykernel)",
   "language": "python",
   "name": "python3"
  },
  "language_info": {
   "codemirror_mode": {
    "name": "ipython",
    "version": 3
   },
   "file_extension": ".py",
   "mimetype": "text/x-python",
   "name": "python",
   "nbconvert_exporter": "python",
   "pygments_lexer": "ipython3",
   "version": "3.9.12"
  }
 },
 "nbformat": 4,
 "nbformat_minor": 5
}
