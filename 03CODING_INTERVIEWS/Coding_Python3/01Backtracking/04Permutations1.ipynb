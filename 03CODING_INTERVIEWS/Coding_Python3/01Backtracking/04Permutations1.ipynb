{
 "cells": [
  {
   "cell_type": "markdown",
   "id": "d5dfa515",
   "metadata": {},
   "source": [
    "### https://leetcode.com/problems/permutations/"
   ]
  },
  {
   "cell_type": "code",
   "execution_count": null,
   "id": "d116b514",
   "metadata": {},
   "outputs": [],
   "source": [
    "class Solution:\n",
    "    def permute(self, nums: List[int]) -> List[List[int]]:\n",
    "        res = set()\n",
    "        n = len(nums)\n",
    "        self.backtrack(0,nums,n,res)\n",
    "        return res\n",
    "        \n",
    "    def backtrack(self,first,nums,n,res):\n",
    "        if first == n:\n",
    "            res.add(tuple(nums))\n",
    "            return res\n",
    "        for i in range(first,n):\n",
    "            nums[first],nums[i] = nums[i],nums[first]\n",
    "            self.backtrack(first+1,nums,n,res)\n",
    "            nums[first],nums[i] = nums[i],nums[first]\n",
    "            "
   ]
  }
 ],
 "metadata": {
  "kernelspec": {
   "display_name": "Python 3 (ipykernel)",
   "language": "python",
   "name": "python3"
  },
  "language_info": {
   "codemirror_mode": {
    "name": "ipython",
    "version": 3
   },
   "file_extension": ".py",
   "mimetype": "text/x-python",
   "name": "python",
   "nbconvert_exporter": "python",
   "pygments_lexer": "ipython3",
   "version": "3.9.12"
  }
 },
 "nbformat": 4,
 "nbformat_minor": 5
}
