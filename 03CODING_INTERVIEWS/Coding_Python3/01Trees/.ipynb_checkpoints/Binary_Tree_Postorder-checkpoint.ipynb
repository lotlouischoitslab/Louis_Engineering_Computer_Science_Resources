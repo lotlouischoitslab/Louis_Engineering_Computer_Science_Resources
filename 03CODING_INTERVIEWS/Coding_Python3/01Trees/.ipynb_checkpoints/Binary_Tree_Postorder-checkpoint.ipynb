{
 "cells": [
  {
   "cell_type": "markdown",
   "id": "0e0e9bb7",
   "metadata": {},
   "source": [
    "### https://leetcode.com/problems/binary-tree-postorder-traversal"
   ]
  },
  {
   "cell_type": "code",
   "execution_count": null,
   "id": "331eb86e",
   "metadata": {},
   "outputs": [],
   "source": [
    "# Definition for a binary tree node.\n",
    "# class TreeNode:\n",
    "#     def __init__(self, val=0, left=None, right=None):\n",
    "#         self.val = val\n",
    "#         self.left = left\n",
    "#         self.right = right\n",
    "class Solution:\n",
    "    def postorderTraversal(self, root: Optional[TreeNode]) -> List[int]:\n",
    "        return self.postorder(root,[])\n",
    "        \n",
    "    def postorder(self,root,array):\n",
    "        if root is None:\n",
    "            return array\n",
    "        \n",
    "        array = self.postorder(root.left,array)\n",
    "        array = self.postorder(root.right,array)\n",
    "        \n",
    "        array.append(root.val)\n",
    "        return array"
   ]
  }
 ],
 "metadata": {
  "kernelspec": {
   "display_name": "Python 3 (ipykernel)",
   "language": "python",
   "name": "python3"
  },
  "language_info": {
   "codemirror_mode": {
    "name": "ipython",
    "version": 3
   },
   "file_extension": ".py",
   "mimetype": "text/x-python",
   "name": "python",
   "nbconvert_exporter": "python",
   "pygments_lexer": "ipython3",
   "version": "3.9.12"
  }
 },
 "nbformat": 4,
 "nbformat_minor": 5
}
