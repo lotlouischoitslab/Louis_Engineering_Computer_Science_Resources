{
 "cells": [
  {
   "cell_type": "markdown",
   "id": "76ccbc57",
   "metadata": {},
   "source": [
    "### https://leetcode.com/problems/convert-sorted-array-to-binary-search-tree"
   ]
  },
  {
   "cell_type": "code",
   "execution_count": null,
   "id": "1c5cfc1c",
   "metadata": {},
   "outputs": [],
   "source": [
    "# Definition for a binary tree node.\n",
    "# class TreeNode:\n",
    "#     def __init__(self, val=0, left=None, right=None):\n",
    "#         self.val = val\n",
    "#         self.left = left\n",
    "#         self.right = right\n",
    "class Solution:\n",
    "    def sortedArrayToBST(self, nums: List[int]) -> Optional[TreeNode]:\n",
    "        return self.createBST(nums)\n",
    "        \n",
    "    def createBST(self,array):\n",
    "        if not array:\n",
    "            return None\n",
    "        \n",
    "        mid = len(array) //2\n",
    "        root = TreeNode(array[mid])\n",
    "        left = array[:mid]\n",
    "        right = array[mid+1:]\n",
    "        root.left = self.createBST(left)\n",
    "        root.right = self.createBST(right)\n",
    "        \n",
    "        return root\n",
    "        "
   ]
  }
 ],
 "metadata": {
  "kernelspec": {
   "display_name": "Python 3 (ipykernel)",
   "language": "python",
   "name": "python3"
  },
  "language_info": {
   "codemirror_mode": {
    "name": "ipython",
    "version": 3
   },
   "file_extension": ".py",
   "mimetype": "text/x-python",
   "name": "python",
   "nbconvert_exporter": "python",
   "pygments_lexer": "ipython3",
   "version": "3.9.12"
  }
 },
 "nbformat": 4,
 "nbformat_minor": 5
}
