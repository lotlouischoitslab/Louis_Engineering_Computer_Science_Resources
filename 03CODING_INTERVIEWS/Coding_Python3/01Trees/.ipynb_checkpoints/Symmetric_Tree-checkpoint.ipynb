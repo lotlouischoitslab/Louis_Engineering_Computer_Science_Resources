{
 "cells": [
  {
   "cell_type": "markdown",
   "id": "49d47726",
   "metadata": {},
   "source": [
    "### https://leetcode.com/problems/symmetric-tree"
   ]
  },
  {
   "cell_type": "code",
   "execution_count": null,
   "id": "43cf7697",
   "metadata": {},
   "outputs": [],
   "source": [
    "# Definition for a binary tree node.\n",
    "# class TreeNode:\n",
    "#     def __init__(self, val=0, left=None, right=None):\n",
    "#         self.val = val\n",
    "#         self.left = left\n",
    "#         self.right = right\n",
    "class Solution:\n",
    "    def isSymmetric(self, root: Optional[TreeNode]) -> bool:\n",
    "        return self.mirror(root,root)\n",
    "        \n",
    "    def mirror(self,root1,root2):\n",
    "        if root1 is None and root2 is None:\n",
    "            return True\n",
    "        \n",
    "        if root1 is not None and root2 is not None:\n",
    "            if root1.val == root2.val:\n",
    "                return self.mirror(root1.left,root2.right) and self.mirror(root1.right,root2.left)"
   ]
  }
 ],
 "metadata": {
  "kernelspec": {
   "display_name": "Python 3 (ipykernel)",
   "language": "python",
   "name": "python3"
  },
  "language_info": {
   "codemirror_mode": {
    "name": "ipython",
    "version": 3
   },
   "file_extension": ".py",
   "mimetype": "text/x-python",
   "name": "python",
   "nbconvert_exporter": "python",
   "pygments_lexer": "ipython3",
   "version": "3.9.12"
  }
 },
 "nbformat": 4,
 "nbformat_minor": 5
}
