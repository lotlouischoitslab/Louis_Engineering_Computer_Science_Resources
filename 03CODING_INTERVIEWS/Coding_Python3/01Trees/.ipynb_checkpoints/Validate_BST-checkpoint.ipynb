{
 "cells": [
  {
   "cell_type": "markdown",
   "id": "0d8c3796",
   "metadata": {},
   "source": [
    "### https://leetcode.com/problems/validate-binary-search-tree/"
   ]
  },
  {
   "cell_type": "code",
   "execution_count": null,
   "id": "9d61964e",
   "metadata": {},
   "outputs": [],
   "source": [
    "# Definition for a binary tree node.\n",
    "# class TreeNode:\n",
    "#     def __init__(self, val=0, left=None, right=None):\n",
    "#         self.val = val\n",
    "#         self.left = left\n",
    "#         self.right = right\n",
    "class Solution:\n",
    "    def dfs(self,root,array):\n",
    "        if root is None:\n",
    "            return\n",
    "        \n",
    "        self.dfs(root.left,array)\n",
    "        array.append(root.val)\n",
    "        self.dfs(root.right,array)\n",
    "        \n",
    "        \n",
    "        \n",
    "    def isValidBST(self, root: Optional[TreeNode]) -> bool:\n",
    "        mylist = []\n",
    "        self.dfs(root,mylist)\n",
    "        \n",
    "        for i in range(len(mylist)-1):\n",
    "            if mylist[i] >= mylist[i+1]:\n",
    "                return False\n",
    "        return True\n",
    "        \n"
   ]
  }
 ],
 "metadata": {
  "kernelspec": {
   "display_name": "Python 3 (ipykernel)",
   "language": "python",
   "name": "python3"
  },
  "language_info": {
   "codemirror_mode": {
    "name": "ipython",
    "version": 3
   },
   "file_extension": ".py",
   "mimetype": "text/x-python",
   "name": "python",
   "nbconvert_exporter": "python",
   "pygments_lexer": "ipython3",
   "version": "3.9.12"
  }
 },
 "nbformat": 4,
 "nbformat_minor": 5
}
