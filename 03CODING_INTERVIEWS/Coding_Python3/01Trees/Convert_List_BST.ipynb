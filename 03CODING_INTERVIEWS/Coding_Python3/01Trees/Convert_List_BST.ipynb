{
 "cells": [
  {
   "cell_type": "markdown",
   "id": "30a98ac6",
   "metadata": {},
   "source": [
    "### https://leetcode.com/problems/convert-sorted-list-to-binary-search-tree"
   ]
  },
  {
   "cell_type": "code",
   "execution_count": 4,
   "id": "2dbf3679",
   "metadata": {},
   "outputs": [
    {
     "ename": "NameError",
     "evalue": "name 'Optional' is not defined",
     "output_type": "error",
     "traceback": [
      "\u001b[1;31m---------------------------------------------------------------------------\u001b[0m",
      "\u001b[1;31mNameError\u001b[0m                                 Traceback (most recent call last)",
      "Input \u001b[1;32mIn [4]\u001b[0m, in \u001b[0;36m<cell line: 12>\u001b[1;34m()\u001b[0m\n\u001b[0;32m      1\u001b[0m \u001b[38;5;66;03m# Definition for singly-linked list.\u001b[39;00m\n\u001b[0;32m      2\u001b[0m \u001b[38;5;66;03m# class ListNode:\u001b[39;00m\n\u001b[0;32m      3\u001b[0m \u001b[38;5;66;03m#     def __init__(self, val=0, next=None):\u001b[39;00m\n\u001b[1;32m   (...)\u001b[0m\n\u001b[0;32m     10\u001b[0m \u001b[38;5;66;03m#         self.left = left\u001b[39;00m\n\u001b[0;32m     11\u001b[0m \u001b[38;5;66;03m#         self.right = right\u001b[39;00m\n\u001b[1;32m---> 12\u001b[0m \u001b[38;5;28;01mclass\u001b[39;00m \u001b[38;5;21;01mSolution\u001b[39;00m:\n\u001b[0;32m     13\u001b[0m     \u001b[38;5;28;01mdef\u001b[39;00m \u001b[38;5;21msortedListToBST\u001b[39m(\u001b[38;5;28mself\u001b[39m, head: Optional[ListNode]) \u001b[38;5;241m-\u001b[39m\u001b[38;5;241m>\u001b[39m Optional[TreeNode]:\n\u001b[0;32m     14\u001b[0m         louis_list \u001b[38;5;241m=\u001b[39m \u001b[38;5;28mself\u001b[39m\u001b[38;5;241m.\u001b[39mcovert_linked_to_array(head)\n",
      "Input \u001b[1;32mIn [4]\u001b[0m, in \u001b[0;36mSolution\u001b[1;34m()\u001b[0m\n\u001b[0;32m     12\u001b[0m \u001b[38;5;28;01mclass\u001b[39;00m \u001b[38;5;21;01mSolution\u001b[39;00m:\n\u001b[1;32m---> 13\u001b[0m     \u001b[38;5;28;01mdef\u001b[39;00m \u001b[38;5;21msortedListToBST\u001b[39m(\u001b[38;5;28mself\u001b[39m, head: \u001b[43mOptional\u001b[49m[ListNode]) \u001b[38;5;241m-\u001b[39m\u001b[38;5;241m>\u001b[39m Optional[TreeNode]:\n\u001b[0;32m     14\u001b[0m         louis_list \u001b[38;5;241m=\u001b[39m \u001b[38;5;28mself\u001b[39m\u001b[38;5;241m.\u001b[39mcovert_linked_to_array(head)\n\u001b[0;32m     15\u001b[0m         \u001b[38;5;28mprint\u001b[39m(louis_list)\n",
      "\u001b[1;31mNameError\u001b[0m: name 'Optional' is not defined"
     ]
    }
   ],
   "source": [
    "# Definition for singly-linked list.\n",
    "# class ListNode:\n",
    "#     def __init__(self, val=0, next=None):\n",
    "#         self.val = val\n",
    "#         self.next = next\n",
    "# Definition for a binary tree node.\n",
    "# class TreeNode:\n",
    "#     def __init__(self, val=0, left=None, right=None):\n",
    "#         self.val = val\n",
    "#         self.left = left\n",
    "#         self.right = right\n",
    "class Solution:\n",
    "    def sortedListToBST(self, head: Optional[ListNode]) -> Optional[TreeNode]:\n",
    "        louis_list = self.covert_linked_to_array(head)\n",
    "        print(louis_list)\n",
    "        return self.createBST(louis_list)\n",
    "        \n",
    "    def covert_linked_to_array(self,head):\n",
    "        louis_list = []\n",
    "       \n",
    "        cur = head\n",
    "        while cur:\n",
    "            louis_list.append(cur.val)\n",
    "            cur = cur.next\n",
    "        return louis_list\n",
    "        \n",
    "    def createBST(self,array):\n",
    "        if len(array) == 0:\n",
    "            return None\n",
    "        mid = len(array) //2\n",
    "        print(mid)\n",
    "        root = TreeNode(array[mid])\n",
    "        left = array[:mid]\n",
    "        right = array[mid+1:]\n",
    "        root.left = self.createBST(left)\n",
    "        root.right = self.createBST(right)\n",
    "        \n",
    "        return root"
   ]
  },
  {
   "cell_type": "code",
   "execution_count": null,
   "id": "4b8fdecc",
   "metadata": {},
   "outputs": [],
   "source": []
  }
 ],
 "metadata": {
  "kernelspec": {
   "display_name": "Python 3 (ipykernel)",
   "language": "python",
   "name": "python3"
  },
  "language_info": {
   "codemirror_mode": {
    "name": "ipython",
    "version": 3
   },
   "file_extension": ".py",
   "mimetype": "text/x-python",
   "name": "python",
   "nbconvert_exporter": "python",
   "pygments_lexer": "ipython3",
   "version": "3.9.12"
  }
 },
 "nbformat": 4,
 "nbformat_minor": 5
}
