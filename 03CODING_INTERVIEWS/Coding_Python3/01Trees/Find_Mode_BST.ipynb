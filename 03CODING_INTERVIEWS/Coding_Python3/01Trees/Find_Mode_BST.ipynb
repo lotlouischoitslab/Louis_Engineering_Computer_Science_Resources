{
 "cells": [
  {
   "cell_type": "markdown",
   "id": "63f5db8d",
   "metadata": {},
   "source": [
    "### https://leetcode.com/problems/find-mode-in-binary-search-tree/"
   ]
  },
  {
   "cell_type": "code",
   "execution_count": null,
   "id": "48d7a8e3",
   "metadata": {},
   "outputs": [],
   "source": [
    "# Definition for a binary tree node.\n",
    "# class TreeNode:\n",
    "#     def __init__(self, val=0, left=None, right=None):\n",
    "#         self.val = val\n",
    "#         self.left = left\n",
    "#         self.right = right\n",
    "class Solution:\n",
    "    def inorder(self,root,array):\n",
    "        if root.left is not None:\n",
    "            array = self.inorder(root.left,array)\n",
    "        array.append(root.val)\n",
    "        if root.right is not None:\n",
    "            array = self.inorder(root.right,array)\n",
    "        return array\n",
    "        \n",
    "    def findMode(self, root: Optional[TreeNode]) -> List[int]:\n",
    "        louis = self.inorder(root,[])\n",
    "        \n",
    "        df = {}\n",
    "        louis_mode = []\n",
    "  \n",
    "       \n",
    "        for i in louis:\n",
    "            if i in df:\n",
    "                df[i] += 1\n",
    "            else:\n",
    "                df[i] =1\n",
    "                \n",
    "        local_max = max(df.values())\n",
    "        \n",
    "        for key,val in df.items():\n",
    "        \n",
    "            if val == local_max:\n",
    "                louis_mode.append(key)\n",
    "        \n",
    "        return louis_mode"
   ]
  }
 ],
 "metadata": {
  "kernelspec": {
   "display_name": "Python 3 (ipykernel)",
   "language": "python",
   "name": "python3"
  },
  "language_info": {
   "codemirror_mode": {
    "name": "ipython",
    "version": 3
   },
   "file_extension": ".py",
   "mimetype": "text/x-python",
   "name": "python",
   "nbconvert_exporter": "python",
   "pygments_lexer": "ipython3",
   "version": "3.9.12"
  }
 },
 "nbformat": 4,
 "nbformat_minor": 5
}
