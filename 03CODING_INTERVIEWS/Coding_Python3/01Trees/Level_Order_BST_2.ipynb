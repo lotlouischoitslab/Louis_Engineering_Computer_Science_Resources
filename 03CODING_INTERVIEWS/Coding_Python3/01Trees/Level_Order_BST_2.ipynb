{
 "cells": [
  {
   "cell_type": "markdown",
   "id": "188cc110",
   "metadata": {},
   "source": [
    "### https://leetcode.com/problems/binary-tree-level-order-traversal-ii"
   ]
  },
  {
   "cell_type": "code",
   "execution_count": null,
   "id": "98efe4ee",
   "metadata": {},
   "outputs": [],
   "source": [
    "# Definition for a binary tree node.\n",
    "# class TreeNode:\n",
    "#     def __init__(self, val=0, left=None, right=None):\n",
    "#         self.val = val\n",
    "#         self.left = left\n",
    "#         self.right = right\n",
    "class Solution:\n",
    "    def levelOrderBottom(self, root: Optional[TreeNode]) -> List[List[int]]:\n",
    "        louis = self.bfs(root)\n",
    "        return louis\n",
    "        \n",
    "    def bfs(self,node):\n",
    "        if not node:\n",
    "            return []\n",
    "        queue = []\n",
    "        louis = []\n",
    "        queue.append(node)\n",
    "        \n",
    "        while len(queue) > 0:\n",
    "            layer = []\n",
    "            for i in range(len(queue)):\n",
    "                s = queue.pop(0)\n",
    "                layer.append(s.val)\n",
    "                if s.left:\n",
    "                    queue.append(s.left)\n",
    "                if s.right:\n",
    "                    queue.append(s.right)\n",
    "            louis.append(layer)\n",
    "        return louis[::-1]"
   ]
  },
  {
   "cell_type": "code",
   "execution_count": 1,
   "id": "c06a2b29",
   "metadata": {},
   "outputs": [
    {
     "data": {
      "text/plain": [
       "0"
      ]
     },
     "execution_count": 1,
     "metadata": {},
     "output_type": "execute_result"
    }
   ],
   "source": [
    "1 // 2"
   ]
  },
  {
   "cell_type": "code",
   "execution_count": null,
   "id": "9ef06a98",
   "metadata": {},
   "outputs": [],
   "source": []
  }
 ],
 "metadata": {
  "kernelspec": {
   "display_name": "Python 3 (ipykernel)",
   "language": "python",
   "name": "python3"
  },
  "language_info": {
   "codemirror_mode": {
    "name": "ipython",
    "version": 3
   },
   "file_extension": ".py",
   "mimetype": "text/x-python",
   "name": "python",
   "nbconvert_exporter": "python",
   "pygments_lexer": "ipython3",
   "version": "3.9.12"
  }
 },
 "nbformat": 4,
 "nbformat_minor": 5
}
