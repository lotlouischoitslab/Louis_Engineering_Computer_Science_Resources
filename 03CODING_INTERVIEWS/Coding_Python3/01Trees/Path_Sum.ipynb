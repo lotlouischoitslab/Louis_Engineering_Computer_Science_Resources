{
 "cells": [
  {
   "cell_type": "markdown",
   "id": "8bb08006",
   "metadata": {},
   "source": [
    "### https://leetcode.com/problems/path-sum"
   ]
  },
  {
   "cell_type": "code",
   "execution_count": null,
   "id": "2848b87f",
   "metadata": {},
   "outputs": [],
   "source": [
    "# Definition for a binary tree node.\n",
    "# class TreeNode:\n",
    "#     def __init__(self, val=0, left=None, right=None):\n",
    "#         self.val = val\n",
    "#         self.left = left\n",
    "#         self.right = right\n",
    "class Solution:\n",
    "    def hasPathSum(self, root: Optional[TreeNode], targetSum: int) -> bool:\n",
    "        return self.hasPathHelper(root,0,targetSum)\n",
    "        \n",
    "    def hasPathHelper(self,node,counter,target):\n",
    "        if node is None:\n",
    "            return False\n",
    "        \n",
    "        counter += node.val\n",
    "        if node.left is None and node.right is None and counter == target:\n",
    "            return True\n",
    "        \n",
    "        return self.hasPathHelper(node.left,counter,target) or self.hasPathHelper(node.right,counter,target)"
   ]
  },
  {
   "cell_type": "code",
   "execution_count": 1,
   "id": "2d358aff",
   "metadata": {},
   "outputs": [
    {
     "data": {
      "text/plain": [
       "6"
      ]
     },
     "execution_count": 1,
     "metadata": {},
     "output_type": "execute_result"
    }
   ],
   "source": [
    "a = [1,2,3]\n",
    "sum(a)"
   ]
  },
  {
   "cell_type": "code",
   "execution_count": null,
   "id": "39338db3",
   "metadata": {},
   "outputs": [],
   "source": []
  }
 ],
 "metadata": {
  "kernelspec": {
   "display_name": "Python 3 (ipykernel)",
   "language": "python",
   "name": "python3"
  },
  "language_info": {
   "codemirror_mode": {
    "name": "ipython",
    "version": 3
   },
   "file_extension": ".py",
   "mimetype": "text/x-python",
   "name": "python",
   "nbconvert_exporter": "python",
   "pygments_lexer": "ipython3",
   "version": "3.9.12"
  }
 },
 "nbformat": 4,
 "nbformat_minor": 5
}
