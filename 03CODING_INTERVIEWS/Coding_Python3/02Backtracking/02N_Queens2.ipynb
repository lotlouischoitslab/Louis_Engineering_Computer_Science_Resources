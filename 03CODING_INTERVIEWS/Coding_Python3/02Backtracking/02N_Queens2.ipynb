{
 "cells": [
  {
   "cell_type": "markdown",
   "id": "72416a80",
   "metadata": {},
   "source": [
    "### https://leetcode.com/problems/n-queens-ii/"
   ]
  },
  {
   "cell_type": "code",
   "execution_count": null,
   "id": "559a9ced",
   "metadata": {},
   "outputs": [],
   "source": [
    "class Solution:\n",
    "    def totalNQueens(self, n: int) -> int:\n",
    "        col = set()\n",
    "        posDiag = set() # (r+c)\n",
    "        negDiag = set() # (r-c)\n",
    "        res = 0\n",
    "        \n",
    "        def backtrack(r,ans):\n",
    "            if r == n:\n",
    "                ans+=1\n",
    "                return ans\n",
    "            for c in range(n):\n",
    "                if c in col or (r+c) in posDiag or (r-c) in negDiag:\n",
    "                    continue\n",
    "                col.add(c)\n",
    "                posDiag.add(r+c)\n",
    "                negDiag.add(r-c)\n",
    "                ans += 1\n",
    "                ans = backtrack(r+1,ans)\n",
    "                col.remove(c)\n",
    "                posDiag.remove(r+c)\n",
    "                negDiag.remove(r-c)\n",
    "                ans -= 1\n",
    "            return ans\n",
    "                \n",
    "                \n",
    "        return backtrack(0,0)"
   ]
  }
 ],
 "metadata": {
  "kernelspec": {
   "display_name": "Python 3 (ipykernel)",
   "language": "python",
   "name": "python3"
  },
  "language_info": {
   "codemirror_mode": {
    "name": "ipython",
    "version": 3
   },
   "file_extension": ".py",
   "mimetype": "text/x-python",
   "name": "python",
   "nbconvert_exporter": "python",
   "pygments_lexer": "ipython3",
   "version": "3.9.12"
  }
 },
 "nbformat": 4,
 "nbformat_minor": 5
}
