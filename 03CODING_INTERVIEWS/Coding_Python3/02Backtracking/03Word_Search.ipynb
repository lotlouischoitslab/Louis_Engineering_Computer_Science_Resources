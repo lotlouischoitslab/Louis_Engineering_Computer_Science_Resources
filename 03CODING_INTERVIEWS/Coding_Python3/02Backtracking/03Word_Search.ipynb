{
 "cells": [
  {
   "cell_type": "markdown",
   "id": "2aa9673a",
   "metadata": {},
   "source": [
    "## https://leetcode.com/problems/word-search/"
   ]
  },
  {
   "cell_type": "code",
   "execution_count": null,
   "id": "cb716add",
   "metadata": {},
   "outputs": [],
   "source": [
    "class Solution:\n",
    "    def dfs(self,r,c,index,board,word,rows,cols,path):\n",
    "        if index == len(word):\n",
    "            return True\n",
    "        if (r < 0 or c < 0) or (r >= rows or c >= cols or word[index] != board[r][c] or (r,c) in path):\n",
    "            return False\n",
    "\n",
    "        path.add((r,c))\n",
    "        res = (self.dfs(r+1,c,index+1,board,word,rows,cols,path) or self.dfs(r-1,c,index+1,board,word,rows,cols,path) or self.dfs(r,c+1,index+1,board,word,rows,cols,path) or self.dfs(r,c-1,index+1,board,word,rows,cols,path))\n",
    "        path.remove((r,c))\n",
    "        return res\n",
    "        \n",
    "    def exist(self, board: List[List[str]], word: str) -> bool:\n",
    "        rows,cols = len(board),len(board[0])\n",
    "        path = set()\n",
    "        \n",
    "        for r in range(rows):\n",
    "            for c in range(cols):\n",
    "                if self.dfs(r,c,0,board,word,rows,cols,path):\n",
    "                    return True\n",
    "        return False\n",
    "        \n",
    "        "
   ]
  }
 ],
 "metadata": {
  "kernelspec": {
   "display_name": "Python 3 (ipykernel)",
   "language": "python",
   "name": "python3"
  },
  "language_info": {
   "codemirror_mode": {
    "name": "ipython",
    "version": 3
   },
   "file_extension": ".py",
   "mimetype": "text/x-python",
   "name": "python",
   "nbconvert_exporter": "python",
   "pygments_lexer": "ipython3",
   "version": "3.9.12"
  }
 },
 "nbformat": 4,
 "nbformat_minor": 5
}
