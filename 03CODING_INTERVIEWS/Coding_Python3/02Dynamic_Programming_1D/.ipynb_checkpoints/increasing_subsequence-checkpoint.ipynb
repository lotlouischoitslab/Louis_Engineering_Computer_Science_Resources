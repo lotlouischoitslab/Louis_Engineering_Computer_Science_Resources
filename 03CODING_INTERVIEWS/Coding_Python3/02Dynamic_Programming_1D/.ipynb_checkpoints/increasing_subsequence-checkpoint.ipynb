{
 "cells": [
  {
   "cell_type": "markdown",
   "id": "3d09ab3b",
   "metadata": {},
   "source": [
    "### https://leetcode.com/problems/longest-increasing-subsequence/"
   ]
  },
  {
   "cell_type": "markdown",
   "id": "02425f48",
   "metadata": {},
   "source": [
    "# Algorithm\n",
    "\n",
    "State Variable:\n",
    "i is an index into the array of nums. It will be considered as the start of the sequence from which we will maximize the length of the strictly increasing subsequences that can be derived from this sequence.\n",
    "\n",
    "Top-Down Approach:\n",
    "Remember that s subsequence is a sequence derived from an array where we can delete some elements or no elements, but regardless the order of the remaining elements should not change. \n",
    "\n",
    "1. A function or data structure to compute/hol the answer to the problem for every state. \n",
    "We will implement a recursive function dp. which will compute tthe length of the longest strictly increasing subsequence from a sequence starting at index i in the array of nums. We will initially call our function dp with an argument for i of value 0. We will need to do the same for each of the indices in the range 1 to nums length -1 since we cannot force 0 to be the start of the strictly increasing subsequence. The longest subsequence may start at one of the entries that follow index 0. This represents the starting index of the sequence, meaning that we would like dp to compute the length of the longest strictly increasing subsequence derived from the entire array, not just a subarray of it as in the case of the subproblems. These subproblems are overlapping meaning that we can encounter duplicate inputs, or duplicate values for the input i. Therefore, we will memoize our intermediate results into a cache so that we can perform a constant-time lookup for the result everytime we encounter a duplicate input. This is crucial in reducing our branching factor for recursive calls with duplicate inputs since we don't have to make use of our recurrence relation when the result of the subproblem already exists inside our dictionary.\n",
    "\n",
    "2. A recurrence relation to transition between states.\n",
    "We know that in a subsequence, we should preserve the order of the elements in the sequence. So, we will go through each of the numbers that follow the current number at index i. If the number we encounter in the iteration is strictly greater than our current number, then we will call our function dp on that greater number. To the dp recursive call that yields the maximum result, we will add 1 and return since we contribute a number to the longest increasing subsequence, which is the number located at the current index in the list of nums. Also, notice that the number of recursive calls we branch our to from the current recursive call varies depending on the size of the input array of nums and the actual entry entries. This means that our recurrence relation is dynamic since we will have iteration in our recurrence relation to go through each of the following numbers after index i. If the number of additional recursive calls we an make everytime we make use of recurrence relation didn't change from problem to problem, our recurrence relation would be static. The same number may be re-used multiple times when trying to develop the longest strictly increasing subseqeunces or may not be used at all. \n",
    "\n",
    "3. Base case to stop recursion.\n",
    "We will hit the base case when we make no further recursive calls from our recurrence relation. This means that we have a subsequence with only one number in it which is indexed a strictly incrementing subsequence since there are no other numbers to compare with the only number in the subsequence. We will return 1 from this recursive call, allowing us to resolve all the recursive calls in our recursion stack that are dependent on this one. \n",
    "\n",
    "Runtime Analysis: O(n) "
   ]
  },
  {
   "cell_type": "code",
   "execution_count": null,
   "id": "7a13be35",
   "metadata": {},
   "outputs": [],
   "source": [
    "#Top-Down Approach (Memoization)\n",
    "class Solution:\n",
    "    def dp(self,i,nums,cache):\n",
    "        if i in cache:\n",
    "            return cache[i]\n",
    "        max_subproblem_result = 0\n",
    "        for j in range(i+1,len(nums)):\n",
    "            if nums[j] > nums[i]:\n",
    "                subproblem_result = self.dp(j,nums,cache)\n",
    "                if subproblem_result > max_subproblem_result:\n",
    "                    max_subproblem_result = subproblem_result\n",
    "        \n",
    "        cache[i] = max_subproblem_result+1\n",
    "        return cache[i]\n",
    "    \n",
    "    def lengthOfLIS(self, nums: List[int]) -> int:\n",
    "        cache = dict()\n",
    "        max_num = 0\n",
    "        for i in range(len(nums)):\n",
    "            starting_index_result = self.dp(i,nums,cache)\n",
    "            if starting_index_result > max_num:\n",
    "                max_num = starting_index_result\n",
    "        return max_num"
   ]
  },
  {
   "cell_type": "code",
   "execution_count": null,
   "id": "23622d61",
   "metadata": {},
   "outputs": [],
   "source": [
    "#O(N^2) Solution\n",
    "class Solution:\n",
    "    def lengthOfLIS(self, nums: List[int]) -> int:\n",
    "        lis = [1]*len(nums)\n",
    "        \n",
    "        for i in range(len(nums)-1,-1,-1):\n",
    "            for j in range(i+1,len(nums)):\n",
    "                if nums[i] < nums[j]:\n",
    "                    lis[i] = max(lis[i],1+lis[j])\n",
    "        return max(lis)"
   ]
  }
 ],
 "metadata": {
  "kernelspec": {
   "display_name": "Python 3 (ipykernel)",
   "language": "python",
   "name": "python3"
  },
  "language_info": {
   "codemirror_mode": {
    "name": "ipython",
    "version": 3
   },
   "file_extension": ".py",
   "mimetype": "text/x-python",
   "name": "python",
   "nbconvert_exporter": "python",
   "pygments_lexer": "ipython3",
   "version": "3.9.12"
  }
 },
 "nbformat": 4,
 "nbformat_minor": 5
}
