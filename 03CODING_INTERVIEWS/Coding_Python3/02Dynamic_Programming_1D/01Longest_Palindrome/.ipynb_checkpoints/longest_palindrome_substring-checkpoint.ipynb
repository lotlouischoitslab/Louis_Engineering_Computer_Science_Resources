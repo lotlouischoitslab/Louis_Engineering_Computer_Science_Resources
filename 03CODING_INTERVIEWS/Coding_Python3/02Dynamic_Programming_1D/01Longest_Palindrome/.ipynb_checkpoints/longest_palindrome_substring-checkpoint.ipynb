{
 "cells": [
  {
   "cell_type": "markdown",
   "id": "ea46b393",
   "metadata": {},
   "source": [
    "### https://leetcode.com/problems/longest-palindromic-substring/"
   ]
  },
  {
   "cell_type": "code",
   "execution_count": null,
   "id": "c1ab4688",
   "metadata": {},
   "outputs": [],
   "source": [
    "class Solution:\n",
    "    def helper(self,left,right,s):\n",
    "        while left >= 0 and right < len(s) and s[left] == s[right]:\n",
    "            left -=1\n",
    "            right +=1\n",
    "            \n",
    "        return s[left+1:right]\n",
    "            \n",
    "    def longestPalindrome(self, s: str) -> str:\n",
    "        res = ''\n",
    "        for i in range(len(s)):\n",
    "            #first check for odd\n",
    "            test = self.helper(i,i,s)\n",
    "            if len(test) > len(res):\n",
    "                res = test\n",
    "                #then test for even\n",
    "            test = self.helper(i,i+1,s)\n",
    "            if len(test) > len(res):\n",
    "                res = test\n",
    "            \n",
    "        return res"
   ]
  }
 ],
 "metadata": {
  "kernelspec": {
   "display_name": "Python 3 (ipykernel)",
   "language": "python",
   "name": "python3"
  },
  "language_info": {
   "codemirror_mode": {
    "name": "ipython",
    "version": 3
   },
   "file_extension": ".py",
   "mimetype": "text/x-python",
   "name": "python",
   "nbconvert_exporter": "python",
   "pygments_lexer": "ipython3",
   "version": "3.9.12"
  }
 },
 "nbformat": 4,
 "nbformat_minor": 5
}
