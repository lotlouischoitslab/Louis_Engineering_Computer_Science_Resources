{
 "cells": [
  {
   "cell_type": "markdown",
   "id": "19b26b34",
   "metadata": {},
   "source": [
    "### https://leetcode.com/problems/coin-change/"
   ]
  },
  {
   "cell_type": "code",
   "execution_count": null,
   "id": "1b9d4f60",
   "metadata": {},
   "outputs": [],
   "source": [
    "class Solution:\n",
    "    def coinChange(self, coins: List[int], amount: int) -> int:\n",
    "        dp = [amount+1] * (1+amount)\n",
    "        dp[0] = 0\n",
    "      \n",
    "        for a in range(1,amount+1):\n",
    "            for c in coins:\n",
    "                if a - c >= 0:\n",
    "                    dp[a] = min(dp[a],1+dp[a-c])\n",
    "        \n",
    "            \n",
    "        return dp[amount] if dp[amount] != amount+1 else -1"
   ]
  },
  {
   "cell_type": "markdown",
   "id": "993a5a81",
   "metadata": {},
   "source": [
    "# Algorithm"
   ]
  },
  {
   "cell_type": "markdown",
   "id": "522e49e1",
   "metadata": {},
   "source": [
    "### Recurrence Relation"
   ]
  },
  {
   "cell_type": "code",
   "execution_count": null,
   "id": "97020075",
   "metadata": {},
   "outputs": [],
   "source": [
    "class Solution:\n",
    "    def coinChange(self, coins: List[int], amount: int) -> int:\n",
    "        cache = dict()\n",
    "        return self.mincoins(0,coins,amount,cache)\n",
    "\n",
    "        \n",
    "    def mincoins(self, accumulated,coins,amount,cache):\n",
    "        if accumulated in cache:\n",
    "            return cache[accumulated]\n",
    "        if accumulated > amount:\n",
    "            return -1\n",
    "        if accumulated == amount:\n",
    "            return 0\n",
    "        min_coins = float('inf')\n",
    "        \n",
    "        for i in range(len(coins)):\n",
    "            result = self.mincoins(accumulated+coins[i],coins,amount,cache)\n",
    "            if result != -1:\n",
    "                min_coins = min(min_coins,result+1)\n",
    "                \n",
    "        cache[accumulated] = min_coins\n",
    "        if cache[accumulated] == float('inf'):\n",
    "            return -1\n",
    "        return cache[accumulated]\n",
    "    "
   ]
  },
  {
   "cell_type": "code",
   "execution_count": 6,
   "id": "d07637db",
   "metadata": {},
   "outputs": [
    {
     "data": {
      "text/plain": [
       "3"
      ]
     },
     "execution_count": 6,
     "metadata": {},
     "output_type": "execute_result"
    }
   ],
   "source": [
    "mylist = [1,2,5]\n",
    "amount = 3\n",
    "\n",
    "coinChange(mylist,amount)"
   ]
  }
 ],
 "metadata": {
  "kernelspec": {
   "display_name": "Python 3 (ipykernel)",
   "language": "python",
   "name": "python3"
  },
  "language_info": {
   "codemirror_mode": {
    "name": "ipython",
    "version": 3
   },
   "file_extension": ".py",
   "mimetype": "text/x-python",
   "name": "python",
   "nbconvert_exporter": "python",
   "pygments_lexer": "ipython3",
   "version": "3.9.12"
  }
 },
 "nbformat": 4,
 "nbformat_minor": 5
}
