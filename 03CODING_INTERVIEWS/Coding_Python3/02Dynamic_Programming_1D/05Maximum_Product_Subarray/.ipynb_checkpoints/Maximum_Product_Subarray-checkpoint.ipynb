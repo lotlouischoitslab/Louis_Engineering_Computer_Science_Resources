{
 "cells": [
  {
   "cell_type": "markdown",
   "id": "3b26bef0",
   "metadata": {},
   "source": [
    "### https://leetcode.com/problems/maximum-product-subarray/"
   ]
  },
  {
   "cell_type": "code",
   "execution_count": null,
   "id": "216fb010",
   "metadata": {},
   "outputs": [],
   "source": [
    "class Solution:\n",
    "    def maxProduct(self, nums: List[int]) -> int:\n",
    "        res = max(nums)\n",
    "        curmin,curmax = 1,1\n",
    "        \n",
    "        for n in nums:\n",
    "            if n == 0:\n",
    "                curmin, curmax = 1,1\n",
    "                continue\n",
    "            temp = curmax*n\n",
    "            curmax = max(n*curmax,n*curmin,n)\n",
    "            curmin = min(temp,n*curmin,n)\n",
    "            res = max(res,curmax)\n",
    "        return res"
   ]
  }
 ],
 "metadata": {
  "kernelspec": {
   "display_name": "Python 3 (ipykernel)",
   "language": "python",
   "name": "python3"
  },
  "language_info": {
   "codemirror_mode": {
    "name": "ipython",
    "version": 3
   },
   "file_extension": ".py",
   "mimetype": "text/x-python",
   "name": "python",
   "nbconvert_exporter": "python",
   "pygments_lexer": "ipython3",
   "version": "3.9.12"
  }
 },
 "nbformat": 4,
 "nbformat_minor": 5
}
