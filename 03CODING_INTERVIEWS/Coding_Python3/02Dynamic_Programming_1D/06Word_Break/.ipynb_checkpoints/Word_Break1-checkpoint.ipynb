{
 "cells": [
  {
   "cell_type": "markdown",
   "id": "faa59f5f",
   "metadata": {},
   "source": [
    "### https://leetcode.com/problems/word-break/"
   ]
  },
  {
   "cell_type": "code",
   "execution_count": null,
   "id": "e0a3f345",
   "metadata": {},
   "outputs": [],
   "source": [
    "class Solution:\n",
    "    def wordBreak(self, s: str, wordDict: List[str]) -> bool:\n",
    "        dp = [False]*(len(s)+1)\n",
    "        dp[len(s)] = True\n",
    "        \n",
    "        for i in range(len(s)-1,-1,-1):\n",
    "            for w in wordDict:\n",
    "                if i + len(w) <= len(s) and s[i:i+len(w)] == w:\n",
    "                    dp[i] = dp[i+len(w)]\n",
    "                if dp[i]:\n",
    "                    break\n",
    "        return dp[0]"
   ]
  }
 ],
 "metadata": {
  "kernelspec": {
   "display_name": "Python 3 (ipykernel)",
   "language": "python",
   "name": "python3"
  },
  "language_info": {
   "codemirror_mode": {
    "name": "ipython",
    "version": 3
   },
   "file_extension": ".py",
   "mimetype": "text/x-python",
   "name": "python",
   "nbconvert_exporter": "python",
   "pygments_lexer": "ipython3",
   "version": "3.9.12"
  }
 },
 "nbformat": 4,
 "nbformat_minor": 5
}
