{
 "cells": [
  {
   "cell_type": "markdown",
   "id": "ecc78ca7",
   "metadata": {},
   "source": [
    "### https://leetcode.com/problems/maximum-subarray/submissions/"
   ]
  },
  {
   "cell_type": "code",
   "execution_count": null,
   "id": "ec06b625",
   "metadata": {},
   "outputs": [],
   "source": [
    "class Solution:\n",
    "    def maxSubArray(self, nums: List[int]) -> int:\n",
    "        cursum = 0\n",
    "        bestsum = float('-inf')\n",
    "        \n",
    "        for n in nums:\n",
    "            cursum = max(n,cursum+n)\n",
    "            bestsum = max(bestsum,cursum)\n",
    "            \n",
    "        return bestsum"
   ]
  },
  {
   "cell_type": "code",
   "execution_count": 1,
   "id": "e9e4f259",
   "metadata": {},
   "outputs": [],
   "source": [
    "def maxSubArray(nums):\n",
    "    cursum = 0\n",
    "    bestsum = float('-inf')\n",
    "\n",
    "    for n in nums:\n",
    "        cursum = max(n,cursum+n)\n",
    "        bestsum = max(bestsum,cursum)\n",
    "\n",
    "    return bestsum"
   ]
  },
  {
   "cell_type": "code",
   "execution_count": 7,
   "id": "5dfa6eb3",
   "metadata": {},
   "outputs": [
    {
     "data": {
      "text/plain": [
       "6"
      ]
     },
     "execution_count": 7,
     "metadata": {},
     "output_type": "execute_result"
    }
   ],
   "source": [
    "arr = [-2, 1, -3, 4, -1, 2, 1, -5, 4]\n",
    "maxSubArray(arr)"
   ]
  },
  {
   "cell_type": "code",
   "execution_count": null,
   "id": "e9e0bfc2",
   "metadata": {},
   "outputs": [],
   "source": []
  }
 ],
 "metadata": {
  "kernelspec": {
   "display_name": "Python 3 (ipykernel)",
   "language": "python",
   "name": "python3"
  },
  "language_info": {
   "codemirror_mode": {
    "name": "ipython",
    "version": 3
   },
   "file_extension": ".py",
   "mimetype": "text/x-python",
   "name": "python",
   "nbconvert_exporter": "python",
   "pygments_lexer": "ipython3",
   "version": "3.9.12"
  }
 },
 "nbformat": 4,
 "nbformat_minor": 5
}
