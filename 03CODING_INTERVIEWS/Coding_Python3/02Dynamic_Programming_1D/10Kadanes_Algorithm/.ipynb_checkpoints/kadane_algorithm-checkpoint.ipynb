{
 "cells": [
  {
   "cell_type": "markdown",
   "id": "74713c69",
   "metadata": {},
   "source": [
    "### https://leetcode.com/problems/maximum-subarray/submissions/"
   ]
  },
  {
   "cell_type": "code",
   "execution_count": null,
   "id": "3bd6aeb5",
   "metadata": {},
   "outputs": [],
   "source": [
    "class Solution:\n",
    "    def maxSubArray(self, nums: List[int]) -> int:\n",
    "        bestsum = [0]*len(nums)\n",
    "        bestsum[0] = nums[0]\n",
    "        curr = 0\n",
    "        \n",
    "        for i in range(1,len(nums)):\n",
    "            bestsum[i] = max(bestsum[i-1]+nums[i],nums[i])\n",
    "            \n",
    "        return max(bestsum)"
   ]
  }
 ],
 "metadata": {
  "kernelspec": {
   "display_name": "Python 3 (ipykernel)",
   "language": "python",
   "name": "python3"
  },
  "language_info": {
   "codemirror_mode": {
    "name": "ipython",
    "version": 3
   },
   "file_extension": ".py",
   "mimetype": "text/x-python",
   "name": "python",
   "nbconvert_exporter": "python",
   "pygments_lexer": "ipython3",
   "version": "3.9.12"
  }
 },
 "nbformat": 4,
 "nbformat_minor": 5
}
