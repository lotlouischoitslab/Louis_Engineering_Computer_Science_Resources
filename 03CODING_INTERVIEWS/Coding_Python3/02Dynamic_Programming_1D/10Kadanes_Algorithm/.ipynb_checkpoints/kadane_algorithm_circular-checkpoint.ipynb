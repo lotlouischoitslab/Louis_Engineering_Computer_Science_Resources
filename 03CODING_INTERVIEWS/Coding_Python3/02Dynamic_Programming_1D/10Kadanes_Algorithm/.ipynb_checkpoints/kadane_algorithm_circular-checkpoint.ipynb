{
 "cells": [
  {
   "cell_type": "markdown",
   "id": "542c3f15",
   "metadata": {},
   "source": [
    "### https://leetcode.com/problems/maximum-sum-circular-subarray/"
   ]
  },
  {
   "cell_type": "code",
   "execution_count": null,
   "id": "be25fe99",
   "metadata": {},
   "outputs": [],
   "source": [
    "class Solution:\n",
    "    def maxSubarraySumCircular(self, nums: List[int]) -> int:\n",
    "        bestmax = float('-inf')\n",
    "        bestmin = float('inf')\n",
    "        \n",
    "        curmax = 0\n",
    "        curmin = 0\n",
    "        \n",
    "        total = 0\n",
    "        \n",
    "        for i in range(len(nums)):\n",
    "            #We are going to look for the max\n",
    "            curmax += nums[i]\n",
    "            bestmax = max(bestmax,curmax)\n",
    "            \n",
    "            #we also need to take care if the maximum is a negative number\n",
    "            curmax = max(curmax,0)\n",
    "            \n",
    "            #We are going to look for the min\n",
    "            curmin += nums[i]\n",
    "            bestmin = min(bestmin,curmin)\n",
    "            curmin = min(curmin,0)\n",
    "            \n",
    "            #Keep adding the total value\n",
    "            total += nums[i]\n",
    "            \n",
    "        if bestmax < 0 :\n",
    "            return bestmax\n",
    "            \n",
    "        return max(bestmax,total-bestmin)\n",
    "            "
   ]
  },
  {
   "cell_type": "code",
   "execution_count": 3,
   "id": "3e886454",
   "metadata": {},
   "outputs": [],
   "source": [
    "def maxSubarraySumCircular(nums):\n",
    "    bestmax = float('-inf')\n",
    "    bestmin = float('inf')\n",
    "\n",
    "    curmax = 0\n",
    "    curmin = 0\n",
    "\n",
    "    total = 0\n",
    "\n",
    "    for i in range(len(nums)):\n",
    "        #We are going to look for the max\n",
    "        curmax += nums[i]\n",
    "        bestmax = max(bestmax,curmax)\n",
    "\n",
    "        #we also need to take care if the maximum is a negative number\n",
    "        curmax = max(curmax,0)\n",
    "\n",
    "        #We are going to look for the min\n",
    "        curmin += nums[i]\n",
    "        bestmin = min(bestmin,curmin)\n",
    "        curmin = min(curmin,0)\n",
    "\n",
    "        #Keep adding the total value\n",
    "        total += nums[i]\n",
    "\n",
    "    if bestmax < 0 :\n",
    "        return bestmax\n",
    "\n",
    "    return max(bestmax,total-bestmin)"
   ]
  },
  {
   "cell_type": "code",
   "execution_count": 6,
   "id": "952c3ea2",
   "metadata": {},
   "outputs": [
    {
     "data": {
      "text/plain": [
       "-1"
      ]
     },
     "execution_count": 6,
     "metadata": {},
     "output_type": "execute_result"
    }
   ],
   "source": [
    "A = [-1,-2,-3]\n",
    "maxSubarraySumCircular(A)"
   ]
  }
 ],
 "metadata": {
  "kernelspec": {
   "display_name": "Python 3 (ipykernel)",
   "language": "python",
   "name": "python3"
  },
  "language_info": {
   "codemirror_mode": {
    "name": "ipython",
    "version": 3
   },
   "file_extension": ".py",
   "mimetype": "text/x-python",
   "name": "python",
   "nbconvert_exporter": "python",
   "pygments_lexer": "ipython3",
   "version": "3.9.12"
  }
 },
 "nbformat": 4,
 "nbformat_minor": 5
}
