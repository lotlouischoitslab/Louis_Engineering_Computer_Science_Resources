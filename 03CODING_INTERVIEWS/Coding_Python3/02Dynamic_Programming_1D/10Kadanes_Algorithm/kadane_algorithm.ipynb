{
 "cells": [
  {
   "cell_type": "markdown",
   "id": "bd3a3e6a",
   "metadata": {},
   "source": [
    "### https://leetcode.com/problems/maximum-subarray/submissions/"
   ]
  },
  {
   "cell_type": "code",
   "execution_count": null,
   "id": "e7c87fb2",
   "metadata": {},
   "outputs": [],
   "source": [
    "class Solution:\n",
    "    def maxSubArray(self, nums: List[int]) -> int:\n",
    "        bestsum = [0]*len(nums)\n",
    "        bestsum[0] = nums[0]\n",
    "        \n",
    "        for i in range(1,len(nums)):\n",
    "            bestsum[i] = max(bestsum[i-1]+nums[i],nums[i])\n",
    "            \n",
    "        return max(bestsum)"
   ]
  },
  {
   "cell_type": "code",
   "execution_count": 1,
   "id": "10e0a8eb",
   "metadata": {},
   "outputs": [],
   "source": [
    "def maxSubArray(nums):\n",
    "    bestsum = [0]*len(nums)\n",
    "    bestsum[0] = nums[0]\n",
    "        \n",
    "    for i in range(1,len(nums)):\n",
    "        bestsum[i] = max(bestsum[i-1]+nums[i],nums[i])\n",
    "            \n",
    "    return max(bestsum)"
   ]
  },
  {
   "cell_type": "code",
   "execution_count": 2,
   "id": "9daa96ae",
   "metadata": {},
   "outputs": [
    {
     "data": {
      "text/plain": [
       "-1"
      ]
     },
     "execution_count": 2,
     "metadata": {},
     "output_type": "execute_result"
    }
   ],
   "source": [
    "A = [-1,-2,-3]\n",
    "maxSubArray(A)"
   ]
  },
  {
   "cell_type": "code",
   "execution_count": null,
   "id": "aa1cd916",
   "metadata": {},
   "outputs": [],
   "source": []
  }
 ],
 "metadata": {
  "kernelspec": {
   "display_name": "Python 3 (ipykernel)",
   "language": "python",
   "name": "python3"
  },
  "language_info": {
   "codemirror_mode": {
    "name": "ipython",
    "version": 3
   },
   "file_extension": ".py",
   "mimetype": "text/x-python",
   "name": "python",
   "nbconvert_exporter": "python",
   "pygments_lexer": "ipython3",
   "version": "3.9.12"
  }
 },
 "nbformat": 4,
 "nbformat_minor": 5
}
