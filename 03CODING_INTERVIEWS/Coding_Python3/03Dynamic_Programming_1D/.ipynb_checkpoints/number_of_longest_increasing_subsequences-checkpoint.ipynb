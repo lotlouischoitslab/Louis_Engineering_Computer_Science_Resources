{
 "cells": [
  {
   "cell_type": "markdown",
   "id": "fe871949",
   "metadata": {},
   "source": [
    "### https://leetcode.com/problems/number-of-longest-increasing-subsequence/"
   ]
  },
  {
   "cell_type": "code",
   "execution_count": null,
   "id": "24e096b6",
   "metadata": {},
   "outputs": [],
   "source": [
    "class Solution:\n",
    "    def findNumberOfLIS(self, nums: List[int]) -> int:\n",
    "        # Dynamic Programming\n",
    "        dp = {}\n",
    "        lenlis,res = 0,0\n",
    "        \n",
    "        #i = start of the subsequence\n",
    "        for i in range(len(nums)-1,-1,-1):\n",
    "            maxlen,maxcount = 1,1 #len, count lif start from i\n",
    "            \n",
    "            for j in range(i+1,len(nums)):\n",
    "                if nums[j] > nums[i]:\n",
    "                    length,count = dp[j]\n",
    "                    if length + 1 > maxlen:\n",
    "                        maxlen,maxcount = length+1,count\n",
    "                    elif length+1 == maxlen:\n",
    "                        maxcount += count\n",
    "                        \n",
    "            if maxlen > lenlis:\n",
    "                lenlis,res = maxlen,maxcount\n",
    "            elif maxlen == lenlis:\n",
    "                res += maxcount\n",
    "            \n",
    "            dp[i] = [maxlen,maxcount]\n",
    "        return res"
   ]
  }
 ],
 "metadata": {
  "kernelspec": {
   "display_name": "Python 3 (ipykernel)",
   "language": "python",
   "name": "python3"
  },
  "language_info": {
   "codemirror_mode": {
    "name": "ipython",
    "version": 3
   },
   "file_extension": ".py",
   "mimetype": "text/x-python",
   "name": "python",
   "nbconvert_exporter": "python",
   "pygments_lexer": "ipython3",
   "version": "3.9.12"
  }
 },
 "nbformat": 4,
 "nbformat_minor": 5
}
