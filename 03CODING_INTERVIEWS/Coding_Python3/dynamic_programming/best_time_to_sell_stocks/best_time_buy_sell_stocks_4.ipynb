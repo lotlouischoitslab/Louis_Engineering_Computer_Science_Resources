{
 "cells": [
  {
   "cell_type": "markdown",
   "id": "96568397",
   "metadata": {},
   "source": [
    "##### https://leetcode.com/problems/best-time-to-buy-and-sell-stock-iv/submissions/"
   ]
  },
  {
   "cell_type": "markdown",
   "id": "2cd4aa38",
   "metadata": {},
   "source": [
    "# Algorithm\n",
    "\n",
    "State Transition By Inaction DP Problem: When we decide how to transition to our next state in the recurrence relation, the best option may be to do nothing. Here, \"doing nothing\" refers to moving on to the next state whereby the next state and the current state that led to it yield the exact same result. So , the answer to the problem representing the current state and the subproblem representing the next state are the exact same. Typically, there is some restriction in the problem that allows us to do nothing in our current state. For this problem, on any particular day, we may decide to buy a stock, sell a stock, or do nothing depending on which action will give us the maximum profit. Typically, a decision-making-process needs to co-exist with this paradigm, or otherwise the result for every state will be the same exact value. \n",
    "\n",
    "Top-Down (Memoization) Approach:\n",
    "State Variables:\n",
    "i = index into the input list of prices. It's 0-indexed and represents the day we're on starting from the 0th day.\n",
    "transaction_left = The name is very intuitive. This state variable represents the number of transactions remaining. Note that a transaction consists of both a buying and selling operation. Afteer we've bought a stock on a particular day i, we should sell the stock on a particular day j where j > i, and this would allow us to complete a full transaction. In other words, a buy operation should be coupled with a sell operation in order for the transaction to be considered complete.\n",
    "#holding = boolean variable representing whether or not we have a unit of stock currently in our possesion. This means that we've bought a unit of stock, but we haven't sold it yet. In this case, holding will store true. Otherwise, if we have not yet bought a stock or we've already have a full transaction including selling but not bought a unit of stock again. holding will be false. \n",
    "\n",
    "1. A function or data structure to compute/hold the answer to the problem for every state.\n",
    "In the case of the top-down approach, we will implement a function dp to compute the maximum profit we can attain based on the current starting i (which is an index into our list of prices and represents the start of a subarray of it), the number of transitions remaining, and whether or not we are currently holding onto a unit of stock (i.e. we've bought a stock, but haven't sold it yet). According to the, problem description, we cannot engage in multiple transactions simultaneously, meaning that we cannot buy another stock before having sold a unit of stock that we already have in possesion. In other words, if holding == true, we must sell our stock before buying again. This means that our control flow in this function will be influenced by whether or not we are currently holding a stock. If we are, our potential actions include selling the stock or doing nothing. If we are, the only actions we can choose from inclusing selling the stock or doing nothing. If we are not, the only actions we can choose from include buying the stock or doing nothing. We will also memoize our intermediate resuls so that we don't make use of recurrence relation again for duplicate inputs (whenever we encounter the same exact state values that we've previously seen). This will reduce our branching factor of 2 to nothing for duplicate inputs since we can simply perform a constant-time cache lookup everytime we are passed in duplicate parameter values. Since we can immediately resolve our recursive calls for duplicate inputs, the number of recursive stack will need to hold prior to hitting the base case would decrease from 2^(N*k*2) to N*k*2. \n",
    "\n",
    "2. A recurrence relation to transition between states.\n",
    "Since we have a state transition by inaction DP problem, we must allow for the possibility of doing nothing we describe above. If we are holding a stock (holding == true), the only actions we can choose from for our current state include selling the stock or doing nothing. If we are not holding onto a stock (holding == false), the only actions we can choose for our current state include buying a unit of stock or doing nothing. Let's start with the action of doing nothing. We simply move on to the next state without incurring any cost for our current state. In other words, the value returned from the next state will be the same exact value returned from our current state. Mathematically,\n",
    "dp[i][transactions_left][holding] = dp[i+1][transactions_left][holding]\n",
    "We can see from this mathematical recurrence relation that the only thing we do is have on to the next day. We haven't performed a buying nor selling operation for our current day, so neither the transactions left nor our holding status is affected. \n",
    "Next, let's devise our mathematically recurrence relation for when we choose to buy a stock. When we buy a stock, we are losing from the profit we have accumulated this for the current price of the stock. (prices[i]).\n",
    "dp[i][transactions_left][holding] = dp[i+1][transactions_left][true] - prices[i]\n",
    "Notice that transactions_left remains unaffected. As we talked about above, a transaction consists of both buying and selling a stock. Since we stopped at just the buying operation, we haven't fully completed the transaction. However, after buying a stock, we are indeed in possesion of a unit of stock so we can pass true as the value for holding in the next state.\n",
    "Lastly, we can come up with a mathematical recurrence relation for when we choose to sell a stock. When we sell a stock, we are gaining the amount for the current price of the stock, so this is added to the profit we have accumulated thus for.\n",
    "dp[i][transactions_left][holding] = prices[i] + dp[i+1][transactions_left-1][false]\n",
    "Notice that transactions_left finally decrements in 1 since we have completed the full transaction by previously having bought a unit of stock and now selling that unit of stock. Also, we are no longer in possession of the stock we had previously bought, so we can pass false as the value for holding in the next state.\n",
    "\n",
    "A base case top stop recursion\n",
    "When we have no transactions remaining (transactions_left == 0), we cannot make any more profit since we can no longer buy and stocks nor sell any stocks. This is the same case when there are no more days left (i.e. our index into the input list of prices i = size of list). In both cases, we will return 0 since there's no profit left to accumulate.\n",
    "\n",
    "Bottom-Up Approach\n",
    "A function or data structure to compute/hold the answer to the problem every state. We will maintain 3d array dp where the index into the first dimension of the array is i (also an index into the list of prices that represents the current day we're on), the index into the second dimension of the array is transaction_left, and the index into the third dimension of the array is holding. Our implentation will be very similar to the top-down approach, especially in terms of the recurrence relation where we translate recursive dp calls into constant-time array lookups. Notice from the top-down approach that we make recursive calls for our next states and rely on these results (subproblem results) prior to figuring out the result for our own state. In an iterative approach, we don't have the luxury of writing until our base case is hit. We will have to start from the base case and work our way backwards. The base case will be hit when i == length of prices or when transition_left is 0. We will iterate backwards through our list of prices starting from length of prices. In the first inner loop, we can iterate forwards through our second dimension since we know from the top-down approach that the transactions_left decremented by 1 everytime we moved on to the next state. So, in order to start from our base case where transcations_left = 0. We will have to make a forward pass through the second dimension. Lastly, for our very last nested for loop, we can iterate either forward or backwards. It doesn't really matter since whether or not we are holding on to a unit of stock is not encompassed in any of our base cases. \n",
    "\n",
    "The runtime and space complexity analysis will be the same for both our bottom-up and top-down approach since the bottom-up approach is an iterative way to approach the recursive top-down approach.\n",
    "Runtime Analysis: We have three nested for loops where the outer loop runs for N iterations where N = length of the price. Also, notice that N = number of days over which we can complete transactions, constituting both the buying and selling operation. The first inner loop runs for k iterations where k is the input representing the most number of transactions we can complete in a dat. The innermost loop runs for two iterations when the value for holding switches between true and false. So, the overall runtime for both the top-down and bottom-up implementations is O(N*k*2). We ignore coefficients in our Big-O expressions, so this can be simplified down to O(N*k). \n",
    "\n",
    "Space Complexity: We minimize a 3d array dp where the size of the array in the first dimension is N, in the second dimension is K, and in the third dimension is 2. So, the overall memory usage of both implementations is O(N*k*2). We ignore coefficients in our Big-O expressions, so this can be simplified down to O(N*k). We can optimize this further with the state-compressed approach. Notice that at any particular moment in time, we only need a 2d matrix for the current index i into the first dimension and another 2d matrix for the next index (i+1) once again into the first dimension. So, instead we can maintain a list curr representing all the states where the index into the first dimension is i and a list next representing all states where the index into the first dimension is i+1. At the end of the body of the outer loop, prior to moving onto the next outer loop iteration, we will update the next list to become the current list and later modify the entries of the current list in the next outer loop iteration. This will reduce the overall memory consumption for the bottom-up approach with state-compression down to O(N*2). We once again ignore coefficients in our Big-O expressions, so this is asymptotically equivalent to O(k)."
   ]
  },
  {
   "cell_type": "code",
   "execution_count": null,
   "id": "0245a7cb",
   "metadata": {},
   "outputs": [],
   "source": [
    "#Top-Down Approach (Memoization)\n",
    "class Solution:\n",
    "    def dp(self,i,transactions_left,holding,prices,cache):\n",
    "        if transactions_left == 0 or i == len(prices):\n",
    "            return 0\n",
    "        if (i,transactions_left,holding) in cache:\n",
    "            return cache[(i,transactions_left,holding)]\n",
    "        if holding == True:\n",
    "            cache[(i,transactions_left,holding)] = max(self.dp(i+1,transactions_left,holding,prices,cache),self.dp(i+1,transactions_left-1,False,prices,cache) + prices[i]) \n",
    "        else:\n",
    "            cache[(i,transactions_left,holding)] =  max(self.dp(i+1,transactions_left,holding,prices,cache),self.dp(i+1,transactions_left,True,prices,cache) - prices[i])\n",
    "        return cache[(i,transactions_left,holding)]\n",
    "    \n",
    "    def maxProfit(self, k: int, prices: List[int]) -> int:\n",
    "        cache = dict()\n",
    "        return self.dp(0,k,False,prices,cache)"
   ]
  },
  {
   "cell_type": "code",
   "execution_count": null,
   "id": "d5d59f8c",
   "metadata": {},
   "outputs": [],
   "source": [
    "#Bottom-Up Approach (Tabulation)\n",
    "class Solution:\n",
    "    def maxProfit(self, k: int, prices: List[int]) -> int:\n",
    "        dp = [[ [0 for col in range(2)] for col in range(k+1)] for row in range(len(prices)+1)]\n",
    "        \n",
    "        for i in range(len(prices)-1,-1,-1):\n",
    "            for transactions_left in range(1,k+1):\n",
    "                for holding in range(1,-1,-1):\n",
    "                    if holding == 1:\n",
    "                        dp[i][transactions_left][holding] = max(dp[i+1][transactions_left][holding],dp[i+1][transactions_left-1][0] + prices[i])\n",
    "                    else:\n",
    "                        dp[i][transactions_left][holding] = max(dp[i+1][transactions_left][holding],dp[i+1][transactions_left][1] - prices[i])\n",
    "                        \n",
    "        return dp[0][k][0]"
   ]
  }
 ],
 "metadata": {
  "kernelspec": {
   "display_name": "Python 3 (ipykernel)",
   "language": "python",
   "name": "python3"
  },
  "language_info": {
   "codemirror_mode": {
    "name": "ipython",
    "version": 3
   },
   "file_extension": ".py",
   "mimetype": "text/x-python",
   "name": "python",
   "nbconvert_exporter": "python",
   "pygments_lexer": "ipython3",
   "version": "3.9.12"
  }
 },
 "nbformat": 4,
 "nbformat_minor": 5
}
