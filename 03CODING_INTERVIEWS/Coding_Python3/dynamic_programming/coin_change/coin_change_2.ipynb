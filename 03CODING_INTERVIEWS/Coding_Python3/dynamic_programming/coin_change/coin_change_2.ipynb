{
 "cells": [
  {
   "cell_type": "markdown",
   "id": "bb390968",
   "metadata": {},
   "source": [
    "#### https://leetcode.com/problems/coin-change-2/"
   ]
  },
  {
   "cell_type": "markdown",
   "id": "691b9527",
   "metadata": {},
   "source": [
    "### Extra Resources:\n",
    "- #### https://www.youtube.com/watch?v=jaNZ83Q3QGc&t=2s"
   ]
  },
  {
   "cell_type": "markdown",
   "id": "a9e60750",
   "metadata": {},
   "source": [
    "# Algorithm\n",
    "Unbounded Knapsack Problem:\n",
    "Counting DP: We are asked to compute distinct number of combinations that make up an amount. So, our recurrence relation, we will likely need to add our subproblem results to find the total number of something as opposed to taking the max/min among them. From our base case, we will likely return a non-zero value. For a combination, order doesn't matter, meaning that if the frequency of coin denominations between two combinations, they are the same combinations and are only considered as a single distinct combination. \n",
    "\n",
    "State Variable: \n",
    "accumulated represents the amount of money we have accumulated thus far from some combination of coins. This is the minimum piece of information we need for any scenario because it helps us identify when we have reached the base case and need to stop recursion. \n",
    "i represents an index into the input list of coins. This index is the start of a subarray from the list of coins from which we may choose a coin denomination value to add our combinations. \n",
    "\n",
    "Top-Down (Memoization) Approach:\n",
    "1. Function or data structure to compute/hold the answer to the problem for every state. We will implement a recursive function dp to compute the total number of combinations that make up the amount passed in as input to the function change. The state that changes from recursive call to recursive call is the amount we have accumulated thus far and the index into the input list of coins (our subproblems are overlapping, so we will have recursive calls with duplicate inputs). So, we are computing the total number of combinations that make up the total amount starting from what we have already accumulated. This is why our subproblem is simpler than the original problem. We also memoize our intermediate results in our intermediate results in cache so that when we encounter duplicate inputs, we don't have to branch out to more recursive calls via our recurrence relation. We can simply perform a constant-time lookup in our dictionary and return the value that corresponds to the total number of combinations needed to make up the total amount starting from the amount we've accumulated and the index into the list of coins (which represents the start of the subarray from the list of coins from which we may choose a particular coin denomination value). This will reduce our branching factor for recursive calls with duplicate inputs from 2 to nothing\n",
    "\n",
    "2. A recurrence relation to transition between states.\n",
    "Our recurrence relation will be static since we will always branch out to 2 recursive calls regardless of the size of the input list of coins we're passed in (total number of coins denominations). If it were static, then we would branch out to the same number of recursive calls regardless of the size of the input list of coins we've passed in (total number of coin denominations). From our current recursive call, however, we will not loop through all the remaining call for the current index i in which case we have decided to add our current coint to the combination or move our current combination to check. It's neccessary to go through each coin denomination value and consider whether or not it will form a valid combination with the coins that have already accumulated the input ampount since we would like the total number of distinct combinations. We start adding coin denominations from index i to our current combination to check if it forms a valid combination to prevent against forming a duplicate combination where the frequency or the coin denominations are the exact same but the order of sequence of of coin values differ. For example, if we begin our  combination with a coin value of i and then generate another combination starting from a value of 2, by adding a coin with value 2 to the first combination, we risk the possibility that our second combination becomes a duplicate of the first, just with a different order. We can see this is the case by adding a coin denomination of value i. If the amount we're expected to accumulate is 3, both would be considered valid combinations. However, they are not reordered as distinct combination as the frequency of coin denomination values that  constitute each are the exact same. For our first recursive call, we will consider adding our current coin to the combination. This means that the amount we have accumulated increases by the value of the coin denomination we added. For our second recursive call, we will consider the next coin but not adding it so the combination. Only when we move onto that respective recursive call, will we consider adding it to the combination. This gives us flexibility over the range of coin denominations we can choose to add our combination. If we added the next coin at index i + 1 so our combination, then we cannot form a combination where we skip the coin at index i + 1 and add the coin at index i + 2 to our combination. In other words, denomination at index i+1 will be forced to be added to our combination as an intermediate coin between the coin at index i and the coin at index i + 2. Therefore, we will not be able to compute the total number of distinct combinations. If we had instead directly added the coin at index i+1 to our combination in our current recursive call. To signify that we will not be adding the very next case, the amount we have accumulated doesn't increase between the current recursive call representing the problem and the next recursive call representing the subproblem.\n",
    "\n",
    "Mathematically, dp[accumulated][i] = dp[accumulated+coins[i]][i] + dp[accumulated][i+1]\n",
    "\n",
    "3. A base case to stop recursion \n",
    "When the amount we've accumulated exceeds the amount we've expected to accumulate, we have no way of reaching the amount we're expected to accumulate. All we can do from here is add more coins to the combination, which would only end up increasing the amount we've accumulated. So, instead of calling our recursive function dp infinitely, we know that our current combination of coins is already invalid (in that it has no way of reaching the expected amount), so return 0. Ultimately, if no combination of coins can make up the expected amount, we will return 0. When the amount we've accumulated equals the amount we're expected to accumulate, we have a valid combination of coins, so return 1. Our last base case would hit when our coins index go out of bounds. In this case, we can form any any more combinations of coins so return 0\n",
    "\n",
    "Bottom-Up Approach (Tabulation)\n",
    "We will incorporate a 2d array dp where the index into the first dimension or the array is the first state variable, or the amount we have accumulated up to that point point for some combination, and the input into the second dimension of the array is the second state variable, or the index into the input list of coins representing the store of a subarray of the list. In the top-down approach, we started from the initial problem and invoked our recursive function dp for each of our subproblems until we hit the base case. In the case of the bottom-up approach, we don't have the luxury of waiting until the base case is hit before resolving our recursive calls and figuring out our subproblem results. Instead, we'll start from our base case and iterate backwards (at least in terms of the outer for loop). We will implement a nested for loop where the outer for loop iterates through different amount we've accumulated ranging from 0 to the expected amount (which we are passed as input to the function change), and the inner for loop iterates through the input list of coins starting from index 1. We will translate all recursive invocations of function dp from the top-down apporach into 2d array lookups in our bottom-up approach. Our initial problem for which we called out function dp was for as accumulated amount of 0 and a starting index into the input list of coins of 0. We will initialize the entries of our 2d matrix to 0 since an accumulated amount that exceeds the expected amount (our first base case) cannot be represented within the bounds of the first dimension of our 2d matrix dp. This 2d matrix will store a total of amount lists (input to function change). Therefore, we will not be able to index into the first dimension with a position with a position that exceeds the expected amount. If there is no valid combination of coins that make up the expected amount, dp[0][0] will not get updated, so we will return the value is not initialized to 0. We will also initialize all entries in the list corresponding to the expected amount to 1 dp[amount] to cover the second base case. \n",
    "\n",
    "State variable for space complexity approach\n",
    "First from the bottom-up approach, we describe above, let's swap our dimensions\n",
    "State reductions for space complexity typically only apply to bottom-up implementations. Our runtime will not improve, only our space usage. Notice that any particular moment in time, we don't need our full 2d matrix dp. In our recurrence relation, the result for our current state only depends on entries from our current row in the 2d matrix dp and the very next row. So, we can instead maintain two 1d lists for each of the current row and the next row. Initially, all the contents in both lists will be initialized to zeros with the exception of the index amount in the second dimension, which will be initialized to 1 in both lists. At the very end, in the body of the outer loop iteration, we can update the index row list to a copy of the current row list. Then in the very next iteration, the entries in the current row list will be updated to the corresponding state results. \n",
    "\n",
    "Runtime Analysis: The runtime will be proportional to the total number of states since there are no extra work involved in computing the results for each state. Let M represent the total number of coin denominations, or len(coins). Let N represent the amount we're expected to accumulate, which we are passed in as input to our function change. We have a outer loop that runs for M iterations and we have an inner for loop that runs for N iterations. Outside of the inner for loop, we will copy the current row list into the next row list, which will also take O(N) time. Therefore, the time complexity of the nested for loops dominate, so the overall runtime for all three approaches is O(M*N).\n",
    "\n",
    "Space Complexity: We will cover the memory consumption of the state reduction for space complexity algorithm. We simply maintain two auxillary data structures, which are a 1d list for the current row and a 1d list for the next row. Therefore, the overall memory usage is O(N)."
   ]
  },
  {
   "cell_type": "code",
   "execution_count": 1,
   "id": "1fe86937",
   "metadata": {},
   "outputs": [],
   "source": [
    "#Top-Down Approach (Memoization)\n",
    "class Solution:\n",
    "    def dp(self,accumulated,i,combinations,amount,coins):\n",
    "        if i == len(coins):\n",
    "            return 0\n",
    "        if accumulated > amount:\n",
    "            return 0\n",
    "        if accumulated == amount:\n",
    "            return 1\n",
    "        if (accumulated,i) in combinations:\n",
    "            return combinations[(accumulated,i)]\n",
    "        \n",
    "        \n",
    "        \n",
    "        combinations[(accumulated,i)] = self.dp(accumulated+coins[i],i,combinations,amount,coins) +self.dp(accumulated,i+1,combinations,amount,coins)\n",
    "        return combinations[(accumulated,i)]\n",
    "    \n",
    "    def change(self, amount: int, coins: List[int]) -> int:\n",
    "        combinations = dict()\n",
    "        return self.dp(0,0,combinations,amount,coins)"
   ]
  },
  {
   "cell_type": "code",
   "execution_count": null,
   "id": "71690f58",
   "metadata": {},
   "outputs": [],
   "source": [
    "#Bottom-Up Approach (Tabulation)\n",
    "class Solution:\n",
    "    def change(self, amount: int, coins: List[int]) -> int:\n",
    "        dp = []\n",
    "        for i in range(len(coins)+1):\n",
    "            list = []\n",
    "            for j in range(amount+1):\n",
    "                list.append(0)\n",
    "            dp.append(list)\n",
    "        \n",
    "        for i in range(len(coins)):\n",
    "            dp[i][amount] = 1\n",
    "        \n",
    "        for i in range(len(coins)-1,-1,-1):\n",
    "            for accumulated in range(amount-1,-1,-1):\n",
    "                if accumulated + coins[i] <= amount:\n",
    "                    dp[i][accumulated] = dp[i][accumulated+coins[i]] + dp[i+1][accumulated]\n",
    "                else:\n",
    "                    dp[i][accumulated] = dp[i+1][accumulated]\n",
    "        return dp[0][0]"
   ]
  },
  {
   "cell_type": "code",
   "execution_count": null,
   "id": "728624af",
   "metadata": {},
   "outputs": [],
   "source": [
    "#State Reduction Tabulation Approach\n",
    "class Solution:\n",
    "    def change(self, amount: int, coins: List[int]) -> int:\n",
    "        curr_row = [0]*(amount+1)\n",
    "        curr_row[amount] = 1\n",
    "        next_row = [0]*(amount+1)\n",
    "        next_row[amount] = 1\n",
    "        for i in range(len(coins)-1,-1,-1):\n",
    "            for accumulated in range(amount-1,-1,-1):\n",
    "                if accumulated + coins[i] <= amount:\n",
    "                    curr_row[accumulated] = curr_row[accumulated+coins[i]] + next_row[accumulated]\n",
    "                else:\n",
    "                    curr_row[accumulated] = next_row[accumulated]\n",
    "            next_row,curr_row = curr_row,next_row\n",
    "        return next_row[0]"
   ]
  }
 ],
 "metadata": {
  "kernelspec": {
   "display_name": "Python 3 (ipykernel)",
   "language": "python",
   "name": "python3"
  },
  "language_info": {
   "codemirror_mode": {
    "name": "ipython",
    "version": 3
   },
   "file_extension": ".py",
   "mimetype": "text/x-python",
   "name": "python",
   "nbconvert_exporter": "python",
   "pygments_lexer": "ipython3",
   "version": "3.9.12"
  }
 },
 "nbformat": 4,
 "nbformat_minor": 5
}
