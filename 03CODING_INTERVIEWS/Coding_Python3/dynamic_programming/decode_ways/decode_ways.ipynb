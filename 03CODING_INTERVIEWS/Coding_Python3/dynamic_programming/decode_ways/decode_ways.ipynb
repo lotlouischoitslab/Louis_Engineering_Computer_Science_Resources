{
 "cells": [
  {
   "cell_type": "markdown",
   "id": "b41b1641",
   "metadata": {},
   "source": [
    "### https://leetcode.com/problems/decode-ways/"
   ]
  },
  {
   "cell_type": "code",
   "execution_count": null,
   "id": "eaa0ca44",
   "metadata": {},
   "outputs": [],
   "source": [
    "class Solution:\n",
    "    def numDecodings(self, s: str) -> int:\n",
    "        dp = {len(s):1}\n",
    "        \n",
    "        def dfs(i):\n",
    "            if i in dp: #already cached or last element\n",
    "                return dp[i]\n",
    "            if s[i] =='0': #invalid string\n",
    "                return 0\n",
    "            \n",
    "            #between one through nine\n",
    "            #check if the double digit is between 10-26\n",
    "            res = dfs(i+1)\n",
    "            if (i+1 < len(s) and (s[i] == '1' or s[i]=='2' and s[i+1] in '0123456')):\n",
    "                res += dfs(i+2)\n",
    "            \n",
    "            dp[i] = res\n",
    "            return res\n",
    "        return dfs(0)\n",
    "                "
   ]
  }
 ],
 "metadata": {
  "kernelspec": {
   "display_name": "Python 3 (ipykernel)",
   "language": "python",
   "name": "python3"
  },
  "language_info": {
   "codemirror_mode": {
    "name": "ipython",
    "version": 3
   },
   "file_extension": ".py",
   "mimetype": "text/x-python",
   "name": "python",
   "nbconvert_exporter": "python",
   "pygments_lexer": "ipython3",
   "version": "3.9.12"
  }
 },
 "nbformat": 4,
 "nbformat_minor": 5
}
