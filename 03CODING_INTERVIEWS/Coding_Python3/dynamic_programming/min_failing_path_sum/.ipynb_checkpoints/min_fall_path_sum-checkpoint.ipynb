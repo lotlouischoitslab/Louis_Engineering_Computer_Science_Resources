{
 "cells": [
  {
   "cell_type": "markdown",
   "id": "0e1a2162",
   "metadata": {},
   "source": [
    "### https://leetcode.com/problems/minimum-falling-path-sum/#:~:text=Minimum%20Falling%20Path%20Sum%20%2D%20LeetCode&text=Given%20an%20n%20x%20n%20array%20of,below%20or%20diagonally%20left%2Fright."
   ]
  },
  {
   "cell_type": "markdown",
   "id": "cddb9da1",
   "metadata": {},
   "source": [
    "# Algorithm\n",
    "\n",
    "State Variables: \n",
    "What is the minimum piece of information we'll need to know in any scenario?\n",
    "i is a row index into the first dimension of the 2d input matrix \n",
    "j is a column index into the second dimension of the 2d input matrix\n",
    "\n",
    "Top-Down (Memoization) and Bottom-Up (Tabulation) Approach:\n",
    "1. A function or data structure to compute/hold the answer to the problem for every state.\n",
    "Top-Down: We will implement a recursive dp, which will compute the minimum sum of any falling path through the matrix starting from the current grid coordinate. We are in essence reducing our matrix to a 'sub-matrix', but note that this sub-matrix is more a list of lists since the number of column entries in each row gets bigger and bigger the further down the rows we go. Recall from the problem description that a falling path starts at any element in the current row and chooses the element of the next row that is either below it or diagonally to the left or right of it. We will cache our intermediate results so as not to re-compute the minimum sum of any falling path through the matrix starting from the current grid coordinate, which is a duplicate from a previous recursive call. If we make use of recurrence relation even for duplicate inputs, which we already know the results of from a previous recursive calls, we would have unnecessarily have a max branching factor of 3, meaning that each recursive call, even for duplicated inputs, can make up to 3 additional recursive calls. By memoizing our subproblem results, we can perform a constant-time lookup for a duplicate grid coordinate passed in as input and immediately return the dictionary value in order to resolve the recursive call. \n",
    "\n",
    "Bottom-Up: We will incorporate a 2d array, which will retain the minimum sum of any failing path through the matrix starting from the current grid coordinate. The row index into the first dimension of the 2d array dp will be i and the column index into the second dimension of the 2d array dp will be j. In other words, both the 2d array dp and the original input 2d matrix will have the some dimensions, so their indices will exactly align. Notice from our recurrence relation that we will need to know the minimum sum of any falling through the matrix for our next row entries, so we will have iterate backwards through each of the rows. The way we iterate through the columns doesn't really matter but we will follow the outer loop covention for the rows and go backwards through the columns as well. The outer loop will go backwards through the rows and the inner loop will go backwards through the columns. The body of the nested loop will for the most part match the body of the recursive dp function from the top-down approach. At the very end after the nested for loops, we will go through the first row entries from the 2d array dp and return the minimum like we did for the top-down approach when we invoked the dp recursive function for each top row entry and then returned the min subproblem results. \n",
    "\n",
    "2. A recurrence relation to transition between states.\n",
    "#This is pretty much already given from the problem description. We just have to be careful that our coordinates don't go out of bounds for the dimensions of the 2d input grid matrix. \n",
    "If we are along the leftmost column in the original 2d input matrix, then when choosing elements from the next row, we cannot choose an entry that is diagonally to the left of our current grid coordinate since we would go out of bounds to a negative column index. Likewise, if we are in the rightmost column in the original 2d input matrix, then when choosing elements from the next row, we cannot choose an entry that id diagonally to the right of our current grid coordinate since we would go out of bounds to a column index that equals the number of columns. So, for the first condition, let's exclude the dp recursive call for the diagonally left entry in the next row. \n",
    "\n",
    "Mathematically, dp[i][j] = grid[i][j] + min(dp[i+1][j],dp[i][j+1])\n",
    "\n",
    "We add the value of the matrix entry corresponding to the current grid coordinate to the result of the subproblem recursive calls since we contribute ourselves to the falling path (our grid entry in the current row is part of the falling path). \n",
    "\n",
    "For the second condition, let's exclude the dp recursive call for the diagonally right entry in the next row. \n",
    "\n",
    "dp[i][j] = matrix[i][j] + min(dp[i+1][j],dp[i+1][j])\n",
    "Otherwise, we can explore the subproblem results for the entry directly below the current row element in the next row, the entry diagonally to the left in the next row. We are not constrained so long as we are not the bottom row, but we will cover this in the 3rd dp framework component.\n",
    "\n",
    "Mathematically, dp[i][j] = matrix[i][j] + min(dp[i+1][j-1],dp[i+1][j+1])\n",
    "\n",
    "3. Base case to stop recursion \n",
    "If we are in the bottom row of the 2d input matrix, there is no next row below us. This means that we cannot make any further recursive calls to compute the minimum path sum of any falling path. However, we still contribute our own matrix grid value to the falling path of which we are the only element in. So, we will return matrix[i][j] if the current grid coordinate is a last row entry. \n",
    "\n",
    "Optimized Bottom Up Approach:\n",
    "Notice that at any particular moment of time, we don't need the full 2d array dp. We only need to know the entries of the next row in our array dp. We can create a 1d list for the next row. However, when we iterate backwards to the columns, we will lose the min sum of the falling paths we had just computed if we only retain the next row. So, let's also maintain a 1d list for the current row so that prior to moving on the previous row, we can update the next row to become the current row and then update the current row entries in the next iteration accordingly. At the very start, we can initialize the next row list to the very last row (i.e bottom row) of the original 2d input matrix. Along siilar lines, we already have the subproblem results for the very last row so we can start our outer loop in the row above it. This optimization will reduce our memory usage from O(m*n) to O(n) since the size of the 1d lists for the next row and current row will need to be enough to store the column entries of the corresponding rows. Each of the rows in the 2d array dp from the unoptimized approach stored column entries, and there are N columns. "
   ]
  },
  {
   "cell_type": "code",
   "execution_count": null,
   "id": "c2625b10",
   "metadata": {},
   "outputs": [],
   "source": [
    "#Top-Down Approach (Memoization)\n",
    "class Solution:\n",
    "    def dp(self,i,j,min_sums,matrix):\n",
    "        rows = len(matrix)\n",
    "        cols = len(matrix[0])\n",
    "        if (i,j) in min_sums:\n",
    "            return min_sums[(i,j)]\n",
    "        if i == rows-1:\n",
    "            return matrix[i][j]\n",
    "        elif j == 0:\n",
    "            min_sums[(i,j)]= matrix[i][j] + min(self.dp(i+1,j,min_sums,matrix),self.dp(i+1,j+1,min_sums,matrix))\n",
    "        elif j == cols-1:\n",
    "            min_sums[(i,j)]= matrix[i][j] + min(self.dp(i+1,j-1,min_sums,matrix),self.dp(i+1,j,min_sums,matrix))\n",
    "        else:\n",
    "            min_sums[(i,j)]= matrix[i][j] + min(self.dp(i+1,j-1,min_sums,matrix),self.dp(i+1,j,min_sums,matrix),self.dp(i+1,j+1,min_sums,matrix))\n",
    "        return min_sums[(i,j)]\n",
    "    \n",
    "    \n",
    "    def minFallingPathSum(self, matrix: List[List[int]]) -> int:\n",
    "        min_sums = dict()\n",
    "        min_sum_val = float('inf')\n",
    "        for j in range(len(matrix[0])):\n",
    "            subproblems = self.dp(0,j,min_sums,matrix)\n",
    "            if subproblems < min_sum_val:\n",
    "                min_sum_val = subproblems\n",
    "            \n",
    "        return min_sum_val"
   ]
  },
  {
   "cell_type": "code",
   "execution_count": null,
   "id": "360a4544",
   "metadata": {},
   "outputs": [],
   "source": [
    "#Bottom-Up Approach (Tabulation)\n",
    "class Solution:\n",
    "    def minFallingPathSum(self, matrix: List[List[int]]) -> int:\n",
    "        dp = matrix.copy()\n",
    "        rows = len(matrix)\n",
    "        cols = len(matrix[0])\n",
    "        \n",
    "        for i in range(rows-2,-1,-1):\n",
    "            for j in range(cols-1,-1,-1):\n",
    "                if j == 0:\n",
    "                    dp[i][j] = matrix[i][j] + min(dp[i+1][j],dp[i+1][j+1])\n",
    "                elif j == cols-1:\n",
    "                    dp[i][j] = matrix[i][j] + min(dp[i+1][j-1],dp[i+1][j])\n",
    "                else:\n",
    "                    dp[i][j] = matrix[i][j] + min(dp[i+1][j-1],dp[i+1][j],dp[i+1][j+1])\n",
    "                    \n",
    "        min_fp_sum = float('inf')\n",
    "        for j in range(cols):\n",
    "            if dp[0][j] < min_fp_sum:\n",
    "                min_fp_sum = dp[0][j]\n",
    "        return min_fp_sum"
   ]
  },
  {
   "cell_type": "code",
   "execution_count": null,
   "id": "4950e05b",
   "metadata": {},
   "outputs": [],
   "source": [
    "#Optimized Bottom-Up Approach\n",
    "class Solution:\n",
    "    def minFallingPathSum(self, matrix: List[List[int]]) -> int:\n",
    "        rows = len(matrix)\n",
    "        cols = len(matrix[0])\n",
    "        next_row = matrix[rows-1].copy()\n",
    "        curr_row = [0 for i in range(cols)]\n",
    "        \n",
    "        \n",
    "        for i in range(rows-2,-1,-1):\n",
    "            for j in range(cols-1,-1,-1):\n",
    "                if j == 0:\n",
    "                    curr_row [j] = matrix[i][j] + min(next_row[j],next_row[j+1])\n",
    "                elif j == cols-1:\n",
    "                    curr_row [j] = matrix[i][j] + min(next_row[j-1],next_row[j])\n",
    "                else:\n",
    "                    curr_row [j] = matrix[i][j] + min(next_row[j-1],next_row[j],next_row[j+1])\n",
    "                    \n",
    "            next_row,curr_row = curr_row,next_row\n",
    "        \n",
    "        return min(next_row)"
   ]
  }
 ],
 "metadata": {
  "kernelspec": {
   "display_name": "Python 3 (ipykernel)",
   "language": "python",
   "name": "python3"
  },
  "language_info": {
   "codemirror_mode": {
    "name": "ipython",
    "version": 3
   },
   "file_extension": ".py",
   "mimetype": "text/x-python",
   "name": "python",
   "nbconvert_exporter": "python",
   "pygments_lexer": "ipython3",
   "version": "3.9.12"
  }
 },
 "nbformat": 4,
 "nbformat_minor": 5
}
