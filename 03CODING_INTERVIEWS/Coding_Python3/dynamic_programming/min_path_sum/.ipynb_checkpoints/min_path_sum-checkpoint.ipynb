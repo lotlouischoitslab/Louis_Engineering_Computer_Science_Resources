{
 "cells": [
  {
   "cell_type": "markdown",
   "id": "910eada6",
   "metadata": {},
   "source": [
    "# https://leetcode.com/problems/minimum-path-sum/"
   ]
  },
  {
   "cell_type": "markdown",
   "id": "aea4fe48",
   "metadata": {},
   "source": [
    "# Algorithm\n",
    "State Variables: What is the minimum piece of information necessary for any given state?\n",
    "i is a row index into the first dimension of the 2d input matrix.\n",
    "j is a column index into the second dimension of the 2d input matrix.\n",
    "\n",
    "Applied to both Memoization and Tabulation\n",
    "1. A function or data structure to compute/hold the answer to the problem for every state. In the case of the top-down approach, we will implement a recursive function dp that will compute the minimum path sum from the current grid coordinate serving as the top-left corner of a sub-matrix of the original input grid to the bottom-right corner. So, initially we will pass in the top left corner of the 2d input grid matrix (i.e 0 for i and 0 for j). The minimum path sum is the minimum of the sum of the numbers along the paths from the top-left corner to the bottom-right corner of the matrix/sub-matrix. We will incorporate a cache to memoize our intermediate results so that we don't re-compute the minimum path sum for duplicate input we've already encountered. For duplicate inputs, we won't have to re-visit the recurrence relation and branch off to two additional recursive calls. In other words, we will compute the minimum path sum for each unique grid coordinate (serving as the top-left corner of a sub-matrix of the original 2d-input grid) only once. \n",
    "\n",
    "In the case of the bottom-up approach, we will incorporate, as opposed to a cache, a 2d array dp where the row index into the first dimension of both the array dp and the 2d input grid matrix is i and the column index into the second dimension of both the array dp and the 2d input grid matrix is j. In other words, the row and column indeices for the 2d array dp align and correspond with those of the 2d input grid matrix. Our array dp will retain the min path sum from the current grid coordinate used as a row and colum nindex into the first and second dimension of the 2d array dp, resepctively to the bottom-right corner. In other words, the current grid coordinate serves as the top-left corner of the original input 2d grid matrix and we compute the minimum of the sums of all numbers alonfg all paths from this top-left corner to the bottom-right corner and then store it in its corresponding position in the 2d array dp. Notcie that for our recrurence relation, we will need both values from our 2d array dp of the next row and next column. This means that we will need to iterate backwards starting from the base case in a nested loop. The outer loop will fo backwards through each of the rows and the inner loop will go backwards through each of the columns. The body of the nested loops for the most part will match the body of the recursive function dp from the top-down approach. \n",
    "\n",
    "2. A recurrence relation to transition between states.\n",
    "What is the relationship between the results of the sub-problem and the result of the original problem? According to the problem description, the only two moves we're constrained to is moving right or down. So, the two immediate paths we can compare are the path from the grid coordinate to the right of us serving as the top-left corner of a sub-matrix all the way down to the bottom-right corner and likewise for the grid coordinate below us. Our current grid coordinate will also contribute to the path since we are the top-left corner of an even larger sub-matrix of the original 2d input grid matrix. We can call the dp function on the grid coordinate to the right of us and the grid below us. To each of these minimum sums of their corresponding paths, we will contribute the value of our grid entry to it. So we can add grid[i][j] to each of these minimum path sums. \n",
    "\n",
    "Mathematically, dp[i][j] = grid[i][j] + min(dp[i+1][j], dp[i][j+1])\n",
    "Also we need to carefully check if we are in the bottom row or the rightmost column of the 2d input grid matrix. If we are in the bottom row, there is no entry below us since that would be out of bounds. So, we can remove the result of the dp recursive call for the grid entry below us from the recurrence relation.\n",
    "\n",
    "Mathematically, dp[i][j] = grid[i][j] + dp[i][j+1]\n",
    "Likewise if we are in the rightmost column, there is no grid entry to the right of us since that would be out of bounds for the dimensions of the 2d input grid matrix. So we can remove the result of the dp recursive call for the grid entry to the right of us from the recurrence relation expression.\n",
    "Mathematically, dp[i][j] = grid[i][j] + dp[i+1][j] \n",
    "\n",
    "3. Base case to stop recursion\n",
    "#Our grid coordinate is at the bottom-right corner of the input 2d grid matrix. In this case, the top left corner of the sub-matrix is the same as the bottom-right corner, so there is a path from the top-left corner to the bottom-right corner. We're already there. This means that the minimum path sum for this grid coordinate is equal to the value of the grid entry at this coordinate (using i = m - 1 as an index into the first dimension and j = m - 1 as an index into the second dimension). \n",
    "\n",
    "Let m = number of rows and n = number of columns from the 2d grid matrix.\n",
    "#Runtime Analysis: By caching our matrix, we reduce our runtime from an exponential expression to just a linear expression. Without caching our results, we will have a branching factor of 2 for the number of recursive function calls invoked from a prior recursive call even for duplicate inputs. So, our runtime would be exponential to the number of entries in the 2d input grid matrix with a base of 2. The total number of entries in the 2d input grid matrix is the product of the number of rows and the number of columns: m*n so the runtime for recursion without memoization would be O(2^(m*n)). However since we cache our intermediate results for our subproblems, we can lookup the minimum path sum from our dictionary in constant time in constant time so we won't re-compute the min oath sum for duplicate inputs using the recurrence relation, which causes the branching factor of 2. Therefore, our overall runtime reduces down to O(m*n). This is because the number of recursive cals that cannot be immediately resolved and must be pushed to a recursion stack until base case is hit is m*n. \n",
    "\n",
    "Space Complexity: In the case of the top-down approach, we maintain an auxiliary data structure, which is the cache. Also, implicitely, a recursion stack will be created to store recursive calls for union inputs until the base case is hit and the recursive calls can be popped from the stack and executed in LIFO order. The upper bound on the number of elements for both data structures is O(m*n). In the case of the dictionary, we maintain a mapping from a tuple pair representing the grid coordinate that serves as the top-left corner of a sub-matrix of the original grid matrix to a value representing the minimum path sum from that top-left corner to the bottom-right corner of the 2d input grid matrix. In the case of the recursion stack, if we cannot find the minimum path sum corresponding to a grid coordinate from our stack (the input isn't a duplicate), we have to make use of our recurrence relation, which will cause more recursive calls to be stored on the stack. In the case of bottom-up approach, we have a 2d array dp whose dimensions are the exact same as the original input grid matrix. Therefore, the overall memory usage for both approaches is O(m*n)\n",
    "\n",
    "Optimized Bottom-Up Approach\n",
    "Notice from our bottom-up implementation above that at any moment in time, the only entries from the 2d array dp that we needed were from the current row and the next row. This means that all the other rows in the 2d array dp aren't needed at this exact moment. We will make sure to keep updating the 1d list representing the next row and the 1d list represnting the current row so that all rows from the 2d array dp from our previous approach are accounted for. This means that when we move on to the next iteration of the outer loop (remember that we're moving backwards through each of the rows), we will update the next row to become the  current row and then change the current row entries accordingly in the next iteration. This will be a significant improvement in the memory footprint of the bottom-up approach. Both the 1d list representing the current row and the next row will contain N entries since what to was originally stored in the 2d array dp were the column entries in each row. Everytime we notice dp[i], replace it with curr_row. Everytime we notice dp[i+1], replace it with next_row. The overall memory usage of this approach is O(2N). We ignore coefficients in our Big-O expressions, so it simplifies to O(N)."
   ]
  },
  {
   "cell_type": "code",
   "execution_count": null,
   "id": "91e094e4",
   "metadata": {},
   "outputs": [],
   "source": [
    "#Memoization (Top-Down)\n",
    "class Solution:\n",
    "    def dp(self,i,j,min_path_sums,grid):\n",
    "        rows = len(grid)\n",
    "        cols = len(grid[0])\n",
    "        if (i,j) in min_path_sums:\n",
    "            return min_path_sums[(i,j)]\n",
    "        if i == rows-1 and j == cols-1:\n",
    "            return grid[i][j]\n",
    "        elif i == rows - 1:\n",
    "            min_path_sums[(i,j)] = grid[i][j] + self.dp(i,j+1,min_path_sums,grid)\n",
    "        elif j == cols-1:\n",
    "            min_path_sums[(i,j)] = grid[i][j] + self.dp(i+1,j,min_path_sums,grid)\n",
    "        else:\n",
    "            min_path_sums[(i,j)] = grid[i][j] + min(self.dp(i+1,j,min_path_sums,grid),self.dp(i,j+1,min_path_sums,grid))\n",
    "        return min_path_sums[(i,j)]\n",
    "        \n",
    "    def minPathSum(self, grid: List[List[int]]) -> int:\n",
    "        min_path_sums = dict()\n",
    "        \n",
    "        return self.dp(0,0,min_path_sums,grid)"
   ]
  },
  {
   "cell_type": "code",
   "execution_count": null,
   "id": "16bd91df",
   "metadata": {},
   "outputs": [],
   "source": [
    "#Tabulation (Bottom-Up Approach)\n",
    "class Solution:       \n",
    "    def minPathSum(self, grid: List[List[int]]) -> int:\n",
    "        rows = len(grid)\n",
    "        cols = len(grid[0])\n",
    "        dp = []\n",
    "        for i in range(rows):\n",
    "            list = []\n",
    "            for j in range(cols):\n",
    "                list.append(0)\n",
    "            dp.append(list)\n",
    "        \n",
    "        for i in range(rows-1,-1,-1):\n",
    "            for j in range(cols-1,-1,-1):\n",
    "                if i == rows-1 and j == cols-1:\n",
    "                    dp[i][j] = grid[i][j]\n",
    "                elif i == rows-1:\n",
    "                    dp[i][j] = grid[i][j] + dp[i][j+1]\n",
    "                elif j == cols-1:\n",
    "                    dp[i][j] = grid[i][j] + dp[i+1][j]\n",
    "                else:\n",
    "                    dp[i][j] = grid[i][j] + min(dp[i][j+1],dp[i+1][j])\n",
    "                \n",
    "        return dp[0][0]"
   ]
  },
  {
   "cell_type": "code",
   "execution_count": null,
   "id": "cafd8ef1",
   "metadata": {},
   "outputs": [],
   "source": [
    "#Optimized Tabulation Approach:\n",
    "class Solution:       \n",
    "    def minPathSum(self, grid: List[List[int]]) -> int:\n",
    "        rows = len(grid)\n",
    "        cols = len(grid[0])\n",
    "        curr_row = [0 for i in range(cols)]\n",
    "        next_row = [0 for i in range(cols)]\n",
    "        \n",
    "        for i in range(rows-1,-1,-1):\n",
    "            for j in range(cols-1,-1,-1):\n",
    "                if i == rows-1 and j == cols-1:\n",
    "                    curr_row[j] = grid[i][j]\n",
    "                elif i == rows-1:\n",
    "                    curr_row[j] = grid[i][j] + curr_row[j+1]\n",
    "                elif j == cols-1:\n",
    "                    curr_row[j] = grid[i][j] + next_row[j]\n",
    "                else:\n",
    "                    curr_row[j] = grid[i][j] + min(curr_row[j+1],next_row[j])\n",
    "            next_row,curr_row = curr_row,next_row\n",
    "        return next_row[0]"
   ]
  }
 ],
 "metadata": {
  "kernelspec": {
   "display_name": "Python 3 (ipykernel)",
   "language": "python",
   "name": "python3"
  },
  "language_info": {
   "codemirror_mode": {
    "name": "ipython",
    "version": 3
   },
   "file_extension": ".py",
   "mimetype": "text/x-python",
   "name": "python",
   "nbconvert_exporter": "python",
   "pygments_lexer": "ipython3",
   "version": "3.9.12"
  }
 },
 "nbformat": 4,
 "nbformat_minor": 5
}
