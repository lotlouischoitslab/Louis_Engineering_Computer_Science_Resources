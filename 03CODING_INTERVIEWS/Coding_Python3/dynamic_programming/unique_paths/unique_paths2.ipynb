{
 "cells": [
  {
   "cell_type": "markdown",
   "id": "4334a9f9",
   "metadata": {},
   "source": [
    "### https://leetcode.com/problems/unique-paths-ii/"
   ]
  },
  {
   "cell_type": "markdown",
   "id": "00331d65",
   "metadata": {},
   "source": [
    "# Algorithm\n",
    "\n",
    "State Variables: What is the minimum piece of information needed for any scenario?\n",
    "i representing row index in the input obstacle grid\n",
    "j representing column index in the input obsacle grid\n",
    "\n",
    "Top-Down (Memoization) and Bottom-Up (Tabulation)\n",
    "1. A function or data structure to compute/hold the result to the problem for every state.\n",
    "In the case of the top-down approach, we will have function dp to compute the number of unique paths starting from the coordinate (i,j), which consists of the row index and the column index respectively, as the top-left corner to the bottom-right corner of the input obstacle grid. Our function will need to ignore obstacles and not factor them into the number of unqiue paths. If the top-left corner of the input obstacle grid is an obstacle itself, then we have no way of reaching the bottom-right corner from the top-left corner since the robot cannot move to an obstacle grid space in the first place. If the bottom-right corner of the input obstacle corner were also an obstacle, then there cannot be any unique paths to reach it since it's impossible to move to a grid space that's an obstacle. So, these are sanity checks that we can have at the very start and return 0 if we encounter such input boards. We will also maintain a dictionary to cache our intermediate results so that we don't re-compute the number of unique paths starting from the input coordinate as the top-left corner of a matrix/sub-matrix of the original input grid to the bottom-right corner of the obstacle grid. So, everytime we receive a duplicate input to our function dp, we will peform a constant time lookup in our dictionary. This will reduce the branching factor as well since we won't have a branching factor of 2 for every duplicate input as well. \n",
    "\n",
    "In the case of tabulation, we will have a 2d matrix dp to retain the number of unique paths starting from the coordinate (i,j), which consists of the row index and column index repsectively, as the top-left corner to the bottom-right corner of the input obstacle grid. The size of the first dimension of our 2d matrix will be m since in our top-down approach, one of our base cases was returning 0 everytime our row index or column index went our of bounds for the number of rows and the number of columns respectively, in our input grid. The size of the second dimension, likewise, will be n (number of columns). So, we will need to populate both the bottom row and rightmost column of our 2d input matrix with 0's. We will need to set the bottom right corner entry of the grid to be a 1 since this is a base case from our top down approach. Then, we will iterate backwards through each of the rows and each of the cols starting at the very bottom row of our input obstacle grid and the rightmost column of our input obstacle grid. Then, we will iterate backwards through each of the rows and each of the columns starting at the bottom-right corner of the obstacle grid. We will need to directly translate the recursive approach to an iterative approach.\n",
    "\n",
    "2. A recurrence relation to transition between states.\n",
    "Our robot can only move down or to the right at any moment of time, so the number of unique paths from any grid space is equal to the sum of the number of unique paths of the grid coordinate to the right of us and the number of unique paths of the grid coordinate below us.\n",
    "\n",
    "Mathematically, dp(i,j) = dp(i+1,j) + dp(i,j+1) \n",
    "\n",
    "3. Base case to stop recursion.\n",
    "If our current grid coordinate is in the bottom row of rightmost column of the input obstacle grid, then return 1 since from the botom row, we can only move right to reach the bottom-right corner of the input grid. If our robot is in the rightmost column of the grid, it can only move down to reach the bottom-right corner of the right input grid. If we're in the bottom-right corner, then the number of unique paths from the top-left corner (which would also be the bottom-right corner) to the bottom-right corner would be 1 since we would already be at the bottom-right corner. If we encounter an obstacle at our current grid position, return 0 since the robot cannot move to any grid space with an obstacles, so this grid space cannot contribute anything to the number of unique paths to the bottom-right corner and doesn't have one itself. If our current row index or column index is out of bounds for the number of rows and number of columns (or size of the first dimension and size of the second dimension) respectively, return 0. We cannot compute the number of unique paths when the robot isn't even on the grid itself. \n",
    "\n",
    "Let m represent the number of rows in the input obstacle grid and n represent the number of columns \n",
    "Runtime Analysis: In the worst-case scenario, there's no obstacles on the board, so we cannot ignore some recursive calls for unique inputs. Therefore, we will have a recursive call in the recursion stack waiting to be executed in LIFO order where the row index ranges from 0 to rows-1 and the column index ranges from 0 to cols-1. Let m = number of rows in the input obstacle grid and n = number of columns in input obstacle grid. We will make O(m*n) recursive calls for each unique coordinate input, so we will have to execute all these calls once we hit the base case. Therefore, the overall runtime for both the top-down and bottom-up approach is O(m*n).\n",
    "\n",
    "Space Complexity: The bottom approach will make the memory consumption very clear. It stores m lists of n entries each for a grand total memory usage of O(m*n). In the case of the top-down approach, we maintain both a cache for constant-time lookup of the result corresponding to a duplicate input and the recursive stack is implicitely generated as a result of all the recursive calls. Both will need to store an upper bound of m*n elements, so the memory consumption for both data structures (one of which is an auxillary data structure) is O(m*n), \n",
    "\n",
    "Optimized Bottom-Up Approach:\n",
    "Notice that at any point in time, the only two rows we need from the 2d matrix dp matrix are the next row and the current row. Therefore, let's extract these out and only have a 1d array for each of them. At the end of each outer loop iteration, prior to moving on to the previous row, we can update the next row to become the current row since we move backwards through the rows. These are the two auxillary data structures we will need to count towards the memory consumption of the optimized bottom-up approach. therefore, the overall memory usage is O(n) since each of the next row and the current row lists store column particular row, and we know the array dp to have n column entries per row."
   ]
  },
  {
   "cell_type": "code",
   "execution_count": null,
   "id": "a27ad739",
   "metadata": {},
   "outputs": [],
   "source": [
    "#Top-Down Approach (Memoization)\n",
    "class Solution:\n",
    "    def uniquePathsWithObstacles(self, obstacleGrid: List[List[int]]) -> int:\n",
    "        def dp(i,j,paths_per_position,obstacleGrid):\n",
    "            rows = len(obstacleGrid)\n",
    "            cols = len(obstacleGrid[0])\n",
    "            \n",
    "            if i >= rows or j >= cols or obstacleGrid[i][j] == 1:\n",
    "                return 0\n",
    "            \n",
    "            if i == rows-1 and j == cols-1:\n",
    "                return 1\n",
    "            \n",
    "            if (i,j) in paths_per_position:\n",
    "                return paths_per_position[(i,j)]\n",
    "            \n",
    "            paths_per_position[(i,j)] = dp(i+1,j,paths_per_position,obstacleGrid) + dp(i,j+1,paths_per_position,obstacleGrid)      \n",
    "            return paths_per_position[(i,j)]\n",
    "        \n",
    "        paths_per_position = dict()\n",
    "        return dp(0,0,paths_per_position,obstacleGrid)"
   ]
  },
  {
   "cell_type": "code",
   "execution_count": null,
   "id": "6649f1df",
   "metadata": {},
   "outputs": [],
   "source": [
    "#Bottom-Up Approach (Tabulation)\n",
    "class Solution:\n",
    "    def uniquePathsWithObstacles(self, obstacleGrid: List[List[int]]) -> int:\n",
    "        rows = len(obstacleGrid)\n",
    "        cols = len(obstacleGrid[0])\n",
    "        dp = []\n",
    "        for i in range(rows):\n",
    "            list = []\n",
    "            for j in range(cols):\n",
    "                list.append(0)\n",
    "            dp.append(list)\n",
    "            \n",
    "        dp[rows-1][cols-1] = 1\n",
    "        \n",
    "        for i in range(rows-1,-1,-1):\n",
    "            for j in range(cols-1,-1,-1):\n",
    "                if obstacleGrid[i][j] == 1:\n",
    "                    dp[i][j] = 0\n",
    "                elif i == rows-1 and j == cols-1:\n",
    "                    dp[i][j] = 1\n",
    "                elif i == rows-1:\n",
    "                    dp[i][j] = dp[i][j+1]\n",
    "                elif j == cols-1:\n",
    "                    dp[i][j] = dp[i+1][j]\n",
    "                else:\n",
    "                    dp[i][j] = dp[i][j+1] + dp[i+1][j]\n",
    "        \n",
    "        return dp[0][0]"
   ]
  },
  {
   "cell_type": "code",
   "execution_count": null,
   "id": "08362402",
   "metadata": {},
   "outputs": [],
   "source": [
    "#Optimized Bottom-Up Approach (Tabulation)\n",
    "class Solution:\n",
    "    def uniquePathsWithObstacles(self, obstacleGrid: List[List[int]]) -> int:\n",
    "        rows = len(obstacleGrid)\n",
    "        cols = len(obstacleGrid[0])\n",
    "            \n",
    "        next_row = [0 for i in range(cols)]\n",
    "        curr_row = [0 for i in range(cols)]\n",
    "            \n",
    "        curr_row[cols-1] = 1\n",
    "        \n",
    "        for i in range(rows-1,-1,-1):\n",
    "            for j in range(cols-1,-1,-1):\n",
    "                if obstacleGrid[i][j] == 1:\n",
    "                    curr_row[j] = 0\n",
    "                elif i == rows-1 and j == cols-1:\n",
    "                    curr_row[j] = 1\n",
    "                elif i == rows-1:\n",
    "                    curr_row[j] = curr_row[j+1]\n",
    "                elif j == cols-1:\n",
    "                    curr_row[j] = next_row[j]\n",
    "                else:\n",
    "                    curr_row[j] = curr_row[j+1] + next_row[j]\n",
    "            next_row,curr_row = curr_row,next_row\n",
    "            \n",
    "        return next_row[0]"
   ]
  }
 ],
 "metadata": {
  "kernelspec": {
   "display_name": "Python 3 (ipykernel)",
   "language": "python",
   "name": "python3"
  },
  "language_info": {
   "codemirror_mode": {
    "name": "ipython",
    "version": 3
   },
   "file_extension": ".py",
   "mimetype": "text/x-python",
   "name": "python",
   "nbconvert_exporter": "python",
   "pygments_lexer": "ipython3",
   "version": "3.9.12"
  }
 },
 "nbformat": 4,
 "nbformat_minor": 5
}
