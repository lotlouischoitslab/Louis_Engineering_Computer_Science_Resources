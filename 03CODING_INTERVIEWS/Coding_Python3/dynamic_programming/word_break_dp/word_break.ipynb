{
 "cells": [
  {
   "cell_type": "markdown",
   "id": "c622a90d",
   "metadata": {},
   "source": [
    "## https://leetcode.com/problems/word-break/"
   ]
  },
  {
   "cell_type": "markdown",
   "id": "3c54736e",
   "metadata": {},
   "source": [
    "# Algorithm\n",
    "\n",
    "Criterion for ability to segment:\n",
    "1. From the current starting index i, we will go through each of the dictionary words. Starting from index i, we will extract a substring with the same length as the current dictionary word. If both our substring and the dictionary word match, this criteria is met. If there is no match between any of the substrings and dictionary words, the first criterion is not met. \n",
    "\n",
    "2. The remainder of the substring that follows the part of the string that we had extracted when checking the first criterion should also satisfy the criteria for the ability to segment. \n",
    "\n",
    "Bottom-Up Approach (Tabulation):\n",
    "State variable:\n",
    "i = starting index of a substring for which we want to check the ability to segment.\n",
    "\n",
    "1. A function or data structure to compute/hold the answer to the problem for every state.\n",
    "2. We will maintain an array dp, which will store true if the index into this array is a starting index that meets the criteria for the ability to segment. Otherwise, we will store false. Remember that the index into this array is the starting index for a substring that spans all the way up to the end of input string s. So, in order for that entire substring to fulfill the criteria for ability to segment, we will need to go through each of the dictionary words and extract substirngs starting from the current index i all the way up to the length of the dictionary word + i (exclusive). The size of our array dp will be the length of the input string s. We will iterate backwards through this array starting from size of length - 1. We will update each of the array entries based on the recurrence relation. After we finish making a backwards pass through our array dp, we will check dp[0] and then return its value. This represents the ability for the entire string to segment into a sequence of one or more of the dictionary words. \n",
    "\n",
    "3. A recurrence relation to transition between states. \n",
    "Our recurrence relation is dynamic due to list of dictionary words. We can re-use the same dictionary word multiple times during the segmentation and we may not have to use some of the dictionary words at all during the segmentation. We have a variable number of choices, which implements the number of recursive calls that we will branch out to from our current recursive call if we were to implement the top-down approach. So, our recurrence relation cannot be static since we have iteration in our recurrence relation to iterate through each of our dictionary words, and the amount of dictionary words can vary from problem to problem. Depending on the match we can find between the substring we extract from string s and one of the dictionary words, we will make an additional recursive call or perform an array lookup of the value for the very next index that follows the length of the substring + i. This is for checking the second criterion for the ability to segment. \n",
    "\n",
    "Algorithm:\n",
    "1. Iterate through each of the dictionary words. For each, extract a substring starting from index i with the same length as the current dictionary word. Verify that both strings are equal. If they are move onto step 2. After going through all of the dictionary words, if there is no match between all of the dictionary words and the corresponding substring of s, set dp[i] = false. \n",
    "\n",
    "2. Add i to the length of the dictionary word. Update dp[i] to be true if the entru at this index is true. Otherwise, set dp[i] = false\n",
    "\n",
    "3. A base case to stop recursion.\n",
    "This will apply when checking if the second criterion for the ability to segemnt is satisfied. The first time we find a match between a substring of s and one of the dictionary words, the remainder of the substring we just extracted may be empty string. In other words, the starting of this empty string would be out of bounds for the length of the string so we cannot locate a corresponding array entry. So, we will specifically check from the algorithm for our recurrence relation if i + length of dictionary word == length of s. If so, we can update dp[i] to be true so long as the first criterion was met in the first place. \n",
    "\n",
    "Top-Down Approach:\n",
    "1. A function or data structure to compute/hold the answer to the problem for every state. We will implement a recursive function dp, which takes as input the state variable i. i is the starting index of a subtring that spans all the way to the end of the input string s. So, the return value for this function will be true if we are able to segment the substring starting from the index i into a sequence of one ore more dictionary words. Otherwise, we will return false. We will begin with a call to dp with an argument for i of value 0 since our ultimate goal is to figure out if we can segment the entir string into a sequence of one more dictionary words. All of our subproblems are overlapping as will be clear from our recurrence relations, so we will need to cache our intermediate results to that we can perfrom a constant time lookup from our dictionaryy data structure everytime we encounter a duplicate input. We will use the criteria for the ability to segment to shape our recurrence relation and what we will return from our function dp for our current recursive call. \n",
    "\n",
    "2. A recurrence relation to transition between states.\n",
    "The algorithm we came up with in the bottom-up approach will be similar to our top-down approach. So now, we'll iterate through each of the dictionary words. For each, we will extract a substring starting from index i with the same length as the current dictionary word. After verifying that both strings are equal we will make a recursive call with an argument for i of value i + length of the dictionary word. If we return true from this recursive call, return true ourselves. Otherwise, if either both the substring and the current dictionary word weren't equal in the first place, move onto the next dictionary word. If we run out of dictionary words for the current starting index i, return false. Also, if we had returned false from our recursive call with an argument for i of value i + length of the dictionary word, we will also return false ourselves. \n",
    "\n",
    "3. Base case to stop recursion: If i == length of s, return true. Remember that we can only go out of bounds for the length of the string when we have verifies a match between a substring whose very last index is also the last index of the input string s and the dictionary word. In this case, we will make a recursive call for the remainder of the string following the very last substring, which can't exist since our index is out of bounds for the length of string s. If we were to return false, instead, then for every possible input s or dictionary word we receive, we would always return false. This means that we would overlook a correct fulfillment of the ability to segment where the input string s could be segmented into a sequence of one or more dictionary words. \n",
    "\n",
    "Let N represent the length of the input string s and W represent the number of dictionary words, or the size of wordDict. \n",
    "\n",
    "Runtime Analysis: The time complexity of both the top-down and bottom-up approach are the same. So, let's analyze the runtime of the bottom-up approach since it's easier to come up with a Big-O expression. We have an outer loop that iterates backward through the string, so the total number of iterations for the outer loop is N. We have an inner loop that goes through each of the dictionary words, so the total number of iterations of the inner loop for each iteration of the outer loop is W. Within the nested for loops. we also perform a string equality check, which requires us to compare each character in the subtring of s and in the dictionary word. In the worst-case scenario, the dictionary word is the same as the input string s, so the string equally check will require O(N) time. Therefore, the overall runtime of both the bottom-up and top-down approach is O(N^2 * S). \n",
    "\n",
    "Space Complexity: We incorporate an auxillary data structure, which is the array dp in the bottom-up approach. This array has the same size as the length of the input string s, so it can store N entries. We also make a copy part of the string to store in the string substring. In the worst-case scneario, this substring will just be the entire string, but the lifetime of this variable is limited to the body of the nested for loop after which point it will be automatically recycled since it's stack memory. So, the overall memory usage for both the bottom up and top down approach is O(N). "
   ]
  },
  {
   "cell_type": "code",
   "execution_count": null,
   "id": "bcf71ad9",
   "metadata": {},
   "outputs": [],
   "source": [
    "#Bottom-Up (Tabulation) Approach\n",
    "class Solution:\n",
    "    def wordBreak(self, s: str, wordDict: List[str]) -> bool:\n",
    "        dp = [False for i in range(len(s))]\n",
    "        for i in range(len(s)-1,-1,-1):\n",
    "            for word in wordDict:\n",
    "                temp = s[i:i+len(word)]\n",
    "                #First Criterion\n",
    "                if temp == word:\n",
    "                    #Second Criterion\n",
    "                    remainder = i + len(word)\n",
    "                    if remainder == len(s) or dp[remainder] == True:\n",
    "                        dp[i] = True\n",
    "        return dp[0]"
   ]
  },
  {
   "cell_type": "code",
   "execution_count": null,
   "id": "322c4e57",
   "metadata": {},
   "outputs": [],
   "source": [
    "#Top-Down (Memoization) Approach\n",
    "class Solution:\n",
    "    def dp(self,i,s,wordDict,can_segment):\n",
    "        if i == len(s):\n",
    "            return True\n",
    "        if i in can_segment:\n",
    "            return can_segment[i]\n",
    "        can_segment[i] = False\n",
    "        for word in wordDict:\n",
    "            temp = s[i:i+len(word)]\n",
    "            if temp == word:\n",
    "                if self.dp(i+len(word),s,wordDict,can_segment):\n",
    "                    can_segment[i] = True\n",
    "                    \n",
    "            \n",
    "        return can_segment[i]\n",
    "            \n",
    "    def wordBreak(self, s: str, wordDict: List[str]) -> bool:\n",
    "        can_segment = dict()\n",
    "        return self.dp(0,s,wordDict,can_segment)"
   ]
  }
 ],
 "metadata": {
  "kernelspec": {
   "display_name": "Python 3 (ipykernel)",
   "language": "python",
   "name": "python3"
  },
  "language_info": {
   "codemirror_mode": {
    "name": "ipython",
    "version": 3
   },
   "file_extension": ".py",
   "mimetype": "text/x-python",
   "name": "python",
   "nbconvert_exporter": "python",
   "pygments_lexer": "ipython3",
   "version": "3.9.12"
  }
 },
 "nbformat": 4,
 "nbformat_minor": 5
}
