{
 "cells": [
  {
   "cell_type": "markdown",
   "id": "70c3c0d0",
   "metadata": {},
   "source": [
    "### https://leetcode.com/problems/can-make-palindrome-from-substring/"
   ]
  },
  {
   "cell_type": "code",
   "execution_count": 10,
   "id": "f4c61180",
   "metadata": {},
   "outputs": [],
   "source": [
    "def ispalindrome(s, replacement):\n",
    "    frequencies = dict()\n",
    "    \n",
    "    for char in s:\n",
    "        if char in frequencies:\n",
    "            frequencies[char] += 1\n",
    "        else:\n",
    "            frequencies[char] = 1\n",
    "    \n",
    "    for key in frequencies.keys():\n",
    "        if frequencies[key] % 2 == 0:\n",
    "            frequencies.pop(key)\n",
    "            \n",
    "    while replacements != 0:\n",
    "        #Increment the frequency for one of the odd frequencies and decrement the frequency or another\n",
    "        determine_increment = True\n",
    "        for key, val in (frequencies.items()):\n",
    "            if determine_increment:\n",
    "                frequencies.pop(key)\n",
    "                determine_increment = False\n",
    "            else:\n",
    "                frequencies.pop(key)\n",
    "                break    \n",
    "        replacements -= 1\n",
    "    \n",
    "    one_odd = False\n",
    "    if len(s) % 2 != 0:\n",
    "        one_odd = True\n",
    "    for val in frequencies.values():\n",
    "        if one_odd:\n",
    "            one_odd = False\n",
    "            continue\n",
    "        return False\n",
    "    return True\n",
    "\n",
    "def canMakePaliQueries(s,queries,list):\n",
    "    temp = []\n",
    "    for query in queries:\n",
    "        temp.append(ispalindrome(s[query[0]:query[1] + 1], query[2]))\n",
    "    return temp"
   ]
  },
  {
   "cell_type": "code",
   "execution_count": null,
   "id": "16bf97b8",
   "metadata": {},
   "outputs": [],
   "source": []
  }
 ],
 "metadata": {
  "kernelspec": {
   "display_name": "Python 3 (ipykernel)",
   "language": "python",
   "name": "python3"
  },
  "language_info": {
   "codemirror_mode": {
    "name": "ipython",
    "version": 3
   },
   "file_extension": ".py",
   "mimetype": "text/x-python",
   "name": "python",
   "nbconvert_exporter": "python",
   "pygments_lexer": "ipython3",
   "version": "3.9.12"
  }
 },
 "nbformat": 4,
 "nbformat_minor": 5
}
