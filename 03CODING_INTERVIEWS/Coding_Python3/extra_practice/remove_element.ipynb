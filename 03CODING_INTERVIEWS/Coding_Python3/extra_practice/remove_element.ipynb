{
 "cells": [
  {
   "cell_type": "markdown",
   "id": "81025d0c",
   "metadata": {},
   "source": [
    "### https://leetcode.com/problems/remove-element/"
   ]
  },
  {
   "cell_type": "code",
   "execution_count": 9,
   "id": "36b50a92",
   "metadata": {},
   "outputs": [],
   "source": [
    "def removeElement(nums, val):\n",
    "    slow = 0\n",
    "    for fast in range(len(nums)):\n",
    "        if nums[fast] != val:\n",
    "            nums[slow] = nums[fast]\n",
    "            slow += 1\n",
    "    return slow"
   ]
  },
  {
   "cell_type": "code",
   "execution_count": 11,
   "id": "43baf8cb",
   "metadata": {},
   "outputs": [],
   "source": [
    " def removeElement(nums, val):\n",
    "    start = 0\n",
    "    last = len(nums) - 1\n",
    "    #Last index of the elements not to remove\n",
    "    while start <= last:\n",
    "        if nums[start] == val:\n",
    "            nums[start] = nums[last]\n",
    "            last -= 1\n",
    "        else:\n",
    "            start += 1\n",
    "    return start"
   ]
  },
  {
   "cell_type": "code",
   "execution_count": 12,
   "id": "93f9b71b",
   "metadata": {},
   "outputs": [
    {
     "data": {
      "text/plain": [
       "2"
      ]
     },
     "execution_count": 12,
     "metadata": {},
     "output_type": "execute_result"
    }
   ],
   "source": [
    "#We allocate space for annother array. O(N)\n",
    "\n",
    "#Two Pointer Approach:\n",
    "#Maintain two pointers: a fast pointer and a slow pointer. The fast pointer is just going through the array \n",
    "#(Touch every element once)\n",
    "#Slow pointer will have temporary delay every time we encounter a number we want to remove\n",
    "#(i.2 number == val). The goal is to replace the number located at the fast pointer at the slow pinter with the number located at the fast pointer\n",
    "#if there is a slowdown or the number located at the slow pointer is something we want to remove\n",
    "\n",
    "#Ex. nums = [0,1,2,2,3,0,4,2] val = 2\n",
    "#slow = 5\n",
    "#fast = 7\n",
    "#ouptut = [0,1,3,0,4,_,_,_]\n",
    "#Runtime Complexity: O(N)\n",
    "#Worst case scenario: When none of the values exist in the array we will have to have both pointers traverse through the array\n",
    "#Space Complexity: O(1) We simplify modify the input array, replacing some of the elements when we encounter a slowdown. The size of\n",
    "#the input/output of the array never changes\n",
    "\n",
    "a = [3,2,2,3]\n",
    "targ = 3\n",
    "removeElement(a,targ)\n",
    "\n",
    "#Space Complexity: O(1) Everything is done in place. Size of the input array does not change. ALl we do is swap elements.\n",
    "#We swap elements when we see the element we want to remove."
   ]
  },
  {
   "cell_type": "code",
   "execution_count": null,
   "id": "87fc4e38",
   "metadata": {},
   "outputs": [],
   "source": []
  }
 ],
 "metadata": {
  "kernelspec": {
   "display_name": "Python 3 (ipykernel)",
   "language": "python",
   "name": "python3"
  },
  "language_info": {
   "codemirror_mode": {
    "name": "ipython",
    "version": 3
   },
   "file_extension": ".py",
   "mimetype": "text/x-python",
   "name": "python",
   "nbconvert_exporter": "python",
   "pygments_lexer": "ipython3",
   "version": "3.9.12"
  }
 },
 "nbformat": 4,
 "nbformat_minor": 5
}
