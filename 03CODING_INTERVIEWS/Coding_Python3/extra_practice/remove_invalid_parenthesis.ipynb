{
 "cells": [
  {
   "cell_type": "markdown",
   "id": "e8bd7026",
   "metadata": {},
   "source": [
    "### https://leetcode.com/problems/remove-invalid-parentheses/"
   ]
  },
  {
   "cell_type": "code",
   "execution_count": null,
   "id": "0ef8c0e2",
   "metadata": {},
   "outputs": [],
   "source": [
    "def removeInvalidParentheses(s: str):\n",
    "    "
   ]
  }
 ],
 "metadata": {
  "kernelspec": {
   "display_name": "Python 3 (ipykernel)",
   "language": "python",
   "name": "python3"
  },
  "language_info": {
   "codemirror_mode": {
    "name": "ipython",
    "version": 3
   },
   "file_extension": ".py",
   "mimetype": "text/x-python",
   "name": "python",
   "nbconvert_exporter": "python",
   "pygments_lexer": "ipython3",
   "version": "3.9.12"
  }
 },
 "nbformat": 4,
 "nbformat_minor": 5
}
