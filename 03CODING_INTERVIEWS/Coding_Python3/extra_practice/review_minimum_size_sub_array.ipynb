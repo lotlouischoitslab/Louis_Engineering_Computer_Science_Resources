{
 "cells": [
  {
   "cell_type": "markdown",
   "id": "21a8fbb6",
   "metadata": {},
   "source": [
    "### https://leetcode.com/problems/minimum-size-subarray-sum/"
   ]
  },
  {
   "cell_type": "code",
   "execution_count": 1,
   "id": "056bc7dd",
   "metadata": {},
   "outputs": [],
   "source": [
    "def minSubArrayLen(target, nums):\n",
    "    total = left = 0\n",
    "    result = len(nums) + 1\n",
    "    for right, n in enumerate(nums):\n",
    "        total += n\n",
    "        while total >= target:\n",
    "            result = min(result, right - left + 1)\n",
    "            total -= nums[left]\n",
    "            left += 1\n",
    "    return result if result <= len(nums) else 0"
   ]
  },
  {
   "cell_type": "code",
   "execution_count": 4,
   "id": "ccb08a10",
   "metadata": {},
   "outputs": [],
   "source": [
    "#Two pointer method\n",
    "def minSubArrayLen(target, nums):\n",
    "    minlen = 0\n",
    "    for i in range(len(nums)):\n",
    "        for j in range(i,len(nums)):\n",
    "            subarray = nums[i:j+1]\n",
    "            tot = sum(subarray)\n",
    "            if (tot >= target or len(subarray) < minlen):\n",
    "                minlen = len(subarray)\n",
    "    return minlen"
   ]
  },
  {
   "cell_type": "code",
   "execution_count": 5,
   "id": "25a02e8a",
   "metadata": {},
   "outputs": [
    {
     "data": {
      "text/plain": [
       "1"
      ]
     },
     "execution_count": 5,
     "metadata": {},
     "output_type": "execute_result"
    }
   ],
   "source": [
    "#Approach: Naive Approach O(N^2)\n",
    "#Algorithm:\n",
    "#1. Have a loop that goes through each number\n",
    "#2. Have an inner loop whose index starts 1 after the outer loop index and goes\n",
    "#through the remaining nums\n",
    "#3. Subarray is the part of the array that starts at the outer loop and end at indder loop index\n",
    "\n",
    "#target = 7, nums = [2,3,1,2,4,3]\n",
    "#outer = 0, inner = 1 ,2 ,3 ,4 ,5, 6\n",
    "#outer = 1, inner = 2, 3, 4, 5, 6\n",
    "#outer = 2, inner = 3, 4, 5, 6\n",
    "#and so on\n",
    "#If outer = 0 and inner = 3, subarray = [2,3,1]\n",
    "\n",
    "#4. Take the length of the subarray and check if it is greater or equal than the target\n",
    "#If so, compare its length to the minimum length and assign accordingly.\n",
    "\n",
    "#5. At the very end, after we have considered every outer loop and inner loop index,\n",
    "#return the minimum length which may be 0 if none of the continuous subarray have a sum greater than \n",
    "#or to the target\n",
    "target = 7\n",
    "nums = [2,3,1,2,4,3]\n",
    "minSubArrayLen(target, nums)"
   ]
  },
  {
   "cell_type": "code",
   "execution_count": null,
   "id": "fcab9df7",
   "metadata": {},
   "outputs": [],
   "source": []
  }
 ],
 "metadata": {
  "kernelspec": {
   "display_name": "Python 3 (ipykernel)",
   "language": "python",
   "name": "python3"
  },
  "language_info": {
   "codemirror_mode": {
    "name": "ipython",
    "version": 3
   },
   "file_extension": ".py",
   "mimetype": "text/x-python",
   "name": "python",
   "nbconvert_exporter": "python",
   "pygments_lexer": "ipython3",
   "version": "3.9.12"
  }
 },
 "nbformat": 4,
 "nbformat_minor": 5
}
