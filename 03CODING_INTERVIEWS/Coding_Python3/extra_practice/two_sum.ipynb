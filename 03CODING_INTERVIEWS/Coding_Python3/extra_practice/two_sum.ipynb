{
 "cells": [
  {
   "cell_type": "markdown",
   "id": "e46e5bd4",
   "metadata": {},
   "source": [
    "### https://leetcode.com/problems/two-sum/"
   ]
  },
  {
   "cell_type": "code",
   "execution_count": 10,
   "id": "bdf590da",
   "metadata": {},
   "outputs": [],
   "source": [
    "#Efficient Solution Two-Pointer approach\n",
    "#1. No extra memory usage\n",
    "\n",
    "def twoSum(numbers, target):\n",
    "    start = 0\n",
    "    end = len(numbers)-1\n",
    "    total = numbers[start] + numbers[end]\n",
    "    \n",
    "    while (total != target):\n",
    "        if (total > target):\n",
    "            end -= 1\n",
    "        else:\n",
    "            start += 1\n",
    "        total = numbers[start] + numbers[end]\n",
    "    list = [start + 1, end + 1]\n",
    "    return list\n",
    "    \n",
    "#Two-Pointer Approach has an advantage of no additional memory usage\n",
    "#Maintain a start and end pointer start at 0 and end at len(numbers) - 1\n",
    "#Every iteration check sum. if total is greater than target move end pointer left\n",
    "#otherwise move the start pointer one to right, if equal stop.\n",
    "\n",
    "#Runtime Analysis: O(N) N is the size of the numbers array\n",
    "#Space Complexity: O(1) "
   ]
  },
  {
   "cell_type": "code",
   "execution_count": 11,
   "id": "bd3d66b8",
   "metadata": {},
   "outputs": [
    {
     "name": "stdout",
     "output_type": "stream",
     "text": [
      "[1, 2]\n"
     ]
    }
   ],
   "source": [
    "#Example 1\n",
    "nums = [2,7,11,15]\n",
    "targ = 9\n",
    "out = twoSum(nums,targ)\n",
    "print(out)"
   ]
  },
  {
   "cell_type": "code",
   "execution_count": 13,
   "id": "f6620099",
   "metadata": {},
   "outputs": [
    {
     "name": "stdout",
     "output_type": "stream",
     "text": [
      "[1, 3]\n"
     ]
    }
   ],
   "source": [
    "#Example 2\n",
    "nums = [2,3,4]\n",
    "targ = 6\n",
    "out = twoSum(nums,targ)\n",
    "print(out)"
   ]
  },
  {
   "cell_type": "code",
   "execution_count": null,
   "id": "0cd8a336",
   "metadata": {},
   "outputs": [],
   "source": []
  }
 ],
 "metadata": {
  "kernelspec": {
   "display_name": "Python 3 (ipykernel)",
   "language": "python",
   "name": "python3"
  },
  "language_info": {
   "codemirror_mode": {
    "name": "ipython",
    "version": 3
   },
   "file_extension": ".py",
   "mimetype": "text/x-python",
   "name": "python",
   "nbconvert_exporter": "python",
   "pygments_lexer": "ipython3",
   "version": "3.9.12"
  }
 },
 "nbformat": 4,
 "nbformat_minor": 5
}
