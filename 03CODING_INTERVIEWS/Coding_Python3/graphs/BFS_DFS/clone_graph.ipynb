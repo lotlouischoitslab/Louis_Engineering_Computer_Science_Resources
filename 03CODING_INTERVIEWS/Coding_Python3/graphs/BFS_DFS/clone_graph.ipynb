{
 "cells": [
  {
   "cell_type": "markdown",
   "id": "d71f3498",
   "metadata": {},
   "source": [
    "## https://leetcode.com/problems/clone-graph/"
   ]
  },
  {
   "cell_type": "code",
   "execution_count": 2,
   "id": "ec2990c9",
   "metadata": {},
   "outputs": [],
   "source": [
    "# Definition for a Node.\n",
    "class Node:\n",
    "    def __init__(self, val = 0, neighbors = None):\n",
    "        self.val = val\n",
    "        self.neighbors = neighbors if neighbors is not None else []\n",
    "\n",
    "class Solution:\n",
    "    def cloneGraphhelper(self,node,visited):  \n",
    "        deep_copy = Node(node.val) #dictionary contains the values to be copied\n",
    "        visited[deep_copy.val] = deep_copy #dictionary stores a deep copy\n",
    "        neighbors = node.neighbors #neighbors\n",
    "        for i in range(len(neighbors)):\n",
    "            if neighbors[i].val in visited:\n",
    "                deep_copy.neighbors.append(visited[neighbors[i].val])\n",
    "            else:\n",
    "                deep_copy.neighbors.append(self.cloneGraphhelper(neighbors[i],visited))        \n",
    "         \n",
    "        return deep_copy \n",
    "         \n",
    "        \n",
    "    def cloneGraph(self, node: 'Node') -> 'Node':\n",
    "        if node is None:\n",
    "            return node\n",
    "        visited = dict() #this is a dictionary\n",
    "        return self.cloneGraphhelper(node,visited)"
   ]
  },
  {
   "cell_type": "markdown",
   "id": "77ad8ae4",
   "metadata": {},
   "source": [
    "# Algorithm\n",
    "#DFS Approach:\n",
    "#CREATE A DEEP COPY OF THE GRAPH\n",
    "#We know that Node_val is unique for each node, so the node will be referenced by its val.\n",
    "#Traverse every node in the graph for the deep copy and stop when the stack is empty. Our stack in this case, will store vertices that we have yet to traverse. Once we pop from the stack the very top node, that node is considered yet to be traversed. Our goal is to create a deep copy of the entire graph (so each of its nodes). What we will be pushing into the stack is a reference of the node we just popped since the node itself is a reference to the node in the original input graph. This means that once we pop from the stack, we don't need to create a deep copy of the node we just popped.  \n",
    "\n",
    "#To translate between the iterative and recursive approach, \"pushing to the stack\" refers to making a recursive with a deep copy of the node from the original graph as an argument, whereas \"popping\" from the stack refers to the first parameter of the recursive function, which we can use throughout it. \n",
    "\n",
    "#If our node passed in to the main cloneGraph function is a None, return empty node (sanity check). We will maintain a mapping from the value of on already visited node to its deep copy. Let's call this visited. We will create a recursive helper function whose first parameter is a reference to nodes from the original input graph and second parameter is the visited dictionary. The recursion stack, which is implicitly created as a result of recursive calls that must be executed in LIFO order once all the neighbor nodes of a particular node have been visited, will be the same stack if we were to use an iterative approach. After we pop from the stack, we can create a deep copy of the node we popped. For now, this deep copy can only store the same value that the node from the original graph did. We also have references to the neighbor nodes from the original graph, but the deep copy of our current node will need to store deep copies of the neighbor nodes in a list. We don't have these deep copies immediately available, so we'll assume that we can attain them once we return from the recursive function calls for all of our neighbor nodes. Therefore, we can add to our visited dictionary with deep copies of the neighbor nodes of the current vertex not already available. We know that what we will return from this recursive call will be a deep copy of the current vertex so we will need to populate the list of deep copies of the neighbors nodes of the current vertex prior to returning from this recursive call. All that is left to do is to populate this list. So, go through each of the neighbor nodes from the original input graph, and check if their value already exists as a key of the visited dictionary. If it does, we've already have a deep copy of the neighbor node available, so we will push this to the vector of neighbors. If not, we will call our recursive helper function on the neighbor node (that is, the reference to the neighbor node from the original input graph). We can push this result to the list of deep copies of neighbor nodes. That;s it. Return the deep copy. Note that we'll have circular dependency. So, my recursive call will have to wait on my neighbor's recursive call to return. However, my neighbor's recursive call will have to wait for mine to return. So, we're stuck until we have no neighbors left that have not already been visited in the entire graph. At that point, every recursive call can quickly be executed in LIFO order starting from the very last neighbor that the recursive function was invoked on and going up to the very first node that invoked the recursive function, which is the node from the original input graph with a value of 1. Returning to the idea of the dictionary, once the deep copy has all of its neighbor nodes' deep copies, the dictionary's deep copy will also be able to dereference the list of neighbor deep copies. The deep copies are stored in the heap memory, which is available to any of the recursive calls as long as the recursive call was made after the heap memory was allocated of while executing the recursive calls in LIFO order. \n",
    "\n",
    "#Runtime Analysis: O(V + E) where V is the number of vertices in the graph and E is the number of edges. We do a full traversal of the graph  in order to create deep copies of each of the nodes and assign these deep copies for the neighbor nodes of the vertices. This full traversal requires not only traversing the vertices but also the edges. We also don't make duplicate recursive calls for a particular node. Once a node has been visited, we lookup its deep copy from the visited dictionary in constant time. This is only necessary when we go through each of the neighbor nodes of the current vertex since our graph has undirected edges, so the node that let to the current vertex may be re-visited again if we follow that edge connection in the opposite direction. Looking up the dictionary of the deep copy from the dictionary prevents us from both re-visiting a previous node or re-traversing an edge.\n",
    "\n",
    "#Space Complexity: O(V) for the dictionary. The dictionary will store unique keys. Since we know that the values of each of the nodes are unique, the number of keys in the dictionary will be the total number of vertices in the graph. Therefore, the size of the dictionary is proportional to the number of vertices in the grpah. For our recursive stack, we make recursive calls for each unique node (since we will need to visite all nodes in a traversal of a fully-connected graph). As we determined above, the number of unique nodes is V, so the number of recursive calls in the recursion stack will be proportional to the number of vertices. Once recursive calls have been made for each unique vertex in the graph, all of these recursive calls will be executed in LIFO order and the circular dependencies will be resolved. Therefore, the memory footprint of the dictionary O(V) + the memory footprint of the recursion stack O(V) will yield to O(2V). So, our overall memory consumption is O(V) since we can ignore coefficients in our Big-O expressions. "
   ]
  },
  {
   "cell_type": "code",
   "execution_count": null,
   "id": "46159be9",
   "metadata": {},
   "outputs": [],
   "source": []
  }
 ],
 "metadata": {
  "kernelspec": {
   "display_name": "Python 3 (ipykernel)",
   "language": "python",
   "name": "python3"
  },
  "language_info": {
   "codemirror_mode": {
    "name": "ipython",
    "version": 3
   },
   "file_extension": ".py",
   "mimetype": "text/x-python",
   "name": "python",
   "nbconvert_exporter": "python",
   "pygments_lexer": "ipython3",
   "version": "3.9.12"
  }
 },
 "nbformat": 4,
 "nbformat_minor": 5
}
