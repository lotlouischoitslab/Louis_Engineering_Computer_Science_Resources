{
 "cells": [
  {
   "cell_type": "markdown",
   "id": "098e181a",
   "metadata": {},
   "source": [
    "# https://algomonster.medium.com/leetcode-261-graph-valid-tree-f27c212c1db1"
   ]
  },
  {
   "cell_type": "code",
   "execution_count": 6,
   "id": "04fadd15",
   "metadata": {},
   "outputs": [],
   "source": [
    "class Solution:\n",
    "    def validTree(self, n: int, edges):\n",
    "        def find(vertex,root):\n",
    "            if root[vertex] == vertex:\n",
    "                return vertex\n",
    "            root[vertex] = find(root[vertex],root)\n",
    "            return root[vertex]\n",
    "        def shouldUnion(x,y,root,rank):\n",
    "            rootx = find(x,root)\n",
    "            rooty = find(y,root)\n",
    "            if rootx == rooty:\n",
    "                return False\n",
    "            if rank[rootx] > rank[rooty]:\n",
    "                root[rooty] = rootx\n",
    "            elif rank[rootx] < rank[rooty]:\n",
    "                root[rootx] = rooty\n",
    "            else:\n",
    "                root[rooty] = rootx\n",
    "                rank[rootx] += 1\n",
    "            return True\n",
    "        \n",
    "        \n",
    "        \n",
    "        root = [0 for x in range(n)]\n",
    "        rank = [1 for x in range(n)]\n",
    "        for i in range(n):\n",
    "            root[i] = i\n",
    "        \n",
    "        distinct_roots = n\n",
    "        for elem in edges:\n",
    "            if not (shouldUnion(elem[0],elem[1],root,rank)):\n",
    "                return False\n",
    "            distinct_roots -= 1\n",
    "            \n",
    "        return distinct_roots == 1"
   ]
  },
  {
   "cell_type": "markdown",
   "id": "bdd82fc2",
   "metadata": {},
   "source": [
    "## Algorithm Explanation\n",
    "A graph is a tree and only if the two following conditions are met:\n",
    "1. The graph is fully connected. For every pair of nodes in graph G, there is a path between them.\n",
    "\n",
    "2. The graph is acyclic. There is exactly one path between each pair of nodes in graph G.\n",
    "\n",
    "For the graph to be a valid tree, it must contain exactly n - 1 edges. If it contains less edges, then it can't be fully connected. IF the graph contains exactly n - 1 edges and is fully connected, then we know that it can't contain a cycle, so it must be a tree. \n",
    "\n",
    "\n",
    "We have two ways of doing this: after the for loop where we call the union function to establish a connection between the pair of vertices it wants to create an edge between, we can traverse the root nodes and check how many times the parent of the vertex is equal to the vertex itself. We should count exactly one root node, meaning that all nodes belong to the same set, and thus, for every pair of nodes in the graph, there is a path between then (graph is fully connected). \n",
    "\n",
    "To test the first condition, when merging the sets of two vertices, we will first check to see if the root nodes of both vertices are the exact same, meaning that they already belong to the same set, and there is no reason to union their respective sets together. We are given in the constraints of the problem that there are no repeated edges, meaning that each entry of the edges vector is distinct (we will not be asked to establish an edge connection between the same pair of vertices again). So, if we discover that the vertices already belong to the same set, and we know that we have not already directly established an edge between both of the vertices, then we will be creating a cycle by trying to link the vertices together since it is no longer the case that there is exactly on path between each pair of nodes in the graph (the cycle creates for more than one path).  \n",
    "\n",
    "We can also check that the graph contains exactly n - 1 edges by equating the size of the 2d matrix edges in the first dimension with the number of nodes in the graph n (the first parameter) - 1. By testing the first condition above, we prevent each pair of nodes, from having more than one path between them. By testing this next condition that the graph contain exactly n - 1 edges, we ensure that there is a path between every pair od nodes, so overall there will be no cycles in the graph, and that graph will be a tree.\n",
    "\n",
    "Find function: We are going to use path compression. We can define our function find to be recursive. Every recurrence function requires a bse case and a recurrence relation. Our find function will return the root node for the input vertex. The base case will occur when we find that root node, so when the parent node of the input vertex is equal to the vertex itself. The recurrence relation is the relationship between the result of the subproblem and the result of the problem. We know that every node that we must traverse starting from the initial input vertex  will share the root node of the initial input vertex. So after we hit the base case and start executing the recursive calls in LIFO order, then we can update the root nodes of all the nodes we have visited, which are the parent nodes of the recursive caller function that invoked this current recursive call with this current parent node. So we'll take the result of the subproblem, or the return value of the find function, and assign it to the root node of the passed in input vertex before returning it. \n",
    "\n",
    "Union function: We're going to use the union by rank algorithm. First, we must find root nodes of the input vertices. Then, make sure that the root nodes are not already the same. If they are, then the two vertices already belong to the same set, so establishing an edge connection between them would create a cycle in the graph. Therefore, return false. The graph is not a valid tree.  If they're not equal to one another, then we will compare the ranks of the root nodes. The rank represents the height of a tree rooted at the root node, so when we union two sets together with their own represented trees, we would like to minimize the height of the tree of the merged set. To do this, the tree with the smaller height should become a subtree of the tree of the larger height. Therefore, if we discover that the rank of the root node of vertex x is greater than the rank of the root of y, then the root of x should become the root of the merged set, so we should update the root of y's root to become the root of x. Therefore, previously what was y's root will no longer be root node. On the other hand, if we discover that the rnak of the root node of vertex y is greater than the rank of the root ndoe of vertex x, then we should update the root of x's root to become the root of y. If both the trees that represents each of the sets have the same height, meaning that the rank of each of the root nodes are equal, then we can choose either of the root nodes to become the root node of the merged set. We arbitrarily choose the root of x to become the root node of the merged set, which means that the tree representing the set with x's root as the root node will increase in height by 1, so the root of x should increase in rank by 1.\n",
    "\n",
    "validTree function: First we must check that the number of edges is equal to the number of nodes - 1. Otherwise, the graph cannot be fully-connected, which violates the first condition of a tree graph. We will go through each edge and call the union function with the first node of the edge as the first argument and the second node of the edge as the second argument. If the union function returns false, we'll return false as well since we've determined that the graph is not a valid tree. At the very end, after we have gone through every edge, if we have not already returned false, return true because this means that every set we tried to union were disjoint and the vertices we tried to merge into the same set were initially of distinct sets.\n",
    "\n",
    "Runtime Analysis: The runtime of the find function with path compression is O(alpha(N)) where alpha represents the Inverse Ackerman function. In principle, we assume this function is constant. However, the reality is that it's constant time operation in the average case. The union function makes two calls to the find function for each of the input vertices, and all other work to compare the ranks of the root nodes or to update the array entries is constant. So, the inverse Ackerman function also dominates the runtime of the union function. Inside the validTree function, we call the union function inside a loop that is going through each of the esges. Let the number of edges be N = n - 1 where n is number of nodes in the graph. The overall runtime of this algorithm is O(N*alpha(N)) .\n",
    "\n",
    "Space Complexity: We'll need two arrays of size n to store the root nodes of each vertex and the ranks of each vertex. So our overall memory usage is O(n) where n is equal to number of nodes in the graph. "
   ]
  },
  {
   "cell_type": "code",
   "execution_count": null,
   "id": "604e19d6",
   "metadata": {},
   "outputs": [],
   "source": []
  }
 ],
 "metadata": {
  "kernelspec": {
   "display_name": "Python 3 (ipykernel)",
   "language": "python",
   "name": "python3"
  },
  "language_info": {
   "codemirror_mode": {
    "name": "ipython",
    "version": 3
   },
   "file_extension": ".py",
   "mimetype": "text/x-python",
   "name": "python",
   "nbconvert_exporter": "python",
   "pygments_lexer": "ipython3",
   "version": "3.9.12"
  }
 },
 "nbformat": 4,
 "nbformat_minor": 5
}
