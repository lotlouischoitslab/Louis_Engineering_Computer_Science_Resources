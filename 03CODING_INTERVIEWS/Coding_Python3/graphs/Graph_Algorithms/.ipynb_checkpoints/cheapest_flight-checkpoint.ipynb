{
 "cells": [
  {
   "cell_type": "markdown",
   "id": "114b99b4",
   "metadata": {},
   "source": [
    "### https://leetcode.com/problems/cheapest-flights-within-k-stops/"
   ]
  },
  {
   "cell_type": "code",
   "execution_count": null,
   "id": "4f0f9c80",
   "metadata": {},
   "outputs": [],
   "source": [
    "class Solution:\n",
    "    def findCheapestPrice(self, n: int, flights: List[List[int]], src: int, dst: int, k: int) -> int:\n",
    "        pass"
   ]
  },
  {
   "cell_type": "markdown",
   "id": "0313b9f3",
   "metadata": {},
   "source": [
    "# Algorithm\n",
    "\n",
    "### Bellman-Ford with Dynamic Programming \n",
    "We are only implementing this approach since we are asked to find the minimum path cost (or cheapest price) from the source vertex (source city) to the destination vertex (destination city) of paths consisting of at most k+1 edges where k is the number of stops we can have in total in our path from the source to destination vertex. We will need a 2d matrix array where the index into the first dimension is at most the number of edges the path can continue (starting from 0 and going to V - 1 where V = n = total number of cities in flight graph). By providing this index into the first dimension, we will retrieve a list representing the minimum path cost for each vertex in the graph (or the minimum path cost from the source vertex to the vertex used as an index into this 1d list using at most x number of edges in the path where x is an index into the first dimension of the 2d matrix). Once we finish populating the minimum path costs for the kth row, we can check the list entry for the destination vertex and return this from the function. However, we can optimize our space even more. We have no need for a full 2d matrix. At any moment in time, we will only need two rows from it: the current and previous row, so let's store them in separate 1d lists. Before moving onto the next row, we can update the previous row to become the current row and update the current row contents accordingly when figuring our the minimum path costs if we were to increase the number of edges allowed at most by 1. We will also need an adjacency list where the index into the first dimension of the 2d matrix is the node to which the directed edges is incident to (meaning the destination of the flight or the vertex to whcih the directed edges point to). This may be opposite for our intial intuitions, but it will make it much easier to identify the city from which the flight departed in our to reach our own city as that we can add the minimum path cost to reach the departing city to the edge weight or the flight cost to reach our arrival city. So the list we retrive from using the arrival city as an index into the first dimension would be departing cities from which there are directed edges pointing to the arrival city. Essentially, we are starting the adjacent nodes of each vertex backwards. These list entries of the 2d adjacency list will need to be tuple pairs where the first element is the departing city and the second element is the cost to go from the departing city to the arrival city. If we don't store this flight cost in the tuple pair itself, we will lose track of it when we are supposed to add the edge weight to the minimum cost of reaching the departing city from the source node. \n",
    "\n",
    "State Variable: e is the number of edges that we allow at most for all paths from the source so destination vertex to have.\n",
    "#t is the target vertex to which we are building a path from the source node. Every vertex in the group will need to be considered a target vertex as we build paths, but there is only ultimately one destination vertex. In our 1d list for the current row and previous row, this target vertex will be an index into the lists.\n",
    "\n",
    "1. A function/data structure to compute/hold the answer to the problem for every state\n",
    "\n",
    "Bottom-Up Approach (Tabulation with optimized memory usage): We will store a list for the current row and next row of the 2d matrix representing the minimum path costt corresponding to the number of edges allowed at most and the target vertex to which we are building a path. The difference between the current row and the previous row is that the current row allows at most 1 extra edge in the path. As we move from the current row to the next row, we will increase the number of edges we allow in our paths from the source to each of the target vertices by 1. We will have a for loop tha iterates through each e from 0 to k and inner for loop that iterates through each t from 0 to n - 1 (inclusive) since the vertices of the graph (i.e the city labels) are 0-indexed. \n",
    "\n",
    "2. A recurrence relation to transition between states.\n",
    "As long as the number of edges allowed for each path from the source vertex to each of the target vertices is not 0, the following recurrence relation will hold.\n",
    "\n",
    "dp[e][t] = min(dp[e-1][t], dp[e-1][d] + weight(d,t)) where d is the departing city from which there are directed edges to the target city. Along with the list of departing city nodes that we can receive from the adjacency list, the second element in tuple pair will be the weight, which is the flight cost to travel from the departing to arrival city. \n",
    "\n",
    "3. Base case to stop recursion\n",
    "When e = 0, or the number of edges allowed at most is 0, we can only compute the minimum path cost from the source node to itself, which will be 0 since there are no edges from which we can sum up edge weights in this path. This means that dp[0][source node] = 0 and dp[0][non source node] = infinity. We initialize all entries in our current row list to infinity since we don't yet have a minimum path cost from the source vertex to the target vertex with at most e edges allowed for the path. For the 0th row, which will initially serve as the previous row, we cannot find a path from the source vertex to all other target vertices that are not the source vertex with for all paths with at most 0 edges, so we leave those entries at infinity. \n",
    "\n",
    "Let V represent the number of vertices in a graph (V = n) and E represent the number of edges in the graph (E = lenght of flight)\n",
    "Runtime Analysis: In the worst-case scenario, our graph is a complete vertex, meaning that there is a directed edge from every vertex to every other vertex in the graph. Our graph is not guaranteed to be a DAG since we can have cycles, so a complete graph is very much a possibility. In this case, we would have to check every path from every vertex while also limiting the number of edges a path may contain at most at any given moment in time. We also have an outer for loop that iterates through the number of stops allowed at most for the flight plan. Our inner for loop goes through each of the target vertices, and every vertex is considered a target vertex, including the source vertex. We also need to establish edge connections in our adjacency list, which requires looping through the input 2d matrix consisting of flight information where the number of list entries is the total number of directed edges e have in the graph. This will require a runtime of O(E), which is independent of the time complexity for the nested for loops. So, the overall runtime for Bellman-Ford Algorithm using DP is O(V*E). \n",
    "\n",
    "Space Complexity: We maintain an adjacency list where for all vertices we have a total of E edges directed edges that are incident to the arrival city used as an index into  the first dimension of the adjacency list. The memory footprint for this adjacency list is O(V + E). We also maintain two 1d lists representing the current row and previous row of the 2d matrix described above. They each store V entries since we need to retain the minimum path cost from the source to destination vertex while limiting the number of edges we can have at most. So, the overall memory usage of Bellman-Ford using Dynamic Programming is O(3V + E) which simplifies down to O(V + E). \n",
    "\n"
   ]
  },
  {
   "cell_type": "code",
   "execution_count": null,
   "id": "be189064",
   "metadata": {},
   "outputs": [],
   "source": []
  }
 ],
 "metadata": {
  "kernelspec": {
   "display_name": "Python 3 (ipykernel)",
   "language": "python",
   "name": "python3"
  },
  "language_info": {
   "codemirror_mode": {
    "name": "ipython",
    "version": 3
   },
   "file_extension": ".py",
   "mimetype": "text/x-python",
   "name": "python",
   "nbconvert_exporter": "python",
   "pygments_lexer": "ipython3",
   "version": "3.9.12"
  }
 },
 "nbformat": 4,
 "nbformat_minor": 5
}
