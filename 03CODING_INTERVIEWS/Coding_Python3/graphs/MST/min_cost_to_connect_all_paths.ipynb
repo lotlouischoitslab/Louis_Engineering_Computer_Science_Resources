{
 "cells": [
  {
   "cell_type": "markdown",
   "id": "59aa7af7",
   "metadata": {},
   "source": [
    "#### https://leetcode.com/problems/min-cost-to-connect-all-points/"
   ]
  },
  {
   "cell_type": "markdown",
   "id": "217ae3d7",
   "metadata": {},
   "source": [
    "# Kruskal Algorithm\n",
    "Idea behind Kruskal's Algorithm: Add edges with the least weight and do not create any cycles. Among the edges that don't create a cycle, pick the edge with least weight. \n",
    "\n",
    "#### Three steps:\n",
    "1. Sort the edges in ascending order-based on their weights.\n",
    "2. Add edges in the order enforced by step 1 to the minimum spanning tree and skip edges that produce cycles in the MST:\n",
    "3. Repeat step 2 until the MST contains n - 1 edges. \n",
    "\n",
    "Let's start with step 1. We want to sort the weights in such a way that we don't lose track of the edges with the corresponding weight cost. So, we will maintain a mapping from the points that comprise an edge as a key to the weight of the edge (which is the Manhattan Distance between the two points) as a value. This mapping will be done in a form of a pair of a key mapped to a value, and we can store a list of these pairs. If the key were a tuple of lists, indexing into this tuple and the lists would become pretty cumbersome, so let's instead take a tuple of ints to be the key. These ints are an index into the 2d matrix of points and the tuple should consist of unique elements meaning that we are connecting two unique points with an edge and want to store the corresponding edge weight as a value.\n",
    "\n",
    "Sort the key value pairs by their values in ascending order using a sort dictionary function. We will also establish edge connections among the points in such a way that we pick edges with the least weight while not creating any cycles. \n",
    "We will implement the union-find data structure and incorporate path compression and union by rank algorithm in order to reduce our runtime down to O(alpha(V)). In principle, we assume it's constant, but in reality, in the average case, it's constant.\n",
    "\n",
    "Find function: We will incorporate path compression to reduce the runtime down to O(alpha(V)). With path compression, our find function will be recursive, meaning that we need both a base case and recurrence relation.\n",
    "\n",
    "Base Case: If the parent node of the passed in vertex is equal to vertex itself then return vertex. By definition, the vertex is the root node. The purpose of the find function is to fing the root node of the input vertex, so we can return this vertex.\n",
    "\n",
    "Recurrence Relation: We will call the find function once again on the parent of the passed-in vertex. However, once we reach the base case and start executing the recursive calls in LIFO order, notice that the parent nodes of the original input vertex also share the same root node, so we can update their root nodes to the return value of the recursive call to find. Then, we can return this updated root node. \n",
    "\n",
    "Union function: In the union function, we will first make two calls to find the root node for each of the input vertices. These calls to the find function will also dominate the runtime for the union function. We will implement the union by rank algorithm in order to reduce the runtime down to O(alpha(V)). First, we check if the root of the first vertex is equal to the root of the second vertex. If, so we can return from the false since both of the vertices already belong to the same set. If not, we will compare their ranks. So, if the rank of the root of the first vertex is greater than the rank of the root of the second, we will update the root of the second vertex's root to be th efirst vertex's root and vice versa. However, if both ranks are equal, we will choose to update the root of the second vertex's root to be the firstt vertex's root (it doesn't really matter which we update). However, we will have to update the rank of the first vertex's root to be incremented by 1.\n",
    "\n",
    "Runtime Analysis: We will also need to loop through the edges in a nested loop. Let's envision a matrix where the index into the first dimension matrix and the index into the second dimension matrix are both points and the entry that corresponds to the indices is the Manhattan Distance between the points. We have a nested for loop that goes through the upper right triangle of this matrix. Let's denote the number of points (or number of vertices in the graph) as V. Then, the number of total edge connections we would have for a complete graph would be V * (V - 1) / 2 . Therefore, an upper bound in the runtime for calculating the Manhattan Distance between each of the vertices and adding these edge to weight pair mappings to the list would be O(V^2). Next, we must sort these esge-to-weight mappings based on the weights (i.e the Manhattan Distance of the two points comprising the edge). The runtime for sort is O(V^2 * log(V^2)). This can be simplified down to O(V^2 * log(V)). Then, we go through all of the edges as if our graph were complete, and perform the union-find operation on both of the vertices/points that comprise the edge. We know that the union function will return false if both of the vertices already belong to the same set (or share the same root node), meaning that establishing an edge connection between them would create a cycle and violate the definition of a spanning tree. We loop through our list of edge-to-weight mappings, and for each, we peform the union operation. The amortized time complexity for the union by rank algorithm is dominated by the runtime of the find function with path compression, which is O(alpha(V)) where alpha represents the Inverse Ackermann function. In principle, we assume this is constant, but in reality, in the average case, it's constant. So, the time complexity for this loop over the list of edge-to-weight mappings is O(V^2 * alpha(V)). The overall time complexity of this algorithm is dominated by the first nested for loop, so it's O(V^2 * logV).\n",
    "\n",
    "Space Complexity: We maintain an auxillary data structure, which dominates the overall memory consumption. It's a list of edge-to-weight are the Manhattan Distance between the two vertices comprising the edge. We determine in the runtime analysis above that the size of the number of edge to weight mappings we have is (V*(V-1))/2 when we envision a complete graph where there is an edge from every vertex to every other vertex. If our sorting algorithm were merge sort, we would require an extra merged array to store the merged contents, which would serve as a subarray for a previous recursive call before the memory is automatically recycled. When we merge the original two subarrays together (but their contents were separately sorted), our overall merged array, which we would need to return from the function would need to hold as many contents as the original array passed in as input was able to hold. So, the memory footprint for the mergesort algorithm is O(V), and we will follow this memory usage for the the default sorting algorithm of Python as well. For the union find data structure, we will need to maintain a root and rank array where the index into each of these arrays represent an index into the original 2d matrix points, so each of the indices represents a vertex of the graph. Therefore, they will both require O(V) space each. The overall memory is dominated by the list of edge-to-weight mappings and is thus O(V^2) as an upper bound. "
   ]
  },
  {
   "cell_type": "code",
   "execution_count": null,
   "id": "80d3f264",
   "metadata": {},
   "outputs": [],
   "source": [
    "class Solution:\n",
    "    def calculateManhattanDistance(self,point1,point2):\n",
    "        return abs(point1[0] - point2[0]) + abs(point1[1] - point2[1])\n",
    "    \n",
    "    def compare(self,ew1,ew2):\n",
    "        return ew1.value < ew2.value\n",
    "    \n",
    "    def find(self,vertex,root):\n",
    "        if root[vertex] == vertex:\n",
    "            return vertex\n",
    "        root[vertex] = self.find(root[vertex],root)\n",
    "        return root[vertex]\n",
    "    \n",
    "    def union(self,x,y,root,rank):\n",
    "        xroot = self.find(x,root)\n",
    "        yroot = self.find(y,root)\n",
    "        if xroot == yroot:\n",
    "            return False\n",
    "        if rank[xroot] > rank[yroot]:\n",
    "            root[yroot] = xroot\n",
    "        elif rank[yroot] > rank[xroot]:\n",
    "            root[xroot] = yroot\n",
    "        else:\n",
    "            root[yroot] = xroot\n",
    "            rank[xroot] +=1 \n",
    "        \n",
    "        return True\n",
    "        \n",
    "    def minCostConnectPoints(self, points: List[List[int]]) -> int:\n",
    "        edge_weights = dict()\n",
    "        for i in range(len(points)):\n",
    "            for j in range(i+1,len(points)):\n",
    "                key = (i,j)\n",
    "                out = self.calculateManhattanDistance(points[i],points[j])\n",
    "                edge_weights[key] = out \n",
    "            \n",
    "                \n",
    "        edge_weights = dict(sorted(edge_weights.items(), key=lambda item: item[1]))\n",
    "        \n",
    "        mincost = 0\n",
    "        root = [0 for n in range(len(points))]\n",
    "        rank = [1 for n in range(len(points))]\n",
    "        \n",
    "        for i in range(len(points)):\n",
    "            root[i] = i\n",
    "        \n",
    "        for key in edge_weights.keys():\n",
    "            #print(key)\n",
    "            if self.union(key[0],key[1],root,rank):\n",
    "                mincost += edge_weights[key]\n",
    "                \n",
    "        return mincost"
   ]
  },
  {
   "cell_type": "markdown",
   "id": "1908cff6",
   "metadata": {},
   "source": [
    "# Prim's Algorithm"
   ]
  },
  {
   "cell_type": "code",
   "execution_count": null,
   "id": "9b381490",
   "metadata": {},
   "outputs": [],
   "source": []
  }
 ],
 "metadata": {
  "kernelspec": {
   "display_name": "Python 3 (ipykernel)",
   "language": "python",
   "name": "python3"
  },
  "language_info": {
   "codemirror_mode": {
    "name": "ipython",
    "version": 3
   },
   "file_extension": ".py",
   "mimetype": "text/x-python",
   "name": "python",
   "nbconvert_exporter": "python",
   "pygments_lexer": "ipython3",
   "version": "3.9.12"
  }
 },
 "nbformat": 4,
 "nbformat_minor": 5
}
