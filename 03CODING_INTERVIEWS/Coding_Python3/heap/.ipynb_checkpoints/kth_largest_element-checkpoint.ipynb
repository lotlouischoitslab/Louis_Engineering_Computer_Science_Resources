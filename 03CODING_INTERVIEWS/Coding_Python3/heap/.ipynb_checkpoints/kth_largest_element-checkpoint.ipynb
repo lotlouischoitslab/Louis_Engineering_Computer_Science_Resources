{
 "cells": [
  {
   "cell_type": "markdown",
   "id": "06fbe75a",
   "metadata": {},
   "source": [
    "### https://leetcode.com/problems/kth-largest-element-in-an-array/"
   ]
  },
  {
   "cell_type": "code",
   "execution_count": null,
   "id": "ed949f5e",
   "metadata": {},
   "outputs": [],
   "source": [
    "class Solution:\n",
    "    def findKthLargest(self, nums: List[int], k: int) -> int:\n",
    "        k = len(nums) - k\n",
    "        \n",
    "        def quickSelect(left,right):\n",
    "            pivot, p = nums[right], left\n",
    "            for i in range(left,right):\n",
    "                if nums[i] <= pivot:\n",
    "                    nums[p],nums[i] = nums[i],nums[p]\n",
    "                    p +=1\n",
    "                    \n",
    "            nums[p], nums[right] = nums[right], nums[p]\n",
    "            if p > k: return quickSelect(left, p - 1)\n",
    "            elif p < k: return quickSelect(p + 1,right) \n",
    "            else: return nums[p]\n",
    "        return quickSelect(0,len(nums)-1)\n",
    "                    \n",
    "  #Time Complexity: Average: O(n) Worst: O(n^2)\n",
    "  #Space Complexity: O(n)"
   ]
  },
  {
   "cell_type": "markdown",
   "id": "3017d20f",
   "metadata": {},
   "source": [
    "# Algorithm\n",
    "\n",
    "# Heap Approach 1: Max heap of size of N\n",
    "#Let N represent the size of nums or the amount of nums from which we are trying to find the kth largest element. \n",
    "#We will first construct a heap of size N by heapifying the input list of nums into max heap as opposed to creating an empty heap and individually inserting each of the nums into it. This can help use keep our runtime down from O(NlogN) to O(N) since each insert operation into the max heap has a time cost of O(logN) as a result of verifying that the second property of max heaps is met, that is, the value of each node should be no less than the values of each of its children nodes. A max heap's first property is that it is a complete binary tree, so we would need to start from the node just inserted into the max heap and check its parent and the parents oth e parent to detect violations of the second property. This means that we would have to traverse a path from the leaf node to the root node in the tree or a path of length H (which we know for a complete binary tree to be logN, so we need to traverse a path of length logN for each insertion operation. We would have to perform this insert operation for each of the N entries in the list of nums if the max heap were initialized to be empty. Instead, we will directly heapify the unput list of unsorted nums into a max heap using the Python library heapfiyq function. Next, we will remove the top element from the min heap, each time retaining it as that after K nodes are popped from the max heap, we can return it. Let K represent the entry (with a 1-based index for its location) from the list of sorted elements in descending order that we would like to find. \n",
    "\n",
    "#Runtime Analysis: As we discussed above, invoking the heapify function will have a time complexity of O(N). Also, for the top K nodes in the max heap, we will remove them. Each deletion operation costs O(logN) time for swapping the root node and the very last node (if we were to perform Breadth-First-Search, so the rightmost node in the very last level of the complete binary tree). Then, we remove the very last node, which would be the root node. Then, we potentially need to rearrange the nodes of the max heap to ensure that the second property of max heaps is still being met. We have already met the first property that the max heap is complete binary tree since swapping the root node and the very last node and then deleting the new very last node ensures that the new binary tree has all nodes pushed further left as a possible in the last level of the tree. We also need to satisfy the property that the value of each node should be no less that the value of its children, so if we notice a parent node with a child whose value is not less than or equal to itself, then we exchange the parent node with the child node of greatest value. Similar to the insertion operation, we perform this for a path of length logN, so the time complexity for the deletion operation is logN. We must repeat the deletion operation for the top K nodes of the max heap, so the overall runtime is O(N + KlogN).\n",
    "\n",
    "#Space Complexity: We need a max heap, which is an auxillary data structure since it's not required as a return value from the function. Therefore, we will need to take into account its memory footprint. The size of the max heap, as we determined above, has a size of N, so the overall memory usage is O(N) since the max heap is the complete binary tree with N nods whose values correspond to the entries in the input list of nums. \n",
    "\n",
    "#Heap Approach 2: Min Heap of size K \n",
    "#We will construct a heap of size K by heapifying the first K entries of the input list of nums into a min heap as opposed to creating an empty heap and then individually inserting the first K nums from the list of nums into it. This will reduce our runtime from O(KlogN) to O(K) since once again, each insertion operation into the max heap has a cost of O(logN) due to the need to verify that the second property of the max heap is met. The value of each node should be no greater than the values of each of its children nodes. SO, we would need to traverse a path starting from the leaf node up to the root node of length H (which we know for a complete binary tree to be logN). We would have to perform this insert operation for each of the first K entries from the input list of unsorted nums. So, we will instead directly heapify the first K elements into a max heap using the Python heapifyq function. Next, for each of the N - K remaining entries from the input list of nums, we will compare its value to the top element's value from the min heap and check if it's greater. If it's no greater than the value of the root node of the complete binary tree corresponding to the min heap, skip it and move to the next element as it is of no use for considering the top K elements from the original list of nums. Remember that the root node's value is the minimum out of all the contents in the min heap, so if the entry's value from the input list of nums starting after the first K elements is greater than the current top element's value of the min heap, then it will need to replace the top node (maybe not in its exact position, but the top element will need to be kicked out and it will need to enter in). So, we remove the top node, which is O(logN) operation and add the current list entry's value as a node to the min heap, which is once again an O(logN) operation as we determined above. After repeating this process for the remaining N - K elements, return the top element from the min heap. Out of the top K largest values from the input list of nums, it is the minimum value, so it is the Kth largest element in the list of nums. \n",
    "\n",
    "#Runtime Analysis: Heapification is O(K) as we determined above. For the remaining N - K entries of the list of nums, we determined that we can potentially delete the top element from the min heap and insert the current list entry based on some criteria. In the worst-case, we will need to repeat this process for all N - K entries, so the time complexity for this deletion operation coupled with an insertion operation is O(N - K) * (logN + logN). Each insertion and deletion operation have a cost of O(logk) since the total number of nodes in the min heap is K as opposed to N as we had above in approach 1. Remember that if we encounter a violation of the seocnd property of min heaps where the value of the parent node is indeed greater than the value of at least one of its child node, we will swap the parent node with the child node of less value. Therefore, the overall runtime is O(NlogK). \n",
    "\n",
    "#Space Complexity: We need a min heap, which is an auxillary data structure, meanin that it's not required as a return value from the function. SO, we will have to take into account its memory footprint. The size of the min heap, as we determined above, is K, so the overall memory usage is O(K) since the min heap is a complete binary tree with K nodes whose values at the very end correspond to the K largest values from the input list of nums. "
   ]
  },
  {
   "cell_type": "code",
   "execution_count": 1,
   "id": "dc31708e",
   "metadata": {},
   "outputs": [
    {
     "ename": "NameError",
     "evalue": "name 'List' is not defined",
     "output_type": "error",
     "traceback": [
      "\u001b[1;31m---------------------------------------------------------------------------\u001b[0m",
      "\u001b[1;31mNameError\u001b[0m                                 Traceback (most recent call last)",
      "Input \u001b[1;32mIn [1]\u001b[0m, in \u001b[0;36m<cell line: 1>\u001b[1;34m()\u001b[0m\n\u001b[1;32m----> 1\u001b[0m \u001b[38;5;28;01mclass\u001b[39;00m \u001b[38;5;21;01mSolution\u001b[39;00m:\n\u001b[0;32m      2\u001b[0m     \u001b[38;5;28;01mdef\u001b[39;00m \u001b[38;5;21mfindKthLargest\u001b[39m(\u001b[38;5;28mself\u001b[39m, nums: List[\u001b[38;5;28mint\u001b[39m], k: \u001b[38;5;28mint\u001b[39m) \u001b[38;5;241m-\u001b[39m\u001b[38;5;241m>\u001b[39m \u001b[38;5;28mint\u001b[39m:\n\u001b[0;32m      3\u001b[0m         heapq\u001b[38;5;241m.\u001b[39mheapify(nums) \n",
      "Input \u001b[1;32mIn [1]\u001b[0m, in \u001b[0;36mSolution\u001b[1;34m()\u001b[0m\n\u001b[0;32m      1\u001b[0m \u001b[38;5;28;01mclass\u001b[39;00m \u001b[38;5;21;01mSolution\u001b[39;00m:\n\u001b[1;32m----> 2\u001b[0m     \u001b[38;5;28;01mdef\u001b[39;00m \u001b[38;5;21mfindKthLargest\u001b[39m(\u001b[38;5;28mself\u001b[39m, nums: \u001b[43mList\u001b[49m[\u001b[38;5;28mint\u001b[39m], k: \u001b[38;5;28mint\u001b[39m) \u001b[38;5;241m-\u001b[39m\u001b[38;5;241m>\u001b[39m \u001b[38;5;28mint\u001b[39m:\n\u001b[0;32m      3\u001b[0m         heapq\u001b[38;5;241m.\u001b[39mheapify(nums) \n\u001b[0;32m      4\u001b[0m         temp \u001b[38;5;241m=\u001b[39m heapq\u001b[38;5;241m.\u001b[39mnlargest(k, nums)\n",
      "\u001b[1;31mNameError\u001b[0m: name 'List' is not defined"
     ]
    }
   ],
   "source": [
    "class Solution:\n",
    "    def findKthLargest(self, nums: List[int], k: int) -> int:\n",
    "        heapq.heapify(nums) \n",
    "        temp = heapq.nlargest(k, nums)\n",
    "        return temp[-1]"
   ]
  },
  {
   "cell_type": "code",
   "execution_count": null,
   "id": "1b135aa9",
   "metadata": {},
   "outputs": [],
   "source": []
  }
 ],
 "metadata": {
  "kernelspec": {
   "display_name": "Python 3 (ipykernel)",
   "language": "python",
   "name": "python3"
  },
  "language_info": {
   "codemirror_mode": {
    "name": "ipython",
    "version": 3
   },
   "file_extension": ".py",
   "mimetype": "text/x-python",
   "name": "python",
   "nbconvert_exporter": "python",
   "pygments_lexer": "ipython3",
   "version": "3.9.12"
  }
 },
 "nbformat": 4,
 "nbformat_minor": 5
}
