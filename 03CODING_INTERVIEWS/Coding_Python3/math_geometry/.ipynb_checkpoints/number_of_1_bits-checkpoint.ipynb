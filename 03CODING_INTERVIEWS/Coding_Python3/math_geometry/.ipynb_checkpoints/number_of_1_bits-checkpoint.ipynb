{
 "cells": [
  {
   "cell_type": "markdown",
   "id": "9ea9d37f",
   "metadata": {},
   "source": [
    "## https://leetcode.com/problems/number-of-1-bits/"
   ]
  },
  {
   "cell_type": "markdown",
   "id": "73bcb546",
   "metadata": {},
   "source": [
    "# Algorithm:\n",
    "\n",
    "Time Complexity: O(1)\n",
    "Space Complexity: O(1)\n",
    "\n",
    "First Approach: Loop and Bitwise And with Mask\n",
    "We will maintain a mask where the 1 bit gets left shifted by 1 every iteration. By bitwise ending it with the unsigned integer we're passed  in as input to our function hamingWeight, we can determine whether or not each bit in the binary representation of our unsigned integer is a 1 or 0. If the bitwise and yields anyhting but a 0, there is indeed a 1 located at the bit location of our binary mask. If it yields a 0, the exact opposite is true. \n",
    "\n",
    "Second Approach: Bit Manipulation\n",
    "Every iteration of our while loop, we will bitwise and n with n-1 and set the result of the bitwise and back to n. As a result of this bitwise and, if our least significant bit in n is a 1, then the least signigicant bit in n-1, will have to be a 0, so we essentially flip our least siginificant bit. Now, consider the bits to the left of the least significant bit. For the next rightmost bit that's a 1, by bitwise anding n with n-1, we will flip this bit and make it a 0. Eventually, we will reach the most significant bit and if it is a 1 we can bitwise and n and n-1, leaving us with n as a 0. What have we just done? Every iteration, we considered one bit in the binary representation of n that was a 1 and we flipped it and made it a 0. So, the total number of iterations of our while loop will be hammign weight. "
   ]
  },
  {
   "cell_type": "code",
   "execution_count": null,
   "id": "f9908d7a",
   "metadata": {},
   "outputs": [],
   "source": [
    "class Solution:\n",
    "    def hammingWeight(self, n: int) -> int:\n",
    "        count = 0\n",
    "        for i in bin(n):\n",
    "            if i == '1':\n",
    "                count +=1\n",
    "                \n",
    "        return count"
   ]
  }
 ],
 "metadata": {
  "kernelspec": {
   "display_name": "Python 3 (ipykernel)",
   "language": "python",
   "name": "python3"
  },
  "language_info": {
   "codemirror_mode": {
    "name": "ipython",
    "version": 3
   },
   "file_extension": ".py",
   "mimetype": "text/x-python",
   "name": "python",
   "nbconvert_exporter": "python",
   "pygments_lexer": "ipython3",
   "version": "3.9.12"
  }
 },
 "nbformat": 4,
 "nbformat_minor": 5
}
