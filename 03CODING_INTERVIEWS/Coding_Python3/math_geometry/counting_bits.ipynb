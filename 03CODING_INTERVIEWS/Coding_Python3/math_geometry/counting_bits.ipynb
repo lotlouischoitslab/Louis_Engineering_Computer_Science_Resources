{
 "cells": [
  {
   "cell_type": "markdown",
   "id": "8f8e888a",
   "metadata": {},
   "source": [
    "## https://leetcode.com/problems/counting-bits/"
   ]
  },
  {
   "cell_type": "code",
   "execution_count": null,
   "id": "156795ca",
   "metadata": {},
   "outputs": [],
   "source": [
    "#Time Complexity: O(1)\n",
    "#Space Complexity: O(1)\n",
    "#n - (n - (n%4)) "
   ]
  },
  {
   "cell_type": "code",
   "execution_count": null,
   "id": "60962ef4",
   "metadata": {},
   "outputs": [],
   "source": [
    "class Solution:\n",
    "    # Second Approach: Bit Manipulation\n",
    "    \n",
    "    def hamingWeight(self,i):\n",
    "        num_ones = 0\n",
    "        while i:\n",
    "            i = i & i-1\n",
    "            num_ones+=1\n",
    "        return num_ones\n",
    "    \n",
    "    def countBits(self, n: int) -> List[int]:\n",
    "        ans = [0 for i in range(n+1)] \n",
    "        for i in range(n+1):\n",
    "            ans[i] = self.hamingWeight(i)\n",
    "            \n",
    "        return ans"
   ]
  },
  {
   "cell_type": "code",
   "execution_count": null,
   "id": "ab5e3dd5",
   "metadata": {},
   "outputs": [],
   "source": [
    "class Solution:\n",
    "    # First Approach: Loop and Bitwise And with Mask\n",
    "    def hamingWeight(self,i):\n",
    "        num_ones = 0\n",
    "        while i:\n",
    "            if i & 1 == 1:\n",
    "                num_ones+=1\n",
    "            i >>= 1\n",
    "        return num_ones\n",
    "    \n",
    "    def countBits(self, n: int) -> List[int]:\n",
    "        ans = [0 for i in range(n+1)] \n",
    "        for i in range(n+1):\n",
    "            ans[i] = self.hamingWeight(i)\n",
    "            \n",
    "        return ans"
   ]
  }
 ],
 "metadata": {
  "kernelspec": {
   "display_name": "Python 3 (ipykernel)",
   "language": "python",
   "name": "python3"
  },
  "language_info": {
   "codemirror_mode": {
    "name": "ipython",
    "version": 3
   },
   "file_extension": ".py",
   "mimetype": "text/x-python",
   "name": "python",
   "nbconvert_exporter": "python",
   "pygments_lexer": "ipython3",
   "version": "3.9.12"
  }
 },
 "nbformat": 4,
 "nbformat_minor": 5
}
