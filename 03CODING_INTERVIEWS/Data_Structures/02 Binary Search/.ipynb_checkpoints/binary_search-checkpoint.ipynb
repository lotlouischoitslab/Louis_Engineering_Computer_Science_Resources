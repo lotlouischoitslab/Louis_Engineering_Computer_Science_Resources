{
 "cells": [
  {
   "cell_type": "code",
   "execution_count": 3,
   "id": "5ea47589",
   "metadata": {},
   "outputs": [],
   "source": [
    "def locate_card(cards,query):\n",
    "    low,high = 0, len(cards)-1\n",
    "    \n",
    "    while low <= high:\n",
    "        mid = (low+high)//2\n",
    "        mid_elem = cards[mid]\n",
    "        \n",
    "        if mid_elem == query:\n",
    "            return mid\n",
    "        elif mid_elem < query:\n",
    "            high = mid - 1\n",
    "        elif mid_elem > query:\n",
    "            low = mid + 1\n",
    "        \n",
    "    return -1"
   ]
  },
  {
   "cell_type": "code",
   "execution_count": 4,
   "id": "7be9863b",
   "metadata": {},
   "outputs": [
    {
     "name": "stdout",
     "output_type": "stream",
     "text": [
      "4\n"
     ]
    }
   ],
   "source": [
    "my_list = [1,2,3,4,5,6,7,8,9]\n",
    "find = 5\n",
    "index = locate_card(my_list,find)\n",
    "print(index)"
   ]
  },
  {
   "cell_type": "code",
   "execution_count": 5,
   "id": "34be1e14",
   "metadata": {},
   "outputs": [],
   "source": [
    "def locate_card_rec(arr,low,high,query):\n",
    "    if high >= low:\n",
    "        mid = (low + high) //2\n",
    "        \n",
    "        if arr[mid] == query:\n",
    "            return mid\n",
    "        \n",
    "        elif arr[mid] > query:\n",
    "            return locate_card_rec(arr,mid - 1,high,query)\n",
    "        else:\n",
    "            return locate_card_rec(arr,low, mid + 1,query)\n",
    "    else:\n",
    "        return -1"
   ]
  },
  {
   "cell_type": "code",
   "execution_count": 7,
   "id": "9b18b70a",
   "metadata": {},
   "outputs": [
    {
     "name": "stdout",
     "output_type": "stream",
     "text": [
      "4\n"
     ]
    }
   ],
   "source": [
    "my_list = [1,2,3,4,5,6,7,8,9]\n",
    "find = 5\n",
    "low = 0\n",
    "high = len(my_list)\n",
    "index = locate_card_rec(my_list,low,high,find)\n",
    "print(index)"
   ]
  },
  {
   "cell_type": "markdown",
   "id": "5ffdc2bd",
   "metadata": {},
   "source": [
    "### Just for review Linear Search"
   ]
  },
  {
   "cell_type": "code",
   "execution_count": 12,
   "id": "86a73dd8",
   "metadata": {},
   "outputs": [],
   "source": [
    "def linear_search(arr,query):\n",
    "    for i in range(len(arr)):\n",
    "        if arr[i] == query:\n",
    "            return (i)\n",
    "    return -1"
   ]
  },
  {
   "cell_type": "code",
   "execution_count": 14,
   "id": "dba395c2",
   "metadata": {},
   "outputs": [
    {
     "name": "stdout",
     "output_type": "stream",
     "text": [
      "4\n"
     ]
    }
   ],
   "source": [
    "my_list = [1,2,3,4,5,6,7,8,9]\n",
    "find = 5\n",
    "index = linear_search(my_list,find)\n",
    "print(index)"
   ]
  },
  {
   "cell_type": "markdown",
   "id": "fb366e09",
   "metadata": {},
   "source": [
    "### Binary Search Practice"
   ]
  },
  {
   "cell_type": "markdown",
   "id": "1f2bdbd6",
   "metadata": {},
   "source": [
    "##### Rotate a List"
   ]
  },
  {
   "cell_type": "markdown",
   "id": "d14a0391",
   "metadata": {},
   "source": [
    "![rotate.jpg](attachment:rotate.jpg)"
   ]
  },
  {
   "cell_type": "code",
   "execution_count": 30,
   "id": "5f84b706",
   "metadata": {},
   "outputs": [],
   "source": [
    "def count_rotations(nums):\n",
    "    positions = 0\n",
    "    \n",
    "    while positions < len(nums):\n",
    "        if positions > 0 and nums[positions] < nums[positions - 1]:\n",
    "            return positions\n",
    "        positions +=1\n",
    "    return 0"
   ]
  },
  {
   "cell_type": "code",
   "execution_count": 26,
   "id": "acdbebe4",
   "metadata": {},
   "outputs": [
    {
     "name": "stdout",
     "output_type": "stream",
     "text": [
      "3\n"
     ]
    }
   ],
   "source": [
    "list = [5,6,9,0,2,3,4]\n",
    "nums = count_rotations(list)\n",
    "print(nums)"
   ]
  },
  {
   "cell_type": "code",
   "execution_count": 29,
   "id": "7546e2c2",
   "metadata": {},
   "outputs": [
    {
     "name": "stdout",
     "output_type": "stream",
     "text": [
      "0\n"
     ]
    }
   ],
   "source": [
    "list = [0,2,3,4,5,6,9]\n",
    "nums = count_rotations(list)\n",
    "print(nums)"
   ]
  },
  {
   "cell_type": "code",
   "execution_count": null,
   "id": "06c989f5",
   "metadata": {},
   "outputs": [],
   "source": []
  }
 ],
 "metadata": {
  "kernelspec": {
   "display_name": "Python 3 (ipykernel)",
   "language": "python",
   "name": "python3"
  },
  "language_info": {
   "codemirror_mode": {
    "name": "ipython",
    "version": 3
   },
   "file_extension": ".py",
   "mimetype": "text/x-python",
   "name": "python",
   "nbconvert_exporter": "python",
   "pygments_lexer": "ipython3",
   "version": "3.9.12"
  }
 },
 "nbformat": 4,
 "nbformat_minor": 5
}
