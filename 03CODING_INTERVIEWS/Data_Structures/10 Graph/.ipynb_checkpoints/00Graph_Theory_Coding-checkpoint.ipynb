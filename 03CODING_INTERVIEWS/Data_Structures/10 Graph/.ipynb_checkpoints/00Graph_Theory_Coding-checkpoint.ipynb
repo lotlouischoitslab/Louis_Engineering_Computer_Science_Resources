{
 "cells": [
  {
   "cell_type": "markdown",
   "id": "96e32c8a",
   "metadata": {},
   "source": [
    "### Graph Theory Coding\n",
    "\n",
    "I am going to assume that this graph is weighted and directed"
   ]
  },
  {
   "cell_type": "code",
   "execution_count": 1,
   "id": "bce977d8",
   "metadata": {},
   "outputs": [],
   "source": [
    "class Graph:\n",
    "    def __init__(self,nodes):\n",
    "        self.nodes = nodes\n",
    "        self.adj_list = dict()\n",
    "        \n",
    "        for node in self.nodes:\n",
    "            self.adj_list[node] = []\n",
    "            \n",
    "    def add_edge(self,u,v,weight):\n",
    "        self.adj_list[u].append([v,weight])\n",
    "        \n",
    "    def add_node(self,node):\n",
    "        if node not in self.nodes:\n",
    "            self.nodes.append(node)\n",
    "            if len(self.adj_list[node] == 0):\n",
    "                del self.adj_list[node] \n",
    "            \n",
    "    def remove_edge(self,u,v,weight):\n",
    "        if u in self.adj_list and v in self.adj_list:\n",
    "            self.adj_list[u].remove([v,weight])\n",
    "            \n",
    "    def remove_node(self,node):\n",
    "        if node in self.adj_list:\n",
    "            del self.adj_list[node]\n",
    "            self.nodes.remove(node)\n",
    "            for i in self.adj_list:\n",
    "                list1 = self.adj_list[i]\n",
    "                for j in list1:\n",
    "                    if node == j[0]:\n",
    "                        list1.remove(j)\n",
    "                        break\n",
    "        \n",
    "    def degree(self,node):\n",
    "        return len(self.adj_list[node])\n",
    "    \n",
    "    #Number of edges \n",
    "    def m(self):\n",
    "        if self.is_directed:\n",
    "            return (self.n()*(self.n()-1)/2)\n",
    "        return (self.n()*(self.n()-1))\n",
    "    \n",
    "    #Number of vertices\n",
    "    def n(self):\n",
    "        return len(self.adj_list)\n",
    "    \n",
    "    def print_adj_list(self):\n",
    "        for node in self.nodes:\n",
    "            print(node,'->',self.adj_list[node])\n",
    "            \n",
    "    def bfs(self,s):\n",
    "        return self.bfs_call(s,[])\n",
    "    \n",
    "    def bfs_call(self,s,to_return):\n",
    "        visited = [False]*(max(self.adj_list)+1)\n",
    "        queue = []\n",
    "        queue.append(s)\n",
    "        visited[s] = True\n",
    "        \n",
    "        while queue:\n",
    "            s = queue.pop(0)\n",
    "            to_return.append(s)\n",
    "            \n",
    "            for i in self.adj_list:\n",
    "                if visited[i] == False:\n",
    "                    queue.append(i)\n",
    "                    visited[i] = True\n",
    "        return to_return\n",
    "    \n",
    "    def dfs(self,v):\n",
    "        visited = set()\n",
    "        return self.dfs_call(v,visited,[])\n",
    "    \n",
    "    def dfs_call(self,v,visited,to_return):\n",
    "        visited.add(v)\n",
    "        to_return.append(v)\n",
    "        \n",
    "        for neighbor in self.adj_list[v]:\n",
    "            if neighbor[0] not in visited:\n",
    "                self.dfs_call(neighbor[0],visited,to_return)\n",
    "        \n",
    "        return to_return"
   ]
  },
  {
   "cell_type": "markdown",
   "id": "7b18837a",
   "metadata": {},
   "source": [
    "### Adding Edges and Nodes"
   ]
  },
  {
   "cell_type": "code",
   "execution_count": 2,
   "id": "29f35f51",
   "metadata": {},
   "outputs": [
    {
     "name": "stdout",
     "output_type": "stream",
     "text": [
      "0 -> [[1, 2]]\n",
      "1 -> [[2, 2]]\n",
      "2 -> [[3, 4]]\n",
      "3 -> [[0, 5], [4, 3]]\n",
      "4 -> [[0, 1]]\n"
     ]
    }
   ],
   "source": [
    "#Graph Type 1\n",
    "nodes1 = [0,1,2,3,4]\n",
    "graphs1 = Graph(nodes1)\n",
    "graphs1.add_edge(0,1,2)\n",
    "graphs1.add_edge(1,2,2)\n",
    "graphs1.add_edge(2,3,4)\n",
    "graphs1.add_edge(3,0,5)\n",
    "graphs1.add_edge(3,4,3)\n",
    "graphs1.add_edge(4,0,1)\n",
    "graphs1.print_adj_list()"
   ]
  },
  {
   "cell_type": "code",
   "execution_count": 3,
   "id": "e2f8f100",
   "metadata": {},
   "outputs": [
    {
     "name": "stdout",
     "output_type": "stream",
     "text": [
      "0 -> [[1, 1], [2, 1]]\n",
      "1 -> [[2, 1]]\n",
      "2 -> [[0, 1], [3, 3]]\n",
      "3 -> [[3, 1]]\n"
     ]
    }
   ],
   "source": [
    "#Graph Type 2\n",
    "nodes2 = [0,1,2,3]\n",
    "graphs2 = Graph(nodes2)\n",
    "graphs2.add_edge(0,1,1)\n",
    "graphs2.add_edge(0,2,1)\n",
    "graphs2.add_edge(1,2,1)\n",
    "graphs2.add_edge(2,0,1)\n",
    "graphs2.add_edge(2,3,3)\n",
    "graphs2.add_edge(3,3,1)\n",
    "graphs2.print_adj_list()"
   ]
  },
  {
   "cell_type": "markdown",
   "id": "3657f0cf",
   "metadata": {},
   "source": [
    "### BFS"
   ]
  },
  {
   "cell_type": "code",
   "execution_count": 4,
   "id": "a6afbc25",
   "metadata": {},
   "outputs": [
    {
     "name": "stdout",
     "output_type": "stream",
     "text": [
      "Graph 1 BFS Result: [2, 0, 1, 3, 4]\n",
      "Graph 2 BFS Result: [2, 0, 1, 3]\n"
     ]
    }
   ],
   "source": [
    "source = 2\n",
    "bfs_result1 = graphs1.bfs(source)\n",
    "print('Graph 1 BFS Result:',bfs_result1)\n",
    "bfs_result2 = graphs2.bfs(source)\n",
    "print('Graph 2 BFS Result:',bfs_result2)"
   ]
  },
  {
   "cell_type": "markdown",
   "id": "d7dc2cca",
   "metadata": {},
   "source": [
    "### DFS"
   ]
  },
  {
   "cell_type": "code",
   "execution_count": 5,
   "id": "be74bd65",
   "metadata": {},
   "outputs": [
    {
     "name": "stdout",
     "output_type": "stream",
     "text": [
      "Graph 1 DFS Result: [2, 3, 0, 1, 4]\n",
      "Graph 2 DFS Result: [2, 0, 1, 3]\n"
     ]
    }
   ],
   "source": [
    "source = 2\n",
    "dfs_result1 = graphs1.dfs(source)\n",
    "print('Graph 1 DFS Result:',dfs_result1)\n",
    "dfs_result2 = graphs2.dfs(source)\n",
    "print('Graph 2 DFS Result:',dfs_result2)"
   ]
  },
  {
   "cell_type": "markdown",
   "id": "82f8d093",
   "metadata": {},
   "source": [
    "### Deleting Edges and Nodes"
   ]
  },
  {
   "cell_type": "code",
   "execution_count": 6,
   "id": "001436df",
   "metadata": {},
   "outputs": [
    {
     "name": "stdout",
     "output_type": "stream",
     "text": [
      "0 -> [[1, 2]]\n",
      "1 -> [[2, 2]]\n",
      "2 -> [[3, 4]]\n",
      "3 -> [[4, 3]]\n",
      "4 -> [[0, 1]]\n"
     ]
    }
   ],
   "source": [
    "graphs1.remove_edge(3,0,5)\n",
    "graphs1.print_adj_list()"
   ]
  },
  {
   "cell_type": "code",
   "execution_count": 7,
   "id": "f7ce915f",
   "metadata": {},
   "outputs": [
    {
     "name": "stdout",
     "output_type": "stream",
     "text": [
      "0 -> [[1, 2]]\n",
      "1 -> [[2, 2]]\n",
      "2 -> []\n",
      "4 -> [[0, 1]]\n"
     ]
    }
   ],
   "source": [
    "graphs1.remove_node(3)\n",
    "graphs1.print_adj_list()"
   ]
  },
  {
   "cell_type": "code",
   "execution_count": null,
   "id": "a2d9e757",
   "metadata": {},
   "outputs": [],
   "source": []
  }
 ],
 "metadata": {
  "kernelspec": {
   "display_name": "Python 3 (ipykernel)",
   "language": "python",
   "name": "python3"
  },
  "language_info": {
   "codemirror_mode": {
    "name": "ipython",
    "version": 3
   },
   "file_extension": ".py",
   "mimetype": "text/x-python",
   "name": "python",
   "nbconvert_exporter": "python",
   "pygments_lexer": "ipython3",
   "version": "3.9.12"
  }
 },
 "nbformat": 4,
 "nbformat_minor": 5
}
