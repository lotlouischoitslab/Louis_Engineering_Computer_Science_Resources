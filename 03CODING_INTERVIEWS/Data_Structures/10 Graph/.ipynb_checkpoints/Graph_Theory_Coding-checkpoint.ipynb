{
 "cells": [
  {
   "cell_type": "markdown",
   "id": "96e32c8a",
   "metadata": {},
   "source": [
    "### Graph Theory Coding\n",
    "\n",
    "I am going to assume that this graph is weighted and directed"
   ]
  },
  {
   "cell_type": "code",
   "execution_count": 1,
   "id": "bce977d8",
   "metadata": {},
   "outputs": [],
   "source": [
    "class Graph:\n",
    "    def __init__(self,nodes):\n",
    "        self.nodes = nodes\n",
    "        self.adj_list = {}\n",
    "        \n",
    "        for node in self.nodes:\n",
    "            self.adj_list[node] = []\n",
    "            \n",
    "    def add_edge(self,u,v,weight):\n",
    "        self.adj_list[u].append([v,weight])\n",
    "        \n",
    "    def add_node(self,node):\n",
    "        if node not in self.nodes:\n",
    "            self.nodes.append(node)\n",
    "            self.adj_list[node] = []\n",
    "            \n",
    "    def degree(self,node):\n",
    "        deg = len(self.adj_list[node])\n",
    "        return deg\n",
    "    \n",
    "    \n",
    "    def print_adj_list(self):\n",
    "        for node in self.nodes:\n",
    "            print(node,'->',self.adj_list[node])\n",
    "    "
   ]
  },
  {
   "cell_type": "code",
   "execution_count": 2,
   "id": "29f35f51",
   "metadata": {},
   "outputs": [
    {
     "name": "stdout",
     "output_type": "stream",
     "text": [
      "0 -> [[1, 2]]\n",
      "1 -> [[2, 2]]\n",
      "2 -> [[3, 4]]\n",
      "3 -> [[0, 5], [4, 3]]\n",
      "4 -> [[0, 1]]\n"
     ]
    },
    {
     "data": {
      "text/plain": [
       "1"
      ]
     },
     "execution_count": 2,
     "metadata": {},
     "output_type": "execute_result"
    }
   ],
   "source": [
    "nodes = [0,1,2,3,4]\n",
    "graphs = Graph(nodes)\n",
    "graphs.add_edge(0,1,2)\n",
    "graphs.add_edge(1,2,2)\n",
    "graphs.add_edge(2,3,4)\n",
    "graphs.add_edge(3,0,5)\n",
    "graphs.add_edge(3,4,3)\n",
    "graphs.add_edge(4,0,1)\n",
    "graphs.print_adj_list()\n",
    "graphs.degree(0)"
   ]
  },
  {
   "cell_type": "markdown",
   "id": "b04749e5",
   "metadata": {},
   "source": [
    "### DFS"
   ]
  },
  {
   "cell_type": "code",
   "execution_count": null,
   "id": "7420e3f0",
   "metadata": {},
   "outputs": [],
   "source": []
  }
 ],
 "metadata": {
  "kernelspec": {
   "display_name": "Python 3 (ipykernel)",
   "language": "python",
   "name": "python3"
  },
  "language_info": {
   "codemirror_mode": {
    "name": "ipython",
    "version": 3
   },
   "file_extension": ".py",
   "mimetype": "text/x-python",
   "name": "python",
   "nbconvert_exporter": "python",
   "pygments_lexer": "ipython3",
   "version": "3.9.12"
  }
 },
 "nbformat": 4,
 "nbformat_minor": 5
}
