{
 "cells": [
  {
   "cell_type": "markdown",
   "id": "96e32c8a",
   "metadata": {},
   "source": [
    "### Graph Theory Coding\n",
    "\n",
    "I am going to assume that this graph is weighted and directed"
   ]
  },
  {
   "cell_type": "code",
   "execution_count": 6,
   "id": "bce977d8",
   "metadata": {},
   "outputs": [],
   "source": [
    "class Graph:\n",
    "    def __init__(self,nodes):\n",
    "        self.nodes = nodes\n",
    "        self.adj_list = dict()\n",
    "        \n",
    "        for node in self.nodes:\n",
    "            self.adj_list[node] = []\n",
    "            \n",
    "    def add_edge(self,u,v,weight):\n",
    "        self.adj_list[u].append([v,weight])\n",
    "        \n",
    "    def add_node(self,node):\n",
    "        if node not in self.nodes:\n",
    "            self.nodes.append(node)\n",
    "            if len(self.adj_list[node] == 0):\n",
    "                del self.adj_list[node] \n",
    "            \n",
    "    def remove_edge(self,u,v,weight):\n",
    "        if u in self.adj_list and v in self.adj_list:\n",
    "            self.adj_list[u].remove([v,weight])\n",
    "            \n",
    "    def remove_node(self,node):\n",
    "        if node in self.adj_list:\n",
    "            del self.adj_list[node]\n",
    "            self.nodes.remove(node)\n",
    "            for i in self.adj_list:\n",
    "                list1 = self.adj_list[i]\n",
    "                for j in list1:\n",
    "                    if node == j[0]:\n",
    "                        list1.remove(j)\n",
    "                        break\n",
    "        \n",
    "    def degree(self,node):\n",
    "        return len(self.adj_list[node])\n",
    "    \n",
    "    #Number of edges \n",
    "    def m(self):\n",
    "        if self.is_directed:\n",
    "            return (self.n()*(self.n()-1)/2)\n",
    "        return (self.n()*(self.n()-1))\n",
    "    \n",
    "    #Number of vertices\n",
    "    def n(self):\n",
    "        return len(self.adj_list)\n",
    "    \n",
    "    def print_adj_list(self):\n",
    "        for node in self.nodes:\n",
    "            print(node,'->',self.adj_list[node])\n",
    "    \n",
    "    def bfs(self,s):\n",
    "        visited = [False]*(max(self.adj_list)+1)\n",
    "        \n",
    "        queue = []\n",
    "        queue.append(s)\n",
    "        visited[s] = True\n",
    "        \n",
    "        while queue:\n",
    "            s = queue.pop(0)\n",
    "            print(s)\n",
    "            \n",
    "            for i in self.adj_list:\n",
    "                if visited[i] == False:\n",
    "                    queue.append(i)\n",
    "                    visited[i] = True\n",
    "    \n",
    "    def dfs(self,v):\n",
    "        visited = set()\n",
    "        self.dfs_call(v,visited)\n",
    "    \n",
    "    def dfs_call(self,v,visited):\n",
    "        visited.add(v)\n",
    "        print(v,end=' ')\n",
    "        \n",
    "        for neighbor in self.adj_list[v]:\n",
    "            if neighbor[0] not in visited:\n",
    "                self.dfs_call(neighbor[0],visited)"
   ]
  },
  {
   "cell_type": "markdown",
   "id": "7b18837a",
   "metadata": {},
   "source": [
    "### Adding Edges and Nodes"
   ]
  },
  {
   "cell_type": "code",
   "execution_count": 16,
   "id": "29f35f51",
   "metadata": {},
   "outputs": [
    {
     "name": "stdout",
     "output_type": "stream",
     "text": [
      "0 -> [[1, 2]]\n",
      "1 -> [[2, 2]]\n",
      "2 -> [[3, 4]]\n",
      "3 -> [[0, 5], [4, 3]]\n",
      "4 -> [[0, 1]]\n"
     ]
    }
   ],
   "source": [
    "nodes = [0,1,2,3,4]\n",
    "graphs = Graph(nodes)\n",
    "graphs.add_edge(0,1,2)\n",
    "graphs.add_edge(1,2,2)\n",
    "graphs.add_edge(2,3,4)\n",
    "graphs.add_edge(3,0,5)\n",
    "graphs.add_edge(3,4,3)\n",
    "graphs.add_edge(4,0,1)\n",
    "graphs.print_adj_list()"
   ]
  },
  {
   "cell_type": "code",
   "execution_count": 17,
   "id": "f65e64bd",
   "metadata": {},
   "outputs": [
    {
     "name": "stdout",
     "output_type": "stream",
     "text": [
      "0 -> [[1, 1], [2, 1]]\n",
      "1 -> [[2, 1]]\n",
      "2 -> [[0, 1], [0, 3]]\n",
      "3 -> [[3, 1]]\n"
     ]
    }
   ],
   "source": [
    "nodes = [0,1,2,3]\n",
    "graphs = Graph(nodes)\n",
    "graphs.add_edge(0,1,1)\n",
    "graphs.add_edge(0,2,1)\n",
    "graphs.add_edge(1,2,1)\n",
    "graphs.add_edge(2,0,1)\n",
    "graphs.add_edge(2,0,3)\n",
    "graphs.add_edge(3,3,1)\n",
    "graphs.print_adj_list()"
   ]
  },
  {
   "cell_type": "markdown",
   "id": "f99da2a2",
   "metadata": {},
   "source": [
    "### BFS"
   ]
  },
  {
   "cell_type": "code",
   "execution_count": 18,
   "id": "0a118457",
   "metadata": {},
   "outputs": [
    {
     "name": "stdout",
     "output_type": "stream",
     "text": [
      "2\n",
      "0\n",
      "1\n",
      "3\n"
     ]
    }
   ],
   "source": [
    "source = 2\n",
    "graphs.bfs(source)"
   ]
  },
  {
   "cell_type": "markdown",
   "id": "72912991",
   "metadata": {},
   "source": [
    "### DFS"
   ]
  },
  {
   "cell_type": "code",
   "execution_count": 7,
   "id": "cbd707e0",
   "metadata": {},
   "outputs": [
    {
     "name": "stdout",
     "output_type": "stream",
     "text": [
      "0 -> [[1, 1], [2, 1]]\n",
      "1 -> [[2, 1]]\n",
      "2 -> [[0, 1], [3, 1]]\n",
      "3 -> [[3, 1]]\n"
     ]
    }
   ],
   "source": [
    "nodes = [0,1,2,3]\n",
    "g = Graph(nodes)\n",
    "g.add_edge(0, 1,1)\n",
    "g.add_edge(0, 2,1)\n",
    "g.add_edge(1, 2,1)\n",
    "g.add_edge(2, 0,1)\n",
    "g.add_edge(2, 3,1)\n",
    "g.add_edge(3, 3,1)\n",
    "g.print_adj_list()"
   ]
  },
  {
   "cell_type": "code",
   "execution_count": 8,
   "id": "cfd92ead",
   "metadata": {},
   "outputs": [
    {
     "name": "stdout",
     "output_type": "stream",
     "text": [
      "2 0 1 3 "
     ]
    }
   ],
   "source": [
    "source = 2\n",
    "g.dfs(source)"
   ]
  },
  {
   "cell_type": "markdown",
   "id": "82f8d093",
   "metadata": {},
   "source": [
    "### Deleting Edges and Nodes"
   ]
  },
  {
   "cell_type": "code",
   "execution_count": 36,
   "id": "001436df",
   "metadata": {},
   "outputs": [
    {
     "name": "stdout",
     "output_type": "stream",
     "text": [
      "0 -> [[1, 2]]\n",
      "1 -> [[2, 2]]\n",
      "2 -> [[3, 4]]\n",
      "3 -> [[4, 3]]\n",
      "4 -> [[0, 1]]\n"
     ]
    }
   ],
   "source": [
    "graphs.remove_edge(3,0,5)\n",
    "graphs.print_adj_list()"
   ]
  },
  {
   "cell_type": "code",
   "execution_count": 37,
   "id": "f7ce915f",
   "metadata": {},
   "outputs": [
    {
     "name": "stdout",
     "output_type": "stream",
     "text": [
      "0 -> [[1, 2]]\n",
      "1 -> [[2, 2]]\n",
      "2 -> []\n",
      "4 -> [[0, 1]]\n"
     ]
    }
   ],
   "source": [
    "graphs.remove_node(3)\n",
    "graphs.print_adj_list()"
   ]
  },
  {
   "cell_type": "code",
   "execution_count": null,
   "id": "a2d9e757",
   "metadata": {},
   "outputs": [],
   "source": []
  }
 ],
 "metadata": {
  "kernelspec": {
   "display_name": "Python 3 (ipykernel)",
   "language": "python",
   "name": "python3"
  },
  "language_info": {
   "codemirror_mode": {
    "name": "ipython",
    "version": 3
   },
   "file_extension": ".py",
   "mimetype": "text/x-python",
   "name": "python",
   "nbconvert_exporter": "python",
   "pygments_lexer": "ipython3",
   "version": "3.9.12"
  }
 },
 "nbformat": 4,
 "nbformat_minor": 5
}
