{
 "cells": [
  {
   "cell_type": "code",
   "execution_count": 8,
   "id": "3764b5e4",
   "metadata": {},
   "outputs": [],
   "source": [
    "class Graph:\n",
    "    def __init__(self,Nodes,is_directed=False):\n",
    "        self.nodes = Nodes\n",
    "        self.adj_list = {}\n",
    "        self.is_directed = is_directed\n",
    "        \n",
    "        for node in self.nodes:\n",
    "            self.adj_list[node] = []\n",
    "    \n",
    "    def add_edge(self,u,v,cost):\n",
    "        if u in self.adj_list and v in self.adj_list:\n",
    "            list1 = [v,cost]\n",
    "            list2 = [u,cost]\n",
    "            self.adj_list[u].append(list1)\n",
    "            if self.is_directed == True:\n",
    "                self.adj_list[v].append(list2)\n",
    "            \n",
    "    def add_vertex(self,node):\n",
    "        if node not in self.adj_list:\n",
    "            self.adj_list[node] = []\n",
    "            self.nodes.append(node)\n",
    "            \n",
    "    def remove_edge(self,u,v,cost):\n",
    "        if u in adj_list and v in adj_list:\n",
    "            temp1 = [u,cost]\n",
    "            temp2 = [v,cost]\n",
    "            if temp1 in self.adj_list[u]:\n",
    "                self.adj_list[u].remove(temp2)\n",
    "            \n",
    "            \n",
    "    def remove_vertex(self,node):\n",
    "        if node in self.adj_list:\n",
    "            del self.adj_list[node]\n",
    "            self.nodes.remove(node)\n",
    "            for i in self.adj_list.keys():\n",
    "                list1 = self.adj_list[i]\n",
    "                for j in list1:\n",
    "                    if node == j[0]:\n",
    "                        list1.remove(j)\n",
    "                        break\n",
    "                     \n",
    "        \n",
    "    def degree(self,node):\n",
    "        return len(self.adj_list[node])\n",
    "    \n",
    "    #Number of edges \n",
    "    def m(self):\n",
    "        if self.is_directed:\n",
    "            return (self.n()*(self.n()-1)/2)\n",
    "        return (self.n()*(self.n()-1))\n",
    "    \n",
    "    #Number of vertices\n",
    "    def n(self):\n",
    "        return len(self.adj_list)\n",
    "        \n",
    "    def print_adj_list(self):\n",
    "        for node in self.nodes:\n",
    "            print(node,'->',self.adj_list[node])"
   ]
  },
  {
   "cell_type": "code",
   "execution_count": 9,
   "id": "f7d9cfd3",
   "metadata": {},
   "outputs": [
    {
     "name": "stdout",
     "output_type": "stream",
     "text": [
      "A -> []\n",
      "B -> []\n",
      "C -> []\n",
      "D -> []\n",
      "E -> []\n"
     ]
    }
   ],
   "source": [
    "all_edges = {\n",
    "    ('A','B'),('A','C'),('A','D'),('B','A'),('B','D'),('B','E'),\n",
    "    ('C','A'),('C','D'),('D','A'),('D','B'),('D','C'),('D','E'),\n",
    "    ('E','B'),('E','D'),\n",
    "}\n",
    "\n",
    "nodes = ['A','B','C','D','E']\n",
    "graph = Graph(nodes,is_directed=True)\n",
    "graph.print_adj_list()"
   ]
  },
  {
   "cell_type": "code",
   "execution_count": 10,
   "id": "8745c62c",
   "metadata": {},
   "outputs": [
    {
     "name": "stdout",
     "output_type": "stream",
     "text": [
      "A -> [['B', 5]]\n",
      "B -> [['A', 5]]\n",
      "C -> []\n",
      "D -> []\n",
      "E -> []\n"
     ]
    }
   ],
   "source": [
    "graph.add_edge('A','B',5)\n",
    "graph.print_adj_list()"
   ]
  },
  {
   "cell_type": "code",
   "execution_count": 12,
   "id": "382fb5f7",
   "metadata": {},
   "outputs": [
    {
     "name": "stdout",
     "output_type": "stream",
     "text": [
      "B -> []\n",
      "C -> []\n",
      "D -> []\n",
      "E -> []\n"
     ]
    }
   ],
   "source": [
    "graph.remove_vertex('A')\n",
    "graph.print_adj_list()"
   ]
  },
  {
   "cell_type": "code",
   "execution_count": null,
   "id": "f442a040",
   "metadata": {},
   "outputs": [],
   "source": []
  }
 ],
 "metadata": {
  "kernelspec": {
   "display_name": "Python 3 (ipykernel)",
   "language": "python",
   "name": "python3"
  },
  "language_info": {
   "codemirror_mode": {
    "name": "ipython",
    "version": 3
   },
   "file_extension": ".py",
   "mimetype": "text/x-python",
   "name": "python",
   "nbconvert_exporter": "python",
   "pygments_lexer": "ipython3",
   "version": "3.9.12"
  }
 },
 "nbformat": 4,
 "nbformat_minor": 5
}
