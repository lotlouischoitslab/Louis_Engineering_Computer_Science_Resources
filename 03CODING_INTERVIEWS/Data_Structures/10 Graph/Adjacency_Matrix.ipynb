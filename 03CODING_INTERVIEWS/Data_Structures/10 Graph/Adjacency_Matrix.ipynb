{
 "cells": [
  {
   "cell_type": "code",
   "execution_count": 3,
   "id": "1a3cced2",
   "metadata": {},
   "outputs": [],
   "source": [
    "class Graph:\n",
    "    node_count = 0\n",
    "    def __init__(self,nodes,graph):\n",
    "        self.nodes = nodes\n",
    "        self.graph = graph\n",
    "        self.node_count = node_count\n",
    "\n",
    "    def add_node(self, v):\n",
    "        if v not in self.nodes:\n",
    "            node_count += 1\n",
    "            self.nodes.append(v)\n",
    "            for n in self.graph:\n",
    "                n.append(0)\n",
    "            \n",
    "            temp = []\n",
    "            for i in range(node_count):\n",
    "                temp.append(0)\n",
    "            self.graph.append(temp)\n",
    "        \n",
    "    def print_graph(self):\n",
    "        for i in range(node_count):\n",
    "            for j in range(node_count):\n",
    "                print(self.graph[i][j])"
   ]
  },
  {
   "cell_type": "code",
   "execution_count": 4,
   "id": "14564b11",
   "metadata": {},
   "outputs": [
    {
     "ename": "NameError",
     "evalue": "name 'node_count' is not defined",
     "output_type": "error",
     "traceback": [
      "\u001b[1;31m---------------------------------------------------------------------------\u001b[0m",
      "\u001b[1;31mNameError\u001b[0m                                 Traceback (most recent call last)",
      "Input \u001b[1;32mIn [4]\u001b[0m, in \u001b[0;36m<cell line: 3>\u001b[1;34m()\u001b[0m\n\u001b[0;32m      1\u001b[0m nodes \u001b[38;5;241m=\u001b[39m []\n\u001b[0;32m      2\u001b[0m graph \u001b[38;5;241m=\u001b[39m []\n\u001b[1;32m----> 3\u001b[0m out \u001b[38;5;241m=\u001b[39m \u001b[43mGraph\u001b[49m\u001b[43m(\u001b[49m\u001b[43mnodes\u001b[49m\u001b[43m,\u001b[49m\u001b[43mgraph\u001b[49m\u001b[43m)\u001b[49m\n\u001b[0;32m      4\u001b[0m out\u001b[38;5;241m.\u001b[39mprint_graph()\n",
      "Input \u001b[1;32mIn [3]\u001b[0m, in \u001b[0;36mGraph.__init__\u001b[1;34m(self, nodes, graph)\u001b[0m\n\u001b[0;32m      4\u001b[0m \u001b[38;5;28mself\u001b[39m\u001b[38;5;241m.\u001b[39mnodes \u001b[38;5;241m=\u001b[39m nodes\n\u001b[0;32m      5\u001b[0m \u001b[38;5;28mself\u001b[39m\u001b[38;5;241m.\u001b[39mgraph \u001b[38;5;241m=\u001b[39m graph\n\u001b[1;32m----> 6\u001b[0m \u001b[38;5;28mself\u001b[39m\u001b[38;5;241m.\u001b[39mnode_count \u001b[38;5;241m=\u001b[39m \u001b[43mnode_count\u001b[49m\n",
      "\u001b[1;31mNameError\u001b[0m: name 'node_count' is not defined"
     ]
    }
   ],
   "source": [
    "nodes = []\n",
    "graph = []\n",
    "out = Graph(nodes,graph)\n",
    "out.print_graph()"
   ]
  },
  {
   "cell_type": "code",
   "execution_count": null,
   "id": "80c4100d",
   "metadata": {},
   "outputs": [],
   "source": [
    "out.add_node('A')"
   ]
  },
  {
   "cell_type": "code",
   "execution_count": null,
   "id": "5bf97b39",
   "metadata": {},
   "outputs": [],
   "source": [
    "out.print_graph()"
   ]
  },
  {
   "cell_type": "code",
   "execution_count": null,
   "id": "a855d083",
   "metadata": {},
   "outputs": [],
   "source": []
  }
 ],
 "metadata": {
  "kernelspec": {
   "display_name": "Python 3 (ipykernel)",
   "language": "python",
   "name": "python3"
  },
  "language_info": {
   "codemirror_mode": {
    "name": "ipython",
    "version": 3
   },
   "file_extension": ".py",
   "mimetype": "text/x-python",
   "name": "python",
   "nbconvert_exporter": "python",
   "pygments_lexer": "ipython3",
   "version": "3.9.12"
  }
 },
 "nbformat": 4,
 "nbformat_minor": 5
}
