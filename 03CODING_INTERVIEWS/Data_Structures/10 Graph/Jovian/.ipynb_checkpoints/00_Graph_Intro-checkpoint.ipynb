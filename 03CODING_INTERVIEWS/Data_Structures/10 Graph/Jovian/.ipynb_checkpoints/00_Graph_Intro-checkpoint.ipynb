{
 "cells": [
  {
   "cell_type": "markdown",
   "id": "b109b1e5",
   "metadata": {},
   "source": [
    "# 0 Introduction to Graphs"
   ]
  },
  {
   "cell_type": "code",
   "execution_count": null,
   "id": "77aabdb0",
   "metadata": {},
   "outputs": [],
   "source": []
  },
  {
   "cell_type": "code",
   "execution_count": 1,
   "id": "d8e86e75",
   "metadata": {},
   "outputs": [
    {
     "data": {
      "text/plain": [
       "(5, 7)"
      ]
     },
     "execution_count": 1,
     "metadata": {},
     "output_type": "execute_result"
    }
   ],
   "source": [
    "num_nodes = 5\n",
    "edges = [(0,1),(0,4),(1,2),(1,3),(1,4),(2,3),(3,4)]\n",
    "num_nodes , len(edges)"
   ]
  },
  {
   "cell_type": "markdown",
   "id": "fc846bc4",
   "metadata": {},
   "source": [
    "# 1 Adjacency List"
   ]
  },
  {
   "cell_type": "code",
   "execution_count": null,
   "id": "ee0e471e",
   "metadata": {},
   "outputs": [],
   "source": []
  },
  {
   "cell_type": "code",
   "execution_count": 2,
   "id": "ce99a758",
   "metadata": {},
   "outputs": [],
   "source": [
    "class Graph:\n",
    "    def __init__(self,num_nodes,edges):\n",
    "        self.num_nodes = num_nodes\n",
    "        self.data = [[] for i in range(num_nodes)]\n",
    "        for n1,n2 in edges:\n",
    "            self.data[n1].append(n2)\n",
    "            self.data[n2].append(n1)\n",
    "    \n",
    "    def __repr__(self):\n",
    "        return '\\n'.join(['{}:{}'.format(n,neighbors) for n,neighbors in enumerate(self.data)])\n",
    "    \n",
    "    def __str__(self):\n",
    "        return self.__repr__()"
   ]
  },
  {
   "cell_type": "code",
   "execution_count": 3,
   "id": "97fcdb53",
   "metadata": {},
   "outputs": [],
   "source": [
    "graph1 = Graph(num_nodes,edges)"
   ]
  },
  {
   "cell_type": "code",
   "execution_count": 4,
   "id": "4274b1db",
   "metadata": {},
   "outputs": [
    {
     "data": {
      "text/plain": [
       "0:[1, 4]\n",
       "1:[0, 2, 3, 4]\n",
       "2:[1, 3]\n",
       "3:[1, 2, 4]\n",
       "4:[0, 1, 3]"
      ]
     },
     "execution_count": 4,
     "metadata": {},
     "output_type": "execute_result"
    }
   ],
   "source": [
    "graph1"
   ]
  },
  {
   "cell_type": "code",
   "execution_count": null,
   "id": "023b9286",
   "metadata": {},
   "outputs": [],
   "source": []
  }
 ],
 "metadata": {
  "kernelspec": {
   "display_name": "Python 3 (ipykernel)",
   "language": "python",
   "name": "python3"
  },
  "language_info": {
   "codemirror_mode": {
    "name": "ipython",
    "version": 3
   },
   "file_extension": ".py",
   "mimetype": "text/x-python",
   "name": "python",
   "nbconvert_exporter": "python",
   "pygments_lexer": "ipython3",
   "version": "3.9.12"
  }
 },
 "nbformat": 4,
 "nbformat_minor": 5
}
